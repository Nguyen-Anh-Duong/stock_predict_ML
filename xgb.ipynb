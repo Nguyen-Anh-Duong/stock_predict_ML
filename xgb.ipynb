{
 "cells": [
  {
   "cell_type": "markdown",
   "id": "8dcae8b7",
   "metadata": {},
   "source": [
    "### Import"
   ]
  },
  {
   "cell_type": "code",
   "execution_count": 693,
   "id": "14db345b",
   "metadata": {},
   "outputs": [],
   "source": [
    "import numpy as np\n",
    "import pandas as pd\n",
    "import xgboost as xgb\n",
    "import matplotlib.pyplot as plt\n",
    "from xgboost import plot_importance, plot_tree\n",
    "from xgboost import XGBClassifier\n",
    "from sklearn.metrics import mean_squared_error, accuracy_score, classification_report, confusion_matrix\n",
    "from sklearn.preprocessing import MinMaxScaler, LabelEncoder\n",
    "from sklearn.model_selection import train_test_split, GridSearchCV\n",
    "\n",
    "from imblearn.over_sampling import SMOTE, RandomOverSampler\n",
    "from imblearn.under_sampling import RandomUnderSampler\n",
    "\n",
    "#plot\n",
    "import plotly as py\n",
    "import plotly.io as pio\n",
    "import plotly.graph_objects as go\n",
    "from plotly.subplots import make_subplots\n",
    "from plotly.offline import download_plotlyjs, init_notebook_mode, plot, iplot\n",
    "layout=go.Layout(paper_bgcolor='rgba(0,0,0,0)', plot_bgcolor='rgba(250,250,250,0.8)')\n",
    "fig = go.Figure(layout=layout)\n",
    "templated_fig = pio.to_templated(fig)\n",
    "pio.templates['my_template'] = templated_fig.layout.template\n",
    "pio.templates.default = 'my_template'\n",
    "\n",
    "#technical analysis\n",
    "import ta\n",
    "import ta.momentum\n",
    "import ta.volatility\n",
    "import ta.volume"
   ]
  },
  {
   "cell_type": "markdown",
   "id": "f43fdadc",
   "metadata": {},
   "source": [
    "#### Ignore warnings"
   ]
  },
  {
   "cell_type": "code",
   "execution_count": 694,
   "id": "bc81cf98",
   "metadata": {},
   "outputs": [],
   "source": [
    "from warnings import simplefilter\n",
    "simplefilter(action='ignore', category=FutureWarning)\n",
    "simplefilter(action='ignore', category=DeprecationWarning)"
   ]
  },
  {
   "cell_type": "code",
   "execution_count": 695,
   "id": "f0e6dbfc",
   "metadata": {},
   "outputs": [],
   "source": [
    "# df = pd.read_csv(\"./data/nasdaq/csv/TXN.csv\", sep=',')\n",
    "df = pd.read_csv(\"./data/nasdaq/csv/INTC.csv\", sep=',')\n",
    "# df = pd.read_csv(\"./data/nyse/csv/X.csv\", sep=',')\n",
    "df['Date'] = pd.to_datetime(df['Date'], dayfirst=True)\n",
    "df.index = range(len(df))\n",
    "\n",
    "df.tail()\n",
    "df.set_index('Date', inplace=True)\n",
    "\n",
    "all_dates = pd.date_range(start=df.index.min(), end=df.index.max(), freq='D')\n",
    "df = df.reindex(all_dates) \n",
    "df[['Low', 'Open', 'Volume', 'High', 'Close', 'Adjusted Close']] = df[['Low', 'Open', 'Volume', 'High', 'Close', 'Adjusted Close']].interpolate(method='linear')\n",
    "df['Open'] = df['Close'].shift(1)\n",
    "df['High'] = df[['High', 'Open', 'Close']].max(axis=1)\n",
    "df['Low'] = df[['Low', 'Open', 'Close']].min(axis=1)\n",
    "df.reset_index(inplace=True)\n",
    "df.rename(columns={'index': 'Date'}, inplace=True)"
   ]
  },
  {
   "cell_type": "markdown",
   "id": "52245103",
   "metadata": {},
   "source": [
    "### Add technical analysis indicators"
   ]
  },
  {
   "cell_type": "markdown",
   "id": "db4026ec",
   "metadata": {},
   "source": [
    "#### RSI - Relative Strength Index"
   ]
  },
  {
   "cell_type": "code",
   "execution_count": 696,
   "id": "dd37bc13",
   "metadata": {},
   "outputs": [],
   "source": [
    "df['RSI7'] = ta.momentum.RSIIndicator(df['Close'], window=7).rsi()\n",
    "df['RSI14'] = ta.momentum.RSIIndicator(df['Close'], window=14).rsi()\n",
    "df['RSI30'] = ta.momentum.RSIIndicator(df['Close'], window=30).rsi()\n",
    "df['RSI50'] = ta.momentum.RSIIndicator(df['Close'], window=50).rsi()\n",
    "\n",
    "# df['MEAN_RSI7_5'] = df['RSI7'].rolling(window=5).mean()\n",
    "# df['MEAN_RSI14_5'] = df['RSI14'].rolling(window=5).mean()\n",
    "# df['MEAN_RSI30_5'] = df['RSI30'].rolling(window=5).mean()\n",
    "# df['MEAN_RSI50_5'] = df['RSI50'].rolling(window=5).mean()\n",
    "\n",
    "# df['DRSI7'] = df['RSI7'].diff()\n",
    "# df['DRSI14'] = df['RSI14'].diff()\n",
    "# df['DRSI30'] = df['RSI30'].diff()"
   ]
  },
  {
   "cell_type": "markdown",
   "id": "3ae0a1a0",
   "metadata": {},
   "source": [
    "### EMA RSI"
   ]
  },
  {
   "cell_type": "code",
   "execution_count": 697,
   "id": "aac2199a",
   "metadata": {},
   "outputs": [],
   "source": [
    "df['EMA7_RSI14'] = ta.trend.EMAIndicator(df['RSI14'], window=7).ema_indicator()\n",
    "df['EMA7_RSI30'] = ta.trend.EMAIndicator(df['RSI30'], window=7).ema_indicator()"
   ]
  },
  {
   "cell_type": "markdown",
   "id": "1986f73c",
   "metadata": {},
   "source": [
    "#### SMA - Simple Moving Average"
   ]
  },
  {
   "cell_type": "code",
   "execution_count": 698,
   "id": "41f1f09a",
   "metadata": {},
   "outputs": [],
   "source": [
    "df['SMA5'] = ta.trend.SMAIndicator(df['Close'], window=5).sma_indicator()\n",
    "df['SMA10'] = ta.trend.SMAIndicator(df['Close'], window=10).sma_indicator()\n",
    "df['SMA14'] = ta.trend.SMAIndicator(df['Close'], window=14).sma_indicator()\n",
    "df['SMA30'] = ta.trend.SMAIndicator(df['Close'], window=30).sma_indicator()\n",
    "df['SMA50'] = ta.trend.SMAIndicator(df['Close'], window=50).sma_indicator()"
   ]
  },
  {
   "cell_type": "markdown",
   "id": "727138be",
   "metadata": {},
   "source": [
    "#### EMA - Exponential Moving Average"
   ]
  },
  {
   "cell_type": "code",
   "execution_count": 699,
   "id": "64409dcb",
   "metadata": {},
   "outputs": [],
   "source": [
    "# df['EMA5'] = ta.trend.EMAIndicator(df['Close'], window=5).ema_indicator()\n",
    "# df['EMA10'] = ta.trend.EMAIndicator(df['Close'], window=10).ema_indicator()\n",
    "df['EMA14'] = ta.trend.EMAIndicator(df['Close'], window=14).ema_indicator()\n",
    "# df['EMA14'] = ta.trend.EMAIndicator(df['Close'], window=20).ema_indicator()"
   ]
  },
  {
   "cell_type": "markdown",
   "id": "0e7461b6",
   "metadata": {},
   "source": [
    "### KAMA - Kaufman's Adaptive Moving Average"
   ]
  },
  {
   "cell_type": "code",
   "execution_count": 700,
   "id": "b7acc0fb",
   "metadata": {},
   "outputs": [],
   "source": [
    "# df['KAMA'] = ta.momentum.KAMAIndicator(close=df['Close']).kama()"
   ]
  },
  {
   "cell_type": "markdown",
   "id": "c9e50bde",
   "metadata": {},
   "source": [
    "### ADX - Average Directional Movement"
   ]
  },
  {
   "cell_type": "code",
   "execution_count": 701,
   "id": "bfcb50ae",
   "metadata": {},
   "outputs": [],
   "source": [
    "df['ADX'] = ta.trend.ADXIndicator(high=df['High'], low=df['Low'], close=df['Close'], window=14).adx()"
   ]
  },
  {
   "cell_type": "markdown",
   "id": "021b7251",
   "metadata": {},
   "source": [
    "### EMA ADX"
   ]
  },
  {
   "cell_type": "code",
   "execution_count": 702,
   "id": "f83e7baf",
   "metadata": {},
   "outputs": [],
   "source": [
    "df['EMA7_ADX'] = ta.trend.EMAIndicator(df['ADX'], window=7).ema_indicator()"
   ]
  },
  {
   "cell_type": "markdown",
   "id": "5927273f",
   "metadata": {},
   "source": [
    "### Bollinger Bands"
   ]
  },
  {
   "cell_type": "code",
   "execution_count": 703,
   "id": "eaebc542",
   "metadata": {},
   "outputs": [],
   "source": [
    "bb = ta.volatility.BollingerBands(close=df['Close'])\n",
    "df['HB'] = bb.bollinger_hband()\n",
    "df['LB'] = bb.bollinger_lband()\n",
    "df['MB'] = bb.bollinger_mavg()\n",
    "df['%B'] = (df['Close'] - df['LB']) / (df['HB'] - df['LB'])\n",
    "df['BBBandWidth'] = (df['HB'] - df['LB']) / df['MB']"
   ]
  },
  {
   "cell_type": "code",
   "execution_count": 704,
   "id": "2124f2fb",
   "metadata": {},
   "outputs": [],
   "source": [
    "#consecutive days above sma20\n",
    "df['AboveSMA20'] = (df['Close'] > df['MB']).astype(int)\n",
    "df['DASMA'] = 0\n",
    "consecutive_count = 0\n",
    "r = np.zeros(len(df), dtype=int)\n",
    "for i in range(1, len(df)):\n",
    "    if df['AboveSMA20'].iloc[i]:\n",
    "        consecutive_count += 1\n",
    "    else:\n",
    "        consecutive_count = 0\n",
    "    r[i] = consecutive_count\n",
    "df['DASMA'] = r\n",
    "df.drop(['AboveSMA20'], axis=1, inplace=True)"
   ]
  },
  {
   "cell_type": "code",
   "execution_count": 705,
   "id": "4f47c4e5",
   "metadata": {},
   "outputs": [],
   "source": [
    "#consecutive days below sma20\n",
    "df['BelowSMA20'] = (df['Close'] < df['MB']).astype(int)\n",
    "df['DBSMA'] = 0\n",
    "consecutive_count = 0\n",
    "r = np.zeros(len(df), dtype=int)\n",
    "for i in range(1, len(df)):\n",
    "    if df['BelowSMA20'].iloc[i]:\n",
    "        consecutive_count += 1\n",
    "    else:\n",
    "        consecutive_count = 0\n",
    "    r[i] = consecutive_count\n",
    "df['DBSMA'] = r\n",
    "df.drop(['BelowSMA20'], axis=1, inplace=True)"
   ]
  },
  {
   "cell_type": "markdown",
   "id": "e3d5ad6b",
   "metadata": {},
   "source": [
    "### MACD"
   ]
  },
  {
   "cell_type": "code",
   "execution_count": 706,
   "id": "3f307a34",
   "metadata": {},
   "outputs": [],
   "source": [
    "df['MACD'] = ta.trend.MACD(df['Close']).macd()\n",
    "df['MACD_signal'] = ta.trend.MACD(df['Close']).macd_signal()\n",
    "df['MACD_hist'] = ta.trend.MACD(df['Close']).macd_diff()"
   ]
  },
  {
   "cell_type": "markdown",
   "id": "96cbb1ac",
   "metadata": {},
   "source": [
    "### Stochastic Oscillator"
   ]
  },
  {
   "cell_type": "code",
   "execution_count": 707,
   "id": "ab047c18",
   "metadata": {},
   "outputs": [],
   "source": [
    "df['SO'] = ta.momentum.StochasticOscillator(high=df['High'], low=df['Low'], close=df['Close']).stoch()"
   ]
  },
  {
   "cell_type": "markdown",
   "id": "bedb03b9",
   "metadata": {},
   "source": [
    "### On Balance Volume"
   ]
  },
  {
   "cell_type": "code",
   "execution_count": 708,
   "id": "0257825d",
   "metadata": {},
   "outputs": [],
   "source": [
    "df['OBV'] = ta.volume.OnBalanceVolumeIndicator(close=df['Close'], volume=df['Volume']).on_balance_volume()"
   ]
  },
  {
   "cell_type": "markdown",
   "id": "a6b68d89",
   "metadata": {},
   "source": [
    "### Chaikin Money Flow"
   ]
  },
  {
   "cell_type": "code",
   "execution_count": 709,
   "id": "feb4c21a",
   "metadata": {},
   "outputs": [],
   "source": [
    "df['CMF'] = ta.volume.ChaikinMoneyFlowIndicator(high=df['High'], low=df['Low'], close=df['Close'], volume=df['Volume']).chaikin_money_flow()"
   ]
  },
  {
   "cell_type": "markdown",
   "id": "be01702a",
   "metadata": {},
   "source": [
    "### Visualize"
   ]
  },
  {
   "cell_type": "code",
   "execution_count": 710,
   "id": "d5d293f3",
   "metadata": {},
   "outputs": [
    {
     "data": {
      "application/vnd.plotly.v1+json": {
       "config": {
        "plotlyServerURL": "https://plot.ly"
       },
       "data": [
        {
         "name": "Close",
         "type": "scatter",
         "x": [
          "2022-08-24T00:00:00.000000000",
          "2022-08-25T00:00:00.000000000",
          "2022-08-26T00:00:00.000000000",
          "2022-08-27T00:00:00.000000000",
          "2022-08-28T00:00:00.000000000",
          "2022-08-29T00:00:00.000000000",
          "2022-08-30T00:00:00.000000000",
          "2022-08-31T00:00:00.000000000",
          "2022-09-01T00:00:00.000000000",
          "2022-09-02T00:00:00.000000000",
          "2022-09-03T00:00:00.000000000",
          "2022-09-04T00:00:00.000000000",
          "2022-09-05T00:00:00.000000000",
          "2022-09-06T00:00:00.000000000",
          "2022-09-07T00:00:00.000000000",
          "2022-09-08T00:00:00.000000000",
          "2022-09-09T00:00:00.000000000",
          "2022-09-10T00:00:00.000000000",
          "2022-09-11T00:00:00.000000000",
          "2022-09-12T00:00:00.000000000",
          "2022-09-13T00:00:00.000000000",
          "2022-09-14T00:00:00.000000000",
          "2022-09-15T00:00:00.000000000",
          "2022-09-16T00:00:00.000000000",
          "2022-09-17T00:00:00.000000000",
          "2022-09-18T00:00:00.000000000",
          "2022-09-19T00:00:00.000000000",
          "2022-09-20T00:00:00.000000000",
          "2022-09-21T00:00:00.000000000",
          "2022-09-22T00:00:00.000000000",
          "2022-09-23T00:00:00.000000000",
          "2022-09-24T00:00:00.000000000",
          "2022-09-25T00:00:00.000000000",
          "2022-09-26T00:00:00.000000000",
          "2022-09-27T00:00:00.000000000",
          "2022-09-28T00:00:00.000000000",
          "2022-09-29T00:00:00.000000000",
          "2022-09-30T00:00:00.000000000",
          "2022-10-01T00:00:00.000000000",
          "2022-10-02T00:00:00.000000000",
          "2022-10-03T00:00:00.000000000",
          "2022-10-04T00:00:00.000000000",
          "2022-10-05T00:00:00.000000000",
          "2022-10-06T00:00:00.000000000",
          "2022-10-07T00:00:00.000000000",
          "2022-10-08T00:00:00.000000000",
          "2022-10-09T00:00:00.000000000",
          "2022-10-10T00:00:00.000000000",
          "2022-10-11T00:00:00.000000000",
          "2022-10-12T00:00:00.000000000",
          "2022-10-13T00:00:00.000000000",
          "2022-10-14T00:00:00.000000000",
          "2022-10-15T00:00:00.000000000",
          "2022-10-16T00:00:00.000000000",
          "2022-10-17T00:00:00.000000000",
          "2022-10-18T00:00:00.000000000",
          "2022-10-19T00:00:00.000000000",
          "2022-10-20T00:00:00.000000000",
          "2022-10-21T00:00:00.000000000",
          "2022-10-22T00:00:00.000000000",
          "2022-10-23T00:00:00.000000000",
          "2022-10-24T00:00:00.000000000",
          "2022-10-25T00:00:00.000000000",
          "2022-10-26T00:00:00.000000000",
          "2022-10-27T00:00:00.000000000",
          "2022-10-28T00:00:00.000000000",
          "2022-10-29T00:00:00.000000000",
          "2022-10-30T00:00:00.000000000",
          "2022-10-31T00:00:00.000000000",
          "2022-11-01T00:00:00.000000000",
          "2022-11-02T00:00:00.000000000",
          "2022-11-03T00:00:00.000000000",
          "2022-11-04T00:00:00.000000000",
          "2022-11-05T00:00:00.000000000",
          "2022-11-06T00:00:00.000000000",
          "2022-11-07T00:00:00.000000000",
          "2022-11-08T00:00:00.000000000",
          "2022-11-09T00:00:00.000000000",
          "2022-11-10T00:00:00.000000000",
          "2022-11-11T00:00:00.000000000",
          "2022-11-12T00:00:00.000000000",
          "2022-11-13T00:00:00.000000000",
          "2022-11-14T00:00:00.000000000",
          "2022-11-15T00:00:00.000000000",
          "2022-11-16T00:00:00.000000000",
          "2022-11-17T00:00:00.000000000",
          "2022-11-18T00:00:00.000000000",
          "2022-11-19T00:00:00.000000000",
          "2022-11-20T00:00:00.000000000",
          "2022-11-21T00:00:00.000000000",
          "2022-11-22T00:00:00.000000000",
          "2022-11-23T00:00:00.000000000",
          "2022-11-24T00:00:00.000000000",
          "2022-11-25T00:00:00.000000000",
          "2022-11-26T00:00:00.000000000",
          "2022-11-27T00:00:00.000000000",
          "2022-11-28T00:00:00.000000000",
          "2022-11-29T00:00:00.000000000",
          "2022-11-30T00:00:00.000000000",
          "2022-12-01T00:00:00.000000000",
          "2022-12-02T00:00:00.000000000",
          "2022-12-03T00:00:00.000000000",
          "2022-12-04T00:00:00.000000000",
          "2022-12-05T00:00:00.000000000",
          "2022-12-06T00:00:00.000000000",
          "2022-12-07T00:00:00.000000000",
          "2022-12-08T00:00:00.000000000",
          "2022-12-09T00:00:00.000000000",
          "2022-12-10T00:00:00.000000000",
          "2022-12-11T00:00:00.000000000",
          "2022-12-12T00:00:00.000000000"
         ],
         "xaxis": "x",
         "y": {
          "bdata": "AAAAgBTuQEAAAACA63FBQAAAAIAUrkBAVVVV9SicQECrqqpqPYpAQAAAAOBReEBAAAAAoEchQEAAAAAghes/QAEAAGCPwj9A////31E4P0D///+nRwE/QP///289yj5A////NzOTPkD/////KFw+QAEAAGBmpj5AAAAAAADAPkAAAACAwnU/QKuqqgpLfj9AVVVVldOGP0AAAAAgXI8/QAAAAIA9Sj1AAAAAgBQuPUAAAABACtc8QAAAAKBwPT1AVVVVtYFOPUCrqqrKkl89QAAAAOCjcD1AAAAAgML1PED////fUXg8QAAAAIDrETxAAAAAwB6FO0CqqqrKL1Y7QFVVVdVAJztA////31H4OkABAAAA1+M6QAAAAKBHITtAAAAAoEdhOkAAAADAHsU5QAAAACCFKzpA////f+uROkD////fUfg6QAAAAEAzsztAAQAAANejO0AAAACAFC47QP///99RuDlAVVVVVfKLOUCqqqrKkl85QAAAAEAzMzlAAAAAgD0KOUD////felQ5QAAAACCFazpAAAAAwPXoOUAAAADgehQ6QAAAAAAAQDpAAAAAIIVrOkAAAABguN45QAAAAAAAADpA////33oUOkD////fUfg6QKqqqmo9CjtAVVVV9SgcO0AAAACAFC47QAAAAMD1aDtAAAAAgMI1O0AAAADAHkU6QAAAAIDrET1AAAAAgE7bPEAAAACAsaQ8QAAAAIAUbjxAAAAAwMxMPEAAAAAghWs7QAEAAADXYztAAAAAQDMzPEAAAADAHkU8QAAAAEAKVzxAAAAAwPVoPEAAAABA4Xo8QAAAAMAehTtAAQAAYI/CPUAAAACAFG4+QAAAAOBAZz5AAAAAQG1gPkAAAACgmVk+QAAAAIDCtT5AAAAAIK6HPUABAAAA1+M9QAAAAGC43j1AVVVVNVyPPUCrqqoKAEA9QAAAAOCj8DxAAAAAgOvRPUAAAAAghas9QAAAALBHgT1AAAAAQApXPUBVVVWV/CI9QKuqquru7jxAAAAAQOG6PEABAABgZuY8QAAAAIDrET5A////33rUPUAAAADA9Wg9QAAAAOB6VD1AAAAAAABAPUAAAAAghSs9QAAAAKCZmTxA////33pUPEAAAADgo3A8QAAAAKBwPTxAAAAA4NAyPEAAAAAgMSg8QAAAAGCRHTxA",
          "dtype": "f8"
         },
         "yaxis": "y"
        },
        {
         "name": "Bollinger High Band",
         "type": "scatter",
         "x": [
          "2022-08-24T00:00:00.000000000",
          "2022-08-25T00:00:00.000000000",
          "2022-08-26T00:00:00.000000000",
          "2022-08-27T00:00:00.000000000",
          "2022-08-28T00:00:00.000000000",
          "2022-08-29T00:00:00.000000000",
          "2022-08-30T00:00:00.000000000",
          "2022-08-31T00:00:00.000000000",
          "2022-09-01T00:00:00.000000000",
          "2022-09-02T00:00:00.000000000",
          "2022-09-03T00:00:00.000000000",
          "2022-09-04T00:00:00.000000000",
          "2022-09-05T00:00:00.000000000",
          "2022-09-06T00:00:00.000000000",
          "2022-09-07T00:00:00.000000000",
          "2022-09-08T00:00:00.000000000",
          "2022-09-09T00:00:00.000000000",
          "2022-09-10T00:00:00.000000000",
          "2022-09-11T00:00:00.000000000",
          "2022-09-12T00:00:00.000000000",
          "2022-09-13T00:00:00.000000000",
          "2022-09-14T00:00:00.000000000",
          "2022-09-15T00:00:00.000000000",
          "2022-09-16T00:00:00.000000000",
          "2022-09-17T00:00:00.000000000",
          "2022-09-18T00:00:00.000000000",
          "2022-09-19T00:00:00.000000000",
          "2022-09-20T00:00:00.000000000",
          "2022-09-21T00:00:00.000000000",
          "2022-09-22T00:00:00.000000000",
          "2022-09-23T00:00:00.000000000",
          "2022-09-24T00:00:00.000000000",
          "2022-09-25T00:00:00.000000000",
          "2022-09-26T00:00:00.000000000",
          "2022-09-27T00:00:00.000000000",
          "2022-09-28T00:00:00.000000000",
          "2022-09-29T00:00:00.000000000",
          "2022-09-30T00:00:00.000000000",
          "2022-10-01T00:00:00.000000000",
          "2022-10-02T00:00:00.000000000",
          "2022-10-03T00:00:00.000000000",
          "2022-10-04T00:00:00.000000000",
          "2022-10-05T00:00:00.000000000",
          "2022-10-06T00:00:00.000000000",
          "2022-10-07T00:00:00.000000000",
          "2022-10-08T00:00:00.000000000",
          "2022-10-09T00:00:00.000000000",
          "2022-10-10T00:00:00.000000000",
          "2022-10-11T00:00:00.000000000",
          "2022-10-12T00:00:00.000000000",
          "2022-10-13T00:00:00.000000000",
          "2022-10-14T00:00:00.000000000",
          "2022-10-15T00:00:00.000000000",
          "2022-10-16T00:00:00.000000000",
          "2022-10-17T00:00:00.000000000",
          "2022-10-18T00:00:00.000000000",
          "2022-10-19T00:00:00.000000000",
          "2022-10-20T00:00:00.000000000",
          "2022-10-21T00:00:00.000000000",
          "2022-10-22T00:00:00.000000000",
          "2022-10-23T00:00:00.000000000",
          "2022-10-24T00:00:00.000000000",
          "2022-10-25T00:00:00.000000000",
          "2022-10-26T00:00:00.000000000",
          "2022-10-27T00:00:00.000000000",
          "2022-10-28T00:00:00.000000000",
          "2022-10-29T00:00:00.000000000",
          "2022-10-30T00:00:00.000000000",
          "2022-10-31T00:00:00.000000000",
          "2022-11-01T00:00:00.000000000",
          "2022-11-02T00:00:00.000000000",
          "2022-11-03T00:00:00.000000000",
          "2022-11-04T00:00:00.000000000",
          "2022-11-05T00:00:00.000000000",
          "2022-11-06T00:00:00.000000000",
          "2022-11-07T00:00:00.000000000",
          "2022-11-08T00:00:00.000000000",
          "2022-11-09T00:00:00.000000000",
          "2022-11-10T00:00:00.000000000",
          "2022-11-11T00:00:00.000000000",
          "2022-11-12T00:00:00.000000000",
          "2022-11-13T00:00:00.000000000",
          "2022-11-14T00:00:00.000000000",
          "2022-11-15T00:00:00.000000000",
          "2022-11-16T00:00:00.000000000",
          "2022-11-17T00:00:00.000000000",
          "2022-11-18T00:00:00.000000000",
          "2022-11-19T00:00:00.000000000",
          "2022-11-20T00:00:00.000000000",
          "2022-11-21T00:00:00.000000000",
          "2022-11-22T00:00:00.000000000",
          "2022-11-23T00:00:00.000000000",
          "2022-11-24T00:00:00.000000000",
          "2022-11-25T00:00:00.000000000",
          "2022-11-26T00:00:00.000000000",
          "2022-11-27T00:00:00.000000000",
          "2022-11-28T00:00:00.000000000",
          "2022-11-29T00:00:00.000000000",
          "2022-11-30T00:00:00.000000000",
          "2022-12-01T00:00:00.000000000",
          "2022-12-02T00:00:00.000000000",
          "2022-12-03T00:00:00.000000000",
          "2022-12-04T00:00:00.000000000",
          "2022-12-05T00:00:00.000000000",
          "2022-12-06T00:00:00.000000000",
          "2022-12-07T00:00:00.000000000",
          "2022-12-08T00:00:00.000000000",
          "2022-12-09T00:00:00.000000000",
          "2022-12-10T00:00:00.000000000",
          "2022-12-11T00:00:00.000000000",
          "2022-12-12T00:00:00.000000000"
         ],
         "xaxis": "x",
         "y": {
          "bdata": "MlJzrPF3QkBpcLkpCnZCQIsifuMSg0JAS5TqBTmNQkAr51OLtpRCQEPL98Lgn0JANqO23N+rQkAXEwvr5bJCQI9Y5s5SqkJAe8RS/FyfQkBKgT91CItCQGeK4bWSbEJApdW7uYVJQkCnnWA5NylCQC+/DY2K7EFAIhhxndm8QUC9TggZCZBBQGi8aaaAa0FAliVd2MRPQUCQ8+mV0S1BQBrsILEqHEFAEyHnHuPaQEDCWnr8PMhAQL7EV4biqEBAVfd5TFCEQEDLScu63FpAQJj7jnh4PkBATyMsioAqQEDMw/QZXhtAQA8iahd2GEBAXN7PcVAcQEATiqPD9x5AQGNm+aHAIEBAU0rPEechQEA7YcUdzhhAQB83tCv+BEBA+WpWj57BP0CbsJx7xnE/QOz3k3Zz+D5AWyMJinNTPkA4eQdanyc+QIPRisQt/j1AaAaNNJzfPUBRVHFZkKc9QEV/qoYCdT1AOs1qI10yPUB8bRyQKNs8QLTinWlPljxA6XNLZzplPEA64HzXATY8QIcz67a+FjxAsqddfxD6O0Atm+hKYeI7QJZGERFz0TtA7wXIWyTFO0CjXjJOhqg7QEkCOXFdoztA1D4JFr6kO0DnsuGvVLk7QJhBy7Z5yDtACFBb9vTNO0B2uES5HLI7QGRVAe6OpDtAY0okP/+lO0CE/vzBk6g7QOoQvlhQQjxAs8B0NA+nPEAB68qkBug8QO5GIYqkCj1AIG++Dg4jPUDCO8fHVis9QB8EGivmKj1AQe3CI8M/PUBjV8V/dFQ9QKJDZYwuaT1AQN/mcbNrPUCpE0UkMGo9QK8/AgUhTj1Ad3tGhLqcPUDe8KS1/Qo+QNiC1AOwYj5AutrH7gaqPkD9V+au3+Y+QGvYBAQWKD9Ab8yaHOIJP0APeVNSmx4/QDpzxcQUND9AXCYnYrxAP0Az3Kq+IUY/QDLHxBNcRj9Aez6w9GpBP0CRocra5Cw/QCdvbHfKJz9AqlyB6yQfP0BQIGDF4hQ/QDpM74O8Cz9AJLxlcVwGP0BU6vgCmco+QLrgIakQ0j5AQnQ65G29PkDjJISS7KI+QMO4uu9Ohj5Arr1l4SdnPkC7GKQoRyQ+QPLk44f8Kz5A2Gcvg9wrPkCk1vO5+CA+QJBFgQO0Iz5AGgrK/8AqPkDY8qFuoTM+QKMhYmMJIT5A",
          "dtype": "f8"
         },
         "yaxis": "y"
        },
        {
         "name": "Bollinger Low Band",
         "type": "scatter",
         "x": [
          "2022-08-24T00:00:00.000000000",
          "2022-08-25T00:00:00.000000000",
          "2022-08-26T00:00:00.000000000",
          "2022-08-27T00:00:00.000000000",
          "2022-08-28T00:00:00.000000000",
          "2022-08-29T00:00:00.000000000",
          "2022-08-30T00:00:00.000000000",
          "2022-08-31T00:00:00.000000000",
          "2022-09-01T00:00:00.000000000",
          "2022-09-02T00:00:00.000000000",
          "2022-09-03T00:00:00.000000000",
          "2022-09-04T00:00:00.000000000",
          "2022-09-05T00:00:00.000000000",
          "2022-09-06T00:00:00.000000000",
          "2022-09-07T00:00:00.000000000",
          "2022-09-08T00:00:00.000000000",
          "2022-09-09T00:00:00.000000000",
          "2022-09-10T00:00:00.000000000",
          "2022-09-11T00:00:00.000000000",
          "2022-09-12T00:00:00.000000000",
          "2022-09-13T00:00:00.000000000",
          "2022-09-14T00:00:00.000000000",
          "2022-09-15T00:00:00.000000000",
          "2022-09-16T00:00:00.000000000",
          "2022-09-17T00:00:00.000000000",
          "2022-09-18T00:00:00.000000000",
          "2022-09-19T00:00:00.000000000",
          "2022-09-20T00:00:00.000000000",
          "2022-09-21T00:00:00.000000000",
          "2022-09-22T00:00:00.000000000",
          "2022-09-23T00:00:00.000000000",
          "2022-09-24T00:00:00.000000000",
          "2022-09-25T00:00:00.000000000",
          "2022-09-26T00:00:00.000000000",
          "2022-09-27T00:00:00.000000000",
          "2022-09-28T00:00:00.000000000",
          "2022-09-29T00:00:00.000000000",
          "2022-09-30T00:00:00.000000000",
          "2022-10-01T00:00:00.000000000",
          "2022-10-02T00:00:00.000000000",
          "2022-10-03T00:00:00.000000000",
          "2022-10-04T00:00:00.000000000",
          "2022-10-05T00:00:00.000000000",
          "2022-10-06T00:00:00.000000000",
          "2022-10-07T00:00:00.000000000",
          "2022-10-08T00:00:00.000000000",
          "2022-10-09T00:00:00.000000000",
          "2022-10-10T00:00:00.000000000",
          "2022-10-11T00:00:00.000000000",
          "2022-10-12T00:00:00.000000000",
          "2022-10-13T00:00:00.000000000",
          "2022-10-14T00:00:00.000000000",
          "2022-10-15T00:00:00.000000000",
          "2022-10-16T00:00:00.000000000",
          "2022-10-17T00:00:00.000000000",
          "2022-10-18T00:00:00.000000000",
          "2022-10-19T00:00:00.000000000",
          "2022-10-20T00:00:00.000000000",
          "2022-10-21T00:00:00.000000000",
          "2022-10-22T00:00:00.000000000",
          "2022-10-23T00:00:00.000000000",
          "2022-10-24T00:00:00.000000000",
          "2022-10-25T00:00:00.000000000",
          "2022-10-26T00:00:00.000000000",
          "2022-10-27T00:00:00.000000000",
          "2022-10-28T00:00:00.000000000",
          "2022-10-29T00:00:00.000000000",
          "2022-10-30T00:00:00.000000000",
          "2022-10-31T00:00:00.000000000",
          "2022-11-01T00:00:00.000000000",
          "2022-11-02T00:00:00.000000000",
          "2022-11-03T00:00:00.000000000",
          "2022-11-04T00:00:00.000000000",
          "2022-11-05T00:00:00.000000000",
          "2022-11-06T00:00:00.000000000",
          "2022-11-07T00:00:00.000000000",
          "2022-11-08T00:00:00.000000000",
          "2022-11-09T00:00:00.000000000",
          "2022-11-10T00:00:00.000000000",
          "2022-11-11T00:00:00.000000000",
          "2022-11-12T00:00:00.000000000",
          "2022-11-13T00:00:00.000000000",
          "2022-11-14T00:00:00.000000000",
          "2022-11-15T00:00:00.000000000",
          "2022-11-16T00:00:00.000000000",
          "2022-11-17T00:00:00.000000000",
          "2022-11-18T00:00:00.000000000",
          "2022-11-19T00:00:00.000000000",
          "2022-11-20T00:00:00.000000000",
          "2022-11-21T00:00:00.000000000",
          "2022-11-22T00:00:00.000000000",
          "2022-11-23T00:00:00.000000000",
          "2022-11-24T00:00:00.000000000",
          "2022-11-25T00:00:00.000000000",
          "2022-11-26T00:00:00.000000000",
          "2022-11-27T00:00:00.000000000",
          "2022-11-28T00:00:00.000000000",
          "2022-11-29T00:00:00.000000000",
          "2022-11-30T00:00:00.000000000",
          "2022-12-01T00:00:00.000000000",
          "2022-12-02T00:00:00.000000000",
          "2022-12-03T00:00:00.000000000",
          "2022-12-04T00:00:00.000000000",
          "2022-12-05T00:00:00.000000000",
          "2022-12-06T00:00:00.000000000",
          "2022-12-07T00:00:00.000000000",
          "2022-12-08T00:00:00.000000000",
          "2022-12-09T00:00:00.000000000",
          "2022-12-10T00:00:00.000000000",
          "2022-12-11T00:00:00.000000000",
          "2022-12-12T00:00:00.000000000"
         ],
         "xaxis": "x",
         "y": {
          "bdata": "mnpZQDXZQED99axcttRAQDGZPai8rUBAcSfRteWHQEA7fxKL92JAQIkB1fmTQ0BA/o98BsYPQEDT2ek5jLM/QEq1mUhWVT9Akv/iXxzsPkBr/YBpKI4+QP63CW3/PD5AgiFV8VrzPUB+kQtyN6k9QKKB5E18lD1A8QJRAFd9PUClhBEYwn89QHfLcK+bfz1AbE7foNp7PUCs5fgIkoI9QGXBV9/hMD1Ap4r+9kMhPUDisHH12dI8QKSYco2rqzxA35mUFzeUPEAFBgO8z4s8QDdvSB1nfDxAL4Z0UJBYPECcq0nXmyI8QK6I+AXI1ztAranGBtx2O0CFlmOfJRk7QNTMpqX7vTpAjp6UD+ZkOkAk1w5u1hY6QMGRl0jK4TlAbfsPxxuoOUDr1+tsb2U5QHpu0v+gVTlApdz2deJ6OUD8uStJUms5QH0udYvgbjlAZMY/yLluOUDj3sE5CXI5QJdeM3fFSDlAgu5QaHQpOUBQX7CsjRg5QLKDyEwl/ThAF4y0eGvWOED6UrYrf784QEWZ4VWZwjhAPkeRv8G6OECfMeTB9rY4QNAfVWV2tThAd2Ce6ry1OEBdoc1xGbI4QOsw+vGHrThALMH26Ra0OEAZTR4w+7M4QHjPRVresDhALOPXnPiuOEC+eu75gL04QJyq/nErxThAN091un/EOEDiZ2m0/884QMCZ7KF1kDhA59gkJeOEOEAzSGjuEZw4QHgfRbw80DhARvenZ9sDOUA+xDhILBU5QBUvGTiAOzlAJXmj4uhcOUBpdQfN7Xs5QMQiAapamDlAWrqy59vWOUC9UiEi3Bc6QLcmZHHIWDpAvbfsfptROkCsl+MCITo6QMIWxeW9NjpArIuepzxBOkDPdOZ9p086QPuNYcIKaDpAxWaYZrPZOkBX7RIk+Nk6QPq/ba5v3jpAYJWUiT/pOkDNI1Uh2Pg6QM44OxwACTtAufSC3mFLO0AJ+M4uRpo7QA3ExgPJwDtAInBL6dLkO0AGNfUXegM8QJKA3RAGGjxAEHfNicwlPEBGr6Du44Q8QKyFROVbhTxAiliSgKKKPEBRDq/otYs8QHF6eBuIjTxAHg9nM4aQPEB5Go9i+qs8QKi0tSl2jDxA9GSdkaZkPEDCj3K07ko8QLT+wqhoJjxATFycjnAEPED02SqmhOc7QF3enRR6zjtA",
          "dtype": "f8"
         },
         "yaxis": "y"
        },
        {
         "name": "SMA5",
         "type": "scatter",
         "x": [
          "2022-08-24T00:00:00.000000000",
          "2022-08-25T00:00:00.000000000",
          "2022-08-26T00:00:00.000000000",
          "2022-08-27T00:00:00.000000000",
          "2022-08-28T00:00:00.000000000",
          "2022-08-29T00:00:00.000000000",
          "2022-08-30T00:00:00.000000000",
          "2022-08-31T00:00:00.000000000",
          "2022-09-01T00:00:00.000000000",
          "2022-09-02T00:00:00.000000000",
          "2022-09-03T00:00:00.000000000",
          "2022-09-04T00:00:00.000000000",
          "2022-09-05T00:00:00.000000000",
          "2022-09-06T00:00:00.000000000",
          "2022-09-07T00:00:00.000000000",
          "2022-09-08T00:00:00.000000000",
          "2022-09-09T00:00:00.000000000",
          "2022-09-10T00:00:00.000000000",
          "2022-09-11T00:00:00.000000000",
          "2022-09-12T00:00:00.000000000",
          "2022-09-13T00:00:00.000000000",
          "2022-09-14T00:00:00.000000000",
          "2022-09-15T00:00:00.000000000",
          "2022-09-16T00:00:00.000000000",
          "2022-09-17T00:00:00.000000000",
          "2022-09-18T00:00:00.000000000",
          "2022-09-19T00:00:00.000000000",
          "2022-09-20T00:00:00.000000000",
          "2022-09-21T00:00:00.000000000",
          "2022-09-22T00:00:00.000000000",
          "2022-09-23T00:00:00.000000000",
          "2022-09-24T00:00:00.000000000",
          "2022-09-25T00:00:00.000000000",
          "2022-09-26T00:00:00.000000000",
          "2022-09-27T00:00:00.000000000",
          "2022-09-28T00:00:00.000000000",
          "2022-09-29T00:00:00.000000000",
          "2022-09-30T00:00:00.000000000",
          "2022-10-01T00:00:00.000000000",
          "2022-10-02T00:00:00.000000000",
          "2022-10-03T00:00:00.000000000",
          "2022-10-04T00:00:00.000000000",
          "2022-10-05T00:00:00.000000000",
          "2022-10-06T00:00:00.000000000",
          "2022-10-07T00:00:00.000000000",
          "2022-10-08T00:00:00.000000000",
          "2022-10-09T00:00:00.000000000",
          "2022-10-10T00:00:00.000000000",
          "2022-10-11T00:00:00.000000000",
          "2022-10-12T00:00:00.000000000",
          "2022-10-13T00:00:00.000000000",
          "2022-10-14T00:00:00.000000000",
          "2022-10-15T00:00:00.000000000",
          "2022-10-16T00:00:00.000000000",
          "2022-10-17T00:00:00.000000000",
          "2022-10-18T00:00:00.000000000",
          "2022-10-19T00:00:00.000000000",
          "2022-10-20T00:00:00.000000000",
          "2022-10-21T00:00:00.000000000",
          "2022-10-22T00:00:00.000000000",
          "2022-10-23T00:00:00.000000000",
          "2022-10-24T00:00:00.000000000",
          "2022-10-25T00:00:00.000000000",
          "2022-10-26T00:00:00.000000000",
          "2022-10-27T00:00:00.000000000",
          "2022-10-28T00:00:00.000000000",
          "2022-10-29T00:00:00.000000000",
          "2022-10-30T00:00:00.000000000",
          "2022-10-31T00:00:00.000000000",
          "2022-11-01T00:00:00.000000000",
          "2022-11-02T00:00:00.000000000",
          "2022-11-03T00:00:00.000000000",
          "2022-11-04T00:00:00.000000000",
          "2022-11-05T00:00:00.000000000",
          "2022-11-06T00:00:00.000000000",
          "2022-11-07T00:00:00.000000000",
          "2022-11-08T00:00:00.000000000",
          "2022-11-09T00:00:00.000000000",
          "2022-11-10T00:00:00.000000000",
          "2022-11-11T00:00:00.000000000",
          "2022-11-12T00:00:00.000000000",
          "2022-11-13T00:00:00.000000000",
          "2022-11-14T00:00:00.000000000",
          "2022-11-15T00:00:00.000000000",
          "2022-11-16T00:00:00.000000000",
          "2022-11-17T00:00:00.000000000",
          "2022-11-18T00:00:00.000000000",
          "2022-11-19T00:00:00.000000000",
          "2022-11-20T00:00:00.000000000",
          "2022-11-21T00:00:00.000000000",
          "2022-11-22T00:00:00.000000000",
          "2022-11-23T00:00:00.000000000",
          "2022-11-24T00:00:00.000000000",
          "2022-11-25T00:00:00.000000000",
          "2022-11-26T00:00:00.000000000",
          "2022-11-27T00:00:00.000000000",
          "2022-11-28T00:00:00.000000000",
          "2022-11-29T00:00:00.000000000",
          "2022-11-30T00:00:00.000000000",
          "2022-12-01T00:00:00.000000000",
          "2022-12-02T00:00:00.000000000",
          "2022-12-03T00:00:00.000000000",
          "2022-12-04T00:00:00.000000000",
          "2022-12-05T00:00:00.000000000",
          "2022-12-06T00:00:00.000000000",
          "2022-12-07T00:00:00.000000000",
          "2022-12-08T00:00:00.000000000",
          "2022-12-09T00:00:00.000000000",
          "2022-12-10T00:00:00.000000000",
          "2022-12-11T00:00:00.000000000",
          "2022-12-12T00:00:00.000000000"
         ],
         "xaxis": "x2",
         "y": {
          "bdata": "ZmZmpkUWQUDu7u6O3hZBQGZmZqZw/UBAq6qqapHtQEBmZmbGS9dAQDMzM3O+v0BAmpmZeWp8QECamZlJjVdAQImIiAgtMkBAZmZmVo8CQECamZlBDKI/QJqZmbHIVj9AMzMzg+sRP0AAAABwPco+QGZmZlYOrT5AmpmZAQCgPkCamZnRTcI+QFZVVZVS8T5AzczMTA4tP0CamZnZpVs/QJqZmVnlED9AMzMz8yicPkASERExTxQ+QGZmZmY7nz1ARUREhNwrPUBmZmbGIDA9QGZmZqZwPT1AAAAAgJVDPUAzMzPzKBw9QFVVVbXX3DxAMzMzs/N9PEAiIiLiQhI8QM3MzIzCtTtAAAAAwPVoO0AAAABAiyw7QM3MzGyTGDtAEhERMZjnOkAzMzOTxKA6QDMzM9POdzpAZmZmhmxnOkAAAABgO186QGZmZubQojpAmpmZWY8CO0AAAACgRTY7QAAAAIDACjtAeHd3l+DBOkAAAACAwEo6QDMzM/PSzTlAzczMjEFgOUAAAADASUw5QFVVVbUAeTlAZmZm5nqUOUCamZk5icE5QM3MzOx8/zlAZmZmxks3OkAzMzPTIhs6QJqZmXm+HzpAmpmZeb4fOkBmZmamm0Q6QLu7uxtaZDpAZmZmBtejOkBmZmaGQeA6QJqZmRlaJDtAMzMz06MwO0CqqqpKNwk7QGZmZmaRbTtAzczMzGnDO0CamZlZjwI8QGZmZiYGQTxAAAAAwPWoPEAAAADgelQ8QJqZmfliCTxAAAAAILDyO0CamZn5fuo7QGZmZkaL7DtAZmZmZjsfPEAAAABAClc8QJqZmVk5NDxAMzMzE4OAPEAAAAAghes8QGZmZiaUUT1AZmZmJrCyPUBmZmaGlUM+QJqZmVk5dD5AAAAA4CRGPkAAAACA3Cs+QGZmZobrET5AeHd313jpPUCamZlZuJ49QJqZmRmDgD1AmpmZme18PUBmZmYmsHI9QO7u7j7fbz1AMzMz43p0PUAQERGhjH49QJqZmekmUT1AMzMzIwYhPUBmZmZGDAI9QGZmZoZsJz1A7u7uLuxKPUAzMzPzU2M9QGZmZkYMgj1AzczMzPeTPUAzMzNT42U9QJqZmXnpJj1AMzMzs53vPEDNzMxMDMI8QGZmZgZWjjxAAAAAYJhcPEAAAADg6UU8QAAAAGDuOjxA",
          "dtype": "f8"
         },
         "yaxis": "y2"
        },
        {
         "name": "SMA10",
         "type": "scatter",
         "x": [
          "2022-08-24T00:00:00.000000000",
          "2022-08-25T00:00:00.000000000",
          "2022-08-26T00:00:00.000000000",
          "2022-08-27T00:00:00.000000000",
          "2022-08-28T00:00:00.000000000",
          "2022-08-29T00:00:00.000000000",
          "2022-08-30T00:00:00.000000000",
          "2022-08-31T00:00:00.000000000",
          "2022-09-01T00:00:00.000000000",
          "2022-09-02T00:00:00.000000000",
          "2022-09-03T00:00:00.000000000",
          "2022-09-04T00:00:00.000000000",
          "2022-09-05T00:00:00.000000000",
          "2022-09-06T00:00:00.000000000",
          "2022-09-07T00:00:00.000000000",
          "2022-09-08T00:00:00.000000000",
          "2022-09-09T00:00:00.000000000",
          "2022-09-10T00:00:00.000000000",
          "2022-09-11T00:00:00.000000000",
          "2022-09-12T00:00:00.000000000",
          "2022-09-13T00:00:00.000000000",
          "2022-09-14T00:00:00.000000000",
          "2022-09-15T00:00:00.000000000",
          "2022-09-16T00:00:00.000000000",
          "2022-09-17T00:00:00.000000000",
          "2022-09-18T00:00:00.000000000",
          "2022-09-19T00:00:00.000000000",
          "2022-09-20T00:00:00.000000000",
          "2022-09-21T00:00:00.000000000",
          "2022-09-22T00:00:00.000000000",
          "2022-09-23T00:00:00.000000000",
          "2022-09-24T00:00:00.000000000",
          "2022-09-25T00:00:00.000000000",
          "2022-09-26T00:00:00.000000000",
          "2022-09-27T00:00:00.000000000",
          "2022-09-28T00:00:00.000000000",
          "2022-09-29T00:00:00.000000000",
          "2022-09-30T00:00:00.000000000",
          "2022-10-01T00:00:00.000000000",
          "2022-10-02T00:00:00.000000000",
          "2022-10-03T00:00:00.000000000",
          "2022-10-04T00:00:00.000000000",
          "2022-10-05T00:00:00.000000000",
          "2022-10-06T00:00:00.000000000",
          "2022-10-07T00:00:00.000000000",
          "2022-10-08T00:00:00.000000000",
          "2022-10-09T00:00:00.000000000",
          "2022-10-10T00:00:00.000000000",
          "2022-10-11T00:00:00.000000000",
          "2022-10-12T00:00:00.000000000",
          "2022-10-13T00:00:00.000000000",
          "2022-10-14T00:00:00.000000000",
          "2022-10-15T00:00:00.000000000",
          "2022-10-16T00:00:00.000000000",
          "2022-10-17T00:00:00.000000000",
          "2022-10-18T00:00:00.000000000",
          "2022-10-19T00:00:00.000000000",
          "2022-10-20T00:00:00.000000000",
          "2022-10-21T00:00:00.000000000",
          "2022-10-22T00:00:00.000000000",
          "2022-10-23T00:00:00.000000000",
          "2022-10-24T00:00:00.000000000",
          "2022-10-25T00:00:00.000000000",
          "2022-10-26T00:00:00.000000000",
          "2022-10-27T00:00:00.000000000",
          "2022-10-28T00:00:00.000000000",
          "2022-10-29T00:00:00.000000000",
          "2022-10-30T00:00:00.000000000",
          "2022-10-31T00:00:00.000000000",
          "2022-11-01T00:00:00.000000000",
          "2022-11-02T00:00:00.000000000",
          "2022-11-03T00:00:00.000000000",
          "2022-11-04T00:00:00.000000000",
          "2022-11-05T00:00:00.000000000",
          "2022-11-06T00:00:00.000000000",
          "2022-11-07T00:00:00.000000000",
          "2022-11-08T00:00:00.000000000",
          "2022-11-09T00:00:00.000000000",
          "2022-11-10T00:00:00.000000000",
          "2022-11-11T00:00:00.000000000",
          "2022-11-12T00:00:00.000000000",
          "2022-11-13T00:00:00.000000000",
          "2022-11-14T00:00:00.000000000",
          "2022-11-15T00:00:00.000000000",
          "2022-11-16T00:00:00.000000000",
          "2022-11-17T00:00:00.000000000",
          "2022-11-18T00:00:00.000000000",
          "2022-11-19T00:00:00.000000000",
          "2022-11-20T00:00:00.000000000",
          "2022-11-21T00:00:00.000000000",
          "2022-11-22T00:00:00.000000000",
          "2022-11-23T00:00:00.000000000",
          "2022-11-24T00:00:00.000000000",
          "2022-11-25T00:00:00.000000000",
          "2022-11-26T00:00:00.000000000",
          "2022-11-27T00:00:00.000000000",
          "2022-11-28T00:00:00.000000000",
          "2022-11-29T00:00:00.000000000",
          "2022-11-30T00:00:00.000000000",
          "2022-12-01T00:00:00.000000000",
          "2022-12-02T00:00:00.000000000",
          "2022-12-03T00:00:00.000000000",
          "2022-12-04T00:00:00.000000000",
          "2022-12-05T00:00:00.000000000",
          "2022-12-06T00:00:00.000000000",
          "2022-12-07T00:00:00.000000000",
          "2022-12-08T00:00:00.000000000",
          "2022-12-09T00:00:00.000000000",
          "2022-12-10T00:00:00.000000000",
          "2022-12-11T00:00:00.000000000",
          "2022-12-12T00:00:00.000000000"
         ],
         "xaxis": "x2",
         "y": {
          "bdata": "AAAAYLqJQUAzMzMDK3dBQM3MzKzxUkFAIiIiEi0yQUAzMzNzPQpBQM3MzAwC60BAREREhKTJQEAAAAD4fqpAQJqZmTnfj0BAZmZmju1sQEAAAABKYkhAQDMzM2nnE0BAMzMzC4PgP0CIiIjAS5c/QJqZmYEWWT9AmpmZIQYhP0CamZlBiww/QEVERAyfAT9AZmZm3qX7PkAAAAAYWgQ/QJqZma1y2D5AZmZmYjuvPkAzMzPj0II+QJqZmdkkZj5A7u7uLsFDPkAAAAAQgyA+QM3MzMzM7D1AiIiIWPKrPUDNzMwssl09QM3MzBxaBD1AzczMPArXPEBFRETE2ac8QGZmZgasfDxAmpmZWY9CPECqqqp6sQQ8QAAAAJBDyztAmpmZie18O0AAAACQQys7QJqZmUli8DpAMzMz4/vJOkBmZmZm57s6QLu7u4s0xTpAZmZm9qnROkCamZk5Ctc6QDMzM4MWuTpAu7u7+42QOkAzMzOzyHY6QGZmZiYxaDpAZmZmlkNLOkAAAAAghSs6QGZmZqZwHTpAMzMzs53vOUBmZmYWrsc5QM3MzDzfrzlAMzMzw8rBOUBFRETEEco5QAAAALAc2jlAmpmZ2aPwOUCamZlJDCI6QBIREfHSTTpAzczM7HxfOkAAAAAAAIA6QJqZmUkMojpAzczMvJ+6OkAzMzOzyLY6QGZmZja0CDtAmpmZqdVRO0CamZm5dJM7QM3MzPzUuDtAVlVVhRbZO0AzMzMjBuE7QDMzM2Nm5jtAzczMvJ/6O0AAAACQwhU8QDMzM4PASjxAMzMzI9s5PEDNzMycNjA8QM3MzLx0EzxAZmZmBoE1PEAzMzMzCGw8QGZmZsZnuDxAMzMzM90EPUAAAABw5zs9QGZmZjZeej1AAAAAANWYPUAzMzNTuL49QGZmZtZN4j1A8O7uLocWPkCamZnZeAk+QM3MzPxT4z1AzczMDGXUPUBmZmbWTcI9QDMzMwusrD1AZmZmnpmJPUBWVVXdh389QJqZmUEKZz1AzczMJNtJPUCqqqrC9Tg9QM3MzLTzTT1AAAAAaLxkPUBmZmZuPVo9QM3MzDSJUT1AmpmZCQJLPUDNzMzsp0Y9QENERNTqOD1AMzMz03gpPUCamZlJDCI9QJqZmekmET1AmpmZ2T3hPEDNzMysabY8QJqZmQlGlTxA",
          "dtype": "f8"
         },
         "yaxis": "y2"
        },
        {
         "name": "SMA14",
         "type": "scatter",
         "x": [
          "2022-08-24T00:00:00.000000000",
          "2022-08-25T00:00:00.000000000",
          "2022-08-26T00:00:00.000000000",
          "2022-08-27T00:00:00.000000000",
          "2022-08-28T00:00:00.000000000",
          "2022-08-29T00:00:00.000000000",
          "2022-08-30T00:00:00.000000000",
          "2022-08-31T00:00:00.000000000",
          "2022-09-01T00:00:00.000000000",
          "2022-09-02T00:00:00.000000000",
          "2022-09-03T00:00:00.000000000",
          "2022-09-04T00:00:00.000000000",
          "2022-09-05T00:00:00.000000000",
          "2022-09-06T00:00:00.000000000",
          "2022-09-07T00:00:00.000000000",
          "2022-09-08T00:00:00.000000000",
          "2022-09-09T00:00:00.000000000",
          "2022-09-10T00:00:00.000000000",
          "2022-09-11T00:00:00.000000000",
          "2022-09-12T00:00:00.000000000",
          "2022-09-13T00:00:00.000000000",
          "2022-09-14T00:00:00.000000000",
          "2022-09-15T00:00:00.000000000",
          "2022-09-16T00:00:00.000000000",
          "2022-09-17T00:00:00.000000000",
          "2022-09-18T00:00:00.000000000",
          "2022-09-19T00:00:00.000000000",
          "2022-09-20T00:00:00.000000000",
          "2022-09-21T00:00:00.000000000",
          "2022-09-22T00:00:00.000000000",
          "2022-09-23T00:00:00.000000000",
          "2022-09-24T00:00:00.000000000",
          "2022-09-25T00:00:00.000000000",
          "2022-09-26T00:00:00.000000000",
          "2022-09-27T00:00:00.000000000",
          "2022-09-28T00:00:00.000000000",
          "2022-09-29T00:00:00.000000000",
          "2022-09-30T00:00:00.000000000",
          "2022-10-01T00:00:00.000000000",
          "2022-10-02T00:00:00.000000000",
          "2022-10-03T00:00:00.000000000",
          "2022-10-04T00:00:00.000000000",
          "2022-10-05T00:00:00.000000000",
          "2022-10-06T00:00:00.000000000",
          "2022-10-07T00:00:00.000000000",
          "2022-10-08T00:00:00.000000000",
          "2022-10-09T00:00:00.000000000",
          "2022-10-10T00:00:00.000000000",
          "2022-10-11T00:00:00.000000000",
          "2022-10-12T00:00:00.000000000",
          "2022-10-13T00:00:00.000000000",
          "2022-10-14T00:00:00.000000000",
          "2022-10-15T00:00:00.000000000",
          "2022-10-16T00:00:00.000000000",
          "2022-10-17T00:00:00.000000000",
          "2022-10-18T00:00:00.000000000",
          "2022-10-19T00:00:00.000000000",
          "2022-10-20T00:00:00.000000000",
          "2022-10-21T00:00:00.000000000",
          "2022-10-22T00:00:00.000000000",
          "2022-10-23T00:00:00.000000000",
          "2022-10-24T00:00:00.000000000",
          "2022-10-25T00:00:00.000000000",
          "2022-10-26T00:00:00.000000000",
          "2022-10-27T00:00:00.000000000",
          "2022-10-28T00:00:00.000000000",
          "2022-10-29T00:00:00.000000000",
          "2022-10-30T00:00:00.000000000",
          "2022-10-31T00:00:00.000000000",
          "2022-11-01T00:00:00.000000000",
          "2022-11-02T00:00:00.000000000",
          "2022-11-03T00:00:00.000000000",
          "2022-11-04T00:00:00.000000000",
          "2022-11-05T00:00:00.000000000",
          "2022-11-06T00:00:00.000000000",
          "2022-11-07T00:00:00.000000000",
          "2022-11-08T00:00:00.000000000",
          "2022-11-09T00:00:00.000000000",
          "2022-11-10T00:00:00.000000000",
          "2022-11-11T00:00:00.000000000",
          "2022-11-12T00:00:00.000000000",
          "2022-11-13T00:00:00.000000000",
          "2022-11-14T00:00:00.000000000",
          "2022-11-15T00:00:00.000000000",
          "2022-11-16T00:00:00.000000000",
          "2022-11-17T00:00:00.000000000",
          "2022-11-18T00:00:00.000000000",
          "2022-11-19T00:00:00.000000000",
          "2022-11-20T00:00:00.000000000",
          "2022-11-21T00:00:00.000000000",
          "2022-11-22T00:00:00.000000000",
          "2022-11-23T00:00:00.000000000",
          "2022-11-24T00:00:00.000000000",
          "2022-11-25T00:00:00.000000000",
          "2022-11-26T00:00:00.000000000",
          "2022-11-27T00:00:00.000000000",
          "2022-11-28T00:00:00.000000000",
          "2022-11-29T00:00:00.000000000",
          "2022-11-30T00:00:00.000000000",
          "2022-12-01T00:00:00.000000000",
          "2022-12-02T00:00:00.000000000",
          "2022-12-03T00:00:00.000000000",
          "2022-12-04T00:00:00.000000000",
          "2022-12-05T00:00:00.000000000",
          "2022-12-06T00:00:00.000000000",
          "2022-12-07T00:00:00.000000000",
          "2022-12-08T00:00:00.000000000",
          "2022-12-09T00:00:00.000000000",
          "2022-12-10T00:00:00.000000000",
          "2022-12-11T00:00:00.000000000",
          "2022-12-12T00:00:00.000000000"
         ],
         "xaxis": "x2",
         "y": {
          "bdata": "t23bNuSsQUAAAADQfaZBQG7btj1ZjUFA27ZtizlyQUBJkiS5HlVBQLdt28YINkFAJUmSVBoSQUCSJEm6z+5AQLdt25Y3xkBAt23bzi6gQECe53lM4HxAQG7btg9MXEBAJUmSGHI+QEBu27Zxnx1AQEmSJDVGAEBAJUmSfNi0P0C3bdtOGpI/QAAAAIiHcj9AAAAAKCBWP0C3bdsu5Dw/QNu2bTOVBj9At23b3nrUPkC3bdvuFZ8+QG7btkXhej5AhmEYItNbPkAAAACE60E+QNu2bWsqLT5AAAAA0JATPkDbtm3rs+s9QCVJknSyuj1AkiRJwqZyPUAAAADQpCY9QG7btp2s1jxA27ZtK76CPEDbtm1r21Y8QJIkSRJfMTxAJUmSdGMEPEAlSZLk78Q7QFZVVbWUiztAt23b5lFYO0BJkiR5Jys7QG7btj0dFDtAJUmS5O8EO0Bu27atqfQ6QG7btp2/0zpAnud5XgSzOkAAAADwd5I6QJIkSVIacjpAt23bNkZQOkBJkiQpXC86QEmSJGkXMDpAJUmSxKYyOkC3bdt2ATE6QAAAAIAnKzpAAAAA4BghOkCSJEliov85QAAAAFCl4TlAbtu2DYjNOUDbtm17Y+Q5QD3P8/yx/zlAkiRJknMfOkDbtm07qEM6QEmSJIn+bjpAJUmSFF+ROkBJkiTpoI46QJIkSVJpyDpA27ZtSy/7OkAlSZLU8iY7QG7btu2zSztASZIkGSN4O0CSJElSGpI7QG7btp0OqjtAbtu2bYzAO0A+z/M8Ctc7QNu2bQuI7TtASZIk2QUEPEDbtm2rlhc8QCVJktRBHTxAJUmSBBNdPEAAAABg8XU8QNu2bYs5kjxAt23bhuuxPECSJElSB9U8QAAAAOAYAT1At23bFq4nPUCSJEnyZFU9QCVJknTucz1AYRiGIYWLPUBJkiT5KJw9QNu2bfvZpT1At23btlq+PUDbtm0rq+U9QJIkSXoB4T1AAAAACBPNPUA9z/OU6bU9QEmSJCGFmz1AJUmSrOV9PUC3bdvOzFw9QLdt256sZj1ASZIkwZNlPUAlSZJsKl09QHqe58H1WD1ASZIkwfVYPUCSJElqKl09QCVJkmzbRj1ASZIksVouPUC3bdtG4Ro9QCVJkgTEBj1AwzAMU5z1PECSJEkyauc8QJIkSaIt3DxA",
          "dtype": "f8"
         },
         "yaxis": "y2"
        },
        {
         "name": "EMA14",
         "type": "scatter",
         "x": [
          "2022-08-24T00:00:00.000000000",
          "2022-08-25T00:00:00.000000000",
          "2022-08-26T00:00:00.000000000",
          "2022-08-27T00:00:00.000000000",
          "2022-08-28T00:00:00.000000000",
          "2022-08-29T00:00:00.000000000",
          "2022-08-30T00:00:00.000000000",
          "2022-08-31T00:00:00.000000000",
          "2022-09-01T00:00:00.000000000",
          "2022-09-02T00:00:00.000000000",
          "2022-09-03T00:00:00.000000000",
          "2022-09-04T00:00:00.000000000",
          "2022-09-05T00:00:00.000000000",
          "2022-09-06T00:00:00.000000000",
          "2022-09-07T00:00:00.000000000",
          "2022-09-08T00:00:00.000000000",
          "2022-09-09T00:00:00.000000000",
          "2022-09-10T00:00:00.000000000",
          "2022-09-11T00:00:00.000000000",
          "2022-09-12T00:00:00.000000000",
          "2022-09-13T00:00:00.000000000",
          "2022-09-14T00:00:00.000000000",
          "2022-09-15T00:00:00.000000000",
          "2022-09-16T00:00:00.000000000",
          "2022-09-17T00:00:00.000000000",
          "2022-09-18T00:00:00.000000000",
          "2022-09-19T00:00:00.000000000",
          "2022-09-20T00:00:00.000000000",
          "2022-09-21T00:00:00.000000000",
          "2022-09-22T00:00:00.000000000",
          "2022-09-23T00:00:00.000000000",
          "2022-09-24T00:00:00.000000000",
          "2022-09-25T00:00:00.000000000",
          "2022-09-26T00:00:00.000000000",
          "2022-09-27T00:00:00.000000000",
          "2022-09-28T00:00:00.000000000",
          "2022-09-29T00:00:00.000000000",
          "2022-09-30T00:00:00.000000000",
          "2022-10-01T00:00:00.000000000",
          "2022-10-02T00:00:00.000000000",
          "2022-10-03T00:00:00.000000000",
          "2022-10-04T00:00:00.000000000",
          "2022-10-05T00:00:00.000000000",
          "2022-10-06T00:00:00.000000000",
          "2022-10-07T00:00:00.000000000",
          "2022-10-08T00:00:00.000000000",
          "2022-10-09T00:00:00.000000000",
          "2022-10-10T00:00:00.000000000",
          "2022-10-11T00:00:00.000000000",
          "2022-10-12T00:00:00.000000000",
          "2022-10-13T00:00:00.000000000",
          "2022-10-14T00:00:00.000000000",
          "2022-10-15T00:00:00.000000000",
          "2022-10-16T00:00:00.000000000",
          "2022-10-17T00:00:00.000000000",
          "2022-10-18T00:00:00.000000000",
          "2022-10-19T00:00:00.000000000",
          "2022-10-20T00:00:00.000000000",
          "2022-10-21T00:00:00.000000000",
          "2022-10-22T00:00:00.000000000",
          "2022-10-23T00:00:00.000000000",
          "2022-10-24T00:00:00.000000000",
          "2022-10-25T00:00:00.000000000",
          "2022-10-26T00:00:00.000000000",
          "2022-10-27T00:00:00.000000000",
          "2022-10-28T00:00:00.000000000",
          "2022-10-29T00:00:00.000000000",
          "2022-10-30T00:00:00.000000000",
          "2022-10-31T00:00:00.000000000",
          "2022-11-01T00:00:00.000000000",
          "2022-11-02T00:00:00.000000000",
          "2022-11-03T00:00:00.000000000",
          "2022-11-04T00:00:00.000000000",
          "2022-11-05T00:00:00.000000000",
          "2022-11-06T00:00:00.000000000",
          "2022-11-07T00:00:00.000000000",
          "2022-11-08T00:00:00.000000000",
          "2022-11-09T00:00:00.000000000",
          "2022-11-10T00:00:00.000000000",
          "2022-11-11T00:00:00.000000000",
          "2022-11-12T00:00:00.000000000",
          "2022-11-13T00:00:00.000000000",
          "2022-11-14T00:00:00.000000000",
          "2022-11-15T00:00:00.000000000",
          "2022-11-16T00:00:00.000000000",
          "2022-11-17T00:00:00.000000000",
          "2022-11-18T00:00:00.000000000",
          "2022-11-19T00:00:00.000000000",
          "2022-11-20T00:00:00.000000000",
          "2022-11-21T00:00:00.000000000",
          "2022-11-22T00:00:00.000000000",
          "2022-11-23T00:00:00.000000000",
          "2022-11-24T00:00:00.000000000",
          "2022-11-25T00:00:00.000000000",
          "2022-11-26T00:00:00.000000000",
          "2022-11-27T00:00:00.000000000",
          "2022-11-28T00:00:00.000000000",
          "2022-11-29T00:00:00.000000000",
          "2022-11-30T00:00:00.000000000",
          "2022-12-01T00:00:00.000000000",
          "2022-12-02T00:00:00.000000000",
          "2022-12-03T00:00:00.000000000",
          "2022-12-04T00:00:00.000000000",
          "2022-12-05T00:00:00.000000000",
          "2022-12-06T00:00:00.000000000",
          "2022-12-07T00:00:00.000000000",
          "2022-12-08T00:00:00.000000000",
          "2022-12-09T00:00:00.000000000",
          "2022-12-10T00:00:00.000000000",
          "2022-12-11T00:00:00.000000000",
          "2022-12-12T00:00:00.000000000"
         ],
         "xaxis": "x3",
         "y": {
          "bdata": "IMRsrA6FQUCCMk1zgYJBQHDWMaguZkFAjhq/9j5LQUBw2DMGgzFBQIOq6M3RGEFAg090ctD3QEAtiSAyaNVAQHwQ+lPbtEBAsHSUNW6PQECIy6I5U2tAQLoFfEpdSEBAXWtaVWUmQEDqOix9SQVAQIXMbpAV2z9A2kqk9Fa1P0BoyfTC3Kw/QHLn6jKnpj9A5sKj2WiiP0BhIMGe3p8/QENPlokvUD9AGKvoIV8HP0B7x+slqbw+QEgTiIuQiT5A5OgakY5fPkDMEy7/bD0+QOTMBfseIj5APVxaphL6PUCb+vico8Y9QLlhce5ojD1AbRAv1ytHPUDtE8gZ6AQ9QGLYyTI4xTxAzP+/J8SHPECQu/uqxk88QI6iUXZxJzxAjDe+WePqO0ATH+nvlaE7QERwMNS1bztATGGQYiNSO0APEGyVKUY7QA0w5mezVDtAlBhhr0BfO0C0e6lCslg7QFeNPfEtITtAaA6W/iXrOkC1mmWzZ7Y6QMAwehvHgjpA69RYoJJQOkCIuAjc9S46QP+wKfYINzpAzP8BAKAsOkAoVZvZZyk6QIkF7RFrLDpAEUmr8dQ0OkD+6QurWSk6QDIx6D7WIzpACZEeEMohOkD3wV60ZD46QCADi6qSWTpAwbhhkoRzOkDKSu6PZIw6QEm4AUHNqTpALxebfHa8OkDk4P3rjKw6QE4p/kNV/jpAuxKp9u09O0DVqbTEw207QA5xeqrwjztADXO/Ex+pO0BQ/bZq6KA7QL4OFvbDmDtAC1FGVVutO0BOV6OFl8E7QO6Pja+E1TtA4J5pXC3pO0BKI/Wtmvw7QA2W9kms7DtAHZOzGVMrPEAqKiT0fXg8QPGKUs91ujxAnqtp77jyPEDwx46gkiI9QDecWb5UWD1AuNyA7aRePUAonV5WZ3A9QHjMHs8cfz1ADTRIZUeBPUCrEBE3k3g9QLZSl01zZj1AnjaUmMd0PUAj/AgRFHw9QB90sp3FfD1Ao2RWs713PUCIUWfAcGw9QPTlCca0Wz1Awz6zPENGPUAyA0Yfezk9QBtY5+dWVj1AOipzgChnPUBEz2MAZmc9QG6AVkDgZD1Ao8QXjfVfPUD0Mq6g91g9QPb4lqBzPz1A5vmkQh8gPUDpLcJ5uQg9QFOwDrKe7TxA0Zjqc7bUPECClQ++tb08QOnWYo9bqDxA",
          "dtype": "f8"
         },
         "yaxis": "y3"
        },
        {
         "name": "%B",
         "type": "scatter",
         "x": [
          "2022-08-24T00:00:00.000000000",
          "2022-08-25T00:00:00.000000000",
          "2022-08-26T00:00:00.000000000",
          "2022-08-27T00:00:00.000000000",
          "2022-08-28T00:00:00.000000000",
          "2022-08-29T00:00:00.000000000",
          "2022-08-30T00:00:00.000000000",
          "2022-08-31T00:00:00.000000000",
          "2022-09-01T00:00:00.000000000",
          "2022-09-02T00:00:00.000000000",
          "2022-09-03T00:00:00.000000000",
          "2022-09-04T00:00:00.000000000",
          "2022-09-05T00:00:00.000000000",
          "2022-09-06T00:00:00.000000000",
          "2022-09-07T00:00:00.000000000",
          "2022-09-08T00:00:00.000000000",
          "2022-09-09T00:00:00.000000000",
          "2022-09-10T00:00:00.000000000",
          "2022-09-11T00:00:00.000000000",
          "2022-09-12T00:00:00.000000000",
          "2022-09-13T00:00:00.000000000",
          "2022-09-14T00:00:00.000000000",
          "2022-09-15T00:00:00.000000000",
          "2022-09-16T00:00:00.000000000",
          "2022-09-17T00:00:00.000000000",
          "2022-09-18T00:00:00.000000000",
          "2022-09-19T00:00:00.000000000",
          "2022-09-20T00:00:00.000000000",
          "2022-09-21T00:00:00.000000000",
          "2022-09-22T00:00:00.000000000",
          "2022-09-23T00:00:00.000000000",
          "2022-09-24T00:00:00.000000000",
          "2022-09-25T00:00:00.000000000",
          "2022-09-26T00:00:00.000000000",
          "2022-09-27T00:00:00.000000000",
          "2022-09-28T00:00:00.000000000",
          "2022-09-29T00:00:00.000000000",
          "2022-09-30T00:00:00.000000000",
          "2022-10-01T00:00:00.000000000",
          "2022-10-02T00:00:00.000000000",
          "2022-10-03T00:00:00.000000000",
          "2022-10-04T00:00:00.000000000",
          "2022-10-05T00:00:00.000000000",
          "2022-10-06T00:00:00.000000000",
          "2022-10-07T00:00:00.000000000",
          "2022-10-08T00:00:00.000000000",
          "2022-10-09T00:00:00.000000000",
          "2022-10-10T00:00:00.000000000",
          "2022-10-11T00:00:00.000000000",
          "2022-10-12T00:00:00.000000000",
          "2022-10-13T00:00:00.000000000",
          "2022-10-14T00:00:00.000000000",
          "2022-10-15T00:00:00.000000000",
          "2022-10-16T00:00:00.000000000",
          "2022-10-17T00:00:00.000000000",
          "2022-10-18T00:00:00.000000000",
          "2022-10-19T00:00:00.000000000",
          "2022-10-20T00:00:00.000000000",
          "2022-10-21T00:00:00.000000000",
          "2022-10-22T00:00:00.000000000",
          "2022-10-23T00:00:00.000000000",
          "2022-10-24T00:00:00.000000000",
          "2022-10-25T00:00:00.000000000",
          "2022-10-26T00:00:00.000000000",
          "2022-10-27T00:00:00.000000000",
          "2022-10-28T00:00:00.000000000",
          "2022-10-29T00:00:00.000000000",
          "2022-10-30T00:00:00.000000000",
          "2022-10-31T00:00:00.000000000",
          "2022-11-01T00:00:00.000000000",
          "2022-11-02T00:00:00.000000000",
          "2022-11-03T00:00:00.000000000",
          "2022-11-04T00:00:00.000000000",
          "2022-11-05T00:00:00.000000000",
          "2022-11-06T00:00:00.000000000",
          "2022-11-07T00:00:00.000000000",
          "2022-11-08T00:00:00.000000000",
          "2022-11-09T00:00:00.000000000",
          "2022-11-10T00:00:00.000000000",
          "2022-11-11T00:00:00.000000000",
          "2022-11-12T00:00:00.000000000",
          "2022-11-13T00:00:00.000000000",
          "2022-11-14T00:00:00.000000000",
          "2022-11-15T00:00:00.000000000",
          "2022-11-16T00:00:00.000000000",
          "2022-11-17T00:00:00.000000000",
          "2022-11-18T00:00:00.000000000",
          "2022-11-19T00:00:00.000000000",
          "2022-11-20T00:00:00.000000000",
          "2022-11-21T00:00:00.000000000",
          "2022-11-22T00:00:00.000000000",
          "2022-11-23T00:00:00.000000000",
          "2022-11-24T00:00:00.000000000",
          "2022-11-25T00:00:00.000000000",
          "2022-11-26T00:00:00.000000000",
          "2022-11-27T00:00:00.000000000",
          "2022-11-28T00:00:00.000000000",
          "2022-11-29T00:00:00.000000000",
          "2022-11-30T00:00:00.000000000",
          "2022-12-01T00:00:00.000000000",
          "2022-12-02T00:00:00.000000000",
          "2022-12-03T00:00:00.000000000",
          "2022-12-04T00:00:00.000000000",
          "2022-12-05T00:00:00.000000000",
          "2022-12-06T00:00:00.000000000",
          "2022-12-07T00:00:00.000000000",
          "2022-12-08T00:00:00.000000000",
          "2022-12-09T00:00:00.000000000",
          "2022-12-10T00:00:00.000000000",
          "2022-12-11T00:00:00.000000000",
          "2022-12-12T00:00:00.000000000"
         ],
         "xaxis": "x4",
         "y": {
          "bdata": "GYgQL1nEqT+uq1Lr3RvYP1/Lrrz69Ec/qhl8gtkNpD+tYlIzxeWxP2HBdJvRV7Y/H0jMk/XUmj9QP+zi9qajPzS0mc9GNrI/5ha0QD0bqD/PQhBgl6CxP2eHhmE8XrU/UPgkycYhuD/0AVySSN26P7xTptqx2cU/3P2JMMTzyj9iM9jya07WP8/an7H45tc/uQ+hFH5w2T/ecibXBxDbP4CNgNU+K5Q/UVqWHg1ihj8q7SM9/kVsPzV8x9szW78/xtw5/MzoxD9M6YU27W3JPxQohu98g84/yjq54tG3wz9Mu0ROxQO1P9TEXkXMvao/AhLhvaf7hz/RHaNC17unP9ElMVCgF7M/o/k3yHgcuT9Ldw5MdcrAPzZRjA738ck/s4A+7JBbvj+mkV2ICKSvPwvIL+ew+cI/D6ZTWF3KzD++9ZQXWvXUPx5zytJK0d8/VzpZpgnQ3z+XvtOGxF/aP9eAmiN0u7o/AYRDwRxpuD8CRNFhLeOyP5jHqnJiC64/9kGM0VYhrT8Gpno52oLFP62z5Qfa6d8/CkEanAhE1z+XmeAWYZHbP8680FrduN8/WC9jBdvh4T9p+4tZNV7ZPwj7V5WIldw/4MSk1PP23T/uF4crdQPoP+Bv7oNVT+g/SwTndAzh6D8uMOD/c2rqPwVmksUXaO0/LQgNrkkh6z+GZgJ6TmPgP2BJA38Ig/M/zJJIcD3K8D+m6tgkiQruP2jMxxoVX+s/ThYi46KA6T88E7/WWk3iP4N2gRSIi+E/J2w6Zo5c5z+UUQHgSS7nP4H3TM30BOc/0tve9CT45j8n5vS6hf7mP5skpWFTYdk/M0GuY8q38D/58Stme5/xPxii8QuDEfA/wbTwu9vp7T9lkP1pPCfsPxv0T3/U/ew/zTyoFDh55D+ojcOoDMjmP+sO9IDjJ+Y/nLVQ6eOF4z9021T11/HgP+S/6qAlwdw/oxkLhCBn5D94DfiOT4TiP9rlIUMxeuA/5lAlUoWs3D/le1Cmlm3XP1Y/54IrFNI/Q08elEboyT9ePsGpyHTFP1T/Du0/juU/omKUkzTB4j8wgNtp53TaP0cPR69yOdk/BKWPYc3c1z+33rfBJLHVPzCXtAhhMKA/Hae78CIwor/EQ5yCdYm0PyRv5s9JJ6c/QIFcd96StT88Kisx4ia8P9sVVgbyBsE/",
          "dtype": "f8"
         },
         "yaxis": "y4"
        },
        {
         "name": "BandWidth",
         "type": "scatter",
         "x": [
          "2022-08-24T00:00:00.000000000",
          "2022-08-25T00:00:00.000000000",
          "2022-08-26T00:00:00.000000000",
          "2022-08-27T00:00:00.000000000",
          "2022-08-28T00:00:00.000000000",
          "2022-08-29T00:00:00.000000000",
          "2022-08-30T00:00:00.000000000",
          "2022-08-31T00:00:00.000000000",
          "2022-09-01T00:00:00.000000000",
          "2022-09-02T00:00:00.000000000",
          "2022-09-03T00:00:00.000000000",
          "2022-09-04T00:00:00.000000000",
          "2022-09-05T00:00:00.000000000",
          "2022-09-06T00:00:00.000000000",
          "2022-09-07T00:00:00.000000000",
          "2022-09-08T00:00:00.000000000",
          "2022-09-09T00:00:00.000000000",
          "2022-09-10T00:00:00.000000000",
          "2022-09-11T00:00:00.000000000",
          "2022-09-12T00:00:00.000000000",
          "2022-09-13T00:00:00.000000000",
          "2022-09-14T00:00:00.000000000",
          "2022-09-15T00:00:00.000000000",
          "2022-09-16T00:00:00.000000000",
          "2022-09-17T00:00:00.000000000",
          "2022-09-18T00:00:00.000000000",
          "2022-09-19T00:00:00.000000000",
          "2022-09-20T00:00:00.000000000",
          "2022-09-21T00:00:00.000000000",
          "2022-09-22T00:00:00.000000000",
          "2022-09-23T00:00:00.000000000",
          "2022-09-24T00:00:00.000000000",
          "2022-09-25T00:00:00.000000000",
          "2022-09-26T00:00:00.000000000",
          "2022-09-27T00:00:00.000000000",
          "2022-09-28T00:00:00.000000000",
          "2022-09-29T00:00:00.000000000",
          "2022-09-30T00:00:00.000000000",
          "2022-10-01T00:00:00.000000000",
          "2022-10-02T00:00:00.000000000",
          "2022-10-03T00:00:00.000000000",
          "2022-10-04T00:00:00.000000000",
          "2022-10-05T00:00:00.000000000",
          "2022-10-06T00:00:00.000000000",
          "2022-10-07T00:00:00.000000000",
          "2022-10-08T00:00:00.000000000",
          "2022-10-09T00:00:00.000000000",
          "2022-10-10T00:00:00.000000000",
          "2022-10-11T00:00:00.000000000",
          "2022-10-12T00:00:00.000000000",
          "2022-10-13T00:00:00.000000000",
          "2022-10-14T00:00:00.000000000",
          "2022-10-15T00:00:00.000000000",
          "2022-10-16T00:00:00.000000000",
          "2022-10-17T00:00:00.000000000",
          "2022-10-18T00:00:00.000000000",
          "2022-10-19T00:00:00.000000000",
          "2022-10-20T00:00:00.000000000",
          "2022-10-21T00:00:00.000000000",
          "2022-10-22T00:00:00.000000000",
          "2022-10-23T00:00:00.000000000",
          "2022-10-24T00:00:00.000000000",
          "2022-10-25T00:00:00.000000000",
          "2022-10-26T00:00:00.000000000",
          "2022-10-27T00:00:00.000000000",
          "2022-10-28T00:00:00.000000000",
          "2022-10-29T00:00:00.000000000",
          "2022-10-30T00:00:00.000000000",
          "2022-10-31T00:00:00.000000000",
          "2022-11-01T00:00:00.000000000",
          "2022-11-02T00:00:00.000000000",
          "2022-11-03T00:00:00.000000000",
          "2022-11-04T00:00:00.000000000",
          "2022-11-05T00:00:00.000000000",
          "2022-11-06T00:00:00.000000000",
          "2022-11-07T00:00:00.000000000",
          "2022-11-08T00:00:00.000000000",
          "2022-11-09T00:00:00.000000000",
          "2022-11-10T00:00:00.000000000",
          "2022-11-11T00:00:00.000000000",
          "2022-11-12T00:00:00.000000000",
          "2022-11-13T00:00:00.000000000",
          "2022-11-14T00:00:00.000000000",
          "2022-11-15T00:00:00.000000000",
          "2022-11-16T00:00:00.000000000",
          "2022-11-17T00:00:00.000000000",
          "2022-11-18T00:00:00.000000000",
          "2022-11-19T00:00:00.000000000",
          "2022-11-20T00:00:00.000000000",
          "2022-11-21T00:00:00.000000000",
          "2022-11-22T00:00:00.000000000",
          "2022-11-23T00:00:00.000000000",
          "2022-11-24T00:00:00.000000000",
          "2022-11-25T00:00:00.000000000",
          "2022-11-26T00:00:00.000000000",
          "2022-11-27T00:00:00.000000000",
          "2022-11-28T00:00:00.000000000",
          "2022-11-29T00:00:00.000000000",
          "2022-11-30T00:00:00.000000000",
          "2022-12-01T00:00:00.000000000",
          "2022-12-02T00:00:00.000000000",
          "2022-12-03T00:00:00.000000000",
          "2022-12-04T00:00:00.000000000",
          "2022-12-05T00:00:00.000000000",
          "2022-12-06T00:00:00.000000000",
          "2022-12-07T00:00:00.000000000",
          "2022-12-08T00:00:00.000000000",
          "2022-12-09T00:00:00.000000000",
          "2022-12-10T00:00:00.000000000",
          "2022-12-11T00:00:00.000000000",
          "2022-12-12T00:00:00.000000000"
         ],
         "xaxis": "x5",
         "y": {
          "bdata": "z/5dAop8tz8kOOpWZKa3Pw8yIDuHrLo/PHZ1k+99vT9PlWwclxDAP6qJ6fslUsE/IIjh+j48wz9SFeDKjxrFP4C4n5gYXMY/dutESqe+xz/kffAqmrfIPzG9FZIvOck/Tw19XVB9yT+3CPPr3tfJP8N9loZNhsg/wms8uGSWxz8DjaWll0nGP/bI7jfTQMU/uVQzkfOFxD8r1aIbh27DPxjjWLKjTcQ/LwM0mJyowj9gXWar7nPDP78DzJvAMsM/UDF6mWaCwj9TbHsWpWbBPzXrHRmJzcA/picW9zrRwD/MCeEkLU3BP4H5I3+2isI/G6smUDFnxD+/ShJqxTDGP2jjvQbH7Mc/LmN4sP6eyT90BoQsQ9DKPz0Tt2l9Nss/H29PHqcyyz/e6HYBcT3LP5/mt5IHoMk/Rn6kgOA6xj/6v8HfbdDFP6geDsB/D8U/Sw+QAWeOxD9rqKnHTI7DP+L559Wog8M/cn5K3nEAwz+DMo9dhdfBP9YzFwKQMcE/UOpZvh4cwT/Xi7rmU73APzyGJU3JH8A/FJ4hmX2Lvz+FnyxvWNq+Pyv9ejjHTr4/H075b/favT+MbEIQFPm8P/7/x+St+Lw/XMAs3pzBvD8sbmJkgIC9P4N1FYTgK74//XBNdMtxvj9Ct04+vdu8P0vECryxD7w/QJsYiuMjvD+ZARrsTMW7P0AAVUzv58E/nixpWavmwz/6ko9NxI3EP+1yUzs4GcQ/uNY7zmB8wz+gLymFkEjDP4NtwJayhMI/cAFwN3w3wj+FFopWEvbBP7xMbF8xwsE/FMwqZ2eXwD9ipwGWVqO+PyyNPOKaN7s/6+//0wsmvj9wEPxQOlzBPw3oZ3ZX3sI/OeF/Vd7Uwz8c54NLh4rEP9iYTiMdIMU/SxHkOneFwj+2E2eLFtnCP3UWcXKkG8M/gmPIQAscwz/46NhjU+jCPz8noSMVncI/j/Qp+7JRwT8CoZ5qBB+/P9ieqkpMkr0/5EO5hOUAvD9oboiSxpS6P4TUn9hhfLk/sxPKQDrluD8lT136m52zP7CtjyBf17M/RiehV7j8sj+MgiXBRBayP01lfz+wFrE/ky0fXMDsrz9PhY7kvpepP8Xi9AwmTqw/WrH5b1sXrz8TxxDlXxewP1xqBMWCebE/s5U58o3qsj8g9+9QIz60P+DTgq1chrQ/",
          "dtype": "f8"
         },
         "yaxis": "y5"
        },
        {
         "name": "RSI30",
         "type": "scatter",
         "x": [
          "2022-08-24T00:00:00.000000000",
          "2022-08-25T00:00:00.000000000",
          "2022-08-26T00:00:00.000000000",
          "2022-08-27T00:00:00.000000000",
          "2022-08-28T00:00:00.000000000",
          "2022-08-29T00:00:00.000000000",
          "2022-08-30T00:00:00.000000000",
          "2022-08-31T00:00:00.000000000",
          "2022-09-01T00:00:00.000000000",
          "2022-09-02T00:00:00.000000000",
          "2022-09-03T00:00:00.000000000",
          "2022-09-04T00:00:00.000000000",
          "2022-09-05T00:00:00.000000000",
          "2022-09-06T00:00:00.000000000",
          "2022-09-07T00:00:00.000000000",
          "2022-09-08T00:00:00.000000000",
          "2022-09-09T00:00:00.000000000",
          "2022-09-10T00:00:00.000000000",
          "2022-09-11T00:00:00.000000000",
          "2022-09-12T00:00:00.000000000",
          "2022-09-13T00:00:00.000000000",
          "2022-09-14T00:00:00.000000000",
          "2022-09-15T00:00:00.000000000",
          "2022-09-16T00:00:00.000000000",
          "2022-09-17T00:00:00.000000000",
          "2022-09-18T00:00:00.000000000",
          "2022-09-19T00:00:00.000000000",
          "2022-09-20T00:00:00.000000000",
          "2022-09-21T00:00:00.000000000",
          "2022-09-22T00:00:00.000000000",
          "2022-09-23T00:00:00.000000000",
          "2022-09-24T00:00:00.000000000",
          "2022-09-25T00:00:00.000000000",
          "2022-09-26T00:00:00.000000000",
          "2022-09-27T00:00:00.000000000",
          "2022-09-28T00:00:00.000000000",
          "2022-09-29T00:00:00.000000000",
          "2022-09-30T00:00:00.000000000",
          "2022-10-01T00:00:00.000000000",
          "2022-10-02T00:00:00.000000000",
          "2022-10-03T00:00:00.000000000",
          "2022-10-04T00:00:00.000000000",
          "2022-10-05T00:00:00.000000000",
          "2022-10-06T00:00:00.000000000",
          "2022-10-07T00:00:00.000000000",
          "2022-10-08T00:00:00.000000000",
          "2022-10-09T00:00:00.000000000",
          "2022-10-10T00:00:00.000000000",
          "2022-10-11T00:00:00.000000000",
          "2022-10-12T00:00:00.000000000",
          "2022-10-13T00:00:00.000000000",
          "2022-10-14T00:00:00.000000000",
          "2022-10-15T00:00:00.000000000",
          "2022-10-16T00:00:00.000000000",
          "2022-10-17T00:00:00.000000000",
          "2022-10-18T00:00:00.000000000",
          "2022-10-19T00:00:00.000000000",
          "2022-10-20T00:00:00.000000000",
          "2022-10-21T00:00:00.000000000",
          "2022-10-22T00:00:00.000000000",
          "2022-10-23T00:00:00.000000000",
          "2022-10-24T00:00:00.000000000",
          "2022-10-25T00:00:00.000000000",
          "2022-10-26T00:00:00.000000000",
          "2022-10-27T00:00:00.000000000",
          "2022-10-28T00:00:00.000000000",
          "2022-10-29T00:00:00.000000000",
          "2022-10-30T00:00:00.000000000",
          "2022-10-31T00:00:00.000000000",
          "2022-11-01T00:00:00.000000000",
          "2022-11-02T00:00:00.000000000",
          "2022-11-03T00:00:00.000000000",
          "2022-11-04T00:00:00.000000000",
          "2022-11-05T00:00:00.000000000",
          "2022-11-06T00:00:00.000000000",
          "2022-11-07T00:00:00.000000000",
          "2022-11-08T00:00:00.000000000",
          "2022-11-09T00:00:00.000000000",
          "2022-11-10T00:00:00.000000000",
          "2022-11-11T00:00:00.000000000",
          "2022-11-12T00:00:00.000000000",
          "2022-11-13T00:00:00.000000000",
          "2022-11-14T00:00:00.000000000",
          "2022-11-15T00:00:00.000000000",
          "2022-11-16T00:00:00.000000000",
          "2022-11-17T00:00:00.000000000",
          "2022-11-18T00:00:00.000000000",
          "2022-11-19T00:00:00.000000000",
          "2022-11-20T00:00:00.000000000",
          "2022-11-21T00:00:00.000000000",
          "2022-11-22T00:00:00.000000000",
          "2022-11-23T00:00:00.000000000",
          "2022-11-24T00:00:00.000000000",
          "2022-11-25T00:00:00.000000000",
          "2022-11-26T00:00:00.000000000",
          "2022-11-27T00:00:00.000000000",
          "2022-11-28T00:00:00.000000000",
          "2022-11-29T00:00:00.000000000",
          "2022-11-30T00:00:00.000000000",
          "2022-12-01T00:00:00.000000000",
          "2022-12-02T00:00:00.000000000",
          "2022-12-03T00:00:00.000000000",
          "2022-12-04T00:00:00.000000000",
          "2022-12-05T00:00:00.000000000",
          "2022-12-06T00:00:00.000000000",
          "2022-12-07T00:00:00.000000000",
          "2022-12-08T00:00:00.000000000",
          "2022-12-09T00:00:00.000000000",
          "2022-12-10T00:00:00.000000000",
          "2022-12-11T00:00:00.000000000",
          "2022-12-12T00:00:00.000000000"
         ],
         "xaxis": "x6",
         "y": {
          "bdata": "kWMCMEuOQkCWXAiklvNEQAAA3GV0wUJAotHZ0UmSQkDrMI8AdmJCQMCjUYv8MUJAWorChspMQUB0g0GD395AQApaxGhQq0BA9oAoQZEAQED05q+FTHw/QLB07iVX9z5AADXG61VyPkCc5OhmXO09QPzmj+92jj9AwHuerEwPQEB0qCljWv5BQFPbp8/2FEJAjykTUDksQkBhQaiSJURCQEwR9GFhRT5ArHM0y10DPkAw8Aevojc9QEQXxtQcbj9A0GhHkzjMP0CchkheQhZAQIBr0TeDR0BAUNZQVxo9P0BM856IxfQ9QFSK4A7M8zxAtHeMEZiiO0DAfIwxUjU7QAQZcMXGxzpA3A+0tQVaOkDY0EYGnyk6QFSeWfFXxTtAvOHggazxOUB4wbW9WZU4QJxjtEqcLDtA1JCGjW6sPUAsoL7p1wpAQNgS6OpTG0JAKp7ikn0DQkCydsN+yE5BQAS1ch9iqz5AePGPfPo+PkCMHGD58NE9QPDAx1ZUZD1A1OLK8o7+PEAgGir+JMA+QIISpAW4aUJA8m8fQrWpQUDDVuCUYBxCQG3peXO0j0JAQWvKN6EDQ0BMANWpxCNCQMa3bk13fkJAQWqlXSm3QkB+ualWkg5FQMUQdj5rO0VA7uEjsz5pRUD/Af0IDphFQJbT3K/HMkZAP/R/IQ7IRUBlyXxMgPVDQEs+GOfiHUpAvwq7TJazSUDm5XstH0lJQE1o3yCN3khAHzRtmCedSEA0ZB+5U/ZGQOu1n9Ny6EZAV609HoGVSECLD4FxSrlIQEjqMTrm3UhA2az9O1YDSUAw32kPnClJQNTEmd6XMUdAu/qJscNzS0DmS0ufNIJMQCX5RmwndExA1VrQuqxlTEC+NuCxwVZMQC1WO3U/8UxAG5p16rhxSkA98I9doxFLQFWhHfwXB0tA60jzAkliSkCkGSVl279JQJncymbZH0lAR3vpqZPHSkA3BC/vEnhKQD4roZzRH0pAsLo8TejGSUBYEXGr7lhJQAbh1vr06khAw0Y3Zwt9SEDIGHt58dxIQMMypd4CPktANIq+CLO0SkAujhcQZslJQMwG/m7unElAvRyNiI5vSUA6kFUPRkFJQIohffFr/0dACVReviBtR0DO1TV3ubBHQBzftm51QUdA3hlk6hoqR0BrgrJmIxJHQOch6kmM+UZA",
          "dtype": "f8"
         },
         "yaxis": "y6"
        },
        {
         "name": "RSI14",
         "type": "scatter",
         "x": [
          "2022-08-24T00:00:00.000000000",
          "2022-08-25T00:00:00.000000000",
          "2022-08-26T00:00:00.000000000",
          "2022-08-27T00:00:00.000000000",
          "2022-08-28T00:00:00.000000000",
          "2022-08-29T00:00:00.000000000",
          "2022-08-30T00:00:00.000000000",
          "2022-08-31T00:00:00.000000000",
          "2022-09-01T00:00:00.000000000",
          "2022-09-02T00:00:00.000000000",
          "2022-09-03T00:00:00.000000000",
          "2022-09-04T00:00:00.000000000",
          "2022-09-05T00:00:00.000000000",
          "2022-09-06T00:00:00.000000000",
          "2022-09-07T00:00:00.000000000",
          "2022-09-08T00:00:00.000000000",
          "2022-09-09T00:00:00.000000000",
          "2022-09-10T00:00:00.000000000",
          "2022-09-11T00:00:00.000000000",
          "2022-09-12T00:00:00.000000000",
          "2022-09-13T00:00:00.000000000",
          "2022-09-14T00:00:00.000000000",
          "2022-09-15T00:00:00.000000000",
          "2022-09-16T00:00:00.000000000",
          "2022-09-17T00:00:00.000000000",
          "2022-09-18T00:00:00.000000000",
          "2022-09-19T00:00:00.000000000",
          "2022-09-20T00:00:00.000000000",
          "2022-09-21T00:00:00.000000000",
          "2022-09-22T00:00:00.000000000",
          "2022-09-23T00:00:00.000000000",
          "2022-09-24T00:00:00.000000000",
          "2022-09-25T00:00:00.000000000",
          "2022-09-26T00:00:00.000000000",
          "2022-09-27T00:00:00.000000000",
          "2022-09-28T00:00:00.000000000",
          "2022-09-29T00:00:00.000000000",
          "2022-09-30T00:00:00.000000000",
          "2022-10-01T00:00:00.000000000",
          "2022-10-02T00:00:00.000000000",
          "2022-10-03T00:00:00.000000000",
          "2022-10-04T00:00:00.000000000",
          "2022-10-05T00:00:00.000000000",
          "2022-10-06T00:00:00.000000000",
          "2022-10-07T00:00:00.000000000",
          "2022-10-08T00:00:00.000000000",
          "2022-10-09T00:00:00.000000000",
          "2022-10-10T00:00:00.000000000",
          "2022-10-11T00:00:00.000000000",
          "2022-10-12T00:00:00.000000000",
          "2022-10-13T00:00:00.000000000",
          "2022-10-14T00:00:00.000000000",
          "2022-10-15T00:00:00.000000000",
          "2022-10-16T00:00:00.000000000",
          "2022-10-17T00:00:00.000000000",
          "2022-10-18T00:00:00.000000000",
          "2022-10-19T00:00:00.000000000",
          "2022-10-20T00:00:00.000000000",
          "2022-10-21T00:00:00.000000000",
          "2022-10-22T00:00:00.000000000",
          "2022-10-23T00:00:00.000000000",
          "2022-10-24T00:00:00.000000000",
          "2022-10-25T00:00:00.000000000",
          "2022-10-26T00:00:00.000000000",
          "2022-10-27T00:00:00.000000000",
          "2022-10-28T00:00:00.000000000",
          "2022-10-29T00:00:00.000000000",
          "2022-10-30T00:00:00.000000000",
          "2022-10-31T00:00:00.000000000",
          "2022-11-01T00:00:00.000000000",
          "2022-11-02T00:00:00.000000000",
          "2022-11-03T00:00:00.000000000",
          "2022-11-04T00:00:00.000000000",
          "2022-11-05T00:00:00.000000000",
          "2022-11-06T00:00:00.000000000",
          "2022-11-07T00:00:00.000000000",
          "2022-11-08T00:00:00.000000000",
          "2022-11-09T00:00:00.000000000",
          "2022-11-10T00:00:00.000000000",
          "2022-11-11T00:00:00.000000000",
          "2022-11-12T00:00:00.000000000",
          "2022-11-13T00:00:00.000000000",
          "2022-11-14T00:00:00.000000000",
          "2022-11-15T00:00:00.000000000",
          "2022-11-16T00:00:00.000000000",
          "2022-11-17T00:00:00.000000000",
          "2022-11-18T00:00:00.000000000",
          "2022-11-19T00:00:00.000000000",
          "2022-11-20T00:00:00.000000000",
          "2022-11-21T00:00:00.000000000",
          "2022-11-22T00:00:00.000000000",
          "2022-11-23T00:00:00.000000000",
          "2022-11-24T00:00:00.000000000",
          "2022-11-25T00:00:00.000000000",
          "2022-11-26T00:00:00.000000000",
          "2022-11-27T00:00:00.000000000",
          "2022-11-28T00:00:00.000000000",
          "2022-11-29T00:00:00.000000000",
          "2022-11-30T00:00:00.000000000",
          "2022-12-01T00:00:00.000000000",
          "2022-12-02T00:00:00.000000000",
          "2022-12-03T00:00:00.000000000",
          "2022-12-04T00:00:00.000000000",
          "2022-12-05T00:00:00.000000000",
          "2022-12-06T00:00:00.000000000",
          "2022-12-07T00:00:00.000000000",
          "2022-12-08T00:00:00.000000000",
          "2022-12-09T00:00:00.000000000",
          "2022-12-10T00:00:00.000000000",
          "2022-12-11T00:00:00.000000000",
          "2022-12-12T00:00:00.000000000"
         ],
         "xaxis": "x7",
         "y": {
          "bdata": "gFRwQu6bP0DrV/KKGoZFQDjAR5cI+0BAABYC03SiQEB6V9MKBEdAQFQhZOOq0T9A6PRdhXd0PEB47Ej5G+w6QCBL9cP5NDpAVIc33BrmN0BU0kmpeQc3QMB8vR8oKTZA8HjErsFLNUCIs4g13280QMiMnkwj1zhAUM9rUZ9aOkCQrpmRKhdCQD/U4XToTUJAnHV7yguIQkCy2pdNu8VCQPhkqnYJCzhAYGEgbKeZN0BoamDWmDw2QJR1JvFoijtAGKTzgcBqPEDQbCVJXFY9QESfd+poTT5AjOfEOptmO0CIM1O/hco4QNRIwXkw4DZAaN8/uf6GNECsjyMsOMwzQDg5qZRgETNAsA4LDvtWMkAkrPqsNwQyQBCUIrgbbzZAxOgpGYf9MkDcd1VzWr0wQMj9F1V/KzdAJE4nAL8RPUAG2lv5TD5BQFtXZNrGhEVAboVYjtxFRUBejLfnmXBDQMy9RqyqCD5AvJBjRlUvPUBc2U7FnVI8QJwUkz0OcztADJm/PxOiOkBgAzE+h6g+QHadBE4roUVAlNU3Yq/QQ0DvLN9YkrJEQBMSngOEl0VAZD7xg/B+RkAF6BnxKEBEQNMfyBHZ/ERAChSW/tN0RUA+KhIZvBVKQC4w9VqvaEpAy4Tm0Ym/SkCtaZZUUhpLQDHJvsd0RkxAdLfA1UH7SkCUcqXVZehFQMg6o24hPVBA5XPEFkWBT0BB3M5TSIVOQGNXqJvyhk1AFwCbcdnoTEDpz8K+uRVJQMhqfjmv9khANJ8WmH4MTEDpVLQDNkxMQDSEo3s7j0xALB6swJ/VTEC+38lUcB9NQHdNiVylPkhAD68s+bvfT0BMRkPf9rlQQMZnZ2gJqlBAzk+qFASZUEB6BAtL1oZQQJZ/NxbcBVFAnIY+y7s2TEDQvkw+5l9NQEjJZV4BSE1AGcZixmzOS0AKB9SPJmBKQBDZkEqk/UhAlPp8TCFzTEAtvOofzb5LQOYVgvhn9EpAtB1aKfUmSkDdyyTqeShJQLqwMUA0K0hAVj2GWNIvR0DZD9RpECJIQMFe5BIGf01AefGN9lE0TEAt33kMzg1KQMOfqGIYp0lAF2vr/vY7SUCj7Ypeb8xIQJCz0aXP5UVAKSoaPSKqREBiefbTNF9FQOdsQgaNaERANWAaWHE0RECzSFr0ef1DQDFzStOSw0NA",
          "dtype": "f8"
         },
         "yaxis": "y7"
        },
        {
         "name": "ADX",
         "type": "scatter",
         "x": [
          "2022-08-24T00:00:00.000000000",
          "2022-08-25T00:00:00.000000000",
          "2022-08-26T00:00:00.000000000",
          "2022-08-27T00:00:00.000000000",
          "2022-08-28T00:00:00.000000000",
          "2022-08-29T00:00:00.000000000",
          "2022-08-30T00:00:00.000000000",
          "2022-08-31T00:00:00.000000000",
          "2022-09-01T00:00:00.000000000",
          "2022-09-02T00:00:00.000000000",
          "2022-09-03T00:00:00.000000000",
          "2022-09-04T00:00:00.000000000",
          "2022-09-05T00:00:00.000000000",
          "2022-09-06T00:00:00.000000000",
          "2022-09-07T00:00:00.000000000",
          "2022-09-08T00:00:00.000000000",
          "2022-09-09T00:00:00.000000000",
          "2022-09-10T00:00:00.000000000",
          "2022-09-11T00:00:00.000000000",
          "2022-09-12T00:00:00.000000000",
          "2022-09-13T00:00:00.000000000",
          "2022-09-14T00:00:00.000000000",
          "2022-09-15T00:00:00.000000000",
          "2022-09-16T00:00:00.000000000",
          "2022-09-17T00:00:00.000000000",
          "2022-09-18T00:00:00.000000000",
          "2022-09-19T00:00:00.000000000",
          "2022-09-20T00:00:00.000000000",
          "2022-09-21T00:00:00.000000000",
          "2022-09-22T00:00:00.000000000",
          "2022-09-23T00:00:00.000000000",
          "2022-09-24T00:00:00.000000000",
          "2022-09-25T00:00:00.000000000",
          "2022-09-26T00:00:00.000000000",
          "2022-09-27T00:00:00.000000000",
          "2022-09-28T00:00:00.000000000",
          "2022-09-29T00:00:00.000000000",
          "2022-09-30T00:00:00.000000000",
          "2022-10-01T00:00:00.000000000",
          "2022-10-02T00:00:00.000000000",
          "2022-10-03T00:00:00.000000000",
          "2022-10-04T00:00:00.000000000",
          "2022-10-05T00:00:00.000000000",
          "2022-10-06T00:00:00.000000000",
          "2022-10-07T00:00:00.000000000",
          "2022-10-08T00:00:00.000000000",
          "2022-10-09T00:00:00.000000000",
          "2022-10-10T00:00:00.000000000",
          "2022-10-11T00:00:00.000000000",
          "2022-10-12T00:00:00.000000000",
          "2022-10-13T00:00:00.000000000",
          "2022-10-14T00:00:00.000000000",
          "2022-10-15T00:00:00.000000000",
          "2022-10-16T00:00:00.000000000",
          "2022-10-17T00:00:00.000000000",
          "2022-10-18T00:00:00.000000000",
          "2022-10-19T00:00:00.000000000",
          "2022-10-20T00:00:00.000000000",
          "2022-10-21T00:00:00.000000000",
          "2022-10-22T00:00:00.000000000",
          "2022-10-23T00:00:00.000000000",
          "2022-10-24T00:00:00.000000000",
          "2022-10-25T00:00:00.000000000",
          "2022-10-26T00:00:00.000000000",
          "2022-10-27T00:00:00.000000000",
          "2022-10-28T00:00:00.000000000",
          "2022-10-29T00:00:00.000000000",
          "2022-10-30T00:00:00.000000000",
          "2022-10-31T00:00:00.000000000",
          "2022-11-01T00:00:00.000000000",
          "2022-11-02T00:00:00.000000000",
          "2022-11-03T00:00:00.000000000",
          "2022-11-04T00:00:00.000000000",
          "2022-11-05T00:00:00.000000000",
          "2022-11-06T00:00:00.000000000",
          "2022-11-07T00:00:00.000000000",
          "2022-11-08T00:00:00.000000000",
          "2022-11-09T00:00:00.000000000",
          "2022-11-10T00:00:00.000000000",
          "2022-11-11T00:00:00.000000000",
          "2022-11-12T00:00:00.000000000",
          "2022-11-13T00:00:00.000000000",
          "2022-11-14T00:00:00.000000000",
          "2022-11-15T00:00:00.000000000",
          "2022-11-16T00:00:00.000000000",
          "2022-11-17T00:00:00.000000000",
          "2022-11-18T00:00:00.000000000",
          "2022-11-19T00:00:00.000000000",
          "2022-11-20T00:00:00.000000000",
          "2022-11-21T00:00:00.000000000",
          "2022-11-22T00:00:00.000000000",
          "2022-11-23T00:00:00.000000000",
          "2022-11-24T00:00:00.000000000",
          "2022-11-25T00:00:00.000000000",
          "2022-11-26T00:00:00.000000000",
          "2022-11-27T00:00:00.000000000",
          "2022-11-28T00:00:00.000000000",
          "2022-11-29T00:00:00.000000000",
          "2022-11-30T00:00:00.000000000",
          "2022-12-01T00:00:00.000000000",
          "2022-12-02T00:00:00.000000000",
          "2022-12-03T00:00:00.000000000",
          "2022-12-04T00:00:00.000000000",
          "2022-12-05T00:00:00.000000000",
          "2022-12-06T00:00:00.000000000",
          "2022-12-07T00:00:00.000000000",
          "2022-12-08T00:00:00.000000000",
          "2022-12-09T00:00:00.000000000",
          "2022-12-10T00:00:00.000000000",
          "2022-12-11T00:00:00.000000000",
          "2022-12-12T00:00:00.000000000"
         ],
         "xaxis": "x8",
         "y": {
          "bdata": "dvIUSXzxOECA/KKJLV84QFMcIS80YThAv5GOi+yUOEA9PFDwv/Y4QOoubm02gzlA6YzKPAWpOkCbNBVZBws8QObGYFVUyz1AwF0JrXF8PkCC7LrxAkg/QGufMyYWFkBAvcZCNYyTQEDiIOUefBtBQIgeWmyvtkFAO2BR4/tUQkDnINxjeihCQDuYGccr30FA5kxLa4F6QUBKMZZA5ftAQA7jk6kLcUFADqCFn/zyQUAuOBp9YoVCQDkdiYhCJUNAyKjczcioQ0A6S+j/IBFEQPA9++JdX0RA0f9A9ba8REC3tlHnxy1FQCltRYNgv0VAZjMzfbGIRkDW8wtTEUtHQCMHMHMvB0hAzeyaFau9SECpIvX/8XdJQLcKSDhVJkpAR++FZDLkSkDnVNEB965LQDh9pE+gEkxAVeGHVQkaTEDdbqkeS89LQHDsPS/C2kpA1V52I5wESkCg7fPzwT1JQPmuHlGNN0lACW/BDShESUBKLRJnEGJJQDgvEx3Uj0lATw8kAoXeSUAfE9d4pRlKQJ1RpSUa4khAEmeJoc/AR0CKLHQNp6pGQKh8SN1InkVAIrbeXHGaREDGOjeVdRpEQBX/rRKeo0NAmcYVGqh9QkAWRzendIxBQN/inUNDiUBAKgh2xZjqPkCFPPWW88Y8QFoOE/tQ8jpA3RDMINO0OUAbonhoc8g4QFeM4asDeDhAaornxVItOEB7Pzan9+c3QHmekcGQpzdA/dP5R34ZN0DNdfeeRbE1QLVU3RscTjRAGAfEInpJM0CqfvB07nYyQMgTvDMN1DFAKvzrNo9eMUDnzagebrUxQFceGuh/JjFAwntjNoNRMkDL8nvoXRU0QNplulOC0DVAuq2l3jWEN0ASIWfzmzE5QC2Foa3RBjtAEwwF5C43O0BC/G6LB546QG67FVpEaDpAEyq8Ih/OOUBF4Z9H+9g4QE3XPN3DkTdApnxc3JKVNkDiAiztAvw1QD/JncmeSDVA+TXahtZ7NEBrBCctrTczQKCZDZuRIzJAwEIGKgGZMUDwKO13VhgxQCH0zwaowzBAr8B1+RwGMUAoe6VF6rAvQIi+dpKygC1AqMcD1vDRK0AL6vdkfJ0qQDO/H5Pb0SlAa50CmgurKUA5mTUU0sYpQABVsAt5IilAnqW+2ivsKED2WqzyXB0pQKraqgq2rylA",
          "dtype": "f8"
         },
         "yaxis": "y8"
        }
       ],
       "layout": {
        "autosize": false,
        "height": 1500,
        "margin": {
         "b": 30,
         "l": 30,
         "pad": 3,
         "r": 30,
         "t": 30
        },
        "paper_bgcolor": "White",
        "template": {
         "data": {
          "bar": [
           {
            "error_x": {
             "color": "#2a3f5f"
            },
            "error_y": {
             "color": "#2a3f5f"
            },
            "marker": {
             "line": {
              "color": "#E5ECF6",
              "width": 0.5
             },
             "pattern": {
              "fillmode": "overlay",
              "size": 10,
              "solidity": 0.2
             }
            },
            "type": "bar"
           }
          ],
          "barpolar": [
           {
            "marker": {
             "line": {
              "color": "#E5ECF6",
              "width": 0.5
             },
             "pattern": {
              "fillmode": "overlay",
              "size": 10,
              "solidity": 0.2
             }
            },
            "type": "barpolar"
           }
          ],
          "carpet": [
           {
            "aaxis": {
             "endlinecolor": "#2a3f5f",
             "gridcolor": "white",
             "linecolor": "white",
             "minorgridcolor": "white",
             "startlinecolor": "#2a3f5f"
            },
            "baxis": {
             "endlinecolor": "#2a3f5f",
             "gridcolor": "white",
             "linecolor": "white",
             "minorgridcolor": "white",
             "startlinecolor": "#2a3f5f"
            },
            "type": "carpet"
           }
          ],
          "choropleth": [
           {
            "colorbar": {
             "outlinewidth": 0,
             "ticks": ""
            },
            "type": "choropleth"
           }
          ],
          "contour": [
           {
            "colorbar": {
             "outlinewidth": 0,
             "ticks": ""
            },
            "colorscale": [
             [
              0,
              "#0d0887"
             ],
             [
              0.1111111111111111,
              "#46039f"
             ],
             [
              0.2222222222222222,
              "#7201a8"
             ],
             [
              0.3333333333333333,
              "#9c179e"
             ],
             [
              0.4444444444444444,
              "#bd3786"
             ],
             [
              0.5555555555555556,
              "#d8576b"
             ],
             [
              0.6666666666666666,
              "#ed7953"
             ],
             [
              0.7777777777777778,
              "#fb9f3a"
             ],
             [
              0.8888888888888888,
              "#fdca26"
             ],
             [
              1,
              "#f0f921"
             ]
            ],
            "type": "contour"
           }
          ],
          "contourcarpet": [
           {
            "colorbar": {
             "outlinewidth": 0,
             "ticks": ""
            },
            "type": "contourcarpet"
           }
          ],
          "heatmap": [
           {
            "colorbar": {
             "outlinewidth": 0,
             "ticks": ""
            },
            "colorscale": [
             [
              0,
              "#0d0887"
             ],
             [
              0.1111111111111111,
              "#46039f"
             ],
             [
              0.2222222222222222,
              "#7201a8"
             ],
             [
              0.3333333333333333,
              "#9c179e"
             ],
             [
              0.4444444444444444,
              "#bd3786"
             ],
             [
              0.5555555555555556,
              "#d8576b"
             ],
             [
              0.6666666666666666,
              "#ed7953"
             ],
             [
              0.7777777777777778,
              "#fb9f3a"
             ],
             [
              0.8888888888888888,
              "#fdca26"
             ],
             [
              1,
              "#f0f921"
             ]
            ],
            "type": "heatmap"
           }
          ],
          "histogram": [
           {
            "marker": {
             "pattern": {
              "fillmode": "overlay",
              "size": 10,
              "solidity": 0.2
             }
            },
            "type": "histogram"
           }
          ],
          "histogram2d": [
           {
            "colorbar": {
             "outlinewidth": 0,
             "ticks": ""
            },
            "colorscale": [
             [
              0,
              "#0d0887"
             ],
             [
              0.1111111111111111,
              "#46039f"
             ],
             [
              0.2222222222222222,
              "#7201a8"
             ],
             [
              0.3333333333333333,
              "#9c179e"
             ],
             [
              0.4444444444444444,
              "#bd3786"
             ],
             [
              0.5555555555555556,
              "#d8576b"
             ],
             [
              0.6666666666666666,
              "#ed7953"
             ],
             [
              0.7777777777777778,
              "#fb9f3a"
             ],
             [
              0.8888888888888888,
              "#fdca26"
             ],
             [
              1,
              "#f0f921"
             ]
            ],
            "type": "histogram2d"
           }
          ],
          "histogram2dcontour": [
           {
            "colorbar": {
             "outlinewidth": 0,
             "ticks": ""
            },
            "colorscale": [
             [
              0,
              "#0d0887"
             ],
             [
              0.1111111111111111,
              "#46039f"
             ],
             [
              0.2222222222222222,
              "#7201a8"
             ],
             [
              0.3333333333333333,
              "#9c179e"
             ],
             [
              0.4444444444444444,
              "#bd3786"
             ],
             [
              0.5555555555555556,
              "#d8576b"
             ],
             [
              0.6666666666666666,
              "#ed7953"
             ],
             [
              0.7777777777777778,
              "#fb9f3a"
             ],
             [
              0.8888888888888888,
              "#fdca26"
             ],
             [
              1,
              "#f0f921"
             ]
            ],
            "type": "histogram2dcontour"
           }
          ],
          "mesh3d": [
           {
            "colorbar": {
             "outlinewidth": 0,
             "ticks": ""
            },
            "type": "mesh3d"
           }
          ],
          "parcoords": [
           {
            "line": {
             "colorbar": {
              "outlinewidth": 0,
              "ticks": ""
             }
            },
            "type": "parcoords"
           }
          ],
          "pie": [
           {
            "automargin": true,
            "type": "pie"
           }
          ],
          "scatter": [
           {
            "fillpattern": {
             "fillmode": "overlay",
             "size": 10,
             "solidity": 0.2
            },
            "type": "scatter"
           }
          ],
          "scatter3d": [
           {
            "line": {
             "colorbar": {
              "outlinewidth": 0,
              "ticks": ""
             }
            },
            "marker": {
             "colorbar": {
              "outlinewidth": 0,
              "ticks": ""
             }
            },
            "type": "scatter3d"
           }
          ],
          "scattercarpet": [
           {
            "marker": {
             "colorbar": {
              "outlinewidth": 0,
              "ticks": ""
             }
            },
            "type": "scattercarpet"
           }
          ],
          "scattergeo": [
           {
            "marker": {
             "colorbar": {
              "outlinewidth": 0,
              "ticks": ""
             }
            },
            "type": "scattergeo"
           }
          ],
          "scattergl": [
           {
            "marker": {
             "colorbar": {
              "outlinewidth": 0,
              "ticks": ""
             }
            },
            "type": "scattergl"
           }
          ],
          "scattermap": [
           {
            "marker": {
             "colorbar": {
              "outlinewidth": 0,
              "ticks": ""
             }
            },
            "type": "scattermap"
           }
          ],
          "scattermapbox": [
           {
            "marker": {
             "colorbar": {
              "outlinewidth": 0,
              "ticks": ""
             }
            },
            "type": "scattermapbox"
           }
          ],
          "scatterpolar": [
           {
            "marker": {
             "colorbar": {
              "outlinewidth": 0,
              "ticks": ""
             }
            },
            "type": "scatterpolar"
           }
          ],
          "scatterpolargl": [
           {
            "marker": {
             "colorbar": {
              "outlinewidth": 0,
              "ticks": ""
             }
            },
            "type": "scatterpolargl"
           }
          ],
          "scatterternary": [
           {
            "marker": {
             "colorbar": {
              "outlinewidth": 0,
              "ticks": ""
             }
            },
            "type": "scatterternary"
           }
          ],
          "surface": [
           {
            "colorbar": {
             "outlinewidth": 0,
             "ticks": ""
            },
            "colorscale": [
             [
              0,
              "#0d0887"
             ],
             [
              0.1111111111111111,
              "#46039f"
             ],
             [
              0.2222222222222222,
              "#7201a8"
             ],
             [
              0.3333333333333333,
              "#9c179e"
             ],
             [
              0.4444444444444444,
              "#bd3786"
             ],
             [
              0.5555555555555556,
              "#d8576b"
             ],
             [
              0.6666666666666666,
              "#ed7953"
             ],
             [
              0.7777777777777778,
              "#fb9f3a"
             ],
             [
              0.8888888888888888,
              "#fdca26"
             ],
             [
              1,
              "#f0f921"
             ]
            ],
            "type": "surface"
           }
          ],
          "table": [
           {
            "cells": {
             "fill": {
              "color": "#EBF0F8"
             },
             "line": {
              "color": "white"
             }
            },
            "header": {
             "fill": {
              "color": "#C8D4E3"
             },
             "line": {
              "color": "white"
             }
            },
            "type": "table"
           }
          ]
         },
         "layout": {
          "annotationdefaults": {
           "arrowcolor": "#2a3f5f",
           "arrowhead": 0,
           "arrowwidth": 1
          },
          "autotypenumbers": "strict",
          "coloraxis": {
           "colorbar": {
            "outlinewidth": 0,
            "ticks": ""
           }
          },
          "colorscale": {
           "diverging": [
            [
             0,
             "#8e0152"
            ],
            [
             0.1,
             "#c51b7d"
            ],
            [
             0.2,
             "#de77ae"
            ],
            [
             0.3,
             "#f1b6da"
            ],
            [
             0.4,
             "#fde0ef"
            ],
            [
             0.5,
             "#f7f7f7"
            ],
            [
             0.6,
             "#e6f5d0"
            ],
            [
             0.7,
             "#b8e186"
            ],
            [
             0.8,
             "#7fbc41"
            ],
            [
             0.9,
             "#4d9221"
            ],
            [
             1,
             "#276419"
            ]
           ],
           "sequential": [
            [
             0,
             "#0d0887"
            ],
            [
             0.1111111111111111,
             "#46039f"
            ],
            [
             0.2222222222222222,
             "#7201a8"
            ],
            [
             0.3333333333333333,
             "#9c179e"
            ],
            [
             0.4444444444444444,
             "#bd3786"
            ],
            [
             0.5555555555555556,
             "#d8576b"
            ],
            [
             0.6666666666666666,
             "#ed7953"
            ],
            [
             0.7777777777777778,
             "#fb9f3a"
            ],
            [
             0.8888888888888888,
             "#fdca26"
            ],
            [
             1,
             "#f0f921"
            ]
           ],
           "sequentialminus": [
            [
             0,
             "#0d0887"
            ],
            [
             0.1111111111111111,
             "#46039f"
            ],
            [
             0.2222222222222222,
             "#7201a8"
            ],
            [
             0.3333333333333333,
             "#9c179e"
            ],
            [
             0.4444444444444444,
             "#bd3786"
            ],
            [
             0.5555555555555556,
             "#d8576b"
            ],
            [
             0.6666666666666666,
             "#ed7953"
            ],
            [
             0.7777777777777778,
             "#fb9f3a"
            ],
            [
             0.8888888888888888,
             "#fdca26"
            ],
            [
             1,
             "#f0f921"
            ]
           ]
          },
          "colorway": [
           "#636efa",
           "#EF553B",
           "#00cc96",
           "#ab63fa",
           "#FFA15A",
           "#19d3f3",
           "#FF6692",
           "#B6E880",
           "#FF97FF",
           "#FECB52"
          ],
          "font": {
           "color": "#2a3f5f"
          },
          "geo": {
           "bgcolor": "white",
           "lakecolor": "white",
           "landcolor": "#E5ECF6",
           "showlakes": true,
           "showland": true,
           "subunitcolor": "white"
          },
          "hoverlabel": {
           "align": "left"
          },
          "hovermode": "closest",
          "mapbox": {
           "style": "light"
          },
          "paper_bgcolor": "rgba(0,0,0,0)",
          "plot_bgcolor": "rgba(250,250,250,0.8)",
          "polar": {
           "angularaxis": {
            "gridcolor": "white",
            "linecolor": "white",
            "ticks": ""
           },
           "bgcolor": "#E5ECF6",
           "radialaxis": {
            "gridcolor": "white",
            "linecolor": "white",
            "ticks": ""
           }
          },
          "scene": {
           "xaxis": {
            "backgroundcolor": "#E5ECF6",
            "gridcolor": "white",
            "gridwidth": 2,
            "linecolor": "white",
            "showbackground": true,
            "ticks": "",
            "zerolinecolor": "white"
           },
           "yaxis": {
            "backgroundcolor": "#E5ECF6",
            "gridcolor": "white",
            "gridwidth": 2,
            "linecolor": "white",
            "showbackground": true,
            "ticks": "",
            "zerolinecolor": "white"
           },
           "zaxis": {
            "backgroundcolor": "#E5ECF6",
            "gridcolor": "white",
            "gridwidth": 2,
            "linecolor": "white",
            "showbackground": true,
            "ticks": "",
            "zerolinecolor": "white"
           }
          },
          "shapedefaults": {
           "line": {
            "color": "#2a3f5f"
           }
          },
          "ternary": {
           "aaxis": {
            "gridcolor": "white",
            "linecolor": "white",
            "ticks": ""
           },
           "baxis": {
            "gridcolor": "white",
            "linecolor": "white",
            "ticks": ""
           },
           "bgcolor": "#E5ECF6",
           "caxis": {
            "gridcolor": "white",
            "linecolor": "white",
            "ticks": ""
           }
          },
          "title": {
           "x": 0.05
          },
          "xaxis": {
           "automargin": true,
           "gridcolor": "white",
           "linecolor": "white",
           "ticks": "",
           "title": {
            "standoff": 15
           },
           "zerolinecolor": "white",
           "zerolinewidth": 2
          },
          "yaxis": {
           "automargin": true,
           "gridcolor": "white",
           "linecolor": "white",
           "ticks": "",
           "title": {
            "standoff": 15
           },
           "zerolinecolor": "white",
           "zerolinewidth": 2
          }
         }
        },
        "width": 1500,
        "xaxis": {
         "anchor": "y",
         "domain": [
          0,
          1
         ]
        },
        "xaxis2": {
         "anchor": "y2",
         "domain": [
          0,
          1
         ]
        },
        "xaxis3": {
         "anchor": "y3",
         "domain": [
          0,
          1
         ]
        },
        "xaxis4": {
         "anchor": "y4",
         "domain": [
          0,
          1
         ]
        },
        "xaxis5": {
         "anchor": "y5",
         "domain": [
          0,
          1
         ]
        },
        "xaxis6": {
         "anchor": "y6",
         "domain": [
          0,
          1
         ]
        },
        "xaxis7": {
         "anchor": "y7",
         "domain": [
          0,
          1
         ]
        },
        "xaxis8": {
         "anchor": "y8",
         "domain": [
          0,
          1
         ]
        },
        "yaxis": {
         "anchor": "x",
         "domain": [
          0.9078124999999999,
          0.9999999999999999
         ]
        },
        "yaxis2": {
         "anchor": "x2",
         "domain": [
          0.778125,
          0.8703124999999999
         ]
        },
        "yaxis3": {
         "anchor": "x3",
         "domain": [
          0.6484375,
          0.740625
         ]
        },
        "yaxis4": {
         "anchor": "x4",
         "domain": [
          0.51875,
          0.6109375
         ]
        },
        "yaxis5": {
         "anchor": "x5",
         "domain": [
          0.38906250000000003,
          0.48125000000000007
         ]
        },
        "yaxis6": {
         "anchor": "x6",
         "domain": [
          0.259375,
          0.3515625
         ]
        },
        "yaxis7": {
         "anchor": "x7",
         "domain": [
          0.1296875,
          0.22187500000000002
         ]
        },
        "yaxis8": {
         "anchor": "x8",
         "domain": [
          0,
          0.0921875
         ]
        }
       }
      }
     },
     "metadata": {},
     "output_type": "display_data"
    }
   ],
   "source": [
    "start = 15500\n",
    "# vdf = df\n",
    "vdf = df[start:start+200]\n",
    "\n",
    "fig = make_subplots(rows=8, cols=1)\n",
    "fig.add_trace(go.Scatter(x=vdf.Date, y=vdf.Close, name='Close'), row=1, col=1)\n",
    "fig.add_trace(go.Scatter(x=vdf.Date, y=vdf.HB, name='Bollinger High Band'), row=1, col=1)\n",
    "fig.add_trace(go.Scatter(x=vdf.Date, y=vdf.LB, name='Bollinger Low Band'), row=1, col=1)\n",
    "# fig.add_trace(go.Scatter(x=vdf.Date, y=vdf.MB, name='Bollinger Middle Band'), row=1, col=1)\n",
    "fig.add_trace(go.Scatter(x=vdf.Date, y=vdf.SMA5, name='SMA5'), row=2, col=1)\n",
    "fig.add_trace(go.Scatter(x=vdf.Date, y=vdf.SMA10, name='SMA10'), row=2, col=1)\n",
    "fig.add_trace(go.Scatter(x=vdf.Date, y=vdf.SMA14, name='SMA14'), row=2, col=1)\n",
    "# fig.add_trace(go.Scatter(x=vdf.Date, y=vdf.SMA30, name='SMA30'), row=2, col=1)\n",
    "fig.add_trace(go.Scatter(x=vdf.Date, y=vdf.EMA14, name='EMA14'), row=3, col=1)\n",
    "# fig.add_trace(go.Scatter(x=vdf.Date, y=vdf.KAMA, name='KAMA'), row=3, col=1)\n",
    "fig.add_trace(go.Scatter(x=vdf.Date, y=vdf['%B'], name='%B'), row=4, col=1)\n",
    "fig.add_trace(go.Scatter(x=vdf.Date, y=vdf.BBBandWidth, name='BandWidth'), row=5, col=1)\n",
    "fig.add_trace(go.Scatter(x=vdf.Date, y=vdf.RSI30, name='RSI30'), row=6, col=1)\n",
    "fig.add_trace(go.Scatter(x=vdf.Date, y=vdf.RSI14, name='RSI14'), row=7, col=1)\n",
    "fig.add_trace(go.Scatter(x=vdf.Date, y=vdf.ADX, name='ADX'), row=8, col=1)\n",
    "# fig.add_trace(go.Scatter(x=vdf.Date, y=vdf.Volume, name='Volume'), row=8, col=1)\n",
    "\n",
    "fig.update_layout(\n",
    "    autosize=False,\n",
    "    width=1500,\n",
    "    height=1500,\n",
    "    margin=dict(l=30,r=30,b=30,\n",
    "                t=30,pad=3\n",
    "                ),\n",
    "    paper_bgcolor=\"White\",\n",
    ")"
   ]
  },
  {
   "cell_type": "markdown",
   "id": "e72c6d09",
   "metadata": {},
   "source": [
    "### Trend"
   ]
  },
  {
   "cell_type": "code",
   "execution_count": 711,
   "id": "a718bc72",
   "metadata": {},
   "outputs": [],
   "source": [
    "def calc_trend(df, n=5, threshold=0.01):\n",
    "\ttrend = []\t\n",
    "\tfor i in range(len(df)):\n",
    "\t\tif i + n >= len(df):\n",
    "\t\t\ttrend.append('Neutral')\n",
    "\t\t\tcontinue\n",
    "\t\tfuture_mean = df['Close'].iloc[i+1:i+n+1].mean()\n",
    "\t\tcurrent_close = df['Close'].iloc[i]\n",
    "\t\tif future_mean > current_close * (1 + threshold):\n",
    "\t\t\ttrend.append('Up')\n",
    "\t\telif future_mean < current_close * (1 - threshold):\n",
    "\t\t\ttrend.append('Down')\n",
    "\t\telse:\n",
    "\t\t\ttrend.append('Neutral')\n",
    "\tdf['Trend'] = trend\n",
    "\treturn df"
   ]
  },
  {
   "cell_type": "code",
   "execution_count": 712,
   "id": "8732bf6a",
   "metadata": {},
   "outputs": [],
   "source": [
    "def calc_trend_sma_ema(df, n=10, sma_threshold=0.01, ema_threshold=0.01):\n",
    "\ttrend = []\n",
    "\tdf['BBBandwidth_Q1'] = df['BBBandWidth'].rolling(window=50, min_periods=50).quantile(0.4)\n",
    "\tfor i in range(len(df)):\n",
    "\t\tif i + n >= len(df):\n",
    "\t\t\ttrend.append('Neutral')\n",
    "\t\t\tcontinue\n",
    "\t\tfuture_sma10 = df['SMA10'].iloc[i + n]\n",
    "\t\tcurrent_sma10 = df['SMA10'].iloc[i]\n",
    "\t\tfuture_sma14= df['SMA14'].iloc[i + n]\n",
    "\t\tcurrent_sma14 = df['SMA14'].iloc[i]\n",
    "\t\tfuture_ema14 = df['EMA14'].iloc[i + n]\n",
    "\t\tcurrent_ema14 = df['EMA14'].iloc[i]\n",
    "\t\t# future_kama = df['KAMA'].iloc[i + n]\n",
    "\t\t# current_kama = df['KAMA'].iloc[i]\n",
    "\n",
    "\t\tfuture_close = df['Close'].iloc[i + n]\n",
    "\n",
    "\t\tfuture_sma30 = df['SMA30'].iloc[i + n]\n",
    "\n",
    "\t\t# future_ema_rsi\n",
    "\n",
    "\t\tfuture_bandwidth = df['BBBandWidth'].iloc[i + n]\n",
    "\t\tfuture_bandwidth_q1 = df['BBBandwidth_Q1'].iloc[i + n]\n",
    "\n",
    "\t\tfuture_pb = df['%B'].iloc[i + n]\n",
    "\t\t# if (future_sma10 > current_sma10 * (1 + sma_threshold)) and (future_ema14 > current_ema14 * (1 + ema_threshold)) and (future_pb >= 0.7):\n",
    "\t\t# \ttrend.append('Up')\n",
    "\t\t# elif (future_sma10 < current_sma10 * (1 - sma_threshold)) and (future_ema14 < current_ema14 * (1 - ema_threshold)) and (future_pb <= 0.3):\n",
    "\t\t# \ttrend.append('Down')\n",
    "\t\t# elif (future_bandwidth < future_bandwidth_q1):\n",
    "\t\t# \ttrend.append('Neutral')\n",
    "\t\t# else:\n",
    "\t\t# \ttrend.append('Unknown')\n",
    "\n",
    "\t\tif future_close > future_sma14 * (1 + sma_threshold):\n",
    "\t\t\ttrend.append('Up')\n",
    "\t\telif future_close < future_sma14 * (1 - sma_threshold):\n",
    "\t\t\ttrend.append('Down')\n",
    "\t\telif (future_bandwidth < future_bandwidth_q1):\n",
    "\t\t\ttrend.append('Neutral')\n",
    "\t\telse:\n",
    "\t\t\ttrend.append('Unknown')\n",
    "\t\t\n",
    "\tassert(len(trend) == len(df))\n",
    "\t# df.drop(['BBBandWidth_Q1'], axis=1, inplace=True)\n",
    "\tdf['Trend'] = trend\n",
    "\treturn df\n",
    "\t\t"
   ]
  },
  {
   "cell_type": "code",
   "execution_count": 713,
   "id": "30ec8693",
   "metadata": {},
   "outputs": [],
   "source": [
    "df = calc_trend_sma_ema(df, n=7, sma_threshold=0.015, ema_threshold=0.01)"
   ]
  },
  {
   "cell_type": "code",
   "execution_count": 714,
   "id": "03deb269",
   "metadata": {},
   "outputs": [
    {
     "data": {
      "text/html": [
       "<div>\n",
       "<style scoped>\n",
       "    .dataframe tbody tr th:only-of-type {\n",
       "        vertical-align: middle;\n",
       "    }\n",
       "\n",
       "    .dataframe tbody tr th {\n",
       "        vertical-align: top;\n",
       "    }\n",
       "\n",
       "    .dataframe thead th {\n",
       "        text-align: right;\n",
       "    }\n",
       "</style>\n",
       "<table border=\"1\" class=\"dataframe\">\n",
       "  <thead>\n",
       "    <tr style=\"text-align: right;\">\n",
       "      <th></th>\n",
       "      <th>Date</th>\n",
       "      <th>Close</th>\n",
       "      <th>SMA10</th>\n",
       "      <th>SMA14</th>\n",
       "      <th>SMA30</th>\n",
       "      <th>EMA14</th>\n",
       "    </tr>\n",
       "  </thead>\n",
       "  <tbody>\n",
       "    <tr>\n",
       "      <th>0</th>\n",
       "      <td>1980-03-17</td>\n",
       "      <td>0.325521</td>\n",
       "      <td>NaN</td>\n",
       "      <td>NaN</td>\n",
       "      <td>NaN</td>\n",
       "      <td>NaN</td>\n",
       "    </tr>\n",
       "    <tr>\n",
       "      <th>1</th>\n",
       "      <td>1980-03-18</td>\n",
       "      <td>0.322917</td>\n",
       "      <td>NaN</td>\n",
       "      <td>NaN</td>\n",
       "      <td>NaN</td>\n",
       "      <td>NaN</td>\n",
       "    </tr>\n",
       "    <tr>\n",
       "      <th>2</th>\n",
       "      <td>1980-03-19</td>\n",
       "      <td>0.330729</td>\n",
       "      <td>NaN</td>\n",
       "      <td>NaN</td>\n",
       "      <td>NaN</td>\n",
       "      <td>NaN</td>\n",
       "    </tr>\n",
       "    <tr>\n",
       "      <th>3</th>\n",
       "      <td>1980-03-20</td>\n",
       "      <td>0.329427</td>\n",
       "      <td>NaN</td>\n",
       "      <td>NaN</td>\n",
       "      <td>NaN</td>\n",
       "      <td>NaN</td>\n",
       "    </tr>\n",
       "    <tr>\n",
       "      <th>4</th>\n",
       "      <td>1980-03-21</td>\n",
       "      <td>0.317708</td>\n",
       "      <td>NaN</td>\n",
       "      <td>NaN</td>\n",
       "      <td>NaN</td>\n",
       "      <td>NaN</td>\n",
       "    </tr>\n",
       "    <tr>\n",
       "      <th>...</th>\n",
       "      <td>...</td>\n",
       "      <td>...</td>\n",
       "      <td>...</td>\n",
       "      <td>...</td>\n",
       "      <td>...</td>\n",
       "      <td>...</td>\n",
       "    </tr>\n",
       "    <tr>\n",
       "      <th>15577</th>\n",
       "      <td>2022-11-09</td>\n",
       "      <td>27.520000</td>\n",
       "      <td>28.076000</td>\n",
       "      <td>28.114286</td>\n",
       "      <td>27.197333</td>\n",
       "      <td>27.924504</td>\n",
       "    </tr>\n",
       "    <tr>\n",
       "      <th>15579</th>\n",
       "      <td>2022-11-11</td>\n",
       "      <td>30.430000</td>\n",
       "      <td>28.422000</td>\n",
       "      <td>28.460714</td>\n",
       "      <td>27.524667</td>\n",
       "      <td>28.470672</td>\n",
       "    </tr>\n",
       "    <tr>\n",
       "      <th>15580</th>\n",
       "      <td>2022-11-12</td>\n",
       "      <td>30.403334</td>\n",
       "      <td>28.720333</td>\n",
       "      <td>28.571191</td>\n",
       "      <td>27.657444</td>\n",
       "      <td>28.728360</td>\n",
       "    </tr>\n",
       "    <tr>\n",
       "      <th>15581</th>\n",
       "      <td>2022-11-13</td>\n",
       "      <td>30.376667</td>\n",
       "      <td>29.019000</td>\n",
       "      <td>28.695000</td>\n",
       "      <td>27.806333</td>\n",
       "      <td>28.948134</td>\n",
       "    </tr>\n",
       "    <tr>\n",
       "      <th>15583</th>\n",
       "      <td>2022-11-15</td>\n",
       "      <td>30.709999</td>\n",
       "      <td>29.478000</td>\n",
       "      <td>29.004286</td>\n",
       "      <td>28.097333</td>\n",
       "      <td>29.345043</td>\n",
       "    </tr>\n",
       "  </tbody>\n",
       "</table>\n",
       "<p>2230 rows × 6 columns</p>\n",
       "</div>"
      ],
      "text/plain": [
       "            Date      Close      SMA10      SMA14      SMA30      EMA14\n",
       "0     1980-03-17   0.325521        NaN        NaN        NaN        NaN\n",
       "1     1980-03-18   0.322917        NaN        NaN        NaN        NaN\n",
       "2     1980-03-19   0.330729        NaN        NaN        NaN        NaN\n",
       "3     1980-03-20   0.329427        NaN        NaN        NaN        NaN\n",
       "4     1980-03-21   0.317708        NaN        NaN        NaN        NaN\n",
       "...          ...        ...        ...        ...        ...        ...\n",
       "15577 2022-11-09  27.520000  28.076000  28.114286  27.197333  27.924504\n",
       "15579 2022-11-11  30.430000  28.422000  28.460714  27.524667  28.470672\n",
       "15580 2022-11-12  30.403334  28.720333  28.571191  27.657444  28.728360\n",
       "15581 2022-11-13  30.376667  29.019000  28.695000  27.806333  28.948134\n",
       "15583 2022-11-15  30.709999  29.478000  29.004286  28.097333  29.345043\n",
       "\n",
       "[2230 rows x 6 columns]"
      ]
     },
     "execution_count": 714,
     "metadata": {},
     "output_type": "execute_result"
    }
   ],
   "source": [
    "df[df['Trend'] == 'Unknown'][['Date', 'Close', 'SMA10', 'SMA14', 'SMA30', 'EMA14']]"
   ]
  },
  {
   "cell_type": "code",
   "execution_count": 715,
   "id": "c7ae70e4",
   "metadata": {},
   "outputs": [
    {
     "data": {
      "text/html": [
       "<div>\n",
       "<style scoped>\n",
       "    .dataframe tbody tr th:only-of-type {\n",
       "        vertical-align: middle;\n",
       "    }\n",
       "\n",
       "    .dataframe tbody tr th {\n",
       "        vertical-align: top;\n",
       "    }\n",
       "\n",
       "    .dataframe thead th {\n",
       "        text-align: right;\n",
       "    }\n",
       "</style>\n",
       "<table border=\"1\" class=\"dataframe\">\n",
       "  <thead>\n",
       "    <tr style=\"text-align: right;\">\n",
       "      <th></th>\n",
       "      <th>Date</th>\n",
       "      <th>Close</th>\n",
       "      <th>SMA10</th>\n",
       "      <th>SMA14</th>\n",
       "      <th>SMA30</th>\n",
       "      <th>EMA14</th>\n",
       "    </tr>\n",
       "  </thead>\n",
       "  <tbody>\n",
       "    <tr>\n",
       "      <th>15586</th>\n",
       "      <td>2022-11-18</td>\n",
       "      <td>29.870001</td>\n",
       "      <td>29.884</td>\n",
       "      <td>29.452857</td>\n",
       "      <td>28.464</td>\n",
       "      <td>29.496533</td>\n",
       "    </tr>\n",
       "  </tbody>\n",
       "</table>\n",
       "</div>"
      ],
      "text/plain": [
       "            Date      Close   SMA10      SMA14   SMA30      EMA14\n",
       "15586 2022-11-18  29.870001  29.884  29.452857  28.464  29.496533"
      ]
     },
     "execution_count": 715,
     "metadata": {},
     "output_type": "execute_result"
    }
   ],
   "source": [
    "df[df['Date']=='2022-11-18'][['Date', 'Close', 'SMA10', 'SMA14', 'SMA30', 'EMA14']]"
   ]
  },
  {
   "cell_type": "code",
   "execution_count": 716,
   "id": "b10ae48a",
   "metadata": {},
   "outputs": [
    {
     "data": {
      "text/html": [
       "<div>\n",
       "<style scoped>\n",
       "    .dataframe tbody tr th:only-of-type {\n",
       "        vertical-align: middle;\n",
       "    }\n",
       "\n",
       "    .dataframe tbody tr th {\n",
       "        vertical-align: top;\n",
       "    }\n",
       "\n",
       "    .dataframe thead th {\n",
       "        text-align: right;\n",
       "    }\n",
       "</style>\n",
       "<table border=\"1\" class=\"dataframe\">\n",
       "  <thead>\n",
       "    <tr style=\"text-align: right;\">\n",
       "      <th></th>\n",
       "      <th>Date</th>\n",
       "      <th>Low</th>\n",
       "      <th>Open</th>\n",
       "      <th>Volume</th>\n",
       "      <th>High</th>\n",
       "      <th>Close</th>\n",
       "      <th>Adjusted Close</th>\n",
       "      <th>RSI7</th>\n",
       "      <th>RSI14</th>\n",
       "      <th>RSI30</th>\n",
       "      <th>...</th>\n",
       "      <th>DASMA</th>\n",
       "      <th>DBSMA</th>\n",
       "      <th>MACD</th>\n",
       "      <th>MACD_signal</th>\n",
       "      <th>MACD_hist</th>\n",
       "      <th>SO</th>\n",
       "      <th>OBV</th>\n",
       "      <th>CMF</th>\n",
       "      <th>BBBandwidth_Q1</th>\n",
       "      <th>Trend</th>\n",
       "    </tr>\n",
       "  </thead>\n",
       "  <tbody>\n",
       "    <tr>\n",
       "      <th>15606</th>\n",
       "      <td>2022-12-08</td>\n",
       "      <td>28.070000</td>\n",
       "      <td>28.330000</td>\n",
       "      <td>28486100.0</td>\n",
       "      <td>28.600000</td>\n",
       "      <td>28.440001</td>\n",
       "      <td>28.440001</td>\n",
       "      <td>32.899421</td>\n",
       "      <td>42.743800</td>\n",
       "      <td>47.380660</td>\n",
       "      <td>...</td>\n",
       "      <td>0</td>\n",
       "      <td>7</td>\n",
       "      <td>-0.068311</td>\n",
       "      <td>0.099632</td>\n",
       "      <td>-0.167943</td>\n",
       "      <td>15.352733</td>\n",
       "      <td>3.361739e+10</td>\n",
       "      <td>-0.098776</td>\n",
       "      <td>0.114236</td>\n",
       "      <td>Neutral</td>\n",
       "    </tr>\n",
       "    <tr>\n",
       "      <th>15607</th>\n",
       "      <td>2022-12-09</td>\n",
       "      <td>28.190001</td>\n",
       "      <td>28.440001</td>\n",
       "      <td>25634600.0</td>\n",
       "      <td>28.780001</td>\n",
       "      <td>28.240000</td>\n",
       "      <td>28.240000</td>\n",
       "      <td>29.405128</td>\n",
       "      <td>40.816804</td>\n",
       "      <td>46.511396</td>\n",
       "      <td>...</td>\n",
       "      <td>0</td>\n",
       "      <td>8</td>\n",
       "      <td>-0.123364</td>\n",
       "      <td>0.055033</td>\n",
       "      <td>-0.178397</td>\n",
       "      <td>7.053946</td>\n",
       "      <td>3.359175e+10</td>\n",
       "      <td>-0.111164</td>\n",
       "      <td>0.114236</td>\n",
       "      <td>Neutral</td>\n",
       "    </tr>\n",
       "    <tr>\n",
       "      <th>15608</th>\n",
       "      <td>2022-12-10</td>\n",
       "      <td>28.079601</td>\n",
       "      <td>28.240000</td>\n",
       "      <td>19875037.0</td>\n",
       "      <td>28.593334</td>\n",
       "      <td>28.198500</td>\n",
       "      <td>28.198500</td>\n",
       "      <td>28.668017</td>\n",
       "      <td>40.409709</td>\n",
       "      <td>46.328946</td>\n",
       "      <td>...</td>\n",
       "      <td>0</td>\n",
       "      <td>9</td>\n",
       "      <td>-0.168402</td>\n",
       "      <td>0.010346</td>\n",
       "      <td>-0.178748</td>\n",
       "      <td>5.331950</td>\n",
       "      <td>3.357188e+10</td>\n",
       "      <td>-0.091043</td>\n",
       "      <td>0.111606</td>\n",
       "      <td>Neutral</td>\n",
       "    </tr>\n",
       "    <tr>\n",
       "      <th>15609</th>\n",
       "      <td>2022-12-11</td>\n",
       "      <td>27.969201</td>\n",
       "      <td>28.198500</td>\n",
       "      <td>14115474.0</td>\n",
       "      <td>28.406666</td>\n",
       "      <td>28.157000</td>\n",
       "      <td>28.157000</td>\n",
       "      <td>27.853434</td>\n",
       "      <td>39.980284</td>\n",
       "      <td>46.141705</td>\n",
       "      <td>...</td>\n",
       "      <td>0</td>\n",
       "      <td>10</td>\n",
       "      <td>-0.205079</td>\n",
       "      <td>-0.032739</td>\n",
       "      <td>-0.172340</td>\n",
       "      <td>7.479644</td>\n",
       "      <td>3.355776e+10</td>\n",
       "      <td>-0.038097</td>\n",
       "      <td>0.109799</td>\n",
       "      <td>Neutral</td>\n",
       "    </tr>\n",
       "    <tr>\n",
       "      <th>15610</th>\n",
       "      <td>2022-12-12</td>\n",
       "      <td>27.858801</td>\n",
       "      <td>28.157000</td>\n",
       "      <td>8355911.0</td>\n",
       "      <td>28.219999</td>\n",
       "      <td>28.115499</td>\n",
       "      <td>28.115499</td>\n",
       "      <td>26.959717</td>\n",
       "      <td>39.527918</td>\n",
       "      <td>45.949594</td>\n",
       "      <td>...</td>\n",
       "      <td>0</td>\n",
       "      <td>11</td>\n",
       "      <td>-0.234788</td>\n",
       "      <td>-0.073149</td>\n",
       "      <td>-0.161639</td>\n",
       "      <td>9.793176</td>\n",
       "      <td>3.354940e+10</td>\n",
       "      <td>-0.076165</td>\n",
       "      <td>0.109524</td>\n",
       "      <td>Neutral</td>\n",
       "    </tr>\n",
       "  </tbody>\n",
       "</table>\n",
       "<p>5 rows × 36 columns</p>\n",
       "</div>"
      ],
      "text/plain": [
       "            Date        Low       Open      Volume       High      Close  \\\n",
       "15606 2022-12-08  28.070000  28.330000  28486100.0  28.600000  28.440001   \n",
       "15607 2022-12-09  28.190001  28.440001  25634600.0  28.780001  28.240000   \n",
       "15608 2022-12-10  28.079601  28.240000  19875037.0  28.593334  28.198500   \n",
       "15609 2022-12-11  27.969201  28.198500  14115474.0  28.406666  28.157000   \n",
       "15610 2022-12-12  27.858801  28.157000   8355911.0  28.219999  28.115499   \n",
       "\n",
       "       Adjusted Close       RSI7      RSI14      RSI30  ...  DASMA  DBSMA  \\\n",
       "15606       28.440001  32.899421  42.743800  47.380660  ...      0      7   \n",
       "15607       28.240000  29.405128  40.816804  46.511396  ...      0      8   \n",
       "15608       28.198500  28.668017  40.409709  46.328946  ...      0      9   \n",
       "15609       28.157000  27.853434  39.980284  46.141705  ...      0     10   \n",
       "15610       28.115499  26.959717  39.527918  45.949594  ...      0     11   \n",
       "\n",
       "           MACD  MACD_signal  MACD_hist         SO           OBV       CMF  \\\n",
       "15606 -0.068311     0.099632  -0.167943  15.352733  3.361739e+10 -0.098776   \n",
       "15607 -0.123364     0.055033  -0.178397   7.053946  3.359175e+10 -0.111164   \n",
       "15608 -0.168402     0.010346  -0.178748   5.331950  3.357188e+10 -0.091043   \n",
       "15609 -0.205079    -0.032739  -0.172340   7.479644  3.355776e+10 -0.038097   \n",
       "15610 -0.234788    -0.073149  -0.161639   9.793176  3.354940e+10 -0.076165   \n",
       "\n",
       "       BBBandwidth_Q1    Trend  \n",
       "15606        0.114236  Neutral  \n",
       "15607        0.114236  Neutral  \n",
       "15608        0.111606  Neutral  \n",
       "15609        0.109799  Neutral  \n",
       "15610        0.109524  Neutral  \n",
       "\n",
       "[5 rows x 36 columns]"
      ]
     },
     "execution_count": 716,
     "metadata": {},
     "output_type": "execute_result"
    }
   ],
   "source": [
    "df.tail()"
   ]
  },
  {
   "cell_type": "markdown",
   "id": "6540ca3c",
   "metadata": {},
   "source": [
    "#### Delete invalid data"
   ]
  },
  {
   "cell_type": "code",
   "execution_count": 717,
   "id": "d0fb7f9e",
   "metadata": {},
   "outputs": [],
   "source": [
    "df = df[200:-100]\n",
    "# df = df[df['Trend'] != 'Unknown']\n",
    "df.index = range(len(df))"
   ]
  },
  {
   "cell_type": "code",
   "execution_count": 718,
   "id": "abf0ce9d",
   "metadata": {},
   "outputs": [],
   "source": [
    "# df[5000:5010]"
   ]
  },
  {
   "cell_type": "markdown",
   "id": "4314723f",
   "metadata": {},
   "source": [
    "#### Indicator Analysis"
   ]
  },
  {
   "cell_type": "code",
   "execution_count": 719,
   "id": "ed0d7a40",
   "metadata": {},
   "outputs": [
    {
     "name": "stdout",
     "output_type": "stream",
     "text": [
      "5766\n",
      "1422\n",
      "1180\n",
      "2230\n"
     ]
    }
   ],
   "source": [
    "sma_threshold = 5\n",
    "print(len(df[df['DASMA'] >= sma_threshold]))\n",
    "print(len(df[(df['DASMA'] >= sma_threshold) & (df['Trend'] == 'Down')]))\n",
    "print(len(df[(df['DASMA'] >= sma_threshold) & (df['Trend'] == 'Neutral')]))\n",
    "print(len(df[(df['DASMA'] >= sma_threshold) & (df['Trend'] == 'Up')]))"
   ]
  },
  {
   "cell_type": "code",
   "execution_count": 720,
   "id": "387efe9c",
   "metadata": {},
   "outputs": [
    {
     "name": "stdout",
     "output_type": "stream",
     "text": [
      "4608\n",
      "1558\n",
      "912\n",
      "1389\n"
     ]
    }
   ],
   "source": [
    "print(len(df[df['DBSMA'] >= sma_threshold]))\n",
    "print(len(df[(df['DBSMA'] >= sma_threshold) & (df['Trend'] == 'Down')]))\n",
    "print(len(df[(df['DBSMA'] >= sma_threshold) & (df['Trend'] == 'Neutral')]))\n",
    "print(len(df[(df['DBSMA'] >= sma_threshold) & (df['Trend'] == 'Up')]))"
   ]
  },
  {
   "cell_type": "code",
   "execution_count": 721,
   "id": "3d3666c9",
   "metadata": {},
   "outputs": [
    {
     "name": "stdout",
     "output_type": "stream",
     "text": [
      "1655\n",
      "283\n",
      "211\n",
      "758\n"
     ]
    }
   ],
   "source": [
    "upper_rsi_threshold = 70\n",
    "print(len(df[df['RSI14'] > upper_rsi_threshold]))\n",
    "print(len(df[(df['RSI14'] > upper_rsi_threshold) & (df['Trend'] == 'Down')]))\n",
    "print(len(df[(df['RSI14'] > upper_rsi_threshold) & (df['Trend'] == 'Neutral')]))\n",
    "print(len(df[(df['RSI14'] > upper_rsi_threshold) & (df['Trend'] == 'Up')]))\n"
   ]
  },
  {
   "cell_type": "code",
   "execution_count": 722,
   "id": "94cdfa14",
   "metadata": {},
   "outputs": [
    {
     "name": "stdout",
     "output_type": "stream",
     "text": [
      "882\n",
      "387\n",
      "82\n",
      "185\n"
     ]
    }
   ],
   "source": [
    "lower_rsi_threshold = 30\n",
    "print(len(df[df['RSI14'] < lower_rsi_threshold]))\n",
    "print(len(df[(df['RSI14'] < lower_rsi_threshold) & (df['Trend'] == 'Down')]))\n",
    "print(len(df[(df['RSI14'] < lower_rsi_threshold) & (df['Trend'] == 'Neutral')]))\n",
    "print(len(df[(df['RSI14'] < lower_rsi_threshold) & (df['Trend'] == 'Up')]))"
   ]
  },
  {
   "cell_type": "code",
   "execution_count": 723,
   "id": "2368ddea",
   "metadata": {},
   "outputs": [
    {
     "name": "stdout",
     "output_type": "stream",
     "text": [
      "520\n",
      "201\n",
      "71\n",
      "133\n"
     ]
    }
   ],
   "source": [
    "print(len(df[df['EMA7_RSI14'] < lower_rsi_threshold]))\n",
    "print(len(df[(df['EMA7_RSI14'] < lower_rsi_threshold) & (df['Trend'] == 'Down')]))\n",
    "print(len(df[(df['EMA7_RSI14'] < lower_rsi_threshold) & (df['Trend'] == 'Neutral')]))\n",
    "print(len(df[(df['EMA7_RSI14'] < lower_rsi_threshold) & (df['Trend'] == 'Up')]))"
   ]
  },
  {
   "cell_type": "code",
   "execution_count": 724,
   "id": "3da606a5",
   "metadata": {},
   "outputs": [
    {
     "name": "stdout",
     "output_type": "stream",
     "text": [
      "1247\n",
      "254\n",
      "205\n",
      "485\n"
     ]
    }
   ],
   "source": [
    "upper_rsi_threshold = 70\n",
    "print(len(df[df['EMA7_RSI14'] > upper_rsi_threshold]))\n",
    "print(len(df[(df['EMA7_RSI14'] > upper_rsi_threshold) & (df['Trend'] == 'Down')]))\n",
    "print(len(df[(df['EMA7_RSI14'] > upper_rsi_threshold) & (df['Trend'] == 'Neutral')]))\n",
    "print(len(df[(df['EMA7_RSI14'] > upper_rsi_threshold) & (df['Trend'] == 'Up')]))"
   ]
  },
  {
   "cell_type": "code",
   "execution_count": 725,
   "id": "a863eacf",
   "metadata": {},
   "outputs": [
    {
     "data": {
      "text/html": [
       "<div>\n",
       "<style scoped>\n",
       "    .dataframe tbody tr th:only-of-type {\n",
       "        vertical-align: middle;\n",
       "    }\n",
       "\n",
       "    .dataframe tbody tr th {\n",
       "        vertical-align: top;\n",
       "    }\n",
       "\n",
       "    .dataframe thead th {\n",
       "        text-align: right;\n",
       "    }\n",
       "</style>\n",
       "<table border=\"1\" class=\"dataframe\">\n",
       "  <thead>\n",
       "    <tr style=\"text-align: right;\">\n",
       "      <th></th>\n",
       "      <th>Date</th>\n",
       "      <th>Low</th>\n",
       "      <th>Open</th>\n",
       "      <th>Volume</th>\n",
       "      <th>High</th>\n",
       "      <th>Close</th>\n",
       "      <th>Adjusted Close</th>\n",
       "      <th>RSI7</th>\n",
       "      <th>RSI14</th>\n",
       "      <th>RSI30</th>\n",
       "      <th>...</th>\n",
       "      <th>DASMA</th>\n",
       "      <th>DBSMA</th>\n",
       "      <th>MACD</th>\n",
       "      <th>MACD_signal</th>\n",
       "      <th>MACD_hist</th>\n",
       "      <th>SO</th>\n",
       "      <th>OBV</th>\n",
       "      <th>CMF</th>\n",
       "      <th>BBBandwidth_Q1</th>\n",
       "      <th>Trend</th>\n",
       "    </tr>\n",
       "  </thead>\n",
       "  <tbody>\n",
       "    <tr>\n",
       "      <th>0</th>\n",
       "      <td>1980-10-03</td>\n",
       "      <td>0.467448</td>\n",
       "      <td>0.467448</td>\n",
       "      <td>5068800.0</td>\n",
       "      <td>0.484375</td>\n",
       "      <td>0.483073</td>\n",
       "      <td>0.294327</td>\n",
       "      <td>70.900603</td>\n",
       "      <td>61.044517</td>\n",
       "      <td>59.464730</td>\n",
       "      <td>...</td>\n",
       "      <td>1</td>\n",
       "      <td>0</td>\n",
       "      <td>0.000221</td>\n",
       "      <td>0.000135</td>\n",
       "      <td>0.000087</td>\n",
       "      <td>69.696768</td>\n",
       "      <td>349872000.0</td>\n",
       "      <td>-0.357074</td>\n",
       "      <td>0.073972</td>\n",
       "      <td>Up</td>\n",
       "    </tr>\n",
       "    <tr>\n",
       "      <th>1</th>\n",
       "      <td>1980-10-04</td>\n",
       "      <td>0.483073</td>\n",
       "      <td>0.483073</td>\n",
       "      <td>6732800.0</td>\n",
       "      <td>0.494792</td>\n",
       "      <td>0.493056</td>\n",
       "      <td>0.300409</td>\n",
       "      <td>77.268380</td>\n",
       "      <td>65.955386</td>\n",
       "      <td>62.205208</td>\n",
       "      <td>...</td>\n",
       "      <td>2</td>\n",
       "      <td>0</td>\n",
       "      <td>0.002192</td>\n",
       "      <td>0.000546</td>\n",
       "      <td>0.001646</td>\n",
       "      <td>95.833588</td>\n",
       "      <td>356604800.0</td>\n",
       "      <td>-0.288328</td>\n",
       "      <td>0.073972</td>\n",
       "      <td>Up</td>\n",
       "    </tr>\n",
       "    <tr>\n",
       "      <th>2</th>\n",
       "      <td>1980-10-05</td>\n",
       "      <td>0.493056</td>\n",
       "      <td>0.493056</td>\n",
       "      <td>8396800.0</td>\n",
       "      <td>0.505208</td>\n",
       "      <td>0.503038</td>\n",
       "      <td>0.306491</td>\n",
       "      <td>81.891482</td>\n",
       "      <td>70.024839</td>\n",
       "      <td>64.675735</td>\n",
       "      <td>...</td>\n",
       "      <td>3</td>\n",
       "      <td>0</td>\n",
       "      <td>0.004508</td>\n",
       "      <td>0.001339</td>\n",
       "      <td>0.003170</td>\n",
       "      <td>95.833588</td>\n",
       "      <td>365001600.0</td>\n",
       "      <td>-0.213468</td>\n",
       "      <td>0.073972</td>\n",
       "      <td>Up</td>\n",
       "    </tr>\n",
       "    <tr>\n",
       "      <th>3</th>\n",
       "      <td>1980-10-06</td>\n",
       "      <td>0.503038</td>\n",
       "      <td>0.503038</td>\n",
       "      <td>10060800.0</td>\n",
       "      <td>0.515625</td>\n",
       "      <td>0.513021</td>\n",
       "      <td>0.312573</td>\n",
       "      <td>85.364180</td>\n",
       "      <td>73.443410</td>\n",
       "      <td>66.913101</td>\n",
       "      <td>...</td>\n",
       "      <td>4</td>\n",
       "      <td>0</td>\n",
       "      <td>0.007068</td>\n",
       "      <td>0.002484</td>\n",
       "      <td>0.004583</td>\n",
       "      <td>95.833588</td>\n",
       "      <td>375062400.0</td>\n",
       "      <td>-0.222327</td>\n",
       "      <td>0.073972</td>\n",
       "      <td>Unknown</td>\n",
       "    </tr>\n",
       "    <tr>\n",
       "      <th>4</th>\n",
       "      <td>1980-10-07</td>\n",
       "      <td>0.513021</td>\n",
       "      <td>0.513021</td>\n",
       "      <td>9158400.0</td>\n",
       "      <td>0.516927</td>\n",
       "      <td>0.514323</td>\n",
       "      <td>0.313367</td>\n",
       "      <td>85.779155</td>\n",
       "      <td>73.862111</td>\n",
       "      <td>67.193459</td>\n",
       "      <td>...</td>\n",
       "      <td>5</td>\n",
       "      <td>0</td>\n",
       "      <td>0.009096</td>\n",
       "      <td>0.003807</td>\n",
       "      <td>0.005289</td>\n",
       "      <td>95.918611</td>\n",
       "      <td>384220800.0</td>\n",
       "      <td>-0.312149</td>\n",
       "      <td>0.073972</td>\n",
       "      <td>Unknown</td>\n",
       "    </tr>\n",
       "  </tbody>\n",
       "</table>\n",
       "<p>5 rows × 36 columns</p>\n",
       "</div>"
      ],
      "text/plain": [
       "        Date       Low      Open      Volume      High     Close  \\\n",
       "0 1980-10-03  0.467448  0.467448   5068800.0  0.484375  0.483073   \n",
       "1 1980-10-04  0.483073  0.483073   6732800.0  0.494792  0.493056   \n",
       "2 1980-10-05  0.493056  0.493056   8396800.0  0.505208  0.503038   \n",
       "3 1980-10-06  0.503038  0.503038  10060800.0  0.515625  0.513021   \n",
       "4 1980-10-07  0.513021  0.513021   9158400.0  0.516927  0.514323   \n",
       "\n",
       "   Adjusted Close       RSI7      RSI14      RSI30  ...  DASMA  DBSMA  \\\n",
       "0        0.294327  70.900603  61.044517  59.464730  ...      1      0   \n",
       "1        0.300409  77.268380  65.955386  62.205208  ...      2      0   \n",
       "2        0.306491  81.891482  70.024839  64.675735  ...      3      0   \n",
       "3        0.312573  85.364180  73.443410  66.913101  ...      4      0   \n",
       "4        0.313367  85.779155  73.862111  67.193459  ...      5      0   \n",
       "\n",
       "       MACD  MACD_signal  MACD_hist         SO          OBV       CMF  \\\n",
       "0  0.000221     0.000135   0.000087  69.696768  349872000.0 -0.357074   \n",
       "1  0.002192     0.000546   0.001646  95.833588  356604800.0 -0.288328   \n",
       "2  0.004508     0.001339   0.003170  95.833588  365001600.0 -0.213468   \n",
       "3  0.007068     0.002484   0.004583  95.833588  375062400.0 -0.222327   \n",
       "4  0.009096     0.003807   0.005289  95.918611  384220800.0 -0.312149   \n",
       "\n",
       "   BBBandwidth_Q1    Trend  \n",
       "0        0.073972       Up  \n",
       "1        0.073972       Up  \n",
       "2        0.073972       Up  \n",
       "3        0.073972  Unknown  \n",
       "4        0.073972  Unknown  \n",
       "\n",
       "[5 rows x 36 columns]"
      ]
     },
     "execution_count": 725,
     "metadata": {},
     "output_type": "execute_result"
    }
   ],
   "source": [
    "df[:5] "
   ]
  },
  {
   "cell_type": "code",
   "execution_count": 726,
   "id": "4a38f61d",
   "metadata": {},
   "outputs": [
    {
     "data": {
      "text/html": [
       "<div>\n",
       "<style scoped>\n",
       "    .dataframe tbody tr th:only-of-type {\n",
       "        vertical-align: middle;\n",
       "    }\n",
       "\n",
       "    .dataframe tbody tr th {\n",
       "        vertical-align: top;\n",
       "    }\n",
       "\n",
       "    .dataframe thead th {\n",
       "        text-align: right;\n",
       "    }\n",
       "</style>\n",
       "<table border=\"1\" class=\"dataframe\">\n",
       "  <thead>\n",
       "    <tr style=\"text-align: right;\">\n",
       "      <th></th>\n",
       "      <th>Date</th>\n",
       "      <th>Low</th>\n",
       "      <th>Open</th>\n",
       "      <th>Volume</th>\n",
       "      <th>High</th>\n",
       "      <th>Close</th>\n",
       "      <th>Adjusted Close</th>\n",
       "      <th>RSI7</th>\n",
       "      <th>RSI14</th>\n",
       "      <th>RSI30</th>\n",
       "      <th>...</th>\n",
       "      <th>DASMA</th>\n",
       "      <th>DBSMA</th>\n",
       "      <th>MACD</th>\n",
       "      <th>MACD_signal</th>\n",
       "      <th>MACD_hist</th>\n",
       "      <th>SO</th>\n",
       "      <th>OBV</th>\n",
       "      <th>CMF</th>\n",
       "      <th>BBBandwidth_Q1</th>\n",
       "      <th>Trend</th>\n",
       "    </tr>\n",
       "  </thead>\n",
       "  <tbody>\n",
       "    <tr>\n",
       "      <th>15306</th>\n",
       "      <td>2022-08-30</td>\n",
       "      <td>32.150002</td>\n",
       "      <td>32.939999</td>\n",
       "      <td>40182500.0</td>\n",
       "      <td>33.070000</td>\n",
       "      <td>32.259998</td>\n",
       "      <td>32.259998</td>\n",
       "      <td>21.647934</td>\n",
       "      <td>28.454949</td>\n",
       "      <td>34.599931</td>\n",
       "      <td>...</td>\n",
       "      <td>0</td>\n",
       "      <td>12</td>\n",
       "      <td>-1.013638</td>\n",
       "      <td>-0.844652</td>\n",
       "      <td>-0.168987</td>\n",
       "      <td>2.631502</td>\n",
       "      <td>3.420060e+10</td>\n",
       "      <td>-0.231259</td>\n",
       "      <td>0.111347</td>\n",
       "      <td>Down</td>\n",
       "    </tr>\n",
       "    <tr>\n",
       "      <th>15307</th>\n",
       "      <td>2022-08-31</td>\n",
       "      <td>31.770000</td>\n",
       "      <td>32.259998</td>\n",
       "      <td>44074500.0</td>\n",
       "      <td>32.389999</td>\n",
       "      <td>31.920000</td>\n",
       "      <td>31.920000</td>\n",
       "      <td>19.307449</td>\n",
       "      <td>26.922302</td>\n",
       "      <td>33.741196</td>\n",
       "      <td>...</td>\n",
       "      <td>0</td>\n",
       "      <td>13</td>\n",
       "      <td>-1.085430</td>\n",
       "      <td>-0.892807</td>\n",
       "      <td>-0.192622</td>\n",
       "      <td>3.289464</td>\n",
       "      <td>3.415652e+10</td>\n",
       "      <td>-0.234457</td>\n",
       "      <td>0.111656</td>\n",
       "      <td>Down</td>\n",
       "    </tr>\n",
       "    <tr>\n",
       "      <th>15308</th>\n",
       "      <td>2022-09-01</td>\n",
       "      <td>31.129999</td>\n",
       "      <td>31.920000</td>\n",
       "      <td>36440700.0</td>\n",
       "      <td>31.920000</td>\n",
       "      <td>31.760000</td>\n",
       "      <td>31.760000</td>\n",
       "      <td>18.225614</td>\n",
       "      <td>26.206936</td>\n",
       "      <td>33.338391</td>\n",
       "      <td>...</td>\n",
       "      <td>0</td>\n",
       "      <td>14</td>\n",
       "      <td>-1.142070</td>\n",
       "      <td>-0.942660</td>\n",
       "      <td>-0.199410</td>\n",
       "      <td>12.426053</td>\n",
       "      <td>3.412008e+10</td>\n",
       "      <td>-0.251998</td>\n",
       "      <td>0.112408</td>\n",
       "      <td>Down</td>\n",
       "    </tr>\n",
       "    <tr>\n",
       "      <th>15309</th>\n",
       "      <td>2022-09-02</td>\n",
       "      <td>31.059999</td>\n",
       "      <td>31.760000</td>\n",
       "      <td>34893300.0</td>\n",
       "      <td>32.380001</td>\n",
       "      <td>31.219999</td>\n",
       "      <td>31.219999</td>\n",
       "      <td>14.931359</td>\n",
       "      <td>23.898847</td>\n",
       "      <td>32.004433</td>\n",
       "      <td>...</td>\n",
       "      <td>0</td>\n",
       "      <td>15</td>\n",
       "      <td>-1.216509</td>\n",
       "      <td>-0.997430</td>\n",
       "      <td>-0.219079</td>\n",
       "      <td>3.443325</td>\n",
       "      <td>3.408519e+10</td>\n",
       "      <td>-0.329106</td>\n",
       "      <td>0.114236</td>\n",
       "      <td>Unknown</td>\n",
       "    </tr>\n",
       "    <tr>\n",
       "      <th>15310</th>\n",
       "      <td>2022-09-03</td>\n",
       "      <td>30.877500</td>\n",
       "      <td>31.219999</td>\n",
       "      <td>37917375.0</td>\n",
       "      <td>32.132501</td>\n",
       "      <td>31.005000</td>\n",
       "      <td>31.005000</td>\n",
       "      <td>13.774842</td>\n",
       "      <td>23.029200</td>\n",
       "      <td>31.485543</td>\n",
       "      <td>...</td>\n",
       "      <td>0</td>\n",
       "      <td>16</td>\n",
       "      <td>-1.278117</td>\n",
       "      <td>-1.053567</td>\n",
       "      <td>-0.224550</td>\n",
       "      <td>2.829666</td>\n",
       "      <td>3.404727e+10</td>\n",
       "      <td>-0.400785</td>\n",
       "      <td>0.117664</td>\n",
       "      <td>Unknown</td>\n",
       "    </tr>\n",
       "  </tbody>\n",
       "</table>\n",
       "<p>5 rows × 36 columns</p>\n",
       "</div>"
      ],
      "text/plain": [
       "            Date        Low       Open      Volume       High      Close  \\\n",
       "15306 2022-08-30  32.150002  32.939999  40182500.0  33.070000  32.259998   \n",
       "15307 2022-08-31  31.770000  32.259998  44074500.0  32.389999  31.920000   \n",
       "15308 2022-09-01  31.129999  31.920000  36440700.0  31.920000  31.760000   \n",
       "15309 2022-09-02  31.059999  31.760000  34893300.0  32.380001  31.219999   \n",
       "15310 2022-09-03  30.877500  31.219999  37917375.0  32.132501  31.005000   \n",
       "\n",
       "       Adjusted Close       RSI7      RSI14      RSI30  ...  DASMA  DBSMA  \\\n",
       "15306       32.259998  21.647934  28.454949  34.599931  ...      0     12   \n",
       "15307       31.920000  19.307449  26.922302  33.741196  ...      0     13   \n",
       "15308       31.760000  18.225614  26.206936  33.338391  ...      0     14   \n",
       "15309       31.219999  14.931359  23.898847  32.004433  ...      0     15   \n",
       "15310       31.005000  13.774842  23.029200  31.485543  ...      0     16   \n",
       "\n",
       "           MACD  MACD_signal  MACD_hist         SO           OBV       CMF  \\\n",
       "15306 -1.013638    -0.844652  -0.168987   2.631502  3.420060e+10 -0.231259   \n",
       "15307 -1.085430    -0.892807  -0.192622   3.289464  3.415652e+10 -0.234457   \n",
       "15308 -1.142070    -0.942660  -0.199410  12.426053  3.412008e+10 -0.251998   \n",
       "15309 -1.216509    -0.997430  -0.219079   3.443325  3.408519e+10 -0.329106   \n",
       "15310 -1.278117    -1.053567  -0.224550   2.829666  3.404727e+10 -0.400785   \n",
       "\n",
       "       BBBandwidth_Q1    Trend  \n",
       "15306        0.111347     Down  \n",
       "15307        0.111656     Down  \n",
       "15308        0.112408     Down  \n",
       "15309        0.114236  Unknown  \n",
       "15310        0.117664  Unknown  \n",
       "\n",
       "[5 rows x 36 columns]"
      ]
     },
     "execution_count": 726,
     "metadata": {},
     "output_type": "execute_result"
    }
   ],
   "source": [
    "df[-5:]"
   ]
  },
  {
   "cell_type": "markdown",
   "id": "c2d57f2b",
   "metadata": {},
   "source": [
    "#### Rolling Normalize"
   ]
  },
  {
   "cell_type": "code",
   "execution_count": 727,
   "id": "5ad25c4e",
   "metadata": {},
   "outputs": [],
   "source": [
    "def rolling_normalize(df, columns, window=100):\n",
    "    result = df.copy()\n",
    "    for col in columns:\n",
    "        result[f'{col}'] = 0.0  # Khởi tạo cột normalized\n",
    "    \n",
    "    for i in range(len(df)):\n",
    "        start = max(0, i - window + 1)\n",
    "\n",
    "        window_data = df[columns].iloc[start:i+1]\n",
    "        if len(window_data) < 2:\n",
    "            continue\n",
    "\n",
    "        window_values = window_data.values.flatten()\n",
    "        min_val = window_values.min()\n",
    "        max_val = window_values.max()\n",
    "        if max_val == min_val:\n",
    "            continue  # Tránh chia cho 0\n",
    "\n",
    "        scaler = MinMaxScaler()\n",
    "        scaled_data = scaler.fit_transform(window_data)\n",
    "        # Gán giá trị normalized cho điểm cuối của cửa sổ\n",
    "        for j, col in enumerate(columns):\n",
    "            result.loc[df.index[i], f'{col}'] = scaled_data[-1, j]\n",
    "    \n",
    "    return result"
   ]
  },
  {
   "cell_type": "code",
   "execution_count": 728,
   "id": "83085ac0",
   "metadata": {},
   "outputs": [
    {
     "name": "stdout",
     "output_type": "stream",
     "text": [
      "Trend\n",
      "Up         5362\n",
      "Down       4546\n",
      "Neutral    3214\n",
      "Unknown    2189\n",
      "Name: count, dtype: int64\n"
     ]
    }
   ],
   "source": [
    "print(df['Trend'].value_counts())\n"
   ]
  },
  {
   "cell_type": "code",
   "execution_count": 729,
   "id": "3d5f7232",
   "metadata": {},
   "outputs": [],
   "source": [
    "df.drop(['Open'], axis=1, inplace=True)\n",
    "df.drop(['High'], axis=1, inplace=True)\n",
    "df.drop(['Low'], axis=1, inplace=True)\n",
    "df.drop(['Close'], axis=1, inplace=True)\n",
    "df.drop(['Volume'], axis=1, inplace=True)\n",
    "df.drop(['Adjusted Close'], axis=1, inplace=True)\n",
    "df.drop(['HB'], axis=1, inplace=True)\n",
    "df.drop(['LB'], axis=1, inplace=True)\n",
    "df.drop(['MB'], axis=1, inplace=True)\n",
    "df.drop(['EMA14'], axis=1, inplace=True)\n",
    "df.drop(['SMA10'], axis=1, inplace=True)\n",
    "df.drop(['SMA14'], axis=1, inplace=True)\n",
    "df.drop(['SMA30'], axis=1, inplace=True)\n",
    "df.drop(['SMA50'], axis=1, inplace=True)\n",
    "df.drop(['BBBandwidth_Q1'], axis=1, inplace=True)\n",
    "# df.drop(['KAMA'], axis=1, inplace=True)"
   ]
  },
  {
   "cell_type": "markdown",
   "id": "d601429b",
   "metadata": {},
   "source": [
    "### Train Model"
   ]
  },
  {
   "cell_type": "code",
   "execution_count": 730,
   "id": "c9e08918",
   "metadata": {},
   "outputs": [],
   "source": [
    "test_size = 0.25\n",
    "# valid_size = 0.15\n",
    "test_split_idx  = int(df.shape[0] * (1-test_size))\n",
    "# valid_split_idx = int(df.shape[0] * (1-(valid_size+test_size)))\n",
    "# print(test_split_idx)\n",
    "# print(valid_split_idx)\n",
    "train_df  = df.loc[:test_split_idx].copy()\n",
    "# valid_df  = df.loc[valid_split_idx:test_split_idx].copy()\n",
    "test_df   = df.loc[test_split_idx:].copy()"
   ]
  },
  {
   "cell_type": "code",
   "execution_count": 731,
   "id": "5392abd2",
   "metadata": {},
   "outputs": [
    {
     "name": "stdout",
     "output_type": "stream",
     "text": [
      "<class 'pandas.core.frame.DataFrame'>\n",
      "RangeIndex: 11484 entries, 0 to 11483\n",
      "Data columns (total 19 columns):\n",
      " #   Column       Non-Null Count  Dtype  \n",
      "---  ------       --------------  -----  \n",
      " 0   RSI7         11484 non-null  float64\n",
      " 1   RSI14        11484 non-null  float64\n",
      " 2   RSI30        11484 non-null  float64\n",
      " 3   RSI50        11484 non-null  float64\n",
      " 4   EMA7_RSI14   11484 non-null  float64\n",
      " 5   EMA7_RSI30   11484 non-null  float64\n",
      " 6   SMA5         11484 non-null  float64\n",
      " 7   ADX          11484 non-null  float64\n",
      " 8   EMA7_ADX     11484 non-null  float64\n",
      " 9   %B           11484 non-null  float64\n",
      " 10  BBBandWidth  11484 non-null  float64\n",
      " 11  DASMA        11484 non-null  int64  \n",
      " 12  DBSMA        11484 non-null  int64  \n",
      " 13  MACD         11484 non-null  float64\n",
      " 14  MACD_signal  11484 non-null  float64\n",
      " 15  MACD_hist    11484 non-null  float64\n",
      " 16  SO           11484 non-null  float64\n",
      " 17  OBV          11484 non-null  float64\n",
      " 18  CMF          11484 non-null  float64\n",
      "dtypes: float64(17), int64(2)\n",
      "memory usage: 1.7 MB\n"
     ]
    }
   ],
   "source": [
    "y_train = train_df['Trend'].copy()\n",
    "X_train = train_df.drop(['Trend'], axis=1)\n",
    "\n",
    "# y_valid = valid_df['Trend'].copy()\n",
    "# X_valid = valid_df.drop(['Trend'], axis=1)\n",
    "\n",
    "y_test  = test_df['Trend'].copy()\n",
    "X_test  = test_df.drop(['Trend'], axis=1)\n",
    "\n",
    "X_train = X_train.drop(['Date'], axis=1)\n",
    "# X_valid = X_valid.drop(['Date'], axis=1)\n",
    "X_test = X_test.drop(['Date'], axis=1)\n",
    "\n",
    "X_train.info()"
   ]
  },
  {
   "cell_type": "code",
   "execution_count": 732,
   "id": "7f7548b8",
   "metadata": {},
   "outputs": [
    {
     "data": {
      "image/png": "[encoded data removed]",
      "text/plain": [
       "<Figure size 480x480 with 2 Axes>"
      ]
     },
     "metadata": {},
     "output_type": "display_data"
    }
   ],
   "source": [
    "corr = X_train.corr()\n",
    "corr.style.background_gradient(cmap='coolwarm')\n",
    "plt.matshow(corr)\n",
    "cb = plt.colorbar()\n",
    "cb.ax.tick_params(labelsize=14)"
   ]
  },
  {
   "cell_type": "code",
   "execution_count": 733,
   "id": "44536215",
   "metadata": {},
   "outputs": [
    {
     "data": {
      "text/plain": [
       "array([3, 0, 1, 2])"
      ]
     },
     "execution_count": 733,
     "metadata": {},
     "output_type": "execute_result"
    }
   ],
   "source": [
    "le = LabelEncoder()\n",
    "# le.fit(['Up', 'Down', 'Neutral'])\n",
    "le.fit(['Up', 'Down', 'Neutral', 'Unknown'])\n",
    "y_train = le.transform(y_train)\n",
    "# y_valid = le.transform(y_valid)\n",
    "y_test = le.transform(y_test)\n",
    "# le.transform(['Up', 'Down', 'Neutral'])\n",
    "le.transform(['Up', 'Down', 'Neutral', 'Unknown'])"
   ]
  },
  {
   "cell_type": "code",
   "execution_count": 734,
   "id": "ad3a7148",
   "metadata": {},
   "outputs": [],
   "source": [
    "# smote = SMOTE(random_state=42)\n",
    "# X_train, y_train = smote.fit_resample(X_train, y_train)\n",
    "\n",
    "ros = RandomOverSampler(random_state=42)\n",
    "X_train, y_train = ros.fit_resample(X_train, y_train)"
   ]
  },
  {
   "cell_type": "code",
   "execution_count": 735,
   "id": "b0ced00e",
   "metadata": {},
   "outputs": [],
   "source": [
    "rus = RandomUnderSampler(random_state=42)\n",
    "X_test, y_test = rus.fit_resample(X_test, y_test)"
   ]
  },
  {
   "cell_type": "code",
   "execution_count": 736,
   "id": "015fd262",
   "metadata": {},
   "outputs": [
    {
     "data": {
      "text/plain": [
       "(array([4258., 4258., 4258., 4258.]),\n",
       " array([0.  , 0.75, 1.5 , 2.25, 3.  ]),\n",
       " <BarContainer object of 4 artists>)"
      ]
     },
     "execution_count": 736,
     "metadata": {},
     "output_type": "execute_result"
    },
    {
     "data": {
      "image/png": "[encoded data removed]",
      "text/plain": [
       "<Figure size 640x480 with 1 Axes>"
      ]
     },
     "metadata": {},
     "output_type": "display_data"
    }
   ],
   "source": [
    "# plt.hist(y_train, bins=3, edgecolor='black')\n",
    "plt.hist(y_train, bins=4, edgecolor='black')"
   ]
  },
  {
   "cell_type": "code",
   "execution_count": 737,
   "id": "cf3f6089",
   "metadata": {},
   "outputs": [
    {
     "data": {
      "text/plain": [
       "(array([755., 755., 755., 755.]),\n",
       " array([0.  , 0.75, 1.5 , 2.25, 3.  ]),\n",
       " <BarContainer object of 4 artists>)"
      ]
     },
     "execution_count": 737,
     "metadata": {},
     "output_type": "execute_result"
    },
    {
     "data": {
      "image/png": "[encoded data removed]",
      "text/plain": [
       "<Figure size 640x480 with 1 Axes>"
      ]
     },
     "metadata": {},
     "output_type": "display_data"
    }
   ],
   "source": [
    "# plt.hist(y_test, bins=3, edgecolor='black')\n",
    "plt.hist(y_test, bins=4, edgecolor='black')"
   ]
  },
  {
   "cell_type": "code",
   "execution_count": 738,
   "id": "29f460c9",
   "metadata": {},
   "outputs": [
    {
     "name": "stdout",
     "output_type": "stream",
     "text": [
      "Fitting 3 folds for each of 4 candidates, totalling 12 fits\n",
      "Best Parameters: {'colsample_bytree': 0.8, 'learning_rate': 0.1, 'max_depth': 8, 'n_estimators': 500, 'subsample': 0.6}\n",
      "Best Cross-Validation Accuracy: 0.5674628113758702\n",
      "CPU times: total: 57.5 s\n",
      "Wall time: 1min 7s\n"
     ]
    }
   ],
   "source": [
    "%%time\n",
    "\n",
    "param_grid = {\n",
    "    'max_depth': [8],\n",
    "    'learning_rate': [0.1],\n",
    "    'n_estimators': [500],\n",
    "    'subsample': [0.6, 0.8],\n",
    "    'colsample_bytree': [0.8, 1.0],\n",
    "}\n",
    "\n",
    "# model = xgb.XGBClassifier(objective='multi:softmax', num_class=3, eval_metric='mlogloss')\n",
    "model = xgb.XGBClassifier(objective='multi:softmax', num_class=4, eval_metric='mlogloss')\n",
    "\n",
    "# Thiết lập GridSearchCV\n",
    "grid_search = GridSearchCV(\n",
    "    estimator=model,\n",
    "    param_grid=param_grid,\n",
    "    cv=3,  # 3-fold cross-validation\n",
    "    scoring='accuracy',  # Tối ưu hóa dựa trên accuracy\n",
    "    n_jobs=3, \n",
    "    verbose=1\n",
    ")\n",
    "\n",
    "# Huấn luyện GridSearchCV\n",
    "grid_search.fit(X_train, y_train)\n",
    "\n",
    "# In tham số tốt nhất và điểm số\n",
    "print(\"Best Parameters:\", grid_search.best_params_)\n",
    "print(\"Best Cross-Validation Accuracy:\", grid_search.best_score_)"
   ]
  },
  {
   "cell_type": "code",
   "execution_count": 739,
   "id": "576aa018",
   "metadata": {},
   "outputs": [
    {
     "name": "stdout",
     "output_type": "stream",
     "text": [
      "Test Accuracy: 0.3464\n",
      "\n",
      "Classification Report:\n",
      "              precision    recall  f1-score   support\n",
      "\n",
      "           0       0.33      0.29      0.31       755\n",
      "           1       0.41      0.34      0.37       755\n",
      "           2       0.45      0.24      0.31       755\n",
      "           3       0.29      0.52      0.37       755\n",
      "\n",
      "    accuracy                           0.35      3020\n",
      "   macro avg       0.37      0.35      0.34      3020\n",
      "weighted avg       0.37      0.35      0.34      3020\n",
      "\n",
      "\n",
      "Confusion Matrix:\n",
      "[[216 126 100 313]\n",
      " [120 259  31 345]\n",
      " [161 122 180 292]\n",
      " [150 123  91 391]]\n"
     ]
    }
   ],
   "source": [
    "best_model = grid_search.best_estimator_\n",
    "y_pred = best_model.predict(X_test)\n",
    "\n",
    "# Đánh giá mô hình\n",
    "accuracy = accuracy_score(y_test, y_pred)\n",
    "print(f'Test Accuracy: {accuracy:.4f}')\n",
    "print('\\nClassification Report:')\n",
    "print(classification_report(y_test, y_pred))\n",
    "print('\\nConfusion Matrix:')\n",
    "print(confusion_matrix(y_test, y_pred))"
   ]
  },
  {
   "cell_type": "code",
   "execution_count": 740,
   "id": "1d8a40e5",
   "metadata": {},
   "outputs": [
    {
     "data": {
      "text/plain": [
       "array([3, 0, 1, 2])"
      ]
     },
     "execution_count": 740,
     "metadata": {},
     "output_type": "execute_result"
    }
   ],
   "source": [
    "le.transform(['Up', 'Down', 'Neutral'])\n",
    "le.transform(['Up', 'Down', 'Neutral', 'Unknown'])"
   ]
  },
  {
   "cell_type": "code",
   "execution_count": 741,
   "id": "a58e647a",
   "metadata": {},
   "outputs": [
    {
     "data": {
      "image/png": "[encoded data removed]",
      "text/plain": [
       "<Figure size 640x480 with 1 Axes>"
      ]
     },
     "metadata": {},
     "output_type": "display_data"
    }
   ],
   "source": [
    "# plt.hist(train_df['Trend'], bins=3, edgecolor='black')\n",
    "plt.hist(train_df['Trend'], bins=4, edgecolor='black')\n",
    "plt.title('Distribution of Trend Labels in train set')\n",
    "plt.xlabel('Trend')\n",
    "plt.ylabel('Count')\n",
    "plt.show()"
   ]
  },
  {
   "cell_type": "code",
   "execution_count": 742,
   "id": "f542b16f",
   "metadata": {},
   "outputs": [
    {
     "data": {
      "image/png": "[encoded data removed]",
      "text/plain": [
       "<Figure size 640x480 with 1 Axes>"
      ]
     },
     "metadata": {},
     "output_type": "display_data"
    }
   ],
   "source": [
    "# plt.hist(test_df['Trend'], bins=3, edgecolor='black')\n",
    "plt.hist(test_df['Trend'], bins=4, edgecolor='black')\n",
    "plt.title('Distribution of Trend Labels in test set')\n",
    "plt.xlabel('Trend')\n",
    "plt.ylabel('Count')\n",
    "plt.show()"
   ]
  },
  {
   "cell_type": "code",
   "execution_count": 743,
   "id": "c7787b31",
   "metadata": {},
   "outputs": [
    {
     "data": {
      "image/png": "[encoded data removed]",
      "text/plain": [
       "<Figure size 640x480 with 1 Axes>"
      ]
     },
     "metadata": {},
     "output_type": "display_data"
    }
   ],
   "source": [
    "xgb.plot_importance(best_model)\n",
    "plt.title('Feature Importance')\n",
    "plt.show()"
   ]
  }
 ],
 "metadata": {
  "kernelspec": {
   "display_name": "Python 3",
   "language": "python",
   "name": "python3"
  },
  "language_info": {
   "codemirror_mode": {
    "name": "ipython",
    "version": 3
   },
   "file_extension": ".py",
   "mimetype": "text/x-python",
   "name": "python",
   "nbconvert_exporter": "python",
   "pygments_lexer": "ipython3",
   "version": "3.9.12"
  }
 },
 "nbformat": 4,
 "nbformat_minor": 5
}
