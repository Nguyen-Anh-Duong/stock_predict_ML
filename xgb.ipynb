{
 "cells": [
  {
   "cell_type": "markdown",
   "id": "8dcae8b7",
   "metadata": {},
   "source": [
    "### Import"
   ]
  },
  {
   "cell_type": "code",
   "execution_count": 1507,
   "id": "14db345b",
   "metadata": {},
   "outputs": [],
   "source": [
    "import numpy as np\n",
    "import pandas as pd\n",
    "import xgboost as xgb\n",
    "import matplotlib.pyplot as plt\n",
    "from xgboost import plot_importance, plot_tree\n",
    "from xgboost import XGBClassifier\n",
    "from sklearn.metrics import mean_squared_error, accuracy_score, classification_report, confusion_matrix\n",
    "from sklearn.preprocessing import MinMaxScaler, LabelEncoder\n",
    "from sklearn.model_selection import train_test_split, GridSearchCV\n",
    "\n",
    "from imblearn.over_sampling import SMOTE, RandomOverSampler\n",
    "from imblearn.under_sampling import RandomUnderSampler\n",
    "\n",
    "#plot\n",
    "import plotly as py\n",
    "import plotly.io as pio\n",
    "import plotly.graph_objects as go\n",
    "from plotly.subplots import make_subplots\n",
    "from plotly.offline import download_plotlyjs, init_notebook_mode, plot, iplot\n",
    "layout=go.Layout(paper_bgcolor='rgba(0,0,0,0)', plot_bgcolor='rgba(250,250,250,0.8)')\n",
    "fig = go.Figure(layout=layout)\n",
    "templated_fig = pio.to_templated(fig)\n",
    "pio.templates['my_template'] = templated_fig.layout.template\n",
    "pio.templates.default = 'my_template'\n",
    "\n",
    "#technical analysis\n",
    "import ta\n",
    "import ta.momentum\n",
    "import ta.volatility\n",
    "import ta.volume"
   ]
  },
  {
   "cell_type": "markdown",
   "id": "f43fdadc",
   "metadata": {},
   "source": [
    "#### Ignore warnings"
   ]
  },
  {
   "cell_type": "code",
   "execution_count": 1508,
   "id": "bc81cf98",
   "metadata": {},
   "outputs": [],
   "source": [
    "from warnings import simplefilter\n",
    "simplefilter(action='ignore', category=FutureWarning)\n",
    "simplefilter(action='ignore', category=DeprecationWarning)"
   ]
  },
  {
   "cell_type": "code",
   "execution_count": 1509,
   "id": "f0e6dbfc",
   "metadata": {},
   "outputs": [],
   "source": [
    "# df = pd.read_csv(\"./data/nasdaq/csv/INTC.csv\", sep=',')\n",
    "# df = pd.read_csv(\"./data/nasdaq/csv/BAC.csv\", sep=',')\n",
    "df = pd.read_csv(\"./data/nyse/csv/F.csv\", sep=',')\n",
    "df['Date'] = pd.to_datetime(df['Date'], dayfirst=True)\n",
    "df.index = range(len(df))\n",
    "\n",
    "df.tail()\n",
    "df.set_index('Date', inplace=True)\n",
    "\n",
    "all_dates = pd.date_range(start=df.index.min(), end=df.index.max(), freq='D')\n",
    "df = df.reindex(all_dates) \n",
    "df[['Low', 'Open', 'Volume', 'High', 'Close', 'Adjusted Close']] = df[['Low', 'Open', 'Volume', 'High', 'Close', 'Adjusted Close']].interpolate(method='linear')\n",
    "df['Open'] = df['Close'].shift(1)\n",
    "df['High'] = df[['High', 'Open', 'Close']].max(axis=1)\n",
    "df['Low'] = df[['Low', 'Open', 'Close']].min(axis=1)\n",
    "df.reset_index(inplace=True)\n",
    "df.rename(columns={'index': 'Date'}, inplace=True)"
   ]
  },
  {
   "cell_type": "markdown",
   "id": "52245103",
   "metadata": {},
   "source": [
    "### Add technical analysis indicators"
   ]
  },
  {
   "cell_type": "markdown",
   "id": "db4026ec",
   "metadata": {},
   "source": [
    "#### RSI - Relative Strength Index"
   ]
  },
  {
   "cell_type": "code",
   "execution_count": 1510,
   "id": "dd37bc13",
   "metadata": {},
   "outputs": [],
   "source": [
    "df['RSI7'] = ta.momentum.RSIIndicator(df['Close'], window=7).rsi()\n",
    "df['RSI14'] = ta.momentum.RSIIndicator(df['Close'], window=14).rsi()\n",
    "df['RSI30'] = ta.momentum.RSIIndicator(df['Close'], window=30).rsi()\n",
    "df['RSI50'] = ta.momentum.RSIIndicator(df['Close'], window=50).rsi()\n",
    "\n",
    "# df['MEAN_RSI7_5'] = df['RSI7'].rolling(window=5).mean()\n",
    "# df['MEAN_RSI14_5'] = df['RSI14'].rolling(window=5).mean()\n",
    "# df['MEAN_RSI30_5'] = df['RSI30'].rolling(window=5).mean()\n",
    "# df['MEAN_RSI50_5'] = df['RSI50'].rolling(window=5).mean()\n",
    "\n",
    "df['DRSI7'] = df['RSI7'].diff()\n",
    "df['DRSI14'] = df['RSI14'].diff()\n",
    "df['DRSI30'] = df['RSI30'].diff()"
   ]
  },
  {
   "cell_type": "markdown",
   "id": "3ae0a1a0",
   "metadata": {},
   "source": [
    "#### EMA RSI"
   ]
  },
  {
   "cell_type": "code",
   "execution_count": 1511,
   "id": "aac2199a",
   "metadata": {},
   "outputs": [],
   "source": [
    "df['EMA7_RSI14'] = ta.trend.EMAIndicator(df['RSI14'], window=7).ema_indicator()\n",
    "df['EMA14_RSI14'] = ta.trend.EMAIndicator(df['RSI14'], window=14).ema_indicator()\n",
    "df['EMA7_RSI30'] = ta.trend.EMAIndicator(df['RSI30'], window=7).ema_indicator()\n",
    "df['EMA14_RSI30'] = ta.trend.EMAIndicator(df['RSI30'], window=14).ema_indicator()"
   ]
  },
  {
   "cell_type": "markdown",
   "id": "1986f73c",
   "metadata": {},
   "source": [
    "#### SMA - Simple Moving Average"
   ]
  },
  {
   "cell_type": "code",
   "execution_count": 1512,
   "id": "41f1f09a",
   "metadata": {},
   "outputs": [],
   "source": [
    "df['SMA5'] = ta.trend.SMAIndicator(df['Close'], window=5).sma_indicator()\n",
    "df['SMA10'] = ta.trend.SMAIndicator(df['Close'], window=10).sma_indicator()\n",
    "df['SMA14'] = ta.trend.SMAIndicator(df['Close'], window=14).sma_indicator()\n",
    "df['SMA30'] = ta.trend.SMAIndicator(df['Close'], window=30).sma_indicator()\n",
    "df['SMA50'] = ta.trend.SMAIndicator(df['Close'], window=50).sma_indicator()"
   ]
  },
  {
   "cell_type": "markdown",
   "id": "727138be",
   "metadata": {},
   "source": [
    "#### EMA - Exponential Moving Average"
   ]
  },
  {
   "cell_type": "code",
   "execution_count": 1513,
   "id": "64409dcb",
   "metadata": {},
   "outputs": [],
   "source": [
    "df['EMA5'] = ta.trend.EMAIndicator(df['Close'], window=5).ema_indicator()\n",
    "df['EMA10'] = ta.trend.EMAIndicator(df['Close'], window=10).ema_indicator()\n",
    "df['EMA14'] = ta.trend.EMAIndicator(df['Close'], window=14).ema_indicator()"
   ]
  },
  {
   "cell_type": "markdown",
   "id": "0e7461b6",
   "metadata": {},
   "source": [
    "#### KAMA - Kaufman's Adaptive Moving Average"
   ]
  },
  {
   "cell_type": "code",
   "execution_count": 1514,
   "id": "b7acc0fb",
   "metadata": {},
   "outputs": [],
   "source": [
    "df['KAMA'] = ta.momentum.KAMAIndicator(close=df['Close']).kama()"
   ]
  },
  {
   "cell_type": "markdown",
   "id": "c9e50bde",
   "metadata": {},
   "source": [
    "#### ADX - Average Directional Movement"
   ]
  },
  {
   "cell_type": "code",
   "execution_count": 1515,
   "id": "bfcb50ae",
   "metadata": {},
   "outputs": [],
   "source": [
    "df['ADX'] = ta.trend.ADXIndicator(high=df['High'], low=df['Low'], close=df['Close'], window=14).adx()"
   ]
  },
  {
   "cell_type": "markdown",
   "id": "021b7251",
   "metadata": {},
   "source": [
    "#### EMA ADX"
   ]
  },
  {
   "cell_type": "code",
   "execution_count": 1516,
   "id": "f83e7baf",
   "metadata": {},
   "outputs": [],
   "source": [
    "df['EMA7_ADX'] = ta.trend.EMAIndicator(df['ADX'], window=7).ema_indicator()"
   ]
  },
  {
   "cell_type": "markdown",
   "id": "5927273f",
   "metadata": {},
   "source": [
    "#### Bollinger Bands"
   ]
  },
  {
   "cell_type": "code",
   "execution_count": 1517,
   "id": "eaebc542",
   "metadata": {},
   "outputs": [],
   "source": [
    "bb = ta.volatility.BollingerBands(close=df['Close'], window=14)\n",
    "df['HB'] = bb.bollinger_hband()\n",
    "df['LB'] = bb.bollinger_lband()\n",
    "df['MB'] = bb.bollinger_mavg()\n",
    "df['%B'] = (df['Close'] - df['LB']) / (df['HB'] - df['LB'])\n",
    "df['BBBandWidth'] = (df['HB'] - df['LB']) / df['MB']"
   ]
  },
  {
   "cell_type": "code",
   "execution_count": 1518,
   "id": "cdffa749",
   "metadata": {},
   "outputs": [],
   "source": [
    "bb10 = ta.volatility.BollingerBands(close=df['Close'], window=10)\n",
    "df['HB10'] = bb10.bollinger_hband()\n",
    "df['LB10'] = bb10.bollinger_lband()\n",
    "df['MB10'] = bb10.bollinger_mavg()\n",
    "df['%B10'] = (df['Close'] - df['LB10']) / (df['HB10'] - df['LB10'])"
   ]
  },
  {
   "cell_type": "code",
   "execution_count": 1519,
   "id": "2124f2fb",
   "metadata": {},
   "outputs": [],
   "source": [
    "#consecutive days above sma20\n",
    "df['AboveSMA20'] = (df['Close'] > df['MB']).astype(int)\n",
    "df['DASMA'] = 0\n",
    "consecutive_count = 0\n",
    "r = np.zeros(len(df), dtype=int)\n",
    "for i in range(1, len(df)):\n",
    "    if df['AboveSMA20'].iloc[i]:\n",
    "        consecutive_count += 1\n",
    "    else:\n",
    "        consecutive_count = 0\n",
    "    r[i] = consecutive_count\n",
    "df['DASMA'] = r\n",
    "df.drop(['AboveSMA20'], axis=1, inplace=True)"
   ]
  },
  {
   "cell_type": "code",
   "execution_count": 1520,
   "id": "4f47c4e5",
   "metadata": {},
   "outputs": [],
   "source": [
    "#consecutive days below sma20\n",
    "df['BelowSMA20'] = (df['Close'] < df['MB']).astype(int)\n",
    "df['DBSMA'] = 0\n",
    "consecutive_count = 0\n",
    "r = np.zeros(len(df), dtype=int)\n",
    "for i in range(1, len(df)):\n",
    "    if df['BelowSMA20'].iloc[i]:\n",
    "        consecutive_count += 1\n",
    "    else:\n",
    "        consecutive_count = 0\n",
    "    r[i] = consecutive_count\n",
    "df['DBSMA'] = r\n",
    "df.drop(['BelowSMA20'], axis=1, inplace=True)"
   ]
  },
  {
   "cell_type": "code",
   "execution_count": 1521,
   "id": "ea95a6c5",
   "metadata": {},
   "outputs": [],
   "source": [
    "# EMA Bandwidth\n",
    "df['EMA_BBBandWidth'] = ta.trend.EMAIndicator(df['BBBandWidth'], window=5).ema_indicator()"
   ]
  },
  {
   "cell_type": "markdown",
   "id": "e3d5ad6b",
   "metadata": {},
   "source": [
    "#### MACD"
   ]
  },
  {
   "cell_type": "code",
   "execution_count": 1522,
   "id": "3f307a34",
   "metadata": {},
   "outputs": [],
   "source": [
    "df['MACD'] = ta.trend.MACD(df['Close']).macd()\n",
    "df['MACD_signal'] = ta.trend.MACD(df['Close']).macd_signal()\n",
    "df['MACD_hist'] = ta.trend.MACD(df['Close']).macd_diff()"
   ]
  },
  {
   "cell_type": "markdown",
   "id": "96cbb1ac",
   "metadata": {},
   "source": [
    "#### Stochastic Oscillator"
   ]
  },
  {
   "cell_type": "code",
   "execution_count": 1523,
   "id": "ab047c18",
   "metadata": {},
   "outputs": [],
   "source": [
    "df['SO'] = ta.momentum.StochasticOscillator(high=df['High'], low=df['Low'], close=df['Close']).stoch()\n",
    "df['EMA7_SO'] = ta.trend.EMAIndicator(df['SO'], window=7).ema_indicator()\n",
    "df['EMA14_SO'] = ta.trend.EMAIndicator(df['SO'], window=14).ema_indicator()"
   ]
  },
  {
   "cell_type": "markdown",
   "id": "bedb03b9",
   "metadata": {},
   "source": [
    "#### On Balance Volume"
   ]
  },
  {
   "cell_type": "code",
   "execution_count": 1524,
   "id": "0257825d",
   "metadata": {},
   "outputs": [],
   "source": [
    "df['OBV'] = ta.volume.OnBalanceVolumeIndicator(close=df['Close'], volume=df['Volume']).on_balance_volume()"
   ]
  },
  {
   "cell_type": "markdown",
   "id": "a6b68d89",
   "metadata": {},
   "source": [
    "#### Chaikin Money Flow"
   ]
  },
  {
   "cell_type": "code",
   "execution_count": 1525,
   "id": "feb4c21a",
   "metadata": {},
   "outputs": [],
   "source": [
    "df['CMF'] = ta.volume.ChaikinMoneyFlowIndicator(high=df['High'], low=df['Low'], close=df['Close'], volume=df['Volume']).chaikin_money_flow()"
   ]
  },
  {
   "cell_type": "markdown",
   "id": "be01702a",
   "metadata": {},
   "source": [
    "### Visualize"
   ]
  },
  {
   "cell_type": "code",
   "execution_count": 1526,
   "id": "d5d293f3",
   "metadata": {},
   "outputs": [
    {
     "data": {
      "application/vnd.plotly.v1+json": {
       "config": {
        "plotlyServerURL": "https://plot.ly"
       },
       "data": [
        {
         "name": "Close",
         "type": "scatter",
         "x": [
          "2000-11-21T00:00:00.000000000",
          "2000-11-22T00:00:00.000000000",
          "2000-11-23T00:00:00.000000000",
          "2000-11-24T00:00:00.000000000",
          "2000-11-25T00:00:00.000000000",
          "2000-11-26T00:00:00.000000000",
          "2000-11-27T00:00:00.000000000",
          "2000-11-28T00:00:00.000000000",
          "2000-11-29T00:00:00.000000000",
          "2000-11-30T00:00:00.000000000",
          "2000-12-01T00:00:00.000000000",
          "2000-12-02T00:00:00.000000000",
          "2000-12-03T00:00:00.000000000",
          "2000-12-04T00:00:00.000000000",
          "2000-12-05T00:00:00.000000000",
          "2000-12-06T00:00:00.000000000",
          "2000-12-07T00:00:00.000000000",
          "2000-12-08T00:00:00.000000000",
          "2000-12-09T00:00:00.000000000",
          "2000-12-10T00:00:00.000000000",
          "2000-12-11T00:00:00.000000000",
          "2000-12-12T00:00:00.000000000",
          "2000-12-13T00:00:00.000000000",
          "2000-12-14T00:00:00.000000000",
          "2000-12-15T00:00:00.000000000",
          "2000-12-16T00:00:00.000000000",
          "2000-12-17T00:00:00.000000000",
          "2000-12-18T00:00:00.000000000",
          "2000-12-19T00:00:00.000000000",
          "2000-12-20T00:00:00.000000000",
          "2000-12-21T00:00:00.000000000",
          "2000-12-22T00:00:00.000000000",
          "2000-12-23T00:00:00.000000000",
          "2000-12-24T00:00:00.000000000",
          "2000-12-25T00:00:00.000000000",
          "2000-12-26T00:00:00.000000000",
          "2000-12-27T00:00:00.000000000",
          "2000-12-28T00:00:00.000000000",
          "2000-12-29T00:00:00.000000000",
          "2000-12-30T00:00:00.000000000",
          "2000-12-31T00:00:00.000000000",
          "2001-01-01T00:00:00.000000000",
          "2001-01-02T00:00:00.000000000",
          "2001-01-03T00:00:00.000000000",
          "2001-01-04T00:00:00.000000000",
          "2001-01-05T00:00:00.000000000",
          "2001-01-06T00:00:00.000000000",
          "2001-01-07T00:00:00.000000000",
          "2001-01-08T00:00:00.000000000",
          "2001-01-09T00:00:00.000000000",
          "2001-01-10T00:00:00.000000000",
          "2001-01-11T00:00:00.000000000",
          "2001-01-12T00:00:00.000000000",
          "2001-01-13T00:00:00.000000000",
          "2001-01-14T00:00:00.000000000",
          "2001-01-15T00:00:00.000000000",
          "2001-01-16T00:00:00.000000000",
          "2001-01-17T00:00:00.000000000",
          "2001-01-18T00:00:00.000000000",
          "2001-01-19T00:00:00.000000000",
          "2001-01-20T00:00:00.000000000",
          "2001-01-21T00:00:00.000000000",
          "2001-01-22T00:00:00.000000000",
          "2001-01-23T00:00:00.000000000",
          "2001-01-24T00:00:00.000000000",
          "2001-01-25T00:00:00.000000000",
          "2001-01-26T00:00:00.000000000",
          "2001-01-27T00:00:00.000000000",
          "2001-01-28T00:00:00.000000000",
          "2001-01-29T00:00:00.000000000",
          "2001-01-30T00:00:00.000000000",
          "2001-01-31T00:00:00.000000000",
          "2001-02-01T00:00:00.000000000",
          "2001-02-02T00:00:00.000000000",
          "2001-02-03T00:00:00.000000000",
          "2001-02-04T00:00:00.000000000",
          "2001-02-05T00:00:00.000000000",
          "2001-02-06T00:00:00.000000000",
          "2001-02-07T00:00:00.000000000",
          "2001-02-08T00:00:00.000000000",
          "2001-02-09T00:00:00.000000000",
          "2001-02-10T00:00:00.000000000",
          "2001-02-11T00:00:00.000000000",
          "2001-02-12T00:00:00.000000000",
          "2001-02-13T00:00:00.000000000",
          "2001-02-14T00:00:00.000000000",
          "2001-02-15T00:00:00.000000000",
          "2001-02-16T00:00:00.000000000",
          "2001-02-17T00:00:00.000000000",
          "2001-02-18T00:00:00.000000000",
          "2001-02-19T00:00:00.000000000",
          "2001-02-20T00:00:00.000000000",
          "2001-02-21T00:00:00.000000000",
          "2001-02-22T00:00:00.000000000",
          "2001-02-23T00:00:00.000000000",
          "2001-02-24T00:00:00.000000000",
          "2001-02-25T00:00:00.000000000",
          "2001-02-26T00:00:00.000000000",
          "2001-02-27T00:00:00.000000000",
          "2001-02-28T00:00:00.000000000",
          "2001-03-01T00:00:00.000000000",
          "2001-03-02T00:00:00.000000000",
          "2001-03-03T00:00:00.000000000",
          "2001-03-04T00:00:00.000000000",
          "2001-03-05T00:00:00.000000000",
          "2001-03-06T00:00:00.000000000",
          "2001-03-07T00:00:00.000000000",
          "2001-03-08T00:00:00.000000000",
          "2001-03-09T00:00:00.000000000",
          "2001-03-10T00:00:00.000000000",
          "2001-03-11T00:00:00.000000000",
          "2001-03-12T00:00:00.000000000",
          "2001-03-13T00:00:00.000000000",
          "2001-03-14T00:00:00.000000000",
          "2001-03-15T00:00:00.000000000",
          "2001-03-16T00:00:00.000000000",
          "2001-03-17T00:00:00.000000000",
          "2001-03-18T00:00:00.000000000",
          "2001-03-19T00:00:00.000000000",
          "2001-03-20T00:00:00.000000000",
          "2001-03-21T00:00:00.000000000",
          "2001-03-22T00:00:00.000000000",
          "2001-03-23T00:00:00.000000000",
          "2001-03-24T00:00:00.000000000",
          "2001-03-25T00:00:00.000000000",
          "2001-03-26T00:00:00.000000000",
          "2001-03-27T00:00:00.000000000",
          "2001-03-28T00:00:00.000000000",
          "2001-03-29T00:00:00.000000000",
          "2001-03-30T00:00:00.000000000",
          "2001-03-31T00:00:00.000000000",
          "2001-04-01T00:00:00.000000000",
          "2001-04-02T00:00:00.000000000",
          "2001-04-03T00:00:00.000000000",
          "2001-04-04T00:00:00.000000000",
          "2001-04-05T00:00:00.000000000",
          "2001-04-06T00:00:00.000000000",
          "2001-04-07T00:00:00.000000000",
          "2001-04-08T00:00:00.000000000",
          "2001-04-09T00:00:00.000000000",
          "2001-04-10T00:00:00.000000000",
          "2001-04-11T00:00:00.000000000",
          "2001-04-12T00:00:00.000000000",
          "2001-04-13T00:00:00.000000000",
          "2001-04-14T00:00:00.000000000",
          "2001-04-15T00:00:00.000000000",
          "2001-04-16T00:00:00.000000000",
          "2001-04-17T00:00:00.000000000",
          "2001-04-18T00:00:00.000000000",
          "2001-04-19T00:00:00.000000000"
         ],
         "xaxis": "x",
         "y": {
          "bdata": "AAAAAABgOEAAAAAAANA3QAAAAAAA8DdAAAAAAAAQOECrqqqqqjo4QFVVVVVVZThAAAAAAACQOEAAAAAAACA4QAAAAAAAcDhAAAAAAADANkAAAAAAADA4QAAAAAAAEDhAAAAAAADwN0AAAAAAANA3QAAAAAAAwDhAAAAAAADgN0AAAAAAAAA4QAAAAAAAIDhAq6qqqqoKOEBVVVVVVfU3QAAAAAAA4DdAAAAAAACgN0AAAAAAAKA3QAAAAAAAQDdAAAAAAACANkBVVVVVVdU2QKuqqqqqKjdAAAAAAACAN0AAAAAAAJA3QAAAAAAAIDZAAAAAAAAwOEAAAAAAANA2QAAAAAAAHDdAAAAAAABoN0AAAAAAALQ3QAAAAAAAADhAAAAAAACQN0AAAAAAAEA4QAAAAAAAcDdAAAAAAACoN0AAAAAAAOA3QAAAAAAAGDhAAAAAAABQOEAAAAAAACA5QAAAAAAA8DpAAAAAAABAOkCrqqqqqgo6QFVVVVVV1TlAAAAAAACgOUAAAAAAAHA6QAAAAAAAQDpAAAAAAADwOkAAAAAAAGA6QAAAAAAAkDpAAAAAAADAOkAAAAAAAPA6QAAAAAAAIDtAAAAAAADgOkAAAAAAADA7QAAAAAAAUDpAVVVVVVWVOkCrqqqqqto6QAAAAAAAIDtAAAAAAAAAO0AAAAAAAMA7QAAAAAAAEDxAAAAAAAAAPECrqqoqvxg8QFVVVVV+MTxAAAAAgD1KPEAAAADAzEw8QAAAAOCjMDxAAAAAYLhePEABAABgjwI8QFZVVVUbKDxAq6qqSqdNPEAAAABAM3M8QAAAAKBwvTxAAQAAYI9CO0ABAABgjwI8QAAAACCF6zpAAAAAAJ02O0AAAADgtIE7QAAAAMDMzDtAAAAAIIXrO0D/////KNw7QAAAAAAAADxAAAAAoJmZO0AAAADYo6A7QAAAABCupztAAAAASLiuO0AAAACAwrU7QAAAAIAUrjtAAQAAYI+CO0AAAACgmVk8QFVVVfXubjxAq6qqSkSEPEAAAACgmZk8QAAAAIAUbjxAAAAAIFzPO0AAAACAwjU8QAAAACBcDzxAAAAAANcjPEAAAADgUTg8QAAAAMDMTDxAAAAAgD0KPUD////fehQ9QAAAAKCZWT5AAAAAoJkZPkCrqqpqZiY+QFVVVTUzMz5AAAAAAABAPkAAAABACtc9QAAAAOCjsDxAAAAAoJmZPEAAAACAFG48QKuqqgrX4zxAVVVVlZlZPUAAAAAgXM89QAAAAIDr0TxAAAAAAABAPEAAAAAgXM87QAEAAGBm5jtAq6qqymlDPEBWVVU1baA8QAAAAKBw/TxAAAAAYLgePEAAAADgo/A7QAAAAKBwfTxAAAAAYLgePEBVVVWViEg8QKqqqspYcjxA/////yicPEAAAABguF47QAAAAIDrkTxAAAAAoJlZPEAAAADAzMw7QKuqqiozMzxAVVVVlZmZPEAAAAAAAAA9QAAAAIDC9TxAAAAAgBQuPEAAAAAAAAA9QAAAACCFCz1AAAAAQAoXPUAAAABgjyI9QAAAAIAULj1AAAAAoEfhPEAAAACAwrU+QAAAAMDMTD5A",
          "dtype": "f8"
         },
         "yaxis": "y"
        },
        {
         "name": "Bollinger High Band",
         "type": "scatter",
         "x": [
          "2000-11-21T00:00:00.000000000",
          "2000-11-22T00:00:00.000000000",
          "2000-11-23T00:00:00.000000000",
          "2000-11-24T00:00:00.000000000",
          "2000-11-25T00:00:00.000000000",
          "2000-11-26T00:00:00.000000000",
          "2000-11-27T00:00:00.000000000",
          "2000-11-28T00:00:00.000000000",
          "2000-11-29T00:00:00.000000000",
          "2000-11-30T00:00:00.000000000",
          "2000-12-01T00:00:00.000000000",
          "2000-12-02T00:00:00.000000000",
          "2000-12-03T00:00:00.000000000",
          "2000-12-04T00:00:00.000000000",
          "2000-12-05T00:00:00.000000000",
          "2000-12-06T00:00:00.000000000",
          "2000-12-07T00:00:00.000000000",
          "2000-12-08T00:00:00.000000000",
          "2000-12-09T00:00:00.000000000",
          "2000-12-10T00:00:00.000000000",
          "2000-12-11T00:00:00.000000000",
          "2000-12-12T00:00:00.000000000",
          "2000-12-13T00:00:00.000000000",
          "2000-12-14T00:00:00.000000000",
          "2000-12-15T00:00:00.000000000",
          "2000-12-16T00:00:00.000000000",
          "2000-12-17T00:00:00.000000000",
          "2000-12-18T00:00:00.000000000",
          "2000-12-19T00:00:00.000000000",
          "2000-12-20T00:00:00.000000000",
          "2000-12-21T00:00:00.000000000",
          "2000-12-22T00:00:00.000000000",
          "2000-12-23T00:00:00.000000000",
          "2000-12-24T00:00:00.000000000",
          "2000-12-25T00:00:00.000000000",
          "2000-12-26T00:00:00.000000000",
          "2000-12-27T00:00:00.000000000",
          "2000-12-28T00:00:00.000000000",
          "2000-12-29T00:00:00.000000000",
          "2000-12-30T00:00:00.000000000",
          "2000-12-31T00:00:00.000000000",
          "2001-01-01T00:00:00.000000000",
          "2001-01-02T00:00:00.000000000",
          "2001-01-03T00:00:00.000000000",
          "2001-01-04T00:00:00.000000000",
          "2001-01-05T00:00:00.000000000",
          "2001-01-06T00:00:00.000000000",
          "2001-01-07T00:00:00.000000000",
          "2001-01-08T00:00:00.000000000",
          "2001-01-09T00:00:00.000000000",
          "2001-01-10T00:00:00.000000000",
          "2001-01-11T00:00:00.000000000",
          "2001-01-12T00:00:00.000000000",
          "2001-01-13T00:00:00.000000000",
          "2001-01-14T00:00:00.000000000",
          "2001-01-15T00:00:00.000000000",
          "2001-01-16T00:00:00.000000000",
          "2001-01-17T00:00:00.000000000",
          "2001-01-18T00:00:00.000000000",
          "2001-01-19T00:00:00.000000000",
          "2001-01-20T00:00:00.000000000",
          "2001-01-21T00:00:00.000000000",
          "2001-01-22T00:00:00.000000000",
          "2001-01-23T00:00:00.000000000",
          "2001-01-24T00:00:00.000000000",
          "2001-01-25T00:00:00.000000000",
          "2001-01-26T00:00:00.000000000",
          "2001-01-27T00:00:00.000000000",
          "2001-01-28T00:00:00.000000000",
          "2001-01-29T00:00:00.000000000",
          "2001-01-30T00:00:00.000000000",
          "2001-01-31T00:00:00.000000000",
          "2001-02-01T00:00:00.000000000",
          "2001-02-02T00:00:00.000000000",
          "2001-02-03T00:00:00.000000000",
          "2001-02-04T00:00:00.000000000",
          "2001-02-05T00:00:00.000000000",
          "2001-02-06T00:00:00.000000000",
          "2001-02-07T00:00:00.000000000",
          "2001-02-08T00:00:00.000000000",
          "2001-02-09T00:00:00.000000000",
          "2001-02-10T00:00:00.000000000",
          "2001-02-11T00:00:00.000000000",
          "2001-02-12T00:00:00.000000000",
          "2001-02-13T00:00:00.000000000",
          "2001-02-14T00:00:00.000000000",
          "2001-02-15T00:00:00.000000000",
          "2001-02-16T00:00:00.000000000",
          "2001-02-17T00:00:00.000000000",
          "2001-02-18T00:00:00.000000000",
          "2001-02-19T00:00:00.000000000",
          "2001-02-20T00:00:00.000000000",
          "2001-02-21T00:00:00.000000000",
          "2001-02-22T00:00:00.000000000",
          "2001-02-23T00:00:00.000000000",
          "2001-02-24T00:00:00.000000000",
          "2001-02-25T00:00:00.000000000",
          "2001-02-26T00:00:00.000000000",
          "2001-02-27T00:00:00.000000000",
          "2001-02-28T00:00:00.000000000",
          "2001-03-01T00:00:00.000000000",
          "2001-03-02T00:00:00.000000000",
          "2001-03-03T00:00:00.000000000",
          "2001-03-04T00:00:00.000000000",
          "2001-03-05T00:00:00.000000000",
          "2001-03-06T00:00:00.000000000",
          "2001-03-07T00:00:00.000000000",
          "2001-03-08T00:00:00.000000000",
          "2001-03-09T00:00:00.000000000",
          "2001-03-10T00:00:00.000000000",
          "2001-03-11T00:00:00.000000000",
          "2001-03-12T00:00:00.000000000",
          "2001-03-13T00:00:00.000000000",
          "2001-03-14T00:00:00.000000000",
          "2001-03-15T00:00:00.000000000",
          "2001-03-16T00:00:00.000000000",
          "2001-03-17T00:00:00.000000000",
          "2001-03-18T00:00:00.000000000",
          "2001-03-19T00:00:00.000000000",
          "2001-03-20T00:00:00.000000000",
          "2001-03-21T00:00:00.000000000",
          "2001-03-22T00:00:00.000000000",
          "2001-03-23T00:00:00.000000000",
          "2001-03-24T00:00:00.000000000",
          "2001-03-25T00:00:00.000000000",
          "2001-03-26T00:00:00.000000000",
          "2001-03-27T00:00:00.000000000",
          "2001-03-28T00:00:00.000000000",
          "2001-03-29T00:00:00.000000000",
          "2001-03-30T00:00:00.000000000",
          "2001-03-31T00:00:00.000000000",
          "2001-04-01T00:00:00.000000000",
          "2001-04-02T00:00:00.000000000",
          "2001-04-03T00:00:00.000000000",
          "2001-04-04T00:00:00.000000000",
          "2001-04-05T00:00:00.000000000",
          "2001-04-06T00:00:00.000000000",
          "2001-04-07T00:00:00.000000000",
          "2001-04-08T00:00:00.000000000",
          "2001-04-09T00:00:00.000000000",
          "2001-04-10T00:00:00.000000000",
          "2001-04-11T00:00:00.000000000",
          "2001-04-12T00:00:00.000000000",
          "2001-04-13T00:00:00.000000000",
          "2001-04-14T00:00:00.000000000",
          "2001-04-15T00:00:00.000000000",
          "2001-04-16T00:00:00.000000000",
          "2001-04-17T00:00:00.000000000",
          "2001-04-18T00:00:00.000000000",
          "2001-04-19T00:00:00.000000000"
         ],
         "xaxis": "x",
         "y": {
          "bdata": "NIADrtM3OkAIW4QW+0M6QL+kKh9kMDpAEo6yuAIlOkAZX8G+vhE6QIEfaABP+DlAtWLzj/HZOUACieObS7I5QNppdrN6ETlAQ70MocYhOUA5dVWp+fg4QJwbYXXH6jhAU5d/30HqOEBSJZaU7eU4QIMrrt1g/DhA8V7jPlf8OED1LEZ76Pw4QJbM27oV/jhAHfqfUdr5OECYrodkqe04QEOuxRJ91ThAGQBXX8fQOEAQ6De/1Lo4QHYxh+Z4ljhAFuKxovzIOEA2Jr+ID884QBudUP2qyDhAUCOrbhfDOEALiHt7xn44QBMzO6xbnDhANbX0MEOnOEDfuHP3ZIo4QJZFEGixajhAA8AWe41ROEAPeJiJ80c4QMzeBRMdXThAfoOd6ppaOEBseSCRkYk4QAGwsJzUgjhASv50LG6HOEDKFcIL+JU4QF2OF9I/qzhAECSarfLJOECWt34qRe84QNnwP13++DlAtmE6t5VnOkAvka5VZ7E6QPZWFTdp4jpAaNaqFDYCO0AL2hHa4kk7QBsJAM5EbjtAU245IIe8O0BTvhRgbb87QMrOnPSzvDtAV47Dy7uyO0CXSJXofJ47QBmfEKYEeTtAo1XPpDVhO0BLdj+fCnE7QMxMKPYGcTtA9+JBuBZxO0De5kglp207QOIEN6wpWTtA/2UjAeBgO0DU3stbopg7QCgV60et5jtAakHzQoEYPEBOUEuGOUk8QNX1f1D5eDxA/qlzcL+nPEBN7Mjqxs88QMCDBoSu6DxAD7fr7AgJPUBrkagwi/I8QNTvsflK3jxAkD6rLZLOPEDjxBVl3cY8QGLciXl0qTxA0dVKicvNPEDz0x95p808QEHScDjV/jxApSozvBEKPUAy/RmNFQU9QOVZEe1D+TxAMugza3LtPECJiO/BjeQ8QL3MwMxp1TxAIcQnomjPPEAI9ILC1MI8QHrXrRnQrDxAArN32RiJPECRwhWAijs8QOL0PMdMOjxAcJxDjyUpPEAUzT0FDjw8QKNkAf78WzxACsycGTqDPEBadKPty6o8QNdOqFr3vjxA4w+8XrW+PEAFk13FB8U8QIfbS5HaxTxAuxs1Z2THPEC2wHekmck8QAUc5j1bzDxAHO7QF1r+PEC988mDTCQ9QEc6LLYYvj1AFRKNB4IaPkD+9R+VY2g+QFDAnCNhrD5Ak6HsAO3oPkDwcFep/wU/QFIXoslR9j5AYrBFg3TwPkACdsC4fec+QIIR4oeM2z5AqqUq2ebRPkBlA3TXlM8+QAMT/5Af0j5AKYHPnhrkPkCUWMnZedI+QFFaUOgLuT5Ai2XyUjWFPkCnxGWmoT8+QF1H7Gdd7T1AJh5kK4irPUCns49VZ6s9QKm9/5xzqT1Ad3b88xipPUACXuXPzpo9QBV/zKmebj1AX6f/a+0BPUABg4HkpwI9QKxCQzOADT1AevfAGagNPUBfYfmy/A89QJ+2Y+kgDz1AYla2TM0NPUBWXJbEqA49QCk3SwODLz1AINeDi90tPUAAPxogYUc9QJBBeAj/Yz1AlMDd9g9/PUCC6kOiMZg9QItc8gzfrj1A3IH5RMWMPUDBuxGQYS8+QE/Py4fEej5A",
          "dtype": "f8"
         },
         "yaxis": "y"
        },
        {
         "name": "Bollinger Low Band",
         "type": "scatter",
         "x": [
          "2000-11-21T00:00:00.000000000",
          "2000-11-22T00:00:00.000000000",
          "2000-11-23T00:00:00.000000000",
          "2000-11-24T00:00:00.000000000",
          "2000-11-25T00:00:00.000000000",
          "2000-11-26T00:00:00.000000000",
          "2000-11-27T00:00:00.000000000",
          "2000-11-28T00:00:00.000000000",
          "2000-11-29T00:00:00.000000000",
          "2000-11-30T00:00:00.000000000",
          "2000-12-01T00:00:00.000000000",
          "2000-12-02T00:00:00.000000000",
          "2000-12-03T00:00:00.000000000",
          "2000-12-04T00:00:00.000000000",
          "2000-12-05T00:00:00.000000000",
          "2000-12-06T00:00:00.000000000",
          "2000-12-07T00:00:00.000000000",
          "2000-12-08T00:00:00.000000000",
          "2000-12-09T00:00:00.000000000",
          "2000-12-10T00:00:00.000000000",
          "2000-12-11T00:00:00.000000000",
          "2000-12-12T00:00:00.000000000",
          "2000-12-13T00:00:00.000000000",
          "2000-12-14T00:00:00.000000000",
          "2000-12-15T00:00:00.000000000",
          "2000-12-16T00:00:00.000000000",
          "2000-12-17T00:00:00.000000000",
          "2000-12-18T00:00:00.000000000",
          "2000-12-19T00:00:00.000000000",
          "2000-12-20T00:00:00.000000000",
          "2000-12-21T00:00:00.000000000",
          "2000-12-22T00:00:00.000000000",
          "2000-12-23T00:00:00.000000000",
          "2000-12-24T00:00:00.000000000",
          "2000-12-25T00:00:00.000000000",
          "2000-12-26T00:00:00.000000000",
          "2000-12-27T00:00:00.000000000",
          "2000-12-28T00:00:00.000000000",
          "2000-12-29T00:00:00.000000000",
          "2000-12-30T00:00:00.000000000",
          "2000-12-31T00:00:00.000000000",
          "2001-01-01T00:00:00.000000000",
          "2001-01-02T00:00:00.000000000",
          "2001-01-03T00:00:00.000000000",
          "2001-01-04T00:00:00.000000000",
          "2001-01-05T00:00:00.000000000",
          "2001-01-06T00:00:00.000000000",
          "2001-01-07T00:00:00.000000000",
          "2001-01-08T00:00:00.000000000",
          "2001-01-09T00:00:00.000000000",
          "2001-01-10T00:00:00.000000000",
          "2001-01-11T00:00:00.000000000",
          "2001-01-12T00:00:00.000000000",
          "2001-01-13T00:00:00.000000000",
          "2001-01-14T00:00:00.000000000",
          "2001-01-15T00:00:00.000000000",
          "2001-01-16T00:00:00.000000000",
          "2001-01-17T00:00:00.000000000",
          "2001-01-18T00:00:00.000000000",
          "2001-01-19T00:00:00.000000000",
          "2001-01-20T00:00:00.000000000",
          "2001-01-21T00:00:00.000000000",
          "2001-01-22T00:00:00.000000000",
          "2001-01-23T00:00:00.000000000",
          "2001-01-24T00:00:00.000000000",
          "2001-01-25T00:00:00.000000000",
          "2001-01-26T00:00:00.000000000",
          "2001-01-27T00:00:00.000000000",
          "2001-01-28T00:00:00.000000000",
          "2001-01-29T00:00:00.000000000",
          "2001-01-30T00:00:00.000000000",
          "2001-01-31T00:00:00.000000000",
          "2001-02-01T00:00:00.000000000",
          "2001-02-02T00:00:00.000000000",
          "2001-02-03T00:00:00.000000000",
          "2001-02-04T00:00:00.000000000",
          "2001-02-05T00:00:00.000000000",
          "2001-02-06T00:00:00.000000000",
          "2001-02-07T00:00:00.000000000",
          "2001-02-08T00:00:00.000000000",
          "2001-02-09T00:00:00.000000000",
          "2001-02-10T00:00:00.000000000",
          "2001-02-11T00:00:00.000000000",
          "2001-02-12T00:00:00.000000000",
          "2001-02-13T00:00:00.000000000",
          "2001-02-14T00:00:00.000000000",
          "2001-02-15T00:00:00.000000000",
          "2001-02-16T00:00:00.000000000",
          "2001-02-17T00:00:00.000000000",
          "2001-02-18T00:00:00.000000000",
          "2001-02-19T00:00:00.000000000",
          "2001-02-20T00:00:00.000000000",
          "2001-02-21T00:00:00.000000000",
          "2001-02-22T00:00:00.000000000",
          "2001-02-23T00:00:00.000000000",
          "2001-02-24T00:00:00.000000000",
          "2001-02-25T00:00:00.000000000",
          "2001-02-26T00:00:00.000000000",
          "2001-02-27T00:00:00.000000000",
          "2001-02-28T00:00:00.000000000",
          "2001-03-01T00:00:00.000000000",
          "2001-03-02T00:00:00.000000000",
          "2001-03-03T00:00:00.000000000",
          "2001-03-04T00:00:00.000000000",
          "2001-03-05T00:00:00.000000000",
          "2001-03-06T00:00:00.000000000",
          "2001-03-07T00:00:00.000000000",
          "2001-03-08T00:00:00.000000000",
          "2001-03-09T00:00:00.000000000",
          "2001-03-10T00:00:00.000000000",
          "2001-03-11T00:00:00.000000000",
          "2001-03-12T00:00:00.000000000",
          "2001-03-13T00:00:00.000000000",
          "2001-03-14T00:00:00.000000000",
          "2001-03-15T00:00:00.000000000",
          "2001-03-16T00:00:00.000000000",
          "2001-03-17T00:00:00.000000000",
          "2001-03-18T00:00:00.000000000",
          "2001-03-19T00:00:00.000000000",
          "2001-03-20T00:00:00.000000000",
          "2001-03-21T00:00:00.000000000",
          "2001-03-22T00:00:00.000000000",
          "2001-03-23T00:00:00.000000000",
          "2001-03-24T00:00:00.000000000",
          "2001-03-25T00:00:00.000000000",
          "2001-03-26T00:00:00.000000000",
          "2001-03-27T00:00:00.000000000",
          "2001-03-28T00:00:00.000000000",
          "2001-03-29T00:00:00.000000000",
          "2001-03-30T00:00:00.000000000",
          "2001-03-31T00:00:00.000000000",
          "2001-04-01T00:00:00.000000000",
          "2001-04-02T00:00:00.000000000",
          "2001-04-03T00:00:00.000000000",
          "2001-04-04T00:00:00.000000000",
          "2001-04-05T00:00:00.000000000",
          "2001-04-06T00:00:00.000000000",
          "2001-04-07T00:00:00.000000000",
          "2001-04-08T00:00:00.000000000",
          "2001-04-09T00:00:00.000000000",
          "2001-04-10T00:00:00.000000000",
          "2001-04-11T00:00:00.000000000",
          "2001-04-12T00:00:00.000000000",
          "2001-04-13T00:00:00.000000000",
          "2001-04-14T00:00:00.000000000",
          "2001-04-15T00:00:00.000000000",
          "2001-04-16T00:00:00.000000000",
          "2001-04-17T00:00:00.000000000",
          "2001-04-18T00:00:00.000000000",
          "2001-04-19T00:00:00.000000000"
         ],
         "xaxis": "x",
         "y": {
          "bdata": "FhIhm76cN0D4pHvpBGw3QNN/HnPASDdAOARykI8vN0AZrQFyTSE3QMlyvEhDHDdA3cFVAjMfN0DaLYo/axs3QNwDZQPzeTdAT2c88V0XN0CjQRgyvSQ3QFghbn51JDdAiR/u+3QjN0BA/7L9NjM3QOuvCJB6KjdAocVlU80sN0DBQJU7hS43QEbqkSChLzdAUeEWHAEtN0DWLC8JMik3QJkIqMg5KDdAnW2EV6YaN0DMzjUc4hI3QIrOeBmHSTdADmfggUzZNkAeL5bMRaY2QHeH+JR5kDZAjJPCbJ+KNkAZwRapgqM2QBEWV3jtRTZAXW9UYeFBNkCza9Wavy42QJrGsshaLDZAaxug8k0xNkA7Goy/njQ2QFhqjBEsLTZAgnxiFWUtNkDeGAS4ACM2QG0rBtEGTDZAhvXHooVlNkCkxfRh43A2QO0DDXdScTZA8NtlUg1uNkBG/+6wcbY2QEtYUsdKETZASp7FSGogNkDFqyCe1UE2QAqp6siWaTZAvHLnDxOQNkCrk8nciqE2QMGtbQ1y3zZArZHG33jzNkBjr8ZWAFw3QBLo0OYCyTdAF03zoR88OEDXkiGFXrg4QMMXXTWyRDlAOWGeNoGcOUAjZXfO0JU5QMbXIJwdmDlA1xD7Ft2rOUBGYkn/odQ5QLAfEub6HzpA3VBK2tYsOkB2s1jt7ys6QLShgpMJBzpAKONVT6MQOkAUyDpbBhg6QHWcpHgPHTpATOiw2L8fOkBpgRIMsSI6QEB8+dvgOTpAO9s4XMVEOkC5t+mTV5k6QFBZ4Moh5zpAulN5G9orO0CvXzPtA2Q7QDBIvzgPwTtAnQVspMyKO0BXvgQwBYk7QON2ISxYMDtA+bxGos0EO0CEcMEJrfA6QImBpSCT6jpA8mBe+X7oOkAt5esUUuU6QI3FY/zt5jpA3zvYnfDdOkBYJANHKtc6QPQDCQx51TpAIpYaux7dOkBL9FfrAQU7QEJUVc2bFTtAkGO84HkUO0B+Vwt93TU7QI+nwYKMQjtA0urQUT9AO0A4sKVU7zU7QN8eM6xqNDtA010fiNgyO0BF/8YzNDQ7QOf/agw0RDtAReTKYGhVO0BKP4jT3Gc7QGm/0G+weztALqRTcVV6O0Afw6M3loc7QLnF0+mmVTtA6+1ymD05O0AOzRD3Iyo7QNSI9UC2IztAt/A3KIIjO0DsRRZSADo7QBzEFATdaTtAegYomP19O0BIHGRwfJQ7QOAGpFnbuztAeqNna9TuO0AtIdV6Xyg8QNmjbgrJHTxAIRFVSnPtO0D+y3/YL6I7QPk31MAoaztAmeOf0f9ZO0B9hCx+CWY7QO1KOEE5ijtAJHTAXSeNO0DrcLl82nE7QA2w21nIbztA0xsotcxkO0BguqAR51w7QOuAM/YNaDtAxaGSeNyoO0C16lmyGnM7QHgGT1H2cztA0JpjD46HO0APer06kYE7QD0AChIcgDtAMM6SBXaAO0A8yLIt+H87QNfItDzWfTtAck3FpkKIO0C2LsHWZYE7QALj0AmchjtAOjNfWAuJO0Ds8HILFok7QON+xCBBhztA2uvh8ZPgO0A/RO7vOow7QENVfWooiDtA",
          "dtype": "f8"
         },
         "yaxis": "y"
        },
        {
         "name": "SMA5",
         "type": "scatter",
         "x": [
          "2000-11-21T00:00:00.000000000",
          "2000-11-22T00:00:00.000000000",
          "2000-11-23T00:00:00.000000000",
          "2000-11-24T00:00:00.000000000",
          "2000-11-25T00:00:00.000000000",
          "2000-11-26T00:00:00.000000000",
          "2000-11-27T00:00:00.000000000",
          "2000-11-28T00:00:00.000000000",
          "2000-11-29T00:00:00.000000000",
          "2000-11-30T00:00:00.000000000",
          "2000-12-01T00:00:00.000000000",
          "2000-12-02T00:00:00.000000000",
          "2000-12-03T00:00:00.000000000",
          "2000-12-04T00:00:00.000000000",
          "2000-12-05T00:00:00.000000000",
          "2000-12-06T00:00:00.000000000",
          "2000-12-07T00:00:00.000000000",
          "2000-12-08T00:00:00.000000000",
          "2000-12-09T00:00:00.000000000",
          "2000-12-10T00:00:00.000000000",
          "2000-12-11T00:00:00.000000000",
          "2000-12-12T00:00:00.000000000",
          "2000-12-13T00:00:00.000000000",
          "2000-12-14T00:00:00.000000000",
          "2000-12-15T00:00:00.000000000",
          "2000-12-16T00:00:00.000000000",
          "2000-12-17T00:00:00.000000000",
          "2000-12-18T00:00:00.000000000",
          "2000-12-19T00:00:00.000000000",
          "2000-12-20T00:00:00.000000000",
          "2000-12-21T00:00:00.000000000",
          "2000-12-22T00:00:00.000000000",
          "2000-12-23T00:00:00.000000000",
          "2000-12-24T00:00:00.000000000",
          "2000-12-25T00:00:00.000000000",
          "2000-12-26T00:00:00.000000000",
          "2000-12-27T00:00:00.000000000",
          "2000-12-28T00:00:00.000000000",
          "2000-12-29T00:00:00.000000000",
          "2000-12-30T00:00:00.000000000",
          "2000-12-31T00:00:00.000000000",
          "2001-01-01T00:00:00.000000000",
          "2001-01-02T00:00:00.000000000",
          "2001-01-03T00:00:00.000000000",
          "2001-01-04T00:00:00.000000000",
          "2001-01-05T00:00:00.000000000",
          "2001-01-06T00:00:00.000000000",
          "2001-01-07T00:00:00.000000000",
          "2001-01-08T00:00:00.000000000",
          "2001-01-09T00:00:00.000000000",
          "2001-01-10T00:00:00.000000000",
          "2001-01-11T00:00:00.000000000",
          "2001-01-12T00:00:00.000000000",
          "2001-01-13T00:00:00.000000000",
          "2001-01-14T00:00:00.000000000",
          "2001-01-15T00:00:00.000000000",
          "2001-01-16T00:00:00.000000000",
          "2001-01-17T00:00:00.000000000",
          "2001-01-18T00:00:00.000000000",
          "2001-01-19T00:00:00.000000000",
          "2001-01-20T00:00:00.000000000",
          "2001-01-21T00:00:00.000000000",
          "2001-01-22T00:00:00.000000000",
          "2001-01-23T00:00:00.000000000",
          "2001-01-24T00:00:00.000000000",
          "2001-01-25T00:00:00.000000000",
          "2001-01-26T00:00:00.000000000",
          "2001-01-27T00:00:00.000000000",
          "2001-01-28T00:00:00.000000000",
          "2001-01-29T00:00:00.000000000",
          "2001-01-30T00:00:00.000000000",
          "2001-01-31T00:00:00.000000000",
          "2001-02-01T00:00:00.000000000",
          "2001-02-02T00:00:00.000000000",
          "2001-02-03T00:00:00.000000000",
          "2001-02-04T00:00:00.000000000",
          "2001-02-05T00:00:00.000000000",
          "2001-02-06T00:00:00.000000000",
          "2001-02-07T00:00:00.000000000",
          "2001-02-08T00:00:00.000000000",
          "2001-02-09T00:00:00.000000000",
          "2001-02-10T00:00:00.000000000",
          "2001-02-11T00:00:00.000000000",
          "2001-02-12T00:00:00.000000000",
          "2001-02-13T00:00:00.000000000",
          "2001-02-14T00:00:00.000000000",
          "2001-02-15T00:00:00.000000000",
          "2001-02-16T00:00:00.000000000",
          "2001-02-17T00:00:00.000000000",
          "2001-02-18T00:00:00.000000000",
          "2001-02-19T00:00:00.000000000",
          "2001-02-20T00:00:00.000000000",
          "2001-02-21T00:00:00.000000000",
          "2001-02-22T00:00:00.000000000",
          "2001-02-23T00:00:00.000000000",
          "2001-02-24T00:00:00.000000000",
          "2001-02-25T00:00:00.000000000",
          "2001-02-26T00:00:00.000000000",
          "2001-02-27T00:00:00.000000000",
          "2001-02-28T00:00:00.000000000",
          "2001-03-01T00:00:00.000000000",
          "2001-03-02T00:00:00.000000000",
          "2001-03-03T00:00:00.000000000",
          "2001-03-04T00:00:00.000000000",
          "2001-03-05T00:00:00.000000000",
          "2001-03-06T00:00:00.000000000",
          "2001-03-07T00:00:00.000000000",
          "2001-03-08T00:00:00.000000000",
          "2001-03-09T00:00:00.000000000",
          "2001-03-10T00:00:00.000000000",
          "2001-03-11T00:00:00.000000000",
          "2001-03-12T00:00:00.000000000",
          "2001-03-13T00:00:00.000000000",
          "2001-03-14T00:00:00.000000000",
          "2001-03-15T00:00:00.000000000",
          "2001-03-16T00:00:00.000000000",
          "2001-03-17T00:00:00.000000000",
          "2001-03-18T00:00:00.000000000",
          "2001-03-19T00:00:00.000000000",
          "2001-03-20T00:00:00.000000000",
          "2001-03-21T00:00:00.000000000",
          "2001-03-22T00:00:00.000000000",
          "2001-03-23T00:00:00.000000000",
          "2001-03-24T00:00:00.000000000",
          "2001-03-25T00:00:00.000000000",
          "2001-03-26T00:00:00.000000000",
          "2001-03-27T00:00:00.000000000",
          "2001-03-28T00:00:00.000000000",
          "2001-03-29T00:00:00.000000000",
          "2001-03-30T00:00:00.000000000",
          "2001-03-31T00:00:00.000000000",
          "2001-04-01T00:00:00.000000000",
          "2001-04-02T00:00:00.000000000",
          "2001-04-03T00:00:00.000000000",
          "2001-04-04T00:00:00.000000000",
          "2001-04-05T00:00:00.000000000",
          "2001-04-06T00:00:00.000000000",
          "2001-04-07T00:00:00.000000000",
          "2001-04-08T00:00:00.000000000",
          "2001-04-09T00:00:00.000000000",
          "2001-04-10T00:00:00.000000000",
          "2001-04-11T00:00:00.000000000",
          "2001-04-12T00:00:00.000000000",
          "2001-04-13T00:00:00.000000000",
          "2001-04-14T00:00:00.000000000",
          "2001-04-15T00:00:00.000000000",
          "2001-04-16T00:00:00.000000000",
          "2001-04-17T00:00:00.000000000",
          "2001-04-18T00:00:00.000000000",
          "2001-04-19T00:00:00.000000000"
         ],
         "xaxis": "x2",
         "y": {
          "bdata": "AAAAAABAOEBmZmZmZgY4QLu7u7u76zdAAAAAAADwN0BWVVVVVRU4QGZmZmZmFjhAzczMzMw8OEBmZmZmZkY4QJqZmZmZWThA3t3d3d0NOEAzMzMzMwM4QJqZmZmZ6TdAAAAAAADgN0AAAAAAAMA3QGZmZmZmJjhAZmZmZmYWOEAzMzMzMxM4QM3MzMzMHDhAiYiIiIgoOEAAAAAAAAA4QAAAAAAAADhAzczMzMzsN0AzMzMzM9M3QKqqqqqqqjdAAAAAAABgN0Crqqqqqio3QDMzMzMzEzdAzczMzMwMN0DNzMzMzBw3QJqZmZmZCTdA7u7u7u5ON0DNzMzMzDw3QM3MzMzMKDdAzczMzMwgN0CamZmZmXE3QAAAAAAAaDdAZmZmZmaON0DNzMzMzMg3QGZmZmZmyjdAAAAAAADIN0CamZmZmcE3QM3MzMzM3DdAAAAAAADgN0BmZmZmZjY4QGZmZmZm3jhAAAAAAABYOUC9u7u7u7s5QJqZmZmZCTpAMzMzMzMjOkCamZmZmQk6QJqZmZmZCTpAeHd3d3c3OkAzMzMzM1M6QDMzMzMzgzpAMzMzMzOTOkBmZmZmZrY6QAAAAAAAwDpAmpmZmZnZOkCamZmZmfk6QDMzMzMz4zpAEhERERHROkAzMzMzM8M6QAAAAAAA0DpAZmZmZmbGOkAAAAAAABA7QLu7u7u7WztAZmZmZmaWO0C9u7s7Jsg7QAAAAIA/BTxAZmZmZuUgPECamZlZDi08QJqZmbnINjxA3t3dXcdEPEAAAABgZDs8QN7d3b2QNDxAMzMzc7w0PEAzMzNTDEI8QJqZmfn9VDxAMzMzk5cuPEDw7u4uFSc8QM3MzIxB4DtAzczMTPCgO0AAAADAymE7QAAAAKBwfTtAmpmZ+dR4O0AAAADA9ag7QAAAAMA80TtAmpmZGQTWO0BmZmYeL807QM3MzLSdvztAmpmZKYe2O0AAAAAQrqc7QDMzM6PGqztAMzMzi8KlO0BmZmYOWMk7QEVERGTJ7ztAzczMjBYZPEDNzMwsMUg8QM3MzMxLdzxAZmZm5qVbPEC7u7ubNlA8QJqZmfnUODxAZmZmpkchPEAAAAAghxY8QGZmZqadLzxAZmZmphxaPEAAAAAAVo48QM3MzOx8/zxAmpmZeb5fPUDu7u7Odr49QGZmZibb+T1AMzMzk8I1PkBmZmbmpRs+QAAAAMB00z1Adnd3lxiEPUCamZnZeCk9QO7u7g7X4zxAZmZmhsDKPEAzMzOTGAQ9QGZmZiZcDz1AmpmZ2SQGPUAQERER2c48QAAAAKCbhDxAioiIKGs1PECamZkZhSs8QM3MzGxoUTxAzczMrEdhPECamZn5U2M8QBIREfHubjxAmpmZ+f1UPEAQERGRzzA8QAAAAECJQTxAMzMzE9djPEBmZmYGfyo8QAAAAECJQTxA7u7uDvNEPEDNzMwM1yM8QFVVVRXZDjxAzczM7NJNPEBmZmYG12M8QGZmZmYSgzxAZmZmJoeWPECqqqrqfL88QAAAAKBF1jxAZmZmRuHaPEDNzMwM1+M8QAAAAEAKFz1AAAAAYOUQPUCamZnZJGY9QM3MzIwYpD1A",
          "dtype": "f8"
         },
         "yaxis": "y2"
        },
        {
         "name": "SMA10",
         "type": "scatter",
         "x": [
          "2000-11-21T00:00:00.000000000",
          "2000-11-22T00:00:00.000000000",
          "2000-11-23T00:00:00.000000000",
          "2000-11-24T00:00:00.000000000",
          "2000-11-25T00:00:00.000000000",
          "2000-11-26T00:00:00.000000000",
          "2000-11-27T00:00:00.000000000",
          "2000-11-28T00:00:00.000000000",
          "2000-11-29T00:00:00.000000000",
          "2000-11-30T00:00:00.000000000",
          "2000-12-01T00:00:00.000000000",
          "2000-12-02T00:00:00.000000000",
          "2000-12-03T00:00:00.000000000",
          "2000-12-04T00:00:00.000000000",
          "2000-12-05T00:00:00.000000000",
          "2000-12-06T00:00:00.000000000",
          "2000-12-07T00:00:00.000000000",
          "2000-12-08T00:00:00.000000000",
          "2000-12-09T00:00:00.000000000",
          "2000-12-10T00:00:00.000000000",
          "2000-12-11T00:00:00.000000000",
          "2000-12-12T00:00:00.000000000",
          "2000-12-13T00:00:00.000000000",
          "2000-12-14T00:00:00.000000000",
          "2000-12-15T00:00:00.000000000",
          "2000-12-16T00:00:00.000000000",
          "2000-12-17T00:00:00.000000000",
          "2000-12-18T00:00:00.000000000",
          "2000-12-19T00:00:00.000000000",
          "2000-12-20T00:00:00.000000000",
          "2000-12-21T00:00:00.000000000",
          "2000-12-22T00:00:00.000000000",
          "2000-12-23T00:00:00.000000000",
          "2000-12-24T00:00:00.000000000",
          "2000-12-25T00:00:00.000000000",
          "2000-12-26T00:00:00.000000000",
          "2000-12-27T00:00:00.000000000",
          "2000-12-28T00:00:00.000000000",
          "2000-12-29T00:00:00.000000000",
          "2000-12-30T00:00:00.000000000",
          "2000-12-31T00:00:00.000000000",
          "2001-01-01T00:00:00.000000000",
          "2001-01-02T00:00:00.000000000",
          "2001-01-03T00:00:00.000000000",
          "2001-01-04T00:00:00.000000000",
          "2001-01-05T00:00:00.000000000",
          "2001-01-06T00:00:00.000000000",
          "2001-01-07T00:00:00.000000000",
          "2001-01-08T00:00:00.000000000",
          "2001-01-09T00:00:00.000000000",
          "2001-01-10T00:00:00.000000000",
          "2001-01-11T00:00:00.000000000",
          "2001-01-12T00:00:00.000000000",
          "2001-01-13T00:00:00.000000000",
          "2001-01-14T00:00:00.000000000",
          "2001-01-15T00:00:00.000000000",
          "2001-01-16T00:00:00.000000000",
          "2001-01-17T00:00:00.000000000",
          "2001-01-18T00:00:00.000000000",
          "2001-01-19T00:00:00.000000000",
          "2001-01-20T00:00:00.000000000",
          "2001-01-21T00:00:00.000000000",
          "2001-01-22T00:00:00.000000000",
          "2001-01-23T00:00:00.000000000",
          "2001-01-24T00:00:00.000000000",
          "2001-01-25T00:00:00.000000000",
          "2001-01-26T00:00:00.000000000",
          "2001-01-27T00:00:00.000000000",
          "2001-01-28T00:00:00.000000000",
          "2001-01-29T00:00:00.000000000",
          "2001-01-30T00:00:00.000000000",
          "2001-01-31T00:00:00.000000000",
          "2001-02-01T00:00:00.000000000",
          "2001-02-02T00:00:00.000000000",
          "2001-02-03T00:00:00.000000000",
          "2001-02-04T00:00:00.000000000",
          "2001-02-05T00:00:00.000000000",
          "2001-02-06T00:00:00.000000000",
          "2001-02-07T00:00:00.000000000",
          "2001-02-08T00:00:00.000000000",
          "2001-02-09T00:00:00.000000000",
          "2001-02-10T00:00:00.000000000",
          "2001-02-11T00:00:00.000000000",
          "2001-02-12T00:00:00.000000000",
          "2001-02-13T00:00:00.000000000",
          "2001-02-14T00:00:00.000000000",
          "2001-02-15T00:00:00.000000000",
          "2001-02-16T00:00:00.000000000",
          "2001-02-17T00:00:00.000000000",
          "2001-02-18T00:00:00.000000000",
          "2001-02-19T00:00:00.000000000",
          "2001-02-20T00:00:00.000000000",
          "2001-02-21T00:00:00.000000000",
          "2001-02-22T00:00:00.000000000",
          "2001-02-23T00:00:00.000000000",
          "2001-02-24T00:00:00.000000000",
          "2001-02-25T00:00:00.000000000",
          "2001-02-26T00:00:00.000000000",
          "2001-02-27T00:00:00.000000000",
          "2001-02-28T00:00:00.000000000",
          "2001-03-01T00:00:00.000000000",
          "2001-03-02T00:00:00.000000000",
          "2001-03-03T00:00:00.000000000",
          "2001-03-04T00:00:00.000000000",
          "2001-03-05T00:00:00.000000000",
          "2001-03-06T00:00:00.000000000",
          "2001-03-07T00:00:00.000000000",
          "2001-03-08T00:00:00.000000000",
          "2001-03-09T00:00:00.000000000",
          "2001-03-10T00:00:00.000000000",
          "2001-03-11T00:00:00.000000000",
          "2001-03-12T00:00:00.000000000",
          "2001-03-13T00:00:00.000000000",
          "2001-03-14T00:00:00.000000000",
          "2001-03-15T00:00:00.000000000",
          "2001-03-16T00:00:00.000000000",
          "2001-03-17T00:00:00.000000000",
          "2001-03-18T00:00:00.000000000",
          "2001-03-19T00:00:00.000000000",
          "2001-03-20T00:00:00.000000000",
          "2001-03-21T00:00:00.000000000",
          "2001-03-22T00:00:00.000000000",
          "2001-03-23T00:00:00.000000000",
          "2001-03-24T00:00:00.000000000",
          "2001-03-25T00:00:00.000000000",
          "2001-03-26T00:00:00.000000000",
          "2001-03-27T00:00:00.000000000",
          "2001-03-28T00:00:00.000000000",
          "2001-03-29T00:00:00.000000000",
          "2001-03-30T00:00:00.000000000",
          "2001-03-31T00:00:00.000000000",
          "2001-04-01T00:00:00.000000000",
          "2001-04-02T00:00:00.000000000",
          "2001-04-03T00:00:00.000000000",
          "2001-04-04T00:00:00.000000000",
          "2001-04-05T00:00:00.000000000",
          "2001-04-06T00:00:00.000000000",
          "2001-04-07T00:00:00.000000000",
          "2001-04-08T00:00:00.000000000",
          "2001-04-09T00:00:00.000000000",
          "2001-04-10T00:00:00.000000000",
          "2001-04-11T00:00:00.000000000",
          "2001-04-12T00:00:00.000000000",
          "2001-04-13T00:00:00.000000000",
          "2001-04-14T00:00:00.000000000",
          "2001-04-15T00:00:00.000000000",
          "2001-04-16T00:00:00.000000000",
          "2001-04-17T00:00:00.000000000",
          "2001-04-18T00:00:00.000000000",
          "2001-04-19T00:00:00.000000000"
         ],
         "xaxis": "x2",
         "y": {
          "bdata": "3t3d3d3VOECamZmZmbE4QGZmZmZmjjhAZmZmZmZuOECqqqqqqjo4QDMzMzMzKzhAmpmZmZkhOEASERERERk4QM3MzMzMJDhAmpmZmZkROEDNzMzMzAw4QDMzMzMzEzhAMzMzMzMTOEDNzMzMzAw4QCIiIiIiGjhAzczMzMwMOEBmZmZmZv43QGZmZmZm/jdARERERET0N0AzMzMzMxM4QDMzMzMzCzhAAAAAAAAAOEAAAAAAAPg3QJqZmZmZ6TdAAAAAAACwN0BVVVVVVZU3QAAAAAAAgDdAAAAAAABwN0C8u7u7u2M3QM3MzMzMNDdAzczMzMw8N0AAAAAAACg3QM3MzMzMGjdAzczMzMweN0CamZmZmT03QHh3d3d3WzdAmpmZmZllN0DNzMzMzHg3QJqZmZmZdTdAzczMzMycN0DNzMzMzJQ3QJqZmZmZtTdAZmZmZmbUN0BmZmZmZgA4QDMzMzMzUzhAzczMzMyMOEBERERERMw4QM3MzMzM9DhAzczMzMwsOUAAAAAAAHQ5QM3MzMzMsDlAmpmZmZn5OUBmZmZmZi46QDMzMzMzUzpAZmZmZmZOOkAAAAAAAGA6QLu7u7u7ezpAZmZmZmaWOkBmZmZmZr46QDMzMzMzuzpAu7u7u7vDOkCamZmZmcE6QM3MzMzM1DpAAAAAAADgOkCamZmZmfk6QGZmZmZmFjtAzczMzMwsO0Dd3d0dE0w7QDMzM/PSZTtAMzMzs3KYO0CrqqoKZcQ7QAAAAJCX5jtAzczMzHYGPEAAAADwUSA8QCIiIhK7KjxAZmZmZuUwPEBmZmaGajw8QLu7u6viTDxAmpmZ+f00PEBmZmb20i08QAAAAAB/CjxAAAAAUH7xO0DNzMxcZNs7QJqZmRkE1jtARUREFPXPO0BmZmamm8Q7QGZmZoYWuTtAzczMbOebO0AzMzPfT6U7QDMzM1c5nDtAzczMdL6vO0AAAABodbw7QGZmZl7lwDtAzczM1Hi5O0CamZnhesQ7QO7u7kYo0ztAZmZmTmLgO0AAAADo+/k7QAAAACyHDjxAZmZm+n4SPEAAAAAAACA8QDMzM8P1KDxAmpmZabw0PEBmZmZ26UY8QGZmZsahRTxAEhERoSlVPEDNzMx8lWM8QJqZmUlikDxAzczMzCK7PECrqqo6Cvc8QGZmZub7KT1AmpmZSQxiPUCamZlpkY09QM3MzJyZmT1AMzMzs0ehPUAAAAAAqpE9QBIREdHMjD1AZmZmNjNzPUCamZmpxms9QO7u7l66ST1AmpmZ2c4XPUAAAAAQWNk8QDMzMxOupzxA3t3d3cGcPEAAAACgcJ08QDMzM6PGqzxA7u7uXhCYPEDNzMzM93M8QM3MzAwtUjxAmpmZiUFAPEDu7u7+G0E8QGZmZnZoUTxAZmZmhpVjPEC7u7v7tkw8QM3MzJxDSzxAAAAAUOE6PEBmZmYmsDI8QEVERBRYOTxAmpmZ+Sg8PEAzMzMjsFI8QKqqqroCZDxAmpmZGS9dPEAAAAAAK2c8QGZmZkYMkjxAZmZmJlyfPECamZm5dLM8QDMzM7PI1jxAVVVVJTHoPEDNzMw8NR49QJqZmel8Pz1A",
          "dtype": "f8"
         },
         "yaxis": "y2"
        },
        {
         "name": "SMA30",
         "type": "scatter",
         "x": [
          "2000-11-21T00:00:00.000000000",
          "2000-11-22T00:00:00.000000000",
          "2000-11-23T00:00:00.000000000",
          "2000-11-24T00:00:00.000000000",
          "2000-11-25T00:00:00.000000000",
          "2000-11-26T00:00:00.000000000",
          "2000-11-27T00:00:00.000000000",
          "2000-11-28T00:00:00.000000000",
          "2000-11-29T00:00:00.000000000",
          "2000-11-30T00:00:00.000000000",
          "2000-12-01T00:00:00.000000000",
          "2000-12-02T00:00:00.000000000",
          "2000-12-03T00:00:00.000000000",
          "2000-12-04T00:00:00.000000000",
          "2000-12-05T00:00:00.000000000",
          "2000-12-06T00:00:00.000000000",
          "2000-12-07T00:00:00.000000000",
          "2000-12-08T00:00:00.000000000",
          "2000-12-09T00:00:00.000000000",
          "2000-12-10T00:00:00.000000000",
          "2000-12-11T00:00:00.000000000",
          "2000-12-12T00:00:00.000000000",
          "2000-12-13T00:00:00.000000000",
          "2000-12-14T00:00:00.000000000",
          "2000-12-15T00:00:00.000000000",
          "2000-12-16T00:00:00.000000000",
          "2000-12-17T00:00:00.000000000",
          "2000-12-18T00:00:00.000000000",
          "2000-12-19T00:00:00.000000000",
          "2000-12-20T00:00:00.000000000",
          "2000-12-21T00:00:00.000000000",
          "2000-12-22T00:00:00.000000000",
          "2000-12-23T00:00:00.000000000",
          "2000-12-24T00:00:00.000000000",
          "2000-12-25T00:00:00.000000000",
          "2000-12-26T00:00:00.000000000",
          "2000-12-27T00:00:00.000000000",
          "2000-12-28T00:00:00.000000000",
          "2000-12-29T00:00:00.000000000",
          "2000-12-30T00:00:00.000000000",
          "2000-12-31T00:00:00.000000000",
          "2001-01-01T00:00:00.000000000",
          "2001-01-02T00:00:00.000000000",
          "2001-01-03T00:00:00.000000000",
          "2001-01-04T00:00:00.000000000",
          "2001-01-05T00:00:00.000000000",
          "2001-01-06T00:00:00.000000000",
          "2001-01-07T00:00:00.000000000",
          "2001-01-08T00:00:00.000000000",
          "2001-01-09T00:00:00.000000000",
          "2001-01-10T00:00:00.000000000",
          "2001-01-11T00:00:00.000000000",
          "2001-01-12T00:00:00.000000000",
          "2001-01-13T00:00:00.000000000",
          "2001-01-14T00:00:00.000000000",
          "2001-01-15T00:00:00.000000000",
          "2001-01-16T00:00:00.000000000",
          "2001-01-17T00:00:00.000000000",
          "2001-01-18T00:00:00.000000000",
          "2001-01-19T00:00:00.000000000",
          "2001-01-20T00:00:00.000000000",
          "2001-01-21T00:00:00.000000000",
          "2001-01-22T00:00:00.000000000",
          "2001-01-23T00:00:00.000000000",
          "2001-01-24T00:00:00.000000000",
          "2001-01-25T00:00:00.000000000",
          "2001-01-26T00:00:00.000000000",
          "2001-01-27T00:00:00.000000000",
          "2001-01-28T00:00:00.000000000",
          "2001-01-29T00:00:00.000000000",
          "2001-01-30T00:00:00.000000000",
          "2001-01-31T00:00:00.000000000",
          "2001-02-01T00:00:00.000000000",
          "2001-02-02T00:00:00.000000000",
          "2001-02-03T00:00:00.000000000",
          "2001-02-04T00:00:00.000000000",
          "2001-02-05T00:00:00.000000000",
          "2001-02-06T00:00:00.000000000",
          "2001-02-07T00:00:00.000000000",
          "2001-02-08T00:00:00.000000000",
          "2001-02-09T00:00:00.000000000",
          "2001-02-10T00:00:00.000000000",
          "2001-02-11T00:00:00.000000000",
          "2001-02-12T00:00:00.000000000",
          "2001-02-13T00:00:00.000000000",
          "2001-02-14T00:00:00.000000000",
          "2001-02-15T00:00:00.000000000",
          "2001-02-16T00:00:00.000000000",
          "2001-02-17T00:00:00.000000000",
          "2001-02-18T00:00:00.000000000",
          "2001-02-19T00:00:00.000000000",
          "2001-02-20T00:00:00.000000000",
          "2001-02-21T00:00:00.000000000",
          "2001-02-22T00:00:00.000000000",
          "2001-02-23T00:00:00.000000000",
          "2001-02-24T00:00:00.000000000",
          "2001-02-25T00:00:00.000000000",
          "2001-02-26T00:00:00.000000000",
          "2001-02-27T00:00:00.000000000",
          "2001-02-28T00:00:00.000000000",
          "2001-03-01T00:00:00.000000000",
          "2001-03-02T00:00:00.000000000",
          "2001-03-03T00:00:00.000000000",
          "2001-03-04T00:00:00.000000000",
          "2001-03-05T00:00:00.000000000",
          "2001-03-06T00:00:00.000000000",
          "2001-03-07T00:00:00.000000000",
          "2001-03-08T00:00:00.000000000",
          "2001-03-09T00:00:00.000000000",
          "2001-03-10T00:00:00.000000000",
          "2001-03-11T00:00:00.000000000",
          "2001-03-12T00:00:00.000000000",
          "2001-03-13T00:00:00.000000000",
          "2001-03-14T00:00:00.000000000",
          "2001-03-15T00:00:00.000000000",
          "2001-03-16T00:00:00.000000000",
          "2001-03-17T00:00:00.000000000",
          "2001-03-18T00:00:00.000000000",
          "2001-03-19T00:00:00.000000000",
          "2001-03-20T00:00:00.000000000",
          "2001-03-21T00:00:00.000000000",
          "2001-03-22T00:00:00.000000000",
          "2001-03-23T00:00:00.000000000",
          "2001-03-24T00:00:00.000000000",
          "2001-03-25T00:00:00.000000000",
          "2001-03-26T00:00:00.000000000",
          "2001-03-27T00:00:00.000000000",
          "2001-03-28T00:00:00.000000000",
          "2001-03-29T00:00:00.000000000",
          "2001-03-30T00:00:00.000000000",
          "2001-03-31T00:00:00.000000000",
          "2001-04-01T00:00:00.000000000",
          "2001-04-02T00:00:00.000000000",
          "2001-04-03T00:00:00.000000000",
          "2001-04-04T00:00:00.000000000",
          "2001-04-05T00:00:00.000000000",
          "2001-04-06T00:00:00.000000000",
          "2001-04-07T00:00:00.000000000",
          "2001-04-08T00:00:00.000000000",
          "2001-04-09T00:00:00.000000000",
          "2001-04-10T00:00:00.000000000",
          "2001-04-11T00:00:00.000000000",
          "2001-04-12T00:00:00.000000000",
          "2001-04-13T00:00:00.000000000",
          "2001-04-14T00:00:00.000000000",
          "2001-04-15T00:00:00.000000000",
          "2001-04-16T00:00:00.000000000",
          "2001-04-17T00:00:00.000000000",
          "2001-04-18T00:00:00.000000000",
          "2001-04-19T00:00:00.000000000"
         ],
         "xaxis": "x2",
         "y": {
          "bdata": "MzMzMzNbOUB3d3d3d085QHd3d3d3PzlAZmZmZmY2OUBtwRZswS45QM3MzMzMJDlAmpmZmZkZOUAAAAAAAAg5QGZmZmZm9jhAmpmZmZnZOEC8u7u7u8s4QKuqqqqqujhA7+7u7u6uOEDv7u7u7p44QLy7u7u7kzhA3t3d3d19OEBVVVVVVXU4QHd3d3d3bzhAOo7jOI5jOEAiIiIiIlo4QPRJn/RJTzhAmpmZmZlBOEAzMzMzMzM4QJqZmZmZIThAmpmZmZkBOEByHMdxHO83QAAAAAAA4DdAfdInfdLXN0BERERERNQ3QImIiIiIyDdA7+7u7u7GN0BmZmZmZr43QFVVVVVVtzdAvLu7u7uxN0CTPumTPq03QN7d3d3dqTdAVVVVVVWhN0BmZmZmZqI3QN7d3d3dmTdAmpmZmZmhN0Dv7u7u7p43QDMzMzMznzdAZmZmZmaiN0CamZmZma03QEREREREwDdAiYiIiIjUN0Cg9Emf9OU3QImIiIiI9DdAYAu2YAsCOEAzMzMzMxc4QHd3d3d3KzhAvLu7u7tHOEAzMzMzM184QHd3d3d3ezhAvLu7u7ufOEBswRZswcI4QImIiIiI5DhAVVVVVVUBOUBERERERCA5QAAAAAAARDlAx3Ecx3FYOUDv7u7u7no5QDMzMzMznTlA3t3d3d27OUBmZmZmZt45QBERERERATpA7+7u7u4mOkBcsAUbwkc6QCIiImJXcDpAd3d39+GXOkBmZmaGpL06QLy7u+uY4DpAq6qqqjgDO0C8u7sL1xs7QAy2YFs+JjtA7+7u7sM3O0CkT/oEUUw7QKuqqroeZTtAERERcRJzO0Dw7u6efYA7QCMiIkI1hjtANDMz04+IO0DOzMz8N5I7QIqIiFjHnDtAAQAAQMOmO0C8u7t7oq47QDMzM/MZtjtAzczMvEm8O0CrqqruCsA7QO/u7qp/yztAftIn1eDUO0BVVVVtLtw7QAAAANjq4DtAzszM9ETlO0BWVVWtY+o7QD/pk8aN7TtAvbu7c/bxO0DZgi0AQvY7QJuZmQFH+DtAVlVVbS70O0CbmZnRafM7QL27u9NN8jtAm5mZYVfwO0CbmZkhIvI7QBdswT5b8ztAzszMhKT5O0De3d3FBP87QHd3d9/BDDxAq6qq8v0kPEDBFmzZQDc8QGZmZh4+UzxAmpmZ0SdtPECJiIgQEYE8QFVVVU2piDxAERERyXaOPEAAAAD4U5M8QGzBFjTsmjxAq6qqItupPEDNzMzgerw8QAAAANxrxjxAVVVVlUPLPECamZkJHsw8QCMiIqL+zTxAsAVbUGzUPEAzMzOzyNY8QMIWbMGI2zxAmpmZOSbYPEDv7u5uhNI8QBEREYEH0zxAZmZmtqzVPED6pE/qTNY8QKuqqpqZ2TxAZmZmVpzdPEDNzMx8W9Y8QAAAAFCp2DxAvLu7+8XSPEB3d3fH2cc8QCd90geBtTxAq6qqOrSoPECTPukD5J48QBERETFPlDxAVVVVNaWCPEAzMzMzens8QFVVVbWBfjxAERERIbCCPECamZk5tIg8QC3Ygr0tizxAIiIiAiuHPEBmZmYW2Y48QCIiIjJ6mzxA",
          "dtype": "f8"
         },
         "yaxis": "y2"
        },
        {
         "name": "EMA10",
         "type": "scatter",
         "x": [
          "2000-11-21T00:00:00.000000000",
          "2000-11-22T00:00:00.000000000",
          "2000-11-23T00:00:00.000000000",
          "2000-11-24T00:00:00.000000000",
          "2000-11-25T00:00:00.000000000",
          "2000-11-26T00:00:00.000000000",
          "2000-11-27T00:00:00.000000000",
          "2000-11-28T00:00:00.000000000",
          "2000-11-29T00:00:00.000000000",
          "2000-11-30T00:00:00.000000000",
          "2000-12-01T00:00:00.000000000",
          "2000-12-02T00:00:00.000000000",
          "2000-12-03T00:00:00.000000000",
          "2000-12-04T00:00:00.000000000",
          "2000-12-05T00:00:00.000000000",
          "2000-12-06T00:00:00.000000000",
          "2000-12-07T00:00:00.000000000",
          "2000-12-08T00:00:00.000000000",
          "2000-12-09T00:00:00.000000000",
          "2000-12-10T00:00:00.000000000",
          "2000-12-11T00:00:00.000000000",
          "2000-12-12T00:00:00.000000000",
          "2000-12-13T00:00:00.000000000",
          "2000-12-14T00:00:00.000000000",
          "2000-12-15T00:00:00.000000000",
          "2000-12-16T00:00:00.000000000",
          "2000-12-17T00:00:00.000000000",
          "2000-12-18T00:00:00.000000000",
          "2000-12-19T00:00:00.000000000",
          "2000-12-20T00:00:00.000000000",
          "2000-12-21T00:00:00.000000000",
          "2000-12-22T00:00:00.000000000",
          "2000-12-23T00:00:00.000000000",
          "2000-12-24T00:00:00.000000000",
          "2000-12-25T00:00:00.000000000",
          "2000-12-26T00:00:00.000000000",
          "2000-12-27T00:00:00.000000000",
          "2000-12-28T00:00:00.000000000",
          "2000-12-29T00:00:00.000000000",
          "2000-12-30T00:00:00.000000000",
          "2000-12-31T00:00:00.000000000",
          "2001-01-01T00:00:00.000000000",
          "2001-01-02T00:00:00.000000000",
          "2001-01-03T00:00:00.000000000",
          "2001-01-04T00:00:00.000000000",
          "2001-01-05T00:00:00.000000000",
          "2001-01-06T00:00:00.000000000",
          "2001-01-07T00:00:00.000000000",
          "2001-01-08T00:00:00.000000000",
          "2001-01-09T00:00:00.000000000",
          "2001-01-10T00:00:00.000000000",
          "2001-01-11T00:00:00.000000000",
          "2001-01-12T00:00:00.000000000",
          "2001-01-13T00:00:00.000000000",
          "2001-01-14T00:00:00.000000000",
          "2001-01-15T00:00:00.000000000",
          "2001-01-16T00:00:00.000000000",
          "2001-01-17T00:00:00.000000000",
          "2001-01-18T00:00:00.000000000",
          "2001-01-19T00:00:00.000000000",
          "2001-01-20T00:00:00.000000000",
          "2001-01-21T00:00:00.000000000",
          "2001-01-22T00:00:00.000000000",
          "2001-01-23T00:00:00.000000000",
          "2001-01-24T00:00:00.000000000",
          "2001-01-25T00:00:00.000000000",
          "2001-01-26T00:00:00.000000000",
          "2001-01-27T00:00:00.000000000",
          "2001-01-28T00:00:00.000000000",
          "2001-01-29T00:00:00.000000000",
          "2001-01-30T00:00:00.000000000",
          "2001-01-31T00:00:00.000000000",
          "2001-02-01T00:00:00.000000000",
          "2001-02-02T00:00:00.000000000",
          "2001-02-03T00:00:00.000000000",
          "2001-02-04T00:00:00.000000000",
          "2001-02-05T00:00:00.000000000",
          "2001-02-06T00:00:00.000000000",
          "2001-02-07T00:00:00.000000000",
          "2001-02-08T00:00:00.000000000",
          "2001-02-09T00:00:00.000000000",
          "2001-02-10T00:00:00.000000000",
          "2001-02-11T00:00:00.000000000",
          "2001-02-12T00:00:00.000000000",
          "2001-02-13T00:00:00.000000000",
          "2001-02-14T00:00:00.000000000",
          "2001-02-15T00:00:00.000000000",
          "2001-02-16T00:00:00.000000000",
          "2001-02-17T00:00:00.000000000",
          "2001-02-18T00:00:00.000000000",
          "2001-02-19T00:00:00.000000000",
          "2001-02-20T00:00:00.000000000",
          "2001-02-21T00:00:00.000000000",
          "2001-02-22T00:00:00.000000000",
          "2001-02-23T00:00:00.000000000",
          "2001-02-24T00:00:00.000000000",
          "2001-02-25T00:00:00.000000000",
          "2001-02-26T00:00:00.000000000",
          "2001-02-27T00:00:00.000000000",
          "2001-02-28T00:00:00.000000000",
          "2001-03-01T00:00:00.000000000",
          "2001-03-02T00:00:00.000000000",
          "2001-03-03T00:00:00.000000000",
          "2001-03-04T00:00:00.000000000",
          "2001-03-05T00:00:00.000000000",
          "2001-03-06T00:00:00.000000000",
          "2001-03-07T00:00:00.000000000",
          "2001-03-08T00:00:00.000000000",
          "2001-03-09T00:00:00.000000000",
          "2001-03-10T00:00:00.000000000",
          "2001-03-11T00:00:00.000000000",
          "2001-03-12T00:00:00.000000000",
          "2001-03-13T00:00:00.000000000",
          "2001-03-14T00:00:00.000000000",
          "2001-03-15T00:00:00.000000000",
          "2001-03-16T00:00:00.000000000",
          "2001-03-17T00:00:00.000000000",
          "2001-03-18T00:00:00.000000000",
          "2001-03-19T00:00:00.000000000",
          "2001-03-20T00:00:00.000000000",
          "2001-03-21T00:00:00.000000000",
          "2001-03-22T00:00:00.000000000",
          "2001-03-23T00:00:00.000000000",
          "2001-03-24T00:00:00.000000000",
          "2001-03-25T00:00:00.000000000",
          "2001-03-26T00:00:00.000000000",
          "2001-03-27T00:00:00.000000000",
          "2001-03-28T00:00:00.000000000",
          "2001-03-29T00:00:00.000000000",
          "2001-03-30T00:00:00.000000000",
          "2001-03-31T00:00:00.000000000",
          "2001-04-01T00:00:00.000000000",
          "2001-04-02T00:00:00.000000000",
          "2001-04-03T00:00:00.000000000",
          "2001-04-04T00:00:00.000000000",
          "2001-04-05T00:00:00.000000000",
          "2001-04-06T00:00:00.000000000",
          "2001-04-07T00:00:00.000000000",
          "2001-04-08T00:00:00.000000000",
          "2001-04-09T00:00:00.000000000",
          "2001-04-10T00:00:00.000000000",
          "2001-04-11T00:00:00.000000000",
          "2001-04-12T00:00:00.000000000",
          "2001-04-13T00:00:00.000000000",
          "2001-04-14T00:00:00.000000000",
          "2001-04-15T00:00:00.000000000",
          "2001-04-16T00:00:00.000000000",
          "2001-04-17T00:00:00.000000000",
          "2001-04-18T00:00:00.000000000",
          "2001-04-19T00:00:00.000000000"
         ],
         "xaxis": "x3",
         "y": {
          "bdata": "EheIW26iOEAOzUC/K3w4QGgz722vYjhAmlhPzqZTOEC0IRrfG084QC6IsFEmUzhAsYbtnzZeOECQ4vDf5lI4QEZc3EIxWDhAOTRXwvkNOEDp5HVwKRQ4QASkGrlnEzhAMYb+xfcMOEC0EBb/4QE4QMFqhhZzJDhAQPptEgEYOEB6tULJoxM4QNgICBnjFThAFWxr1tgTOEDyZ2eQTA44QK7ga43hBThAvVq1c1vzN0A+SjeNM+Q3QGHIW7lYxjdAfdIzxgKLN0B2pCKD+mk3QAx3mKF3XjdAlRvxbJBkN0B6uZYqdmw3QHuANZcDMDdAkzr9ko5eN0CnGHIyo0Q3QOb86LQ/PTdA1HEElAVFN0DzogMcM1k3QPUQYOiGdzdAPYLxA/p7N0Ay9jkDnp83QJ2DjKX1ljdAr2tEzQ6aN0C949pKxqY3QD5dymtcuzdAvh3U42LWN0AmXvPoUBI4QPDvDJC2lzhAxJUKMNvkOEC/U7O6Rho5QCCxc2JJPDlAMahelmpOOUBuz8FjEYM5QHGSnlFrpTlAi2ANWobhOUAsCWgyhfg5QJhkbOMPFDpAZa9Y0VIzOkBqMtTZoFU6QLT6IVVsejpAB3CnReSMOkCoW/04jKo6QKHW/aIVmjpAB2KZfTiZOkANtVa0HqU6QNx8dTZ2uzpA4k4aW+zHOkD/EUQzB/U6QKGxN0F6KDtAJtdE2KlPO0AnLJ1bOXQ7QLuQYf2iljtADAIKuEq3O0DbuzaiedI7QD7ILJaY4ztABF4Ndfv5O0DU7wq3ivs7QBpIXgKlAzxA7vyxyRkRPEAgiTTf7yI8QAK2E0gHPzxAdsObBiARPECmiNwWeg48QIhYV16T2TtAtV/qNfK7O0Dx2RxsW7E7QNzgLsFYtjtA4lomuwPAO0CKBKvHIcU7QLYD6dHVzztA8aW+a/nFO0BoE/mtL787QCYnQJHpujtAZZSRD7K4O0CYM9RpKbg7QNm1CihUtjtAyZROj+qsO0AvS0A1UMw7QB6qcm/h6TtAN6rCaPMFPEDnFuXPyyA8QOvMLwfZLjxANNYPgHwdPEAqUoFR5iE8QCLmxl+HHjxAM18ulH4fPEBvfFQWAiQ8QObC0MBsKzxAvLZNzO9TPEA8fuLP8XY8QF/EijuzzjxAwv1CH90KPUB4NMpyaj49QP1ohgrsaj1AieEQ2qmRPUAqRN8DR549QFBmnxQScz1AQYLf0IdLPUDAJM5NRCM9QOqCDRO8Fz1AzzSmzbUjPUDAWfxQ60I9QFbsn7ZfLj1AXcElfggDPUCSEtmyF8s8QOv3JRiDoTxAsC+bOGeQPECINncJUZM8QBL+MpmcpjxA4M+Gd+eNPEDOkoWKT3E8QEsyEBqEczxAbEANPhlkPEBo/qU2Fl88QOjXpq6WYjxAd/ZZYA5tPECQbI935zs8QLv7AByLSzxA3nCMYhlOPED753IWlzY8QAOXq0j5NTxAnbnhbRZIPECXgP62hmk8QKk60PIFgzxA0HUHO5RzPEAH7EswHI08QB3Byf4XpDxARrUwOf64PEAh2ifjL8w8QOyDw1z83TxANYPOrpXePEArsZG9QDQ9QK55juxCZz1A",
          "dtype": "f8"
         },
         "yaxis": "y3"
        },
        {
         "name": "%B",
         "type": "scatter",
         "x": [
          "2000-11-21T00:00:00.000000000",
          "2000-11-22T00:00:00.000000000",
          "2000-11-23T00:00:00.000000000",
          "2000-11-24T00:00:00.000000000",
          "2000-11-25T00:00:00.000000000",
          "2000-11-26T00:00:00.000000000",
          "2000-11-27T00:00:00.000000000",
          "2000-11-28T00:00:00.000000000",
          "2000-11-29T00:00:00.000000000",
          "2000-11-30T00:00:00.000000000",
          "2000-12-01T00:00:00.000000000",
          "2000-12-02T00:00:00.000000000",
          "2000-12-03T00:00:00.000000000",
          "2000-12-04T00:00:00.000000000",
          "2000-12-05T00:00:00.000000000",
          "2000-12-06T00:00:00.000000000",
          "2000-12-07T00:00:00.000000000",
          "2000-12-08T00:00:00.000000000",
          "2000-12-09T00:00:00.000000000",
          "2000-12-10T00:00:00.000000000",
          "2000-12-11T00:00:00.000000000",
          "2000-12-12T00:00:00.000000000",
          "2000-12-13T00:00:00.000000000",
          "2000-12-14T00:00:00.000000000",
          "2000-12-15T00:00:00.000000000",
          "2000-12-16T00:00:00.000000000",
          "2000-12-17T00:00:00.000000000",
          "2000-12-18T00:00:00.000000000",
          "2000-12-19T00:00:00.000000000",
          "2000-12-20T00:00:00.000000000",
          "2000-12-21T00:00:00.000000000",
          "2000-12-22T00:00:00.000000000",
          "2000-12-23T00:00:00.000000000",
          "2000-12-24T00:00:00.000000000",
          "2000-12-25T00:00:00.000000000",
          "2000-12-26T00:00:00.000000000",
          "2000-12-27T00:00:00.000000000",
          "2000-12-28T00:00:00.000000000",
          "2000-12-29T00:00:00.000000000",
          "2000-12-30T00:00:00.000000000",
          "2000-12-31T00:00:00.000000000",
          "2001-01-01T00:00:00.000000000",
          "2001-01-02T00:00:00.000000000",
          "2001-01-03T00:00:00.000000000",
          "2001-01-04T00:00:00.000000000",
          "2001-01-05T00:00:00.000000000",
          "2001-01-06T00:00:00.000000000",
          "2001-01-07T00:00:00.000000000",
          "2001-01-08T00:00:00.000000000",
          "2001-01-09T00:00:00.000000000",
          "2001-01-10T00:00:00.000000000",
          "2001-01-11T00:00:00.000000000",
          "2001-01-12T00:00:00.000000000",
          "2001-01-13T00:00:00.000000000",
          "2001-01-14T00:00:00.000000000",
          "2001-01-15T00:00:00.000000000",
          "2001-01-16T00:00:00.000000000",
          "2001-01-17T00:00:00.000000000",
          "2001-01-18T00:00:00.000000000",
          "2001-01-19T00:00:00.000000000",
          "2001-01-20T00:00:00.000000000",
          "2001-01-21T00:00:00.000000000",
          "2001-01-22T00:00:00.000000000",
          "2001-01-23T00:00:00.000000000",
          "2001-01-24T00:00:00.000000000",
          "2001-01-25T00:00:00.000000000",
          "2001-01-26T00:00:00.000000000",
          "2001-01-27T00:00:00.000000000",
          "2001-01-28T00:00:00.000000000",
          "2001-01-29T00:00:00.000000000",
          "2001-01-30T00:00:00.000000000",
          "2001-01-31T00:00:00.000000000",
          "2001-02-01T00:00:00.000000000",
          "2001-02-02T00:00:00.000000000",
          "2001-02-03T00:00:00.000000000",
          "2001-02-04T00:00:00.000000000",
          "2001-02-05T00:00:00.000000000",
          "2001-02-06T00:00:00.000000000",
          "2001-02-07T00:00:00.000000000",
          "2001-02-08T00:00:00.000000000",
          "2001-02-09T00:00:00.000000000",
          "2001-02-10T00:00:00.000000000",
          "2001-02-11T00:00:00.000000000",
          "2001-02-12T00:00:00.000000000",
          "2001-02-13T00:00:00.000000000",
          "2001-02-14T00:00:00.000000000",
          "2001-02-15T00:00:00.000000000",
          "2001-02-16T00:00:00.000000000",
          "2001-02-17T00:00:00.000000000",
          "2001-02-18T00:00:00.000000000",
          "2001-02-19T00:00:00.000000000",
          "2001-02-20T00:00:00.000000000",
          "2001-02-21T00:00:00.000000000",
          "2001-02-22T00:00:00.000000000",
          "2001-02-23T00:00:00.000000000",
          "2001-02-24T00:00:00.000000000",
          "2001-02-25T00:00:00.000000000",
          "2001-02-26T00:00:00.000000000",
          "2001-02-27T00:00:00.000000000",
          "2001-02-28T00:00:00.000000000",
          "2001-03-01T00:00:00.000000000",
          "2001-03-02T00:00:00.000000000",
          "2001-03-03T00:00:00.000000000",
          "2001-03-04T00:00:00.000000000",
          "2001-03-05T00:00:00.000000000",
          "2001-03-06T00:00:00.000000000",
          "2001-03-07T00:00:00.000000000",
          "2001-03-08T00:00:00.000000000",
          "2001-03-09T00:00:00.000000000",
          "2001-03-10T00:00:00.000000000",
          "2001-03-11T00:00:00.000000000",
          "2001-03-12T00:00:00.000000000",
          "2001-03-13T00:00:00.000000000",
          "2001-03-14T00:00:00.000000000",
          "2001-03-15T00:00:00.000000000",
          "2001-03-16T00:00:00.000000000",
          "2001-03-17T00:00:00.000000000",
          "2001-03-18T00:00:00.000000000",
          "2001-03-19T00:00:00.000000000",
          "2001-03-20T00:00:00.000000000",
          "2001-03-21T00:00:00.000000000",
          "2001-03-22T00:00:00.000000000",
          "2001-03-23T00:00:00.000000000",
          "2001-03-24T00:00:00.000000000",
          "2001-03-25T00:00:00.000000000",
          "2001-03-26T00:00:00.000000000",
          "2001-03-27T00:00:00.000000000",
          "2001-03-28T00:00:00.000000000",
          "2001-03-29T00:00:00.000000000",
          "2001-03-30T00:00:00.000000000",
          "2001-03-31T00:00:00.000000000",
          "2001-04-01T00:00:00.000000000",
          "2001-04-02T00:00:00.000000000",
          "2001-04-03T00:00:00.000000000",
          "2001-04-04T00:00:00.000000000",
          "2001-04-05T00:00:00.000000000",
          "2001-04-06T00:00:00.000000000",
          "2001-04-07T00:00:00.000000000",
          "2001-04-08T00:00:00.000000000",
          "2001-04-09T00:00:00.000000000",
          "2001-04-10T00:00:00.000000000",
          "2001-04-11T00:00:00.000000000",
          "2001-04-12T00:00:00.000000000",
          "2001-04-13T00:00:00.000000000",
          "2001-04-14T00:00:00.000000000",
          "2001-04-15T00:00:00.000000000",
          "2001-04-16T00:00:00.000000000",
          "2001-04-17T00:00:00.000000000",
          "2001-04-18T00:00:00.000000000",
          "2001-04-19T00:00:00.000000000"
         ],
         "xaxis": "x4",
         "y": {
          "bdata": "B5MOnZu70j//ynf0eJTBP/gBBEywycw/OBKdBbr20j88ATNziu7XP79MP+z2xNw/EdALRMfj4D/v/JdlqCjZP5NMl4oCUuM/m6EtcBNoxb/io5ZX2UPiP5fde6kel+A/XGJKopTI3D94731KHBXXP4Jhswpb2us/ZVx9a9a92D90XxRolv7cP2pZUjT1oeA/s2WYlX/I3j/U3uv569/cPwAkR4hAZts/uOrMlq560z/Ko2DLok3VP4PDNN+pTZ2/oW5Y9TIPx78yBKUbTMu1P0CNwSgpXtE/jN6bVhag2z+ehx8RmtjfP0rUyIqSObC/THN94jHH6T/Sq22qpRjRPyuZFf5MtNo/P3NGUpNE4j/iBMmQ5xbnP8fvQi69reo/fWqrbFZd5D/fo8eGWSvsP6Kad/Lhe+A/yIKRzSnn4j9PhjsnHmXlP6AnixR5u+c/O9CQyL6J6T9Ybja55F7xPxXwb04K9PM/Ny4imObX7j9jhQyqKE3rPzxAhMWPeug/1PGFw3sK5j/LhHZHAyfqP4v4gQPXtec/O7eJRVCo6j89YkY7Zv3lPwYrtPYbfeY/gCZ2qjc95z9IP4re4nnoP01YHc7D8+o/Jrt8o93d5j9dr/+Uzp7rP/j8ZEKq4tg//Tt3M/F74D9Z+bN2G4DkPzg87krHKOo/IU9Q2azv5T9Gs0dsILrxP+PDF5fjYPE/enYauNp97j+EX/dYWjztP22H6OxgNuw/QSKJa+Bh6z+n3uyS0uHpP56Kz57NbOc/B6+KhhZO6D9cyurW+DnjP4XZZ3rQaeQ/xssoQ80l5j+LKHYKiHToP66IG8k8YPE/yn4MBbOgzL/Tcbq+AvbXP1i9Vt5PDMO/UsBshsamuD9ZYFztFG/RP4QjXOJIfds/3wSnVrEI4D9xraO2tubeP5Ig3g5uMOI/QOQwiIkk2D8nW8Dd1TnaPyVtKYPlitw/kNl3Wf1X3z+UtN3hyzbiPz7fx+Nzq+A/OPMy+P922T97ZcXGkM3xP3DF6Di5E/E/0DrK0S8N8D/DpsSzLobuP6Um4USRcOk/pradQtFN2T9WcFA+3o/kP4HPNUp12+A/K+vT4LXa4T+PuQfAidviP6KTKTI24OM/dSxX1X598D+h2FPwAcbuP043NotACfQ/btXzrun17z/2geZk5HTtP67nglawtus/XhZ7uJZm6j/GGFuuqQbmP2AEdclqBdc/vGYo5YuR1D9gW2EjPF3QP6M2HrMRsNc/cr+3TwNq3z+em4PHr+3jP2OTDMnWptA/OlhH7gTbuz86upnfclWsP7FNR+EZpsI/y/x82kNq0j9ElpSSB5TbP4Lyy2fxb+M/fPO+eTot0T/GtR7Xbn7MP/UhnvJ+S94/+0UXfT2B1D8pZG+t2kbaP9ymZyq8buA/n3Dk1QGQ5j8T2kPf8h6qv0ufiCMDWOY/pCoUGeA64T9P1ut9fSvIP/5ihFiSudw/Zg1MrkGk5j+/GPq9ytLuP80jgJsUves/sIg8LOwr2T9IfQhj+ffqPxF6NXq9Eeo/aCupoYxe6T9VAB7XzdvoP1p6qxRWh+g/y4BtbBwv4z+ZuCZVPy/zP59JRqr5DO4/",
          "dtype": "f8"
         },
         "yaxis": "y4"
        },
        {
         "name": "%B10",
         "type": "scatter",
         "x": [
          "2000-11-21T00:00:00.000000000",
          "2000-11-22T00:00:00.000000000",
          "2000-11-23T00:00:00.000000000",
          "2000-11-24T00:00:00.000000000",
          "2000-11-25T00:00:00.000000000",
          "2000-11-26T00:00:00.000000000",
          "2000-11-27T00:00:00.000000000",
          "2000-11-28T00:00:00.000000000",
          "2000-11-29T00:00:00.000000000",
          "2000-11-30T00:00:00.000000000",
          "2000-12-01T00:00:00.000000000",
          "2000-12-02T00:00:00.000000000",
          "2000-12-03T00:00:00.000000000",
          "2000-12-04T00:00:00.000000000",
          "2000-12-05T00:00:00.000000000",
          "2000-12-06T00:00:00.000000000",
          "2000-12-07T00:00:00.000000000",
          "2000-12-08T00:00:00.000000000",
          "2000-12-09T00:00:00.000000000",
          "2000-12-10T00:00:00.000000000",
          "2000-12-11T00:00:00.000000000",
          "2000-12-12T00:00:00.000000000",
          "2000-12-13T00:00:00.000000000",
          "2000-12-14T00:00:00.000000000",
          "2000-12-15T00:00:00.000000000",
          "2000-12-16T00:00:00.000000000",
          "2000-12-17T00:00:00.000000000",
          "2000-12-18T00:00:00.000000000",
          "2000-12-19T00:00:00.000000000",
          "2000-12-20T00:00:00.000000000",
          "2000-12-21T00:00:00.000000000",
          "2000-12-22T00:00:00.000000000",
          "2000-12-23T00:00:00.000000000",
          "2000-12-24T00:00:00.000000000",
          "2000-12-25T00:00:00.000000000",
          "2000-12-26T00:00:00.000000000",
          "2000-12-27T00:00:00.000000000",
          "2000-12-28T00:00:00.000000000",
          "2000-12-29T00:00:00.000000000",
          "2000-12-30T00:00:00.000000000",
          "2000-12-31T00:00:00.000000000",
          "2001-01-01T00:00:00.000000000",
          "2001-01-02T00:00:00.000000000",
          "2001-01-03T00:00:00.000000000",
          "2001-01-04T00:00:00.000000000",
          "2001-01-05T00:00:00.000000000",
          "2001-01-06T00:00:00.000000000",
          "2001-01-07T00:00:00.000000000",
          "2001-01-08T00:00:00.000000000",
          "2001-01-09T00:00:00.000000000",
          "2001-01-10T00:00:00.000000000",
          "2001-01-11T00:00:00.000000000",
          "2001-01-12T00:00:00.000000000",
          "2001-01-13T00:00:00.000000000",
          "2001-01-14T00:00:00.000000000",
          "2001-01-15T00:00:00.000000000",
          "2001-01-16T00:00:00.000000000",
          "2001-01-17T00:00:00.000000000",
          "2001-01-18T00:00:00.000000000",
          "2001-01-19T00:00:00.000000000",
          "2001-01-20T00:00:00.000000000",
          "2001-01-21T00:00:00.000000000",
          "2001-01-22T00:00:00.000000000",
          "2001-01-23T00:00:00.000000000",
          "2001-01-24T00:00:00.000000000",
          "2001-01-25T00:00:00.000000000",
          "2001-01-26T00:00:00.000000000",
          "2001-01-27T00:00:00.000000000",
          "2001-01-28T00:00:00.000000000",
          "2001-01-29T00:00:00.000000000",
          "2001-01-30T00:00:00.000000000",
          "2001-01-31T00:00:00.000000000",
          "2001-02-01T00:00:00.000000000",
          "2001-02-02T00:00:00.000000000",
          "2001-02-03T00:00:00.000000000",
          "2001-02-04T00:00:00.000000000",
          "2001-02-05T00:00:00.000000000",
          "2001-02-06T00:00:00.000000000",
          "2001-02-07T00:00:00.000000000",
          "2001-02-08T00:00:00.000000000",
          "2001-02-09T00:00:00.000000000",
          "2001-02-10T00:00:00.000000000",
          "2001-02-11T00:00:00.000000000",
          "2001-02-12T00:00:00.000000000",
          "2001-02-13T00:00:00.000000000",
          "2001-02-14T00:00:00.000000000",
          "2001-02-15T00:00:00.000000000",
          "2001-02-16T00:00:00.000000000",
          "2001-02-17T00:00:00.000000000",
          "2001-02-18T00:00:00.000000000",
          "2001-02-19T00:00:00.000000000",
          "2001-02-20T00:00:00.000000000",
          "2001-02-21T00:00:00.000000000",
          "2001-02-22T00:00:00.000000000",
          "2001-02-23T00:00:00.000000000",
          "2001-02-24T00:00:00.000000000",
          "2001-02-25T00:00:00.000000000",
          "2001-02-26T00:00:00.000000000",
          "2001-02-27T00:00:00.000000000",
          "2001-02-28T00:00:00.000000000",
          "2001-03-01T00:00:00.000000000",
          "2001-03-02T00:00:00.000000000",
          "2001-03-03T00:00:00.000000000",
          "2001-03-04T00:00:00.000000000",
          "2001-03-05T00:00:00.000000000",
          "2001-03-06T00:00:00.000000000",
          "2001-03-07T00:00:00.000000000",
          "2001-03-08T00:00:00.000000000",
          "2001-03-09T00:00:00.000000000",
          "2001-03-10T00:00:00.000000000",
          "2001-03-11T00:00:00.000000000",
          "2001-03-12T00:00:00.000000000",
          "2001-03-13T00:00:00.000000000",
          "2001-03-14T00:00:00.000000000",
          "2001-03-15T00:00:00.000000000",
          "2001-03-16T00:00:00.000000000",
          "2001-03-17T00:00:00.000000000",
          "2001-03-18T00:00:00.000000000",
          "2001-03-19T00:00:00.000000000",
          "2001-03-20T00:00:00.000000000",
          "2001-03-21T00:00:00.000000000",
          "2001-03-22T00:00:00.000000000",
          "2001-03-23T00:00:00.000000000",
          "2001-03-24T00:00:00.000000000",
          "2001-03-25T00:00:00.000000000",
          "2001-03-26T00:00:00.000000000",
          "2001-03-27T00:00:00.000000000",
          "2001-03-28T00:00:00.000000000",
          "2001-03-29T00:00:00.000000000",
          "2001-03-30T00:00:00.000000000",
          "2001-03-31T00:00:00.000000000",
          "2001-04-01T00:00:00.000000000",
          "2001-04-02T00:00:00.000000000",
          "2001-04-03T00:00:00.000000000",
          "2001-04-04T00:00:00.000000000",
          "2001-04-05T00:00:00.000000000",
          "2001-04-06T00:00:00.000000000",
          "2001-04-07T00:00:00.000000000",
          "2001-04-08T00:00:00.000000000",
          "2001-04-09T00:00:00.000000000",
          "2001-04-10T00:00:00.000000000",
          "2001-04-11T00:00:00.000000000",
          "2001-04-12T00:00:00.000000000",
          "2001-04-13T00:00:00.000000000",
          "2001-04-14T00:00:00.000000000",
          "2001-04-15T00:00:00.000000000",
          "2001-04-16T00:00:00.000000000",
          "2001-04-17T00:00:00.000000000",
          "2001-04-18T00:00:00.000000000",
          "2001-04-19T00:00:00.000000000"
         ],
         "xaxis": "x5",
         "y": {
          "bdata": "zQLTTZcV1j+9EDMzEzfMPyxK0zrub9M/OpQLhO0z2D8SAAAAAADgP6b0MqBnxuQ/InVeq4Hs6j/jKcEpC7vgP19LtoARluc/PAMKFMiUxb/gPqNzHEXiP8BaKZ/olN8/AebG1v5l2z/+PYZwhijYP0sQ9tcb1ek/bB7uOuOg2j9ThgKj/RngP1MENV/OIeI/hrVkOsB84T/r2OhIcX/YP1MDy/CqTNU/6HjGcM5fxT97g8dyVrnLPzjaWSicuqs/weL2Remewb9cI4XDPUPCP1YODLObtNU/1/cMepYN4T/7HJnwUDDjP05dA7PlMoK//fHXot0s7T+1UHGH92nWP4VgfaRjEeA/BZZBOzUZ5D8CgJ75SdfmP6q8w1rgFuk/uoqt3o9Y4j/NPMNH/gfqP8JxFxZ0b98//YhZGWrP4D/TebLhh+LlP5byrM0uQ+k/yqlUoWp17D+qANET0ajxP5ErEoByo/I/ZL6ALUEM7D/ktdPuQ5roPwWAujag8+U/+lef1h5Z4z/7zJ9lfdjnPwnL25dUHeU/615E7+sQ6j8B04/M8OriP7VjBKszr+Q/hiBcxAVV6T+mFT7G9p7qP16DrPb2H+s/aLZpj99+5T/+3uUnlJLrP0Lk2H7FR8Y/FIkab8XQ1T9gRvw7Q8riPxNDtUf5veg/e1a7O7Dk4z8kakWn3ZDwP0NhSqlBBfA/jZkwlE7R6z+wuJlYOnnqP3i7d1n+kuk/EEPzm2Mz6T/LFLN/lgXoPysJ7HLJL+U/s8kbh7c75z/JsJVuLUfVPxedz7rYod4/pIt7oSZy5z/AhJpZybTtP4L2u2kpafE/evqOJpwAw78tCo255qjYP9TL7d6FRKK/oAMkOfJcxz/ic5cieCbWP74KrzTl+94/9EJSFTqL4T9Nu93SrWDhP3qUlhKRgOQ/6qJKPrSY3z/IlouadiLfPxdjAXbIIuE/YIuy3u2z3z8KzddRsibdP+AZRWRRzdY/7ZFdgePgwD87KU2MAffxP6wz6fQlzu8/UoG770LW7T/GHZKLvAnsP5T3Nyt5Kuc/NSkWQS2e1T+ZFnNgnsXhPxVQonGkjNs/jyGIrzm63D+J/LvquvLbP96jFFMKAOE/TWqi2W3S8D/W2RFxDCzuPyRz4bI2FvI/zFmI/2UE7T9AnH3gUs7qPxbpQqElH+k/YE6nR7Xi5z93jzX93e/iP2iXP/k6Dcc/MDpXgXslvD8wqRasVuu8P1RJYdqA7dE/iUVqY7W43T/MU5FO1JLkP4xVJeXUjtQ/2N0Qm7cdxj9VcJ2SkPm0P3xKTSeylMY/A0jk6Cuc1j+keNuyLSjgP9UX4nAgP+Q/IKlQVrK10z8b7qQ6cA7SPzpI8VGrjOM/lG0FgKvu2T9O/0wM36vgP3wWk5cjROM/S953Z2YN5j9jjGfnrsiov6TVDN+dQuU/o75fs/+54j9mchn1Iv3NP+zWG01U8t4/PMk34gPP5z+r7ivtzHLsPzImrIdqmek/nGp3roHX2T9cJh0jTVfpP1pFaSzLQ+k/LUdCBymI6D8Ot7PZ5avnPzdWbcFoo+c/h4LABGl+3j8vzTdRQ7byPxxpOgipNuw/",
          "dtype": "f8"
         },
         "yaxis": "y5"
        },
        {
         "name": "RSI30",
         "type": "scatter",
         "x": [
          "2000-11-21T00:00:00.000000000",
          "2000-11-22T00:00:00.000000000",
          "2000-11-23T00:00:00.000000000",
          "2000-11-24T00:00:00.000000000",
          "2000-11-25T00:00:00.000000000",
          "2000-11-26T00:00:00.000000000",
          "2000-11-27T00:00:00.000000000",
          "2000-11-28T00:00:00.000000000",
          "2000-11-29T00:00:00.000000000",
          "2000-11-30T00:00:00.000000000",
          "2000-12-01T00:00:00.000000000",
          "2000-12-02T00:00:00.000000000",
          "2000-12-03T00:00:00.000000000",
          "2000-12-04T00:00:00.000000000",
          "2000-12-05T00:00:00.000000000",
          "2000-12-06T00:00:00.000000000",
          "2000-12-07T00:00:00.000000000",
          "2000-12-08T00:00:00.000000000",
          "2000-12-09T00:00:00.000000000",
          "2000-12-10T00:00:00.000000000",
          "2000-12-11T00:00:00.000000000",
          "2000-12-12T00:00:00.000000000",
          "2000-12-13T00:00:00.000000000",
          "2000-12-14T00:00:00.000000000",
          "2000-12-15T00:00:00.000000000",
          "2000-12-16T00:00:00.000000000",
          "2000-12-17T00:00:00.000000000",
          "2000-12-18T00:00:00.000000000",
          "2000-12-19T00:00:00.000000000",
          "2000-12-20T00:00:00.000000000",
          "2000-12-21T00:00:00.000000000",
          "2000-12-22T00:00:00.000000000",
          "2000-12-23T00:00:00.000000000",
          "2000-12-24T00:00:00.000000000",
          "2000-12-25T00:00:00.000000000",
          "2000-12-26T00:00:00.000000000",
          "2000-12-27T00:00:00.000000000",
          "2000-12-28T00:00:00.000000000",
          "2000-12-29T00:00:00.000000000",
          "2000-12-30T00:00:00.000000000",
          "2000-12-31T00:00:00.000000000",
          "2001-01-01T00:00:00.000000000",
          "2001-01-02T00:00:00.000000000",
          "2001-01-03T00:00:00.000000000",
          "2001-01-04T00:00:00.000000000",
          "2001-01-05T00:00:00.000000000",
          "2001-01-06T00:00:00.000000000",
          "2001-01-07T00:00:00.000000000",
          "2001-01-08T00:00:00.000000000",
          "2001-01-09T00:00:00.000000000",
          "2001-01-10T00:00:00.000000000",
          "2001-01-11T00:00:00.000000000",
          "2001-01-12T00:00:00.000000000",
          "2001-01-13T00:00:00.000000000",
          "2001-01-14T00:00:00.000000000",
          "2001-01-15T00:00:00.000000000",
          "2001-01-16T00:00:00.000000000",
          "2001-01-17T00:00:00.000000000",
          "2001-01-18T00:00:00.000000000",
          "2001-01-19T00:00:00.000000000",
          "2001-01-20T00:00:00.000000000",
          "2001-01-21T00:00:00.000000000",
          "2001-01-22T00:00:00.000000000",
          "2001-01-23T00:00:00.000000000",
          "2001-01-24T00:00:00.000000000",
          "2001-01-25T00:00:00.000000000",
          "2001-01-26T00:00:00.000000000",
          "2001-01-27T00:00:00.000000000",
          "2001-01-28T00:00:00.000000000",
          "2001-01-29T00:00:00.000000000",
          "2001-01-30T00:00:00.000000000",
          "2001-01-31T00:00:00.000000000",
          "2001-02-01T00:00:00.000000000",
          "2001-02-02T00:00:00.000000000",
          "2001-02-03T00:00:00.000000000",
          "2001-02-04T00:00:00.000000000",
          "2001-02-05T00:00:00.000000000",
          "2001-02-06T00:00:00.000000000",
          "2001-02-07T00:00:00.000000000",
          "2001-02-08T00:00:00.000000000",
          "2001-02-09T00:00:00.000000000",
          "2001-02-10T00:00:00.000000000",
          "2001-02-11T00:00:00.000000000",
          "2001-02-12T00:00:00.000000000",
          "2001-02-13T00:00:00.000000000",
          "2001-02-14T00:00:00.000000000",
          "2001-02-15T00:00:00.000000000",
          "2001-02-16T00:00:00.000000000",
          "2001-02-17T00:00:00.000000000",
          "2001-02-18T00:00:00.000000000",
          "2001-02-19T00:00:00.000000000",
          "2001-02-20T00:00:00.000000000",
          "2001-02-21T00:00:00.000000000",
          "2001-02-22T00:00:00.000000000",
          "2001-02-23T00:00:00.000000000",
          "2001-02-24T00:00:00.000000000",
          "2001-02-25T00:00:00.000000000",
          "2001-02-26T00:00:00.000000000",
          "2001-02-27T00:00:00.000000000",
          "2001-02-28T00:00:00.000000000",
          "2001-03-01T00:00:00.000000000",
          "2001-03-02T00:00:00.000000000",
          "2001-03-03T00:00:00.000000000",
          "2001-03-04T00:00:00.000000000",
          "2001-03-05T00:00:00.000000000",
          "2001-03-06T00:00:00.000000000",
          "2001-03-07T00:00:00.000000000",
          "2001-03-08T00:00:00.000000000",
          "2001-03-09T00:00:00.000000000",
          "2001-03-10T00:00:00.000000000",
          "2001-03-11T00:00:00.000000000",
          "2001-03-12T00:00:00.000000000",
          "2001-03-13T00:00:00.000000000",
          "2001-03-14T00:00:00.000000000",
          "2001-03-15T00:00:00.000000000",
          "2001-03-16T00:00:00.000000000",
          "2001-03-17T00:00:00.000000000",
          "2001-03-18T00:00:00.000000000",
          "2001-03-19T00:00:00.000000000",
          "2001-03-20T00:00:00.000000000",
          "2001-03-21T00:00:00.000000000",
          "2001-03-22T00:00:00.000000000",
          "2001-03-23T00:00:00.000000000",
          "2001-03-24T00:00:00.000000000",
          "2001-03-25T00:00:00.000000000",
          "2001-03-26T00:00:00.000000000",
          "2001-03-27T00:00:00.000000000",
          "2001-03-28T00:00:00.000000000",
          "2001-03-29T00:00:00.000000000",
          "2001-03-30T00:00:00.000000000",
          "2001-03-31T00:00:00.000000000",
          "2001-04-01T00:00:00.000000000",
          "2001-04-02T00:00:00.000000000",
          "2001-04-03T00:00:00.000000000",
          "2001-04-04T00:00:00.000000000",
          "2001-04-05T00:00:00.000000000",
          "2001-04-06T00:00:00.000000000",
          "2001-04-07T00:00:00.000000000",
          "2001-04-08T00:00:00.000000000",
          "2001-04-09T00:00:00.000000000",
          "2001-04-10T00:00:00.000000000",
          "2001-04-11T00:00:00.000000000",
          "2001-04-12T00:00:00.000000000",
          "2001-04-13T00:00:00.000000000",
          "2001-04-14T00:00:00.000000000",
          "2001-04-15T00:00:00.000000000",
          "2001-04-16T00:00:00.000000000",
          "2001-04-17T00:00:00.000000000",
          "2001-04-18T00:00:00.000000000",
          "2001-04-19T00:00:00.000000000"
         ],
         "xaxis": "x6",
         "y": {
          "bdata": "PTipmygIR0DqgcIbhA1GQDsoLFDBUkZAsrssSPyYRkCOGLLkmfdGQKOxoqDUVkdANUnl4J+2R0A2enZLv9dGQBwjO+xej0dAObEDz+WHREDFes+Tq4dHQPtGSVkGUUdAM9fpV4cZR0BvTRHKMeFGQHNE+icHv0hAd796KUo0R0AfhgBr4XJHQI2tkV9wskdAjBaeeZGLR0BJCU/A4GNHQEC/tYRdO0dAHEAkJw7BRkAcQCQnDsFGQH1GfgPnBkZAu+R2bDCpREAKkllEanlFQElROKwCRUZATtfoygMMR0B2jWhwVDFHQDKa3OhzjERAy8fvupfPSEDGzIFWLo9GQIxR5P29GkdA02pU2mWlR0AIxYz6Ey9IQKkKmfa2t0hAn7z/f172R0DK5JDAyjFJQCKx0hMP0UdAU6yB0581SECbo5HTh5pIQAdfAZy4/0hAI2RziiNlSUDaPzBCo85KQCdfpf4FhU1ASobzQ3E5TEDIethiaNdLQOhvCNbAdEtANvIYwIcRS0DCCi3u201MQI0ZKobV8UtAPwd+kFT1TEB+SafEv99LQM2fKoDzJ0xAM2gFLrtwTED8DwfCDbpMQGhoMOThA01Az8rMFop7TECk97g+QftMQJ6mLDBaKEtAt7tIb9ubS0CHZm6vow5MQAP7SPOjgExA2vAN+506TEAvuutj73NNQDyxxN9g8E1AVIqLsAvLTUAyAhSrDPNNQLHZfG3JG05A9t/nBUFFTkB56KWhpklOQCRaRU+V/U1A7BAUhkNRTkBN+w6QhFNNQL3XVLBzm01A3Zl7WNbjTUCUjyjhoixOQMMKF2ZPu05AkWn+FpvCSkCDOApZFjxMQJ28AqKhxklA2RcqyGpZSkC2n/p4IOpKQPgzcBG5eEtA+maFswSzS0CbBB1aI45LQJNqStBg1UtAC6lbF37ZSkDp11XrWuhKQNtgDeum90pASK2lrmQHS0AxHfbSlhdLQFFQU6EZAktA1I/QYsGGSkBF4y0573xMQCCJBWTDq0xAg8pRRGDbTEBlImrBwwtNQIZyI4QTgkxAB/scvoOlSkAbxOE3L59LQOB3DTV0LktANnZl+WJhS0CDeM05JpVLQNFQHma7yUtAkoos9RiUTUDbfPBPjqtNQArQ/swJJFBANtl542p1T0ASpPXNUY5PQPQMO4nOp09Abitzi+LBT0DhppgfJ1ROQGalcUez00pArIBgGRmUSkAy2BlPKBtKQBnNBuYSPUtARJFnT2tNTEBERsvdmU1NQBF4AYkLk0pAXDAKzowtSUD1y6uT9ylIQG+trKPaYUhASwYZGGRBSUDRGXd1JRlKQLmB5dtm6UpAAz5K67zRSEDEJwLku2lIQLNddgj6q0lAl8g32GzSSEAO1CBUaTJJQJcoQq2+kklADkVCIV/zSUBatruYaCRHQJX25DCDxElAJlr70XFMSUBKOh/mRylIQHyv0+exAUlAjXxoXijTSUCs2XdR4p1KQAhQAi7fhkpAWGi3wr7VSEDRUAphnndKQNMOg624jUpAqS5hkGqkSkA76d28trtKQLhYzNyf00pATo8TUp0aSkB7JNocc5NNQICmyxLJnExA",
          "dtype": "f8"
         },
         "yaxis": "y6"
        },
        {
         "name": "RSI14",
         "type": "scatter",
         "x": [
          "2000-11-21T00:00:00.000000000",
          "2000-11-22T00:00:00.000000000",
          "2000-11-23T00:00:00.000000000",
          "2000-11-24T00:00:00.000000000",
          "2000-11-25T00:00:00.000000000",
          "2000-11-26T00:00:00.000000000",
          "2000-11-27T00:00:00.000000000",
          "2000-11-28T00:00:00.000000000",
          "2000-11-29T00:00:00.000000000",
          "2000-11-30T00:00:00.000000000",
          "2000-12-01T00:00:00.000000000",
          "2000-12-02T00:00:00.000000000",
          "2000-12-03T00:00:00.000000000",
          "2000-12-04T00:00:00.000000000",
          "2000-12-05T00:00:00.000000000",
          "2000-12-06T00:00:00.000000000",
          "2000-12-07T00:00:00.000000000",
          "2000-12-08T00:00:00.000000000",
          "2000-12-09T00:00:00.000000000",
          "2000-12-10T00:00:00.000000000",
          "2000-12-11T00:00:00.000000000",
          "2000-12-12T00:00:00.000000000",
          "2000-12-13T00:00:00.000000000",
          "2000-12-14T00:00:00.000000000",
          "2000-12-15T00:00:00.000000000",
          "2000-12-16T00:00:00.000000000",
          "2000-12-17T00:00:00.000000000",
          "2000-12-18T00:00:00.000000000",
          "2000-12-19T00:00:00.000000000",
          "2000-12-20T00:00:00.000000000",
          "2000-12-21T00:00:00.000000000",
          "2000-12-22T00:00:00.000000000",
          "2000-12-23T00:00:00.000000000",
          "2000-12-24T00:00:00.000000000",
          "2000-12-25T00:00:00.000000000",
          "2000-12-26T00:00:00.000000000",
          "2000-12-27T00:00:00.000000000",
          "2000-12-28T00:00:00.000000000",
          "2000-12-29T00:00:00.000000000",
          "2000-12-30T00:00:00.000000000",
          "2000-12-31T00:00:00.000000000",
          "2001-01-01T00:00:00.000000000",
          "2001-01-02T00:00:00.000000000",
          "2001-01-03T00:00:00.000000000",
          "2001-01-04T00:00:00.000000000",
          "2001-01-05T00:00:00.000000000",
          "2001-01-06T00:00:00.000000000",
          "2001-01-07T00:00:00.000000000",
          "2001-01-08T00:00:00.000000000",
          "2001-01-09T00:00:00.000000000",
          "2001-01-10T00:00:00.000000000",
          "2001-01-11T00:00:00.000000000",
          "2001-01-12T00:00:00.000000000",
          "2001-01-13T00:00:00.000000000",
          "2001-01-14T00:00:00.000000000",
          "2001-01-15T00:00:00.000000000",
          "2001-01-16T00:00:00.000000000",
          "2001-01-17T00:00:00.000000000",
          "2001-01-18T00:00:00.000000000",
          "2001-01-19T00:00:00.000000000",
          "2001-01-20T00:00:00.000000000",
          "2001-01-21T00:00:00.000000000",
          "2001-01-22T00:00:00.000000000",
          "2001-01-23T00:00:00.000000000",
          "2001-01-24T00:00:00.000000000",
          "2001-01-25T00:00:00.000000000",
          "2001-01-26T00:00:00.000000000",
          "2001-01-27T00:00:00.000000000",
          "2001-01-28T00:00:00.000000000",
          "2001-01-29T00:00:00.000000000",
          "2001-01-30T00:00:00.000000000",
          "2001-01-31T00:00:00.000000000",
          "2001-02-01T00:00:00.000000000",
          "2001-02-02T00:00:00.000000000",
          "2001-02-03T00:00:00.000000000",
          "2001-02-04T00:00:00.000000000",
          "2001-02-05T00:00:00.000000000",
          "2001-02-06T00:00:00.000000000",
          "2001-02-07T00:00:00.000000000",
          "2001-02-08T00:00:00.000000000",
          "2001-02-09T00:00:00.000000000",
          "2001-02-10T00:00:00.000000000",
          "2001-02-11T00:00:00.000000000",
          "2001-02-12T00:00:00.000000000",
          "2001-02-13T00:00:00.000000000",
          "2001-02-14T00:00:00.000000000",
          "2001-02-15T00:00:00.000000000",
          "2001-02-16T00:00:00.000000000",
          "2001-02-17T00:00:00.000000000",
          "2001-02-18T00:00:00.000000000",
          "2001-02-19T00:00:00.000000000",
          "2001-02-20T00:00:00.000000000",
          "2001-02-21T00:00:00.000000000",
          "2001-02-22T00:00:00.000000000",
          "2001-02-23T00:00:00.000000000",
          "2001-02-24T00:00:00.000000000",
          "2001-02-25T00:00:00.000000000",
          "2001-02-26T00:00:00.000000000",
          "2001-02-27T00:00:00.000000000",
          "2001-02-28T00:00:00.000000000",
          "2001-03-01T00:00:00.000000000",
          "2001-03-02T00:00:00.000000000",
          "2001-03-03T00:00:00.000000000",
          "2001-03-04T00:00:00.000000000",
          "2001-03-05T00:00:00.000000000",
          "2001-03-06T00:00:00.000000000",
          "2001-03-07T00:00:00.000000000",
          "2001-03-08T00:00:00.000000000",
          "2001-03-09T00:00:00.000000000",
          "2001-03-10T00:00:00.000000000",
          "2001-03-11T00:00:00.000000000",
          "2001-03-12T00:00:00.000000000",
          "2001-03-13T00:00:00.000000000",
          "2001-03-14T00:00:00.000000000",
          "2001-03-15T00:00:00.000000000",
          "2001-03-16T00:00:00.000000000",
          "2001-03-17T00:00:00.000000000",
          "2001-03-18T00:00:00.000000000",
          "2001-03-19T00:00:00.000000000",
          "2001-03-20T00:00:00.000000000",
          "2001-03-21T00:00:00.000000000",
          "2001-03-22T00:00:00.000000000",
          "2001-03-23T00:00:00.000000000",
          "2001-03-24T00:00:00.000000000",
          "2001-03-25T00:00:00.000000000",
          "2001-03-26T00:00:00.000000000",
          "2001-03-27T00:00:00.000000000",
          "2001-03-28T00:00:00.000000000",
          "2001-03-29T00:00:00.000000000",
          "2001-03-30T00:00:00.000000000",
          "2001-03-31T00:00:00.000000000",
          "2001-04-01T00:00:00.000000000",
          "2001-04-02T00:00:00.000000000",
          "2001-04-03T00:00:00.000000000",
          "2001-04-04T00:00:00.000000000",
          "2001-04-05T00:00:00.000000000",
          "2001-04-06T00:00:00.000000000",
          "2001-04-07T00:00:00.000000000",
          "2001-04-08T00:00:00.000000000",
          "2001-04-09T00:00:00.000000000",
          "2001-04-10T00:00:00.000000000",
          "2001-04-11T00:00:00.000000000",
          "2001-04-12T00:00:00.000000000",
          "2001-04-13T00:00:00.000000000",
          "2001-04-14T00:00:00.000000000",
          "2001-04-15T00:00:00.000000000",
          "2001-04-16T00:00:00.000000000",
          "2001-04-17T00:00:00.000000000",
          "2001-04-18T00:00:00.000000000",
          "2001-04-19T00:00:00.000000000"
         ],
         "xaxis": "x7",
         "y": {
          "bdata": "uunf3mUfRkBFRfKHEUJEQOw9v5Cb2ERAJItjVjV0RUAqrww6nkhGQMLpjBr6H0dACE2Ck775R0DW+Si/pwFGQPgWCBF/q0dAUEAeWFCXQUCoR6pNSsVHQLnDA7iJWkdAGqB+W6/rRkCuDibrz3hGQKYLL5f+OkpAlCoZq6sQR0CN0Pi4WY5HQAHJJEusEEhAzBMxjK+8R0CrXhMFw2RHQJVsC1TgCEdAEUg0FWDyRUARSDQVYPJFQAIHlbLPR0RAXseCVyJuQUCeJZBFqXtDQD8cTmM8bEVAKVsC+e5AR0CPXLg3YZhHQPofF+/H7EFAzO5YWDKcSkBuyDzDbEdGQNiCTdozSkdAsKdc2pNMSEAnApw12E1JQME2dHVPTUpA7fiFs4e3SEChpoLFig5LQNrgk7qmNEhAXiX0sGv4SEC7FwBSq75JQHUhSwnkhkpAy5Qr4I5QS0BJwQs44/9NQLL1NxuyNlFAC6KaynmST0CzNYqJfr1OQA6Tmw1W5E1A2kEOb30HTUCey99K3ktPQG8+krg+ek5ArHAjNR4nUEA8psgS4tdNQEvADOFOYU5A5N3ur1jtTkC7enyzrXtPQA7V5hP7BVBAQo63CGy0TkCW0qTvAbxPQGEDHvD7VUtA13bkOTVWTECWiqpV+1FNQN9q5qC/SE5A18j+qDKZTUAzk/me6RlQQJ9X/olRlVBAlMt2c1tkUEBKTuAh5I1QQCGC+GPnuFBAc2YE/FnlUECMQ+buL+pQQLyW+FjRdVBAZnox7qvYUEDYt2i/27NOQDv93BsCbU9ADNcAq70SUEA+NFTZY25QQCD2GKD6GlFAJaE5ARziR0BbIrPnypNLQFUrAowulEZA5tgTAIfyR0DuScJrtUZJQNR5sfVEkEpA4O0/rNAWS0A8HYeWE8RKQIZQdPU0cUtA/J81cLsvSUDRru1hKFZJQPa3X8gFf0lA7Li3gnGqSUDP9yh5idhJQGr/V7mEn0lAKjjNnMdXSECjPCaSTbtNQMxJf20tLU5AxN7cxlmiTkAL9RIEohpPQOio92awh01A909jHUqiSEDmJbh4EUFLQCRim0CrKUpAbauYot6ySkAG00RI4z9LQOiHuW170EtAQzr7I00bUEACplVdRzVQQIEQUQDzrFJAN0eEUXmgUUDP00nVB7dRQLnvWye6zlFAuHb0CZXnUUCMP++7x/5PQGXABSIKNUhARsK3YHa4R0A4BZsr5slGQOQtptp2lUlAHRS1NQsETEDikXkQQCVOQBfzPBg4nkhAy1+4GdsaRkAQg/PSL2BEQBbYhXyn4ERAi8hKQQ3gRkCPLOFIub1IQL3i0rm2e0pAITy6Qfp7RkC3KRKMn8BFQAkRawo5fEhAf7St06nhRkCqIF9OTrNHQMrEeWJch0hATYxWd0ddSUCn0Uen//9DQEzsBlwNa0lAj0rEMAOLSEDtZc6GAHZGQGs7Bpo9LUhAUh3Q/OfMSUAeXAmyy1VLQEi1RExTJktA0K3ImrDDR0DjVAp1hwJLQAxNerE+LUtAGbAC9o5aS0CZeHz/k4pLQDUzNOxovUtALdbhzYwVSkAyJC47/mhQQIauYtpWu05A",
          "dtype": "f8"
         },
         "yaxis": "y7"
        },
        {
         "name": "ADX",
         "type": "scatter",
         "x": [
          "2000-11-21T00:00:00.000000000",
          "2000-11-22T00:00:00.000000000",
          "2000-11-23T00:00:00.000000000",
          "2000-11-24T00:00:00.000000000",
          "2000-11-25T00:00:00.000000000",
          "2000-11-26T00:00:00.000000000",
          "2000-11-27T00:00:00.000000000",
          "2000-11-28T00:00:00.000000000",
          "2000-11-29T00:00:00.000000000",
          "2000-11-30T00:00:00.000000000",
          "2000-12-01T00:00:00.000000000",
          "2000-12-02T00:00:00.000000000",
          "2000-12-03T00:00:00.000000000",
          "2000-12-04T00:00:00.000000000",
          "2000-12-05T00:00:00.000000000",
          "2000-12-06T00:00:00.000000000",
          "2000-12-07T00:00:00.000000000",
          "2000-12-08T00:00:00.000000000",
          "2000-12-09T00:00:00.000000000",
          "2000-12-10T00:00:00.000000000",
          "2000-12-11T00:00:00.000000000",
          "2000-12-12T00:00:00.000000000",
          "2000-12-13T00:00:00.000000000",
          "2000-12-14T00:00:00.000000000",
          "2000-12-15T00:00:00.000000000",
          "2000-12-16T00:00:00.000000000",
          "2000-12-17T00:00:00.000000000",
          "2000-12-18T00:00:00.000000000",
          "2000-12-19T00:00:00.000000000",
          "2000-12-20T00:00:00.000000000",
          "2000-12-21T00:00:00.000000000",
          "2000-12-22T00:00:00.000000000",
          "2000-12-23T00:00:00.000000000",
          "2000-12-24T00:00:00.000000000",
          "2000-12-25T00:00:00.000000000",
          "2000-12-26T00:00:00.000000000",
          "2000-12-27T00:00:00.000000000",
          "2000-12-28T00:00:00.000000000",
          "2000-12-29T00:00:00.000000000",
          "2000-12-30T00:00:00.000000000",
          "2000-12-31T00:00:00.000000000",
          "2001-01-01T00:00:00.000000000",
          "2001-01-02T00:00:00.000000000",
          "2001-01-03T00:00:00.000000000",
          "2001-01-04T00:00:00.000000000",
          "2001-01-05T00:00:00.000000000",
          "2001-01-06T00:00:00.000000000",
          "2001-01-07T00:00:00.000000000",
          "2001-01-08T00:00:00.000000000",
          "2001-01-09T00:00:00.000000000",
          "2001-01-10T00:00:00.000000000",
          "2001-01-11T00:00:00.000000000",
          "2001-01-12T00:00:00.000000000",
          "2001-01-13T00:00:00.000000000",
          "2001-01-14T00:00:00.000000000",
          "2001-01-15T00:00:00.000000000",
          "2001-01-16T00:00:00.000000000",
          "2001-01-17T00:00:00.000000000",
          "2001-01-18T00:00:00.000000000",
          "2001-01-19T00:00:00.000000000",
          "2001-01-20T00:00:00.000000000",
          "2001-01-21T00:00:00.000000000",
          "2001-01-22T00:00:00.000000000",
          "2001-01-23T00:00:00.000000000",
          "2001-01-24T00:00:00.000000000",
          "2001-01-25T00:00:00.000000000",
          "2001-01-26T00:00:00.000000000",
          "2001-01-27T00:00:00.000000000",
          "2001-01-28T00:00:00.000000000",
          "2001-01-29T00:00:00.000000000",
          "2001-01-30T00:00:00.000000000",
          "2001-01-31T00:00:00.000000000",
          "2001-02-01T00:00:00.000000000",
          "2001-02-02T00:00:00.000000000",
          "2001-02-03T00:00:00.000000000",
          "2001-02-04T00:00:00.000000000",
          "2001-02-05T00:00:00.000000000",
          "2001-02-06T00:00:00.000000000",
          "2001-02-07T00:00:00.000000000",
          "2001-02-08T00:00:00.000000000",
          "2001-02-09T00:00:00.000000000",
          "2001-02-10T00:00:00.000000000",
          "2001-02-11T00:00:00.000000000",
          "2001-02-12T00:00:00.000000000",
          "2001-02-13T00:00:00.000000000",
          "2001-02-14T00:00:00.000000000",
          "2001-02-15T00:00:00.000000000",
          "2001-02-16T00:00:00.000000000",
          "2001-02-17T00:00:00.000000000",
          "2001-02-18T00:00:00.000000000",
          "2001-02-19T00:00:00.000000000",
          "2001-02-20T00:00:00.000000000",
          "2001-02-21T00:00:00.000000000",
          "2001-02-22T00:00:00.000000000",
          "2001-02-23T00:00:00.000000000",
          "2001-02-24T00:00:00.000000000",
          "2001-02-25T00:00:00.000000000",
          "2001-02-26T00:00:00.000000000",
          "2001-02-27T00:00:00.000000000",
          "2001-02-28T00:00:00.000000000",
          "2001-03-01T00:00:00.000000000",
          "2001-03-02T00:00:00.000000000",
          "2001-03-03T00:00:00.000000000",
          "2001-03-04T00:00:00.000000000",
          "2001-03-05T00:00:00.000000000",
          "2001-03-06T00:00:00.000000000",
          "2001-03-07T00:00:00.000000000",
          "2001-03-08T00:00:00.000000000",
          "2001-03-09T00:00:00.000000000",
          "2001-03-10T00:00:00.000000000",
          "2001-03-11T00:00:00.000000000",
          "2001-03-12T00:00:00.000000000",
          "2001-03-13T00:00:00.000000000",
          "2001-03-14T00:00:00.000000000",
          "2001-03-15T00:00:00.000000000",
          "2001-03-16T00:00:00.000000000",
          "2001-03-17T00:00:00.000000000",
          "2001-03-18T00:00:00.000000000",
          "2001-03-19T00:00:00.000000000",
          "2001-03-20T00:00:00.000000000",
          "2001-03-21T00:00:00.000000000",
          "2001-03-22T00:00:00.000000000",
          "2001-03-23T00:00:00.000000000",
          "2001-03-24T00:00:00.000000000",
          "2001-03-25T00:00:00.000000000",
          "2001-03-26T00:00:00.000000000",
          "2001-03-27T00:00:00.000000000",
          "2001-03-28T00:00:00.000000000",
          "2001-03-29T00:00:00.000000000",
          "2001-03-30T00:00:00.000000000",
          "2001-03-31T00:00:00.000000000",
          "2001-04-01T00:00:00.000000000",
          "2001-04-02T00:00:00.000000000",
          "2001-04-03T00:00:00.000000000",
          "2001-04-04T00:00:00.000000000",
          "2001-04-05T00:00:00.000000000",
          "2001-04-06T00:00:00.000000000",
          "2001-04-07T00:00:00.000000000",
          "2001-04-08T00:00:00.000000000",
          "2001-04-09T00:00:00.000000000",
          "2001-04-10T00:00:00.000000000",
          "2001-04-11T00:00:00.000000000",
          "2001-04-12T00:00:00.000000000",
          "2001-04-13T00:00:00.000000000",
          "2001-04-14T00:00:00.000000000",
          "2001-04-15T00:00:00.000000000",
          "2001-04-16T00:00:00.000000000",
          "2001-04-17T00:00:00.000000000",
          "2001-04-18T00:00:00.000000000",
          "2001-04-19T00:00:00.000000000"
         ],
         "xaxis": "x8",
         "y": {
          "bdata": "XjwpwdEJN0DBGIP6uoE2QNVAxK9cAzZAln+SDWItNUDwNYfX9tszQJBTFEmHwDJAa6I1jDsyMkCka4vKGa4xQH2m/yhoMzFAp+M2u1iBMkCopSShPmEzQM7ZXGQmMTRAcuJ85T8LNUC7qyM2qO81QDY4P0EEeDVAFhZrAuwINUBBrco1w6E0QN2zmvGBiTRAeUzE0BOLNEB2mayvnaU0QE5WVkNR2DRAIq5XbrTGNECyq8oaPno1QLW2r857RDZAeT6VGkaiOEDA9lVBm8A6QB3mhpjHojxAroxsuM1LPkBvAd1aEQw/QBN6qChhukBAqyaILV0AQUDvRjN7WUFBQMCbLXqxfUFAsWDwekKqQUAdOIj7hMdBQNJlYErj1UFAsWu73DrjQUCBJ4/GEmxBQAcD2gb8N0FADo1RspX6QEBn1hAq4WdAQN7kno2WGj9Aw7XY1ULtPEBOMXFh3hA8QJjn2iyy9j1AuccqRdK5P0AamoaRAldAQHsEWKGidUBAFnc+ZMZDQEBNqu+sSHJAQJLHuIJ4nUBAzR+fdT41QUDd087CULJBQMaWf4MqL0JAZXAdgyGsQkB9udxOgylDQPHp7zKVp0NAT0l+p1EjREDSmUTH6LZEQCODbDgvd0RAyduj6gI8REDHj2JPqg5EQK4h9wqP7kNArn7jcNvuQ0BIbjZGgUVEQOPhf0hVs0RAz/F6AVEZRUDn8g7u+HpFQCVbZPXK2EVAgl3HDj4zRkAtraTF475GQAIucu+PQEdARXm2FF5WR0C543WAnWpHQD/60RXCjEdAt8TURfrFR0AaOcwDjRNIQEa9hIfxdEhAv7YI3wHzRkCvsN5Uo4xFQB/C2GswRkRAmWSc3A4XQ0DBDVJFlP1BQNQq1rg0+EBAq2IG0gfJP0CGQNEKFTo+QGPF1lGhxzxAdW2Hx27COkDiB5+kCvc4QDB1kESkdDdAW6zGVCY3NkATvPhWtDo1QPgdA06GBjRA2KbMuIaNM0BAW43AqBYzQJOFO5396TJAeFzCzHUBM0DXZDg3R1czQApIOGP3pjNA0PrjHGHBMkA//CcAMewxQOFVnWV85TBAGrkemRY7MED1MfGn/sovQGmOJXkjuy9AOwj5OHBhL0AQZz00JQ4vQCPAFZE0bjFAId5o9ooyM0CWgGphbC01QC/rgkX5UjdAUxvJ8geZOUApoTXP0bw6QOX0iTCYEjpAAQeB8otqOEA4sFtx6Vg3QOO9oygR3TZAb3KyojThNkBDyPJrJ1I3QKuFrt0IuzdAsiLYMci/NkB37bYvpeY1QMCpvK0EHTVAtQVs4xKkM0C2r+eLCdwyQKZPGLwcuDJAiB7Ea4ydMUA1g5r8KpcwQIg0ocEgFy9Ao/GXMiYmLUBRpXn3FC8rQIPOvXrSSylAvd1YpQ+5J0AanveilGgnQNazsYUWCSdAgHQqd+b7JUCJ5RRu2akmQBCk9+Mb9SZAogAQMoIAJkAf+jIuWuAkQC2oN8pNpSZA2A3kXqczJUBSGV2SV7kjQOENOXhleCJAraHEYH5uIUCTWhmKipkgQM+OMD5Q7x9AvTBWT4pOH0A+dIUis7skQNZbmdQ9cylA",
          "dtype": "f8"
         },
         "yaxis": "y8"
        },
        {
         "name": "SO",
         "type": "scatter",
         "x": [
          "2000-11-21T00:00:00.000000000",
          "2000-11-22T00:00:00.000000000",
          "2000-11-23T00:00:00.000000000",
          "2000-11-24T00:00:00.000000000",
          "2000-11-25T00:00:00.000000000",
          "2000-11-26T00:00:00.000000000",
          "2000-11-27T00:00:00.000000000",
          "2000-11-28T00:00:00.000000000",
          "2000-11-29T00:00:00.000000000",
          "2000-11-30T00:00:00.000000000",
          "2000-12-01T00:00:00.000000000",
          "2000-12-02T00:00:00.000000000",
          "2000-12-03T00:00:00.000000000",
          "2000-12-04T00:00:00.000000000",
          "2000-12-05T00:00:00.000000000",
          "2000-12-06T00:00:00.000000000",
          "2000-12-07T00:00:00.000000000",
          "2000-12-08T00:00:00.000000000",
          "2000-12-09T00:00:00.000000000",
          "2000-12-10T00:00:00.000000000",
          "2000-12-11T00:00:00.000000000",
          "2000-12-12T00:00:00.000000000",
          "2000-12-13T00:00:00.000000000",
          "2000-12-14T00:00:00.000000000",
          "2000-12-15T00:00:00.000000000",
          "2000-12-16T00:00:00.000000000",
          "2000-12-17T00:00:00.000000000",
          "2000-12-18T00:00:00.000000000",
          "2000-12-19T00:00:00.000000000",
          "2000-12-20T00:00:00.000000000",
          "2000-12-21T00:00:00.000000000",
          "2000-12-22T00:00:00.000000000",
          "2000-12-23T00:00:00.000000000",
          "2000-12-24T00:00:00.000000000",
          "2000-12-25T00:00:00.000000000",
          "2000-12-26T00:00:00.000000000",
          "2000-12-27T00:00:00.000000000",
          "2000-12-28T00:00:00.000000000",
          "2000-12-29T00:00:00.000000000",
          "2000-12-30T00:00:00.000000000",
          "2000-12-31T00:00:00.000000000",
          "2001-01-01T00:00:00.000000000",
          "2001-01-02T00:00:00.000000000",
          "2001-01-03T00:00:00.000000000",
          "2001-01-04T00:00:00.000000000",
          "2001-01-05T00:00:00.000000000",
          "2001-01-06T00:00:00.000000000",
          "2001-01-07T00:00:00.000000000",
          "2001-01-08T00:00:00.000000000",
          "2001-01-09T00:00:00.000000000",
          "2001-01-10T00:00:00.000000000",
          "2001-01-11T00:00:00.000000000",
          "2001-01-12T00:00:00.000000000",
          "2001-01-13T00:00:00.000000000",
          "2001-01-14T00:00:00.000000000",
          "2001-01-15T00:00:00.000000000",
          "2001-01-16T00:00:00.000000000",
          "2001-01-17T00:00:00.000000000",
          "2001-01-18T00:00:00.000000000",
          "2001-01-19T00:00:00.000000000",
          "2001-01-20T00:00:00.000000000",
          "2001-01-21T00:00:00.000000000",
          "2001-01-22T00:00:00.000000000",
          "2001-01-23T00:00:00.000000000",
          "2001-01-24T00:00:00.000000000",
          "2001-01-25T00:00:00.000000000",
          "2001-01-26T00:00:00.000000000",
          "2001-01-27T00:00:00.000000000",
          "2001-01-28T00:00:00.000000000",
          "2001-01-29T00:00:00.000000000",
          "2001-01-30T00:00:00.000000000",
          "2001-01-31T00:00:00.000000000",
          "2001-02-01T00:00:00.000000000",
          "2001-02-02T00:00:00.000000000",
          "2001-02-03T00:00:00.000000000",
          "2001-02-04T00:00:00.000000000",
          "2001-02-05T00:00:00.000000000",
          "2001-02-06T00:00:00.000000000",
          "2001-02-07T00:00:00.000000000",
          "2001-02-08T00:00:00.000000000",
          "2001-02-09T00:00:00.000000000",
          "2001-02-10T00:00:00.000000000",
          "2001-02-11T00:00:00.000000000",
          "2001-02-12T00:00:00.000000000",
          "2001-02-13T00:00:00.000000000",
          "2001-02-14T00:00:00.000000000",
          "2001-02-15T00:00:00.000000000",
          "2001-02-16T00:00:00.000000000",
          "2001-02-17T00:00:00.000000000",
          "2001-02-18T00:00:00.000000000",
          "2001-02-19T00:00:00.000000000",
          "2001-02-20T00:00:00.000000000",
          "2001-02-21T00:00:00.000000000",
          "2001-02-22T00:00:00.000000000",
          "2001-02-23T00:00:00.000000000",
          "2001-02-24T00:00:00.000000000",
          "2001-02-25T00:00:00.000000000",
          "2001-02-26T00:00:00.000000000",
          "2001-02-27T00:00:00.000000000",
          "2001-02-28T00:00:00.000000000",
          "2001-03-01T00:00:00.000000000",
          "2001-03-02T00:00:00.000000000",
          "2001-03-03T00:00:00.000000000",
          "2001-03-04T00:00:00.000000000",
          "2001-03-05T00:00:00.000000000",
          "2001-03-06T00:00:00.000000000",
          "2001-03-07T00:00:00.000000000",
          "2001-03-08T00:00:00.000000000",
          "2001-03-09T00:00:00.000000000",
          "2001-03-10T00:00:00.000000000",
          "2001-03-11T00:00:00.000000000",
          "2001-03-12T00:00:00.000000000",
          "2001-03-13T00:00:00.000000000",
          "2001-03-14T00:00:00.000000000",
          "2001-03-15T00:00:00.000000000",
          "2001-03-16T00:00:00.000000000",
          "2001-03-17T00:00:00.000000000",
          "2001-03-18T00:00:00.000000000",
          "2001-03-19T00:00:00.000000000",
          "2001-03-20T00:00:00.000000000",
          "2001-03-21T00:00:00.000000000",
          "2001-03-22T00:00:00.000000000",
          "2001-03-23T00:00:00.000000000",
          "2001-03-24T00:00:00.000000000",
          "2001-03-25T00:00:00.000000000",
          "2001-03-26T00:00:00.000000000",
          "2001-03-27T00:00:00.000000000",
          "2001-03-28T00:00:00.000000000",
          "2001-03-29T00:00:00.000000000",
          "2001-03-30T00:00:00.000000000",
          "2001-03-31T00:00:00.000000000",
          "2001-04-01T00:00:00.000000000",
          "2001-04-02T00:00:00.000000000",
          "2001-04-03T00:00:00.000000000",
          "2001-04-04T00:00:00.000000000",
          "2001-04-05T00:00:00.000000000",
          "2001-04-06T00:00:00.000000000",
          "2001-04-07T00:00:00.000000000",
          "2001-04-08T00:00:00.000000000",
          "2001-04-09T00:00:00.000000000",
          "2001-04-10T00:00:00.000000000",
          "2001-04-11T00:00:00.000000000",
          "2001-04-12T00:00:00.000000000",
          "2001-04-13T00:00:00.000000000",
          "2001-04-14T00:00:00.000000000",
          "2001-04-15T00:00:00.000000000",
          "2001-04-16T00:00:00.000000000",
          "2001-04-17T00:00:00.000000000",
          "2001-04-18T00:00:00.000000000",
          "2001-04-19T00:00:00.000000000"
         ],
         "xaxis": "x9",
         "y": {
          "bdata": "VxCTK4jJPUD1nY36zkYlQFcQkyuIyS1AXUFMriAmM0D/4k8knNI4QH+EU5oXfz5AEJMriMkVQkD1nY36zkY1QIwuuuiiC0FA+oK+oC/oG0C1K1G7ErVPQE/sxE7sxE5AKK+hvIbyTEAN5TWU11BKQGwor6G8BldAG8prKK+hS0A2lNdQXkNOQCivobyGclBAR4L7CO4jT0AlprOYzmJNQBvKayivoUtAx3Ecx3GcR0DHcRzHcZxHQD744IMPPjhA+oK+oC/oK0CKtCVtSVs6QN8T9oQ9YUNAZU1ZU9aUSUAYhmEYhmFLQMdxHMdxHC9AjuM4juM4VkBR7MRO7MREQMnMzMzMTEtARe1K1K7EUEBqV6J2JapTQAAAAAAAIFdAAAAAAADAUkB6nud5nmdYQKuqqqqqqlBAAAAAAADAUkAcx3Ecx3FTQG+WJ5Fp2FNAFDuxEzsxVECO4ziO4zhWQEZlVEZlVFRAKCgoKCgoUUDFMAzDMAxQQF3mempEyU1AGIZhGIZhS0BQiLPyE+JQQFVVVVVVVU9AVVVVVVVVU0CUy4vgUyBQQGv83TxC9VBAgFOj4t/UUUAAAAAAAMBSQLLJJptsslNAaKwPjfWhT0BZyEIWspBTQN/0pje96UdAEyV+RomfTECuqqqqqqpQQMdxHMdxXFFAHMdxHMfxT0APDw8PDw9WQGwor6G8BldAVVVVVVVVVkBvR1jD8htXQCPBol2t51dAHmIWaGqvWEBVz2t7LhNVQEv5XvD6F1RAdPEg4gqzVUDRlUM15FZSQJGzq3eqjVNAfmgJtEvTVECrqqqqAABVQItpsb5dxlZAK+svnA1H4z/xxcVGPuRGQP3fkli8vxZAS4M48tqWM0BMJyZn475AQPIMMFVZskdA8WhC4FCKSkAt0N6VVh5JQGTtipWfb0xAJVcgCxb1QkADhvWi6JtDQOC0yjq7QkRAvuOf0o3pRED4xz79HnRHQHCS3QXrWEpAH97fa+xBRUAmkVkKLapUQIJ5SX508FNAOar0MTDNU0AhjqFuTK5TQIhjqBuTa1FAoqtfdt1ZQkBfjxyZRP1MQPrHd1b+/0hAII+dkKwgS0BGVsPKWkFNQGwd6QQJYk9A/usHPwSJVkAvJw+SMwFXQKQKSzLd1VdAAAAA4KqqVUDM4xs1x1dUQJzyjR1k8VJAeo8/ec3DUUDTmTihiDtOQMccTUL+9DtATwQYNKOJOUCP1bmxvvc0QKaqqqqqqkBAeGp4/HXZRkAEdAsEZjFLQIecksZFcDlAPfGzbzeLIUA0CKNsMCkyQHKe0l3YOjRAlO0WNRWVPEBnni0GqXdCQPeTX7b5TUxA6lMqoCIHQUBCMo2iqfc9QM+g4+v88EdAyURmPlLqQUDa5NTmUZNEQOyEQ49RPEdA7tqVjRJTSkCq6+7cA6srQJdnE6zloU5Ac/4T1XTOSUAErjL3+ZA2QHWHUGL6IURA0bcHyXf7TEAAAAAAAABZQKdlLY0I/k9AMp3ACMAMQUBCSwRxGmFQQFXafcdyz1BAaWn3Hcs9UUB8+HB0I6xRQJCH6sp7GlJANX7GWIXXTUBysSGS0HhUQCrCZF9t21FA",
          "dtype": "f8"
         },
         "yaxis": "y9"
        }
       ],
       "layout": {
        "autosize": false,
        "height": 1800,
        "margin": {
         "b": 30,
         "l": 30,
         "pad": 3,
         "r": 30,
         "t": 30
        },
        "paper_bgcolor": "White",
        "template": {
         "data": {
          "bar": [
           {
            "error_x": {
             "color": "#2a3f5f"
            },
            "error_y": {
             "color": "#2a3f5f"
            },
            "marker": {
             "line": {
              "color": "#E5ECF6",
              "width": 0.5
             },
             "pattern": {
              "fillmode": "overlay",
              "size": 10,
              "solidity": 0.2
             }
            },
            "type": "bar"
           }
          ],
          "barpolar": [
           {
            "marker": {
             "line": {
              "color": "#E5ECF6",
              "width": 0.5
             },
             "pattern": {
              "fillmode": "overlay",
              "size": 10,
              "solidity": 0.2
             }
            },
            "type": "barpolar"
           }
          ],
          "carpet": [
           {
            "aaxis": {
             "endlinecolor": "#2a3f5f",
             "gridcolor": "white",
             "linecolor": "white",
             "minorgridcolor": "white",
             "startlinecolor": "#2a3f5f"
            },
            "baxis": {
             "endlinecolor": "#2a3f5f",
             "gridcolor": "white",
             "linecolor": "white",
             "minorgridcolor": "white",
             "startlinecolor": "#2a3f5f"
            },
            "type": "carpet"
           }
          ],
          "choropleth": [
           {
            "colorbar": {
             "outlinewidth": 0,
             "ticks": ""
            },
            "type": "choropleth"
           }
          ],
          "contour": [
           {
            "colorbar": {
             "outlinewidth": 0,
             "ticks": ""
            },
            "colorscale": [
             [
              0,
              "#0d0887"
             ],
             [
              0.1111111111111111,
              "#46039f"
             ],
             [
              0.2222222222222222,
              "#7201a8"
             ],
             [
              0.3333333333333333,
              "#9c179e"
             ],
             [
              0.4444444444444444,
              "#bd3786"
             ],
             [
              0.5555555555555556,
              "#d8576b"
             ],
             [
              0.6666666666666666,
              "#ed7953"
             ],
             [
              0.7777777777777778,
              "#fb9f3a"
             ],
             [
              0.8888888888888888,
              "#fdca26"
             ],
             [
              1,
              "#f0f921"
             ]
            ],
            "type": "contour"
           }
          ],
          "contourcarpet": [
           {
            "colorbar": {
             "outlinewidth": 0,
             "ticks": ""
            },
            "type": "contourcarpet"
           }
          ],
          "heatmap": [
           {
            "colorbar": {
             "outlinewidth": 0,
             "ticks": ""
            },
            "colorscale": [
             [
              0,
              "#0d0887"
             ],
             [
              0.1111111111111111,
              "#46039f"
             ],
             [
              0.2222222222222222,
              "#7201a8"
             ],
             [
              0.3333333333333333,
              "#9c179e"
             ],
             [
              0.4444444444444444,
              "#bd3786"
             ],
             [
              0.5555555555555556,
              "#d8576b"
             ],
             [
              0.6666666666666666,
              "#ed7953"
             ],
             [
              0.7777777777777778,
              "#fb9f3a"
             ],
             [
              0.8888888888888888,
              "#fdca26"
             ],
             [
              1,
              "#f0f921"
             ]
            ],
            "type": "heatmap"
           }
          ],
          "histogram": [
           {
            "marker": {
             "pattern": {
              "fillmode": "overlay",
              "size": 10,
              "solidity": 0.2
             }
            },
            "type": "histogram"
           }
          ],
          "histogram2d": [
           {
            "colorbar": {
             "outlinewidth": 0,
             "ticks": ""
            },
            "colorscale": [
             [
              0,
              "#0d0887"
             ],
             [
              0.1111111111111111,
              "#46039f"
             ],
             [
              0.2222222222222222,
              "#7201a8"
             ],
             [
              0.3333333333333333,
              "#9c179e"
             ],
             [
              0.4444444444444444,
              "#bd3786"
             ],
             [
              0.5555555555555556,
              "#d8576b"
             ],
             [
              0.6666666666666666,
              "#ed7953"
             ],
             [
              0.7777777777777778,
              "#fb9f3a"
             ],
             [
              0.8888888888888888,
              "#fdca26"
             ],
             [
              1,
              "#f0f921"
             ]
            ],
            "type": "histogram2d"
           }
          ],
          "histogram2dcontour": [
           {
            "colorbar": {
             "outlinewidth": 0,
             "ticks": ""
            },
            "colorscale": [
             [
              0,
              "#0d0887"
             ],
             [
              0.1111111111111111,
              "#46039f"
             ],
             [
              0.2222222222222222,
              "#7201a8"
             ],
             [
              0.3333333333333333,
              "#9c179e"
             ],
             [
              0.4444444444444444,
              "#bd3786"
             ],
             [
              0.5555555555555556,
              "#d8576b"
             ],
             [
              0.6666666666666666,
              "#ed7953"
             ],
             [
              0.7777777777777778,
              "#fb9f3a"
             ],
             [
              0.8888888888888888,
              "#fdca26"
             ],
             [
              1,
              "#f0f921"
             ]
            ],
            "type": "histogram2dcontour"
           }
          ],
          "mesh3d": [
           {
            "colorbar": {
             "outlinewidth": 0,
             "ticks": ""
            },
            "type": "mesh3d"
           }
          ],
          "parcoords": [
           {
            "line": {
             "colorbar": {
              "outlinewidth": 0,
              "ticks": ""
             }
            },
            "type": "parcoords"
           }
          ],
          "pie": [
           {
            "automargin": true,
            "type": "pie"
           }
          ],
          "scatter": [
           {
            "fillpattern": {
             "fillmode": "overlay",
             "size": 10,
             "solidity": 0.2
            },
            "type": "scatter"
           }
          ],
          "scatter3d": [
           {
            "line": {
             "colorbar": {
              "outlinewidth": 0,
              "ticks": ""
             }
            },
            "marker": {
             "colorbar": {
              "outlinewidth": 0,
              "ticks": ""
             }
            },
            "type": "scatter3d"
           }
          ],
          "scattercarpet": [
           {
            "marker": {
             "colorbar": {
              "outlinewidth": 0,
              "ticks": ""
             }
            },
            "type": "scattercarpet"
           }
          ],
          "scattergeo": [
           {
            "marker": {
             "colorbar": {
              "outlinewidth": 0,
              "ticks": ""
             }
            },
            "type": "scattergeo"
           }
          ],
          "scattergl": [
           {
            "marker": {
             "colorbar": {
              "outlinewidth": 0,
              "ticks": ""
             }
            },
            "type": "scattergl"
           }
          ],
          "scattermap": [
           {
            "marker": {
             "colorbar": {
              "outlinewidth": 0,
              "ticks": ""
             }
            },
            "type": "scattermap"
           }
          ],
          "scattermapbox": [
           {
            "marker": {
             "colorbar": {
              "outlinewidth": 0,
              "ticks": ""
             }
            },
            "type": "scattermapbox"
           }
          ],
          "scatterpolar": [
           {
            "marker": {
             "colorbar": {
              "outlinewidth": 0,
              "ticks": ""
             }
            },
            "type": "scatterpolar"
           }
          ],
          "scatterpolargl": [
           {
            "marker": {
             "colorbar": {
              "outlinewidth": 0,
              "ticks": ""
             }
            },
            "type": "scatterpolargl"
           }
          ],
          "scatterternary": [
           {
            "marker": {
             "colorbar": {
              "outlinewidth": 0,
              "ticks": ""
             }
            },
            "type": "scatterternary"
           }
          ],
          "surface": [
           {
            "colorbar": {
             "outlinewidth": 0,
             "ticks": ""
            },
            "colorscale": [
             [
              0,
              "#0d0887"
             ],
             [
              0.1111111111111111,
              "#46039f"
             ],
             [
              0.2222222222222222,
              "#7201a8"
             ],
             [
              0.3333333333333333,
              "#9c179e"
             ],
             [
              0.4444444444444444,
              "#bd3786"
             ],
             [
              0.5555555555555556,
              "#d8576b"
             ],
             [
              0.6666666666666666,
              "#ed7953"
             ],
             [
              0.7777777777777778,
              "#fb9f3a"
             ],
             [
              0.8888888888888888,
              "#fdca26"
             ],
             [
              1,
              "#f0f921"
             ]
            ],
            "type": "surface"
           }
          ],
          "table": [
           {
            "cells": {
             "fill": {
              "color": "#EBF0F8"
             },
             "line": {
              "color": "white"
             }
            },
            "header": {
             "fill": {
              "color": "#C8D4E3"
             },
             "line": {
              "color": "white"
             }
            },
            "type": "table"
           }
          ]
         },
         "layout": {
          "annotationdefaults": {
           "arrowcolor": "#2a3f5f",
           "arrowhead": 0,
           "arrowwidth": 1
          },
          "autotypenumbers": "strict",
          "coloraxis": {
           "colorbar": {
            "outlinewidth": 0,
            "ticks": ""
           }
          },
          "colorscale": {
           "diverging": [
            [
             0,
             "#8e0152"
            ],
            [
             0.1,
             "#c51b7d"
            ],
            [
             0.2,
             "#de77ae"
            ],
            [
             0.3,
             "#f1b6da"
            ],
            [
             0.4,
             "#fde0ef"
            ],
            [
             0.5,
             "#f7f7f7"
            ],
            [
             0.6,
             "#e6f5d0"
            ],
            [
             0.7,
             "#b8e186"
            ],
            [
             0.8,
             "#7fbc41"
            ],
            [
             0.9,
             "#4d9221"
            ],
            [
             1,
             "#276419"
            ]
           ],
           "sequential": [
            [
             0,
             "#0d0887"
            ],
            [
             0.1111111111111111,
             "#46039f"
            ],
            [
             0.2222222222222222,
             "#7201a8"
            ],
            [
             0.3333333333333333,
             "#9c179e"
            ],
            [
             0.4444444444444444,
             "#bd3786"
            ],
            [
             0.5555555555555556,
             "#d8576b"
            ],
            [
             0.6666666666666666,
             "#ed7953"
            ],
            [
             0.7777777777777778,
             "#fb9f3a"
            ],
            [
             0.8888888888888888,
             "#fdca26"
            ],
            [
             1,
             "#f0f921"
            ]
           ],
           "sequentialminus": [
            [
             0,
             "#0d0887"
            ],
            [
             0.1111111111111111,
             "#46039f"
            ],
            [
             0.2222222222222222,
             "#7201a8"
            ],
            [
             0.3333333333333333,
             "#9c179e"
            ],
            [
             0.4444444444444444,
             "#bd3786"
            ],
            [
             0.5555555555555556,
             "#d8576b"
            ],
            [
             0.6666666666666666,
             "#ed7953"
            ],
            [
             0.7777777777777778,
             "#fb9f3a"
            ],
            [
             0.8888888888888888,
             "#fdca26"
            ],
            [
             1,
             "#f0f921"
            ]
           ]
          },
          "colorway": [
           "#636efa",
           "#EF553B",
           "#00cc96",
           "#ab63fa",
           "#FFA15A",
           "#19d3f3",
           "#FF6692",
           "#B6E880",
           "#FF97FF",
           "#FECB52"
          ],
          "font": {
           "color": "#2a3f5f"
          },
          "geo": {
           "bgcolor": "white",
           "lakecolor": "white",
           "landcolor": "#E5ECF6",
           "showlakes": true,
           "showland": true,
           "subunitcolor": "white"
          },
          "hoverlabel": {
           "align": "left"
          },
          "hovermode": "closest",
          "mapbox": {
           "style": "light"
          },
          "paper_bgcolor": "rgba(0,0,0,0)",
          "plot_bgcolor": "rgba(250,250,250,0.8)",
          "polar": {
           "angularaxis": {
            "gridcolor": "white",
            "linecolor": "white",
            "ticks": ""
           },
           "bgcolor": "#E5ECF6",
           "radialaxis": {
            "gridcolor": "white",
            "linecolor": "white",
            "ticks": ""
           }
          },
          "scene": {
           "xaxis": {
            "backgroundcolor": "#E5ECF6",
            "gridcolor": "white",
            "gridwidth": 2,
            "linecolor": "white",
            "showbackground": true,
            "ticks": "",
            "zerolinecolor": "white"
           },
           "yaxis": {
            "backgroundcolor": "#E5ECF6",
            "gridcolor": "white",
            "gridwidth": 2,
            "linecolor": "white",
            "showbackground": true,
            "ticks": "",
            "zerolinecolor": "white"
           },
           "zaxis": {
            "backgroundcolor": "#E5ECF6",
            "gridcolor": "white",
            "gridwidth": 2,
            "linecolor": "white",
            "showbackground": true,
            "ticks": "",
            "zerolinecolor": "white"
           }
          },
          "shapedefaults": {
           "line": {
            "color": "#2a3f5f"
           }
          },
          "ternary": {
           "aaxis": {
            "gridcolor": "white",
            "linecolor": "white",
            "ticks": ""
           },
           "baxis": {
            "gridcolor": "white",
            "linecolor": "white",
            "ticks": ""
           },
           "bgcolor": "#E5ECF6",
           "caxis": {
            "gridcolor": "white",
            "linecolor": "white",
            "ticks": ""
           }
          },
          "title": {
           "x": 0.05
          },
          "xaxis": {
           "automargin": true,
           "gridcolor": "white",
           "linecolor": "white",
           "ticks": "",
           "title": {
            "standoff": 15
           },
           "zerolinecolor": "white",
           "zerolinewidth": 2
          },
          "yaxis": {
           "automargin": true,
           "gridcolor": "white",
           "linecolor": "white",
           "ticks": "",
           "title": {
            "standoff": 15
           },
           "zerolinecolor": "white",
           "zerolinewidth": 2
          }
         }
        },
        "width": 1500,
        "xaxis": {
         "anchor": "y",
         "domain": [
          0,
          1
         ]
        },
        "xaxis2": {
         "anchor": "y2",
         "domain": [
          0,
          1
         ]
        },
        "xaxis3": {
         "anchor": "y3",
         "domain": [
          0,
          1
         ]
        },
        "xaxis4": {
         "anchor": "y4",
         "domain": [
          0,
          1
         ]
        },
        "xaxis5": {
         "anchor": "y5",
         "domain": [
          0,
          1
         ]
        },
        "xaxis6": {
         "anchor": "y6",
         "domain": [
          0,
          1
         ]
        },
        "xaxis7": {
         "anchor": "y7",
         "domain": [
          0,
          1
         ]
        },
        "xaxis8": {
         "anchor": "y8",
         "domain": [
          0,
          1
         ]
        },
        "xaxis9": {
         "anchor": "y9",
         "domain": [
          0,
          1
         ]
        },
        "yaxis": {
         "anchor": "x",
         "domain": [
          0.9185185185185185,
          1
         ]
        },
        "yaxis2": {
         "anchor": "x2",
         "domain": [
          0.8037037037037038,
          0.8851851851851853
         ]
        },
        "yaxis3": {
         "anchor": "x3",
         "domain": [
          0.6888888888888889,
          0.7703703703703704
         ]
        },
        "yaxis4": {
         "anchor": "x4",
         "domain": [
          0.5740740740740741,
          0.6555555555555556
         ]
        },
        "yaxis5": {
         "anchor": "x5",
         "domain": [
          0.45925925925925926,
          0.5407407407407407
         ]
        },
        "yaxis6": {
         "anchor": "x6",
         "domain": [
          0.34444444444444444,
          0.42592592592592593
         ]
        },
        "yaxis7": {
         "anchor": "x7",
         "domain": [
          0.22962962962962963,
          0.3111111111111111
         ]
        },
        "yaxis8": {
         "anchor": "x8",
         "domain": [
          0.11481481481481481,
          0.1962962962962963
         ]
        },
        "yaxis9": {
         "anchor": "x9",
         "domain": [
          0,
          0.08148148148148149
         ]
        }
       }
      }
     },
     "metadata": {},
     "output_type": "display_data"
    }
   ],
   "source": [
    "start = 10400\n",
    "# vdf = df\n",
    "vdf = df[start:start+150]\n",
    "\n",
    "fig = make_subplots(rows=9, cols=1)\n",
    "#Price\n",
    "fig.add_trace(go.Scatter(x=vdf.Date, y=vdf.Close, name='Close'), row=1, col=1)\n",
    "fig.add_trace(go.Scatter(x=vdf.Date, y=vdf.HB, name='Bollinger High Band'), row=1, col=1)\n",
    "fig.add_trace(go.Scatter(x=vdf.Date, y=vdf.LB, name='Bollinger Low Band'), row=1, col=1)\n",
    "# fig.add_trace(go.Scatter(x=vdf.Date, y=vdf.MB, name='Bollinger Middle Band'), row=1, col=1)\n",
    "#SMA\n",
    "fig.add_trace(go.Scatter(x=vdf.Date, y=vdf.SMA5, name='SMA5'), row=2, col=1)\n",
    "fig.add_trace(go.Scatter(x=vdf.Date, y=vdf.SMA10, name='SMA10'), row=2, col=1)\n",
    "# fig.add_trace(go.Scatter(x=vdf.Date, y=vdf.SMA14, name='SMA14'), row=2, col=1)\n",
    "fig.add_trace(go.Scatter(x=vdf.Date, y=vdf.SMA30, name='SMA30'), row=2, col=1)\n",
    "# EMA\n",
    "# fig.add_trace(go.Scatter(x=vdf.Date, y=vdf.EMA5, name='EMA5'), row=3, col=1)\n",
    "fig.add_trace(go.Scatter(x=vdf.Date, y=vdf.EMA10, name='EMA10'), row=3, col=1)\n",
    "# fig.add_trace(go.Scatter(x=vdf.Date, y=vdf.EMA14, name='EMA14'), row=3, col=1)\n",
    "# fig.add_trace(go.Scatter(x=vdf.Date, y=vdf.KAMA, name='KAMA'), row=3, col=1)\n",
    "#Bollinger Bands information\n",
    "fig.add_trace(go.Scatter(x=vdf.Date, y=vdf['%B'], name='%B'), row=4, col=1)\n",
    "fig.add_trace(go.Scatter(x=vdf.Date, y=vdf['%B10'], name='%B10'), row=5, col=1)\n",
    "# fig.add_trace(go.Scatter(x=vdf.Date, y=vdf.BBBandWidth, name='BandWidth'), row=5, col=1)\n",
    "# RSI\n",
    "fig.add_trace(go.Scatter(x=vdf.Date, y=vdf.RSI30, name='RSI30'), row=6, col=1)\n",
    "fig.add_trace(go.Scatter(x=vdf.Date, y=vdf.RSI14, name='RSI14'), row=7, col=1)\n",
    "fig.add_trace(go.Scatter(x=vdf.Date, y=vdf.ADX, name='ADX'), row=8, col=1)\n",
    "fig.add_trace(go.Scatter(x=vdf.Date, y=vdf.SO, name='SO'), row=9, col=1)\n",
    "\n",
    "fig.update_layout(\n",
    "    autosize=False,\n",
    "    width=1500,\n",
    "    height=1800,\n",
    "    margin=dict(l=30,r=30,b=30,\n",
    "                t=30,pad=3\n",
    "                ),\n",
    "    paper_bgcolor=\"White\",\n",
    ")"
   ]
  },
  {
   "cell_type": "markdown",
   "id": "e72c6d09",
   "metadata": {},
   "source": [
    "### Trend"
   ]
  },
  {
   "cell_type": "code",
   "execution_count": 1527,
   "id": "a718bc72",
   "metadata": {},
   "outputs": [],
   "source": [
    "def calc_trend(df, n=5, threshold=0.01):\n",
    "\ttrend = []\t\n",
    "\tfor i in range(len(df)):\n",
    "\t\tif i + n >= len(df):\n",
    "\t\t\ttrend.append('Neutral')\n",
    "\t\t\tcontinue\n",
    "\t\tfuture_mean = df['Close'].iloc[i+1:i+n+1].mean()\n",
    "\t\tcurrent_close = df['Close'].iloc[i]\n",
    "\t\tif future_mean > current_close * (1 + threshold):\n",
    "\t\t\ttrend.append('Up')\n",
    "\t\telif future_mean < current_close * (1 - threshold):\n",
    "\t\t\ttrend.append('Down')\n",
    "\t\telse:\n",
    "\t\t\ttrend.append('Neutral')\n",
    "\tdf['Trend'] = trend\n",
    "\treturn df"
   ]
  },
  {
   "cell_type": "code",
   "execution_count": 1528,
   "id": "8732bf6a",
   "metadata": {},
   "outputs": [],
   "source": [
    "def calc_trend_sma_ema(df, \n",
    "\t\t\t\t\t   n=10, \n",
    "\t\t\t\t\t   sma_threshold=0.01, \n",
    "\t\t\t\t\t   ema_threshold=0.01):\n",
    "\ttrend = []\n",
    "\tdf['BBBandwidth_Q1'] = df['BBBandWidth'].rolling(window=100, min_periods=100).quantile(0.3)\n",
    "\t# df['BBBandwidth_Q1'] = df['BBBandWidth'].rolling(window=50, min_periods=100).quantile(0.3)\n",
    "\tfor i in range(len(df)):\n",
    "\t\tif i + n >= len(df):\n",
    "\t\t\ttrend.append('Neutral')\n",
    "\t\t\tcontinue\n",
    "\t\t# SMA\n",
    "\t\tfuture_sma10 = df['SMA10'].iloc[i + n]\n",
    "\t\tcurrent_sma10 = df['SMA10'].iloc[i]\n",
    "\t\t# EMA\n",
    "\t\tfuture_ema10 = df['EMA14'].iloc[i + n]\n",
    "\t\tcurrent_ema10 = df['EMA14'].iloc[i]\n",
    "\n",
    "\t\tfuture_close = df['Close'].iloc[i + n]\n",
    "\n",
    "\t\t# Bollinger Bands\n",
    "\t\tfuture_bandwidth = df['BBBandWidth'].iloc[i + n]\n",
    "\t\tfuture_bandwidth_q1 = df['BBBandwidth_Q1'].iloc[i + n]\n",
    "\t\tfuture_ema_bandwidth = df['EMA_BBBandWidth'].iloc[i + n]\n",
    "\n",
    "\t\tif ((future_sma10 > current_sma10 * (1 + sma_threshold)) and (future_ema10 > current_ema10 * (1 + ema_threshold))):\n",
    "\t\t\ttrend.append('Up')\n",
    "\t\telif (future_sma10 < current_sma10 * (1 - sma_threshold)) and (future_ema10 < current_ema10 * (1 - ema_threshold)):\n",
    "\t\t\ttrend.append('Down')\n",
    "\t\telif future_ema_bandwidth < future_bandwidth_q1 :\n",
    "\t\t\ttrend.append('Neutral')\n",
    "\t\telse:\n",
    "\t\t\ttrend.append('Unknown')\n",
    "\t\t\n",
    "\tassert(len(trend) == len(df))\n",
    "\t# df.drop(['BBBandWidth_Q1'], axis=1, inplace=True)\n",
    "\tdf['Trend'] = trend\n",
    "\treturn df\n",
    "\t\t"
   ]
  },
  {
   "cell_type": "code",
   "execution_count": 1529,
   "id": "30ec8693",
   "metadata": {},
   "outputs": [
    {
     "name": "stdout",
     "output_type": "stream",
     "text": [
      "Trend\n",
      "Unknown    6603\n",
      "Neutral    4780\n",
      "Up         3698\n",
      "Down       3376\n",
      "Name: count, dtype: int64\n"
     ]
    }
   ],
   "source": [
    "df = calc_trend_sma_ema(df, n=7, sma_threshold=0.011, ema_threshold=0.02)\n",
    "print(df['Trend'].value_counts())"
   ]
  },
  {
   "cell_type": "code",
   "execution_count": 1530,
   "id": "26b66869",
   "metadata": {},
   "outputs": [
    {
     "data": {
      "text/html": [
       "<div>\n",
       "<style scoped>\n",
       "    .dataframe tbody tr th:only-of-type {\n",
       "        vertical-align: middle;\n",
       "    }\n",
       "\n",
       "    .dataframe tbody tr th {\n",
       "        vertical-align: top;\n",
       "    }\n",
       "\n",
       "    .dataframe thead th {\n",
       "        text-align: right;\n",
       "    }\n",
       "</style>\n",
       "<table border=\"1\" class=\"dataframe\">\n",
       "  <thead>\n",
       "    <tr style=\"text-align: right;\">\n",
       "      <th></th>\n",
       "      <th>Date</th>\n",
       "      <th>Close</th>\n",
       "      <th>SMA14</th>\n",
       "      <th>EMA10</th>\n",
       "      <th>EMA14</th>\n",
       "      <th>Trend</th>\n",
       "    </tr>\n",
       "  </thead>\n",
       "  <tbody>\n",
       "    <tr>\n",
       "      <th>10521</th>\n",
       "      <td>2001-03-22</td>\n",
       "      <td>27.809999</td>\n",
       "      <td>29.227857</td>\n",
       "      <td>28.79333</td>\n",
       "      <td>28.864861</td>\n",
       "      <td>Unknown</td>\n",
       "    </tr>\n",
       "  </tbody>\n",
       "</table>\n",
       "</div>"
      ],
      "text/plain": [
       "            Date      Close      SMA14     EMA10      EMA14    Trend\n",
       "10521 2001-03-22  27.809999  29.227857  28.79333  28.864861  Unknown"
      ]
     },
     "execution_count": 1530,
     "metadata": {},
     "output_type": "execute_result"
    }
   ],
   "source": [
    "df[df['Date'] == '2001-03-22'][['Date', 'Close', 'SMA14', 'EMA10', 'EMA14', 'Trend']]"
   ]
  },
  {
   "cell_type": "code",
   "execution_count": 1531,
   "id": "048d41a2",
   "metadata": {},
   "outputs": [
    {
     "data": {
      "text/html": [
       "<div>\n",
       "<style scoped>\n",
       "    .dataframe tbody tr th:only-of-type {\n",
       "        vertical-align: middle;\n",
       "    }\n",
       "\n",
       "    .dataframe tbody tr th {\n",
       "        vertical-align: top;\n",
       "    }\n",
       "\n",
       "    .dataframe thead th {\n",
       "        text-align: right;\n",
       "    }\n",
       "</style>\n",
       "<table border=\"1\" class=\"dataframe\">\n",
       "  <thead>\n",
       "    <tr style=\"text-align: right;\">\n",
       "      <th></th>\n",
       "      <th>Date</th>\n",
       "      <th>Close</th>\n",
       "      <th>SMA14</th>\n",
       "      <th>EMA10</th>\n",
       "      <th>EMA14</th>\n",
       "      <th>Trend</th>\n",
       "    </tr>\n",
       "  </thead>\n",
       "  <tbody>\n",
       "    <tr>\n",
       "      <th>10528</th>\n",
       "      <td>2001-03-29</td>\n",
       "      <td>28.49</td>\n",
       "      <td>28.549286</td>\n",
       "      <td>28.451234</td>\n",
       "      <td>28.532624</td>\n",
       "      <td>Neutral</td>\n",
       "    </tr>\n",
       "  </tbody>\n",
       "</table>\n",
       "</div>"
      ],
      "text/plain": [
       "            Date  Close      SMA14      EMA10      EMA14    Trend\n",
       "10528 2001-03-29  28.49  28.549286  28.451234  28.532624  Neutral"
      ]
     },
     "execution_count": 1531,
     "metadata": {},
     "output_type": "execute_result"
    }
   ],
   "source": [
    "df[df['Date'] == '2001-03-29'][['Date', 'Close', 'SMA14', 'EMA10', 'EMA14', 'Trend']]"
   ]
  },
  {
   "cell_type": "markdown",
   "id": "6540ca3c",
   "metadata": {},
   "source": [
    "#### Delete invalid data"
   ]
  },
  {
   "cell_type": "code",
   "execution_count": 1532,
   "id": "d0fb7f9e",
   "metadata": {},
   "outputs": [],
   "source": [
    "df = df[200:-100]\n",
    "# df = df[df['Trend'] != 'Unknown']\n",
    "df.index = range(len(df))"
   ]
  },
  {
   "cell_type": "code",
   "execution_count": 1533,
   "id": "abf0ce9d",
   "metadata": {},
   "outputs": [],
   "source": [
    "# df[5000:5010]"
   ]
  },
  {
   "cell_type": "markdown",
   "id": "4314723f",
   "metadata": {},
   "source": [
    "#### Indicator Analysis"
   ]
  },
  {
   "cell_type": "code",
   "execution_count": 1534,
   "id": "ed0d7a40",
   "metadata": {},
   "outputs": [
    {
     "name": "stdout",
     "output_type": "stream",
     "text": [
      "5817\n",
      "261\n",
      "1483\n",
      "2177\n"
     ]
    }
   ],
   "source": [
    "sma_threshold = 5\n",
    "print(len(df[df['DASMA'] >= sma_threshold]))\n",
    "print(len(df[(df['DASMA'] >= sma_threshold) & (df['Trend'] == 'Down')]))\n",
    "print(len(df[(df['DASMA'] >= sma_threshold) & (df['Trend'] == 'Neutral')]))\n",
    "print(len(df[(df['DASMA'] >= sma_threshold) & (df['Trend'] == 'Up')]))"
   ]
  },
  {
   "cell_type": "code",
   "execution_count": 1535,
   "id": "387efe9c",
   "metadata": {},
   "outputs": [
    {
     "name": "stdout",
     "output_type": "stream",
     "text": [
      "5523\n",
      "1987\n",
      "1216\n",
      "284\n"
     ]
    }
   ],
   "source": [
    "print(len(df[df['DBSMA'] >= sma_threshold]))\n",
    "print(len(df[(df['DBSMA'] >= sma_threshold) & (df['Trend'] == 'Down')]))\n",
    "print(len(df[(df['DBSMA'] >= sma_threshold) & (df['Trend'] == 'Neutral')]))\n",
    "print(len(df[(df['DBSMA'] >= sma_threshold) & (df['Trend'] == 'Up')]))"
   ]
  },
  {
   "cell_type": "code",
   "execution_count": 1536,
   "id": "3d3666c9",
   "metadata": {},
   "outputs": [
    {
     "name": "stdout",
     "output_type": "stream",
     "text": [
      "1723\n",
      "25\n",
      "157\n",
      "1056\n"
     ]
    }
   ],
   "source": [
    "upper_rsi_threshold = 70\n",
    "print(len(df[df['RSI14'] > upper_rsi_threshold]))\n",
    "print(len(df[(df['RSI14'] > upper_rsi_threshold) & (df['Trend'] == 'Down')]))\n",
    "print(len(df[(df['RSI14'] > upper_rsi_threshold) & (df['Trend'] == 'Neutral')]))\n",
    "print(len(df[(df['RSI14'] > upper_rsi_threshold) & (df['Trend'] == 'Up')]))\n"
   ]
  },
  {
   "cell_type": "code",
   "execution_count": 1537,
   "id": "94cdfa14",
   "metadata": {},
   "outputs": [
    {
     "name": "stdout",
     "output_type": "stream",
     "text": [
      "1468\n",
      "954\n",
      "66\n",
      "14\n"
     ]
    }
   ],
   "source": [
    "lower_rsi_threshold = 30\n",
    "print(len(df[df['RSI14'] < lower_rsi_threshold]))\n",
    "print(len(df[(df['RSI14'] < lower_rsi_threshold) & (df['Trend'] == 'Down')]))\n",
    "print(len(df[(df['RSI14'] < lower_rsi_threshold) & (df['Trend'] == 'Neutral')]))\n",
    "print(len(df[(df['RSI14'] < lower_rsi_threshold) & (df['Trend'] == 'Up')]))"
   ]
  },
  {
   "cell_type": "code",
   "execution_count": 1538,
   "id": "2368ddea",
   "metadata": {},
   "outputs": [
    {
     "name": "stdout",
     "output_type": "stream",
     "text": [
      "1088\n",
      "618\n",
      "72\n",
      "28\n"
     ]
    }
   ],
   "source": [
    "print(len(df[df['EMA7_RSI14'] < lower_rsi_threshold]))\n",
    "print(len(df[(df['EMA7_RSI14'] < lower_rsi_threshold) & (df['Trend'] == 'Down')]))\n",
    "print(len(df[(df['EMA7_RSI14'] < lower_rsi_threshold) & (df['Trend'] == 'Neutral')]))\n",
    "print(len(df[(df['EMA7_RSI14'] < lower_rsi_threshold) & (df['Trend'] == 'Up')]))"
   ]
  },
  {
   "cell_type": "code",
   "execution_count": 1539,
   "id": "3da606a5",
   "metadata": {},
   "outputs": [
    {
     "name": "stdout",
     "output_type": "stream",
     "text": [
      "1275\n",
      "36\n",
      "156\n",
      "689\n"
     ]
    }
   ],
   "source": [
    "upper_rsi_threshold = 70\n",
    "print(len(df[df['EMA7_RSI14'] > upper_rsi_threshold]))\n",
    "print(len(df[(df['EMA7_RSI14'] > upper_rsi_threshold) & (df['Trend'] == 'Down')]))\n",
    "print(len(df[(df['EMA7_RSI14'] > upper_rsi_threshold) & (df['Trend'] == 'Neutral')]))\n",
    "print(len(df[(df['EMA7_RSI14'] > upper_rsi_threshold) & (df['Trend'] == 'Up')]))"
   ]
  },
  {
   "cell_type": "code",
   "execution_count": 1540,
   "id": "3d5f7232",
   "metadata": {},
   "outputs": [],
   "source": [
    "df.drop(['Open'], axis=1, inplace=True)\n",
    "df.drop(['High'], axis=1, inplace=True)\n",
    "df.drop(['Low'], axis=1, inplace=True)\n",
    "df.drop(['Close'], axis=1, inplace=True)\n",
    "df.drop(['Volume'], axis=1, inplace=True)\n",
    "df.drop(['Adjusted Close'], axis=1, inplace=True)\n",
    "df.drop(['HB'], axis=1, inplace=True)\n",
    "df.drop(['LB'], axis=1, inplace=True)\n",
    "df.drop(['MB'], axis=1, inplace=True)\n",
    "df.drop(['HB10'], axis=1, inplace=True)\n",
    "df.drop(['LB10'], axis=1, inplace=True)\n",
    "df.drop(['MB10'], axis=1, inplace=True)\n",
    "df.drop(['EMA5'], axis=1, inplace=True)\n",
    "df.drop(['EMA10'], axis=1, inplace=True)\n",
    "df.drop(['EMA14'], axis=1, inplace=True)\n",
    "df.drop(['SMA5'], axis=1, inplace=True)\n",
    "df.drop(['SMA10'], axis=1, inplace=True)\n",
    "df.drop(['SMA14'], axis=1, inplace=True)\n",
    "df.drop(['SMA30'], axis=1, inplace=True)\n",
    "df.drop(['SMA50'], axis=1, inplace=True)\n",
    "df.drop(['BBBandwidth_Q1'], axis=1, inplace=True)\n",
    "df.drop(['KAMA'], axis=1, inplace=True)"
   ]
  },
  {
   "cell_type": "markdown",
   "id": "d601429b",
   "metadata": {},
   "source": [
    "### Train Model"
   ]
  },
  {
   "cell_type": "code",
   "execution_count": 1541,
   "id": "c9e08918",
   "metadata": {},
   "outputs": [],
   "source": [
    "test_size = 0.3\n",
    "test_split_idx  = int(df.shape[0] * (1-test_size))\n",
    "train_df  = df.loc[:test_split_idx].copy()\n",
    "test_df   = df.loc[test_split_idx:].copy()"
   ]
  },
  {
   "cell_type": "code",
   "execution_count": 1542,
   "id": "5392abd2",
   "metadata": {},
   "outputs": [
    {
     "name": "stdout",
     "output_type": "stream",
     "text": [
      "<class 'pandas.core.frame.DataFrame'>\n",
      "RangeIndex: 12710 entries, 0 to 12709\n",
      "Data columns (total 27 columns):\n",
      " #   Column           Non-Null Count  Dtype  \n",
      "---  ------           --------------  -----  \n",
      " 0   RSI7             12710 non-null  float64\n",
      " 1   RSI14            12710 non-null  float64\n",
      " 2   RSI30            12710 non-null  float64\n",
      " 3   RSI50            12710 non-null  float64\n",
      " 4   DRSI7            12710 non-null  float64\n",
      " 5   DRSI14           12710 non-null  float64\n",
      " 6   DRSI30           12710 non-null  float64\n",
      " 7   EMA7_RSI14       12710 non-null  float64\n",
      " 8   EMA14_RSI14      12710 non-null  float64\n",
      " 9   EMA7_RSI30       12710 non-null  float64\n",
      " 10  EMA14_RSI30      12710 non-null  float64\n",
      " 11  ADX              12710 non-null  float64\n",
      " 12  EMA7_ADX         12710 non-null  float64\n",
      " 13  %B               12710 non-null  float64\n",
      " 14  BBBandWidth      12710 non-null  float64\n",
      " 15  %B10             12710 non-null  float64\n",
      " 16  DASMA            12710 non-null  int64  \n",
      " 17  DBSMA            12710 non-null  int64  \n",
      " 18  EMA_BBBandWidth  12710 non-null  float64\n",
      " 19  MACD             12710 non-null  float64\n",
      " 20  MACD_signal      12710 non-null  float64\n",
      " 21  MACD_hist        12710 non-null  float64\n",
      " 22  SO               12710 non-null  float64\n",
      " 23  EMA7_SO          12710 non-null  float64\n",
      " 24  EMA14_SO         12710 non-null  float64\n",
      " 25  OBV              12710 non-null  float64\n",
      " 26  CMF              12710 non-null  float64\n",
      "dtypes: float64(25), int64(2)\n",
      "memory usage: 2.6 MB\n"
     ]
    }
   ],
   "source": [
    "y_train = train_df['Trend'].copy()\n",
    "X_train = train_df.drop(['Trend'], axis=1)\n",
    "\n",
    "y_test  = test_df['Trend'].copy()\n",
    "X_test  = test_df.drop(['Trend'], axis=1)\n",
    "\n",
    "X_train = X_train.drop(['Date'], axis=1)\n",
    "X_test = X_test.drop(['Date'], axis=1)\n",
    "\n",
    "X_train.info()"
   ]
  },
  {
   "cell_type": "code",
   "execution_count": 1543,
   "id": "7f7548b8",
   "metadata": {},
   "outputs": [
    {
     "data": {
      "image/png": "[encoded data removed]",
      "text/plain": [
       "<Figure size 480x480 with 2 Axes>"
      ]
     },
     "metadata": {},
     "output_type": "display_data"
    }
   ],
   "source": [
    "corr = X_train.corr()\n",
    "corr.style.background_gradient(cmap='coolwarm')\n",
    "plt.matshow(corr)\n",
    "cb = plt.colorbar()\n",
    "cb.ax.tick_params(labelsize=14)"
   ]
  },
  {
   "cell_type": "code",
   "execution_count": 1544,
   "id": "44536215",
   "metadata": {},
   "outputs": [
    {
     "data": {
      "text/plain": [
       "array([3, 0, 1, 2])"
      ]
     },
     "execution_count": 1544,
     "metadata": {},
     "output_type": "execute_result"
    }
   ],
   "source": [
    "le = LabelEncoder()\n",
    "le.fit(['Up', 'Down', 'Neutral', 'Unknown'])\n",
    "y_train = le.transform(y_train)\n",
    "y_test = le.transform(y_test)\n",
    "le.transform(['Up', 'Down', 'Neutral', 'Unknown'])"
   ]
  },
  {
   "cell_type": "code",
   "execution_count": 1545,
   "id": "ad3a7148",
   "metadata": {},
   "outputs": [],
   "source": [
    "ros = RandomOverSampler(random_state=42)\n",
    "X_train, y_train = ros.fit_resample(X_train, y_train)"
   ]
  },
  {
   "cell_type": "code",
   "execution_count": 1546,
   "id": "b0ced00e",
   "metadata": {},
   "outputs": [],
   "source": [
    "rus = RandomUnderSampler(random_state=42)\n",
    "X_test, y_test = rus.fit_resample(X_test, y_test)"
   ]
  },
  {
   "cell_type": "code",
   "execution_count": 1547,
   "id": "015fd262",
   "metadata": {},
   "outputs": [
    {
     "data": {
      "text/plain": [
       "(array([4731., 4731., 4731., 4731.]),\n",
       " array([0.  , 0.75, 1.5 , 2.25, 3.  ]),\n",
       " <BarContainer object of 4 artists>)"
      ]
     },
     "execution_count": 1547,
     "metadata": {},
     "output_type": "execute_result"
    },
    {
     "data": {
      "image/png": "[encoded data removed]",
      "text/plain": [
       "<Figure size 640x480 with 1 Axes>"
      ]
     },
     "metadata": {},
     "output_type": "display_data"
    }
   ],
   "source": [
    "# plt.hist(y_train, bins=3, edgecolor='black')\n",
    "plt.hist(y_train, bins=4, edgecolor='black')"
   ]
  },
  {
   "cell_type": "code",
   "execution_count": 1548,
   "id": "cf3f6089",
   "metadata": {},
   "outputs": [
    {
     "data": {
      "text/plain": [
       "(array([1122., 1122., 1122., 1122.]),\n",
       " array([0.  , 0.75, 1.5 , 2.25, 3.  ]),\n",
       " <BarContainer object of 4 artists>)"
      ]
     },
     "execution_count": 1548,
     "metadata": {},
     "output_type": "execute_result"
    },
    {
     "data": {
      "image/png": "[encoded data removed]",
      "text/plain": [
       "<Figure size 640x480 with 1 Axes>"
      ]
     },
     "metadata": {},
     "output_type": "display_data"
    }
   ],
   "source": [
    "# plt.hist(y_test, bins=3, edgecolor='black')\n",
    "plt.hist(y_test, bins=4, edgecolor='black')"
   ]
  },
  {
   "cell_type": "code",
   "execution_count": 1549,
   "id": "29f460c9",
   "metadata": {},
   "outputs": [
    {
     "name": "stdout",
     "output_type": "stream",
     "text": [
      "Fitting 3 folds for each of 4 candidates, totalling 12 fits\n",
      "Best Parameters: {'colsample_bytree': 0.8, 'learning_rate': 0.1, 'max_depth': 10, 'n_estimators': 425, 'subsample': 0.6}\n",
      "Best Cross-Validation Accuracy: 0.6657154935531601\n",
      "CPU times: total: 2min 24s\n",
      "Wall time: 2min 25s\n"
     ]
    }
   ],
   "source": [
    "%%time\n",
    "\n",
    "param_grid = {\n",
    "    'max_depth': [10],\n",
    "    'learning_rate': [0.1],\n",
    "    'n_estimators': [425],\n",
    "    'subsample': [0.6, 0.8],\n",
    "    'colsample_bytree': [0.8, 1.0],\n",
    "}\n",
    "\n",
    "# model = xgb.XGBClassifier(objective='multi:softmax', num_class=3, eval_metric='mlogloss')\n",
    "model = xgb.XGBClassifier(objective='multi:softmax', num_class=4, eval_metric='mlogloss')\n",
    "\n",
    "# Thiết lập GridSearchCV\n",
    "grid_search = GridSearchCV(\n",
    "    estimator=model,\n",
    "    param_grid=param_grid,\n",
    "    cv=3,  # 3-fold cross-validation\n",
    "    scoring='accuracy',  # Tối ưu hóa dựa trên accuracy\n",
    "    n_jobs=3, \n",
    "    verbose=1\n",
    ")\n",
    "\n",
    "# Huấn luyện GridSearchCV\n",
    "grid_search.fit(X_train, y_train)\n",
    "\n",
    "# In tham số tốt nhất và điểm số\n",
    "print(\"Best Parameters:\", grid_search.best_params_)\n",
    "print(\"Best Cross-Validation Accuracy:\", grid_search.best_score_)"
   ]
  },
  {
   "cell_type": "code",
   "execution_count": 1550,
   "id": "576aa018",
   "metadata": {},
   "outputs": [
    {
     "name": "stdout",
     "output_type": "stream",
     "text": [
      "Test Accuracy: 0.4962\n",
      "\n",
      "Classification Report:\n",
      "              precision    recall  f1-score   support\n",
      "\n",
      "           0       0.57      0.48      0.52      1122\n",
      "           1       0.51      0.51      0.51      1122\n",
      "           2       0.34      0.43      0.38      1122\n",
      "           3       0.63      0.57      0.59      1122\n",
      "\n",
      "    accuracy                           0.50      4488\n",
      "   macro avg       0.51      0.50      0.50      4488\n",
      "weighted avg       0.51      0.50      0.50      4488\n",
      "\n",
      "\n",
      "Confusion Matrix:\n",
      "[[544 145 376  57]\n",
      " [158 568 254 142]\n",
      " [216 246 480 180]\n",
      " [ 34 164 289 635]]\n"
     ]
    }
   ],
   "source": [
    "best_model = grid_search.best_estimator_\n",
    "y_pred = best_model.predict(X_test)\n",
    "\n",
    "# Đánh giá mô hình\n",
    "accuracy = accuracy_score(y_test, y_pred)\n",
    "print(f'Test Accuracy: {accuracy:.4f}')\n",
    "print('\\nClassification Report:')\n",
    "print(classification_report(y_test, y_pred))\n",
    "print('\\nConfusion Matrix:')\n",
    "print(confusion_matrix(y_test, y_pred))"
   ]
  },
  {
   "cell_type": "code",
   "execution_count": 1551,
   "id": "1d8a40e5",
   "metadata": {},
   "outputs": [
    {
     "data": {
      "text/plain": [
       "array([3, 0, 1, 2])"
      ]
     },
     "execution_count": 1551,
     "metadata": {},
     "output_type": "execute_result"
    }
   ],
   "source": [
    "le.transform(['Up', 'Down', 'Neutral', 'Unknown'])"
   ]
  },
  {
   "cell_type": "code",
   "execution_count": 1552,
   "id": "a58e647a",
   "metadata": {},
   "outputs": [
    {
     "data": {
      "image/png": "[encoded data removed]",
      "text/plain": [
       "<Figure size 640x480 with 1 Axes>"
      ]
     },
     "metadata": {},
     "output_type": "display_data"
    }
   ],
   "source": [
    "# plt.hist(train_df['Trend'], bins=3, edgecolor='black')\n",
    "plt.hist(train_df['Trend'], bins=4, edgecolor='black')\n",
    "plt.title('Distribution of Trend Labels in train set')\n",
    "plt.xlabel('Trend')\n",
    "plt.ylabel('Count')\n",
    "plt.show()"
   ]
  },
  {
   "cell_type": "code",
   "execution_count": 1553,
   "id": "f542b16f",
   "metadata": {},
   "outputs": [
    {
     "data": {
      "image/png": "[encoded data removed]",
      "text/plain": [
       "<Figure size 640x480 with 1 Axes>"
      ]
     },
     "metadata": {},
     "output_type": "display_data"
    }
   ],
   "source": [
    "# plt.hist(test_df['Trend'], bins=3, edgecolor='black')\n",
    "plt.hist(test_df['Trend'], bins=4, edgecolor='black')\n",
    "plt.title('Distribution of Trend Labels in test set')\n",
    "plt.xlabel('Trend')\n",
    "plt.ylabel('Count')\n",
    "plt.show()"
   ]
  },
  {
   "cell_type": "code",
   "execution_count": 1554,
   "id": "c7787b31",
   "metadata": {},
   "outputs": [
    {
     "data": {
      "image/png": "[encoded data removed]",
      "text/plain": [
       "<Figure size 640x480 with 1 Axes>"
      ]
     },
     "metadata": {},
     "output_type": "display_data"
    }
   ],
   "source": [
    "xgb.plot_importance(best_model)\n",
    "plt.title('Feature Importance')\n",
    "plt.show()"
   ]
  }
 ],
 "metadata": {
  "kernelspec": {
   "display_name": "Python 3",
   "language": "python",
   "name": "python3"
  },
  "language_info": {
   "codemirror_mode": {
    "name": "ipython",
    "version": 3
   },
   "file_extension": ".py",
   "mimetype": "text/x-python",
   "name": "python",
   "nbconvert_exporter": "python",
   "pygments_lexer": "ipython3",
   "version": "3.9.12"
  }
 },
 "nbformat": 4,
 "nbformat_minor": 5
}
