{
 "cells": [
  {
   "cell_type": "markdown",
   "id": "8dcae8b7",
   "metadata": {},
   "source": [
    "### Import"
   ]
  },
  {
   "cell_type": "code",
   "execution_count": 25,
   "id": "14db345b",
   "metadata": {},
   "outputs": [],
   "source": [
    "import numpy as np\n",
    "import pandas as pd\n",
    "import xgboost as xgb\n",
    "import matplotlib.pyplot as plt\n",
    "from xgboost import plot_importance, plot_tree\n",
    "from xgboost import XGBClassifier\n",
    "from sklearn.metrics import mean_squared_error, accuracy_score, classification_report, confusion_matrix\n",
    "from sklearn.preprocessing import MinMaxScaler, LabelEncoder\n",
    "from sklearn.model_selection import train_test_split, GridSearchCV\n",
    "\n",
    "from imblearn.over_sampling import SMOTE\n",
    "\n",
    "#plot\n",
    "import plotly as py\n",
    "import plotly.io as pio\n",
    "import plotly.graph_objects as go\n",
    "from plotly.subplots import make_subplots\n",
    "from plotly.offline import download_plotlyjs, init_notebook_mode, plot, iplot\n",
    "layout=go.Layout(paper_bgcolor='rgba(0,0,0,0)', plot_bgcolor='rgba(250,250,250,0.8)')\n",
    "fig = go.Figure(layout=layout)\n",
    "templated_fig = pio.to_templated(fig)\n",
    "pio.templates['my_template'] = templated_fig.layout.template\n",
    "pio.templates.default = 'my_template'\n",
    "\n",
    "#technical analysis\n",
    "import ta\n",
    "import ta.momentum"
   ]
  },
  {
   "cell_type": "markdown",
   "id": "f43fdadc",
   "metadata": {},
   "source": [
    "#### Ignore warnings"
   ]
  },
  {
   "cell_type": "code",
   "execution_count": 26,
   "id": "bc81cf98",
   "metadata": {},
   "outputs": [],
   "source": [
    "from warnings import simplefilter\n",
    "simplefilter(action='ignore', category=FutureWarning)\n",
    "simplefilter(action='ignore', category=DeprecationWarning)"
   ]
  },
  {
   "cell_type": "code",
   "execution_count": 27,
   "id": "f0e6dbfc",
   "metadata": {},
   "outputs": [],
   "source": [
    "df = pd.read_csv(\"./data/nasdaq/csv/AMZN.csv\", sep=',')\n",
    "\n",
    "df['Date'] = pd.to_datetime(df['Date'], dayfirst=True)\n",
    "df.index = range(len(df))\n",
    "\n",
    "df.tail()\n",
    "df.set_index('Date', inplace=True)\n",
    "\n",
    "all_dates = pd.date_range(start=df.index.min(), end=df.index.max(), freq='D')\n",
    "df = df.reindex(all_dates) \n",
    "df[['Low', 'Open', 'Volume', 'High', 'Close', 'Adjusted Close']] = df[['Low', 'Open', 'Volume', 'High', 'Close', 'Adjusted Close']].interpolate(method='linear')\n",
    "df['Open'] = df['Close'].shift(1)\n",
    "df['High'] = df[['High', 'Open', 'Close']].max(axis=1)\n",
    "df['Low'] = df[['Low', 'Open', 'Close']].min(axis=1)\n",
    "df.reset_index(inplace=True)\n",
    "df.rename(columns={'index': 'Date'}, inplace=True)"
   ]
  },
  {
   "cell_type": "markdown",
   "id": "52245103",
   "metadata": {},
   "source": [
    "### Add technical analysis indicators"
   ]
  },
  {
   "cell_type": "markdown",
   "id": "db4026ec",
   "metadata": {},
   "source": [
    "#### RSI - Relative Strength Index"
   ]
  },
  {
   "cell_type": "code",
   "execution_count": 28,
   "id": "dd37bc13",
   "metadata": {},
   "outputs": [],
   "source": [
    "df['RSI7'] = ta.momentum.RSIIndicator(df['Close'], window=7).rsi()\n",
    "df['RSI14'] = ta.momentum.RSIIndicator(df['Close'], window=14).rsi()\n",
    "# df['RSI14'] = ta.momentum.RSIIndicator(df['Close'], window=14).rsi()\n",
    "df['RSI30'] = ta.momentum.RSIIndicator(df['Close'], window=30).rsi()"
   ]
  },
  {
   "cell_type": "markdown",
   "id": "1986f73c",
   "metadata": {},
   "source": [
    "#### SMA - Simple Moving Average"
   ]
  },
  {
   "cell_type": "code",
   "execution_count": 29,
   "id": "41f1f09a",
   "metadata": {},
   "outputs": [],
   "source": [
    "# df['SMA5'] = ta.trend.SMAIndicator(df['Close'], window=5).sma_indicator()\n",
    "# df['SMA10'] = ta.trend.SMAIndicator(df['Close'], window=10).sma_indicator()\n",
    "# df['SMA20'] = ta.trend.SMAIndicator(df['Close'], window=20).sma_indicator()"
   ]
  },
  {
   "cell_type": "markdown",
   "id": "727138be",
   "metadata": {},
   "source": [
    "#### EMA - Exponential Moving Average"
   ]
  },
  {
   "cell_type": "code",
   "execution_count": 30,
   "id": "64409dcb",
   "metadata": {},
   "outputs": [],
   "source": [
    "# df['EMA5'] = ta.trend.EMAIndicator(df['Close'], window=5).ema_indicator()\n",
    "# df['EMA10'] = ta.trend.EMAIndicator(df['Close'], window=10).ema_indicator()\n",
    "# df['EMA20'] = ta.trend.EMAIndicator(df['Close'], window=20).ema_indicator()"
   ]
  },
  {
   "cell_type": "markdown",
   "id": "c9e50bde",
   "metadata": {},
   "source": [
    "### ADX - Average Directional Movement"
   ]
  },
  {
   "cell_type": "code",
   "execution_count": 31,
   "id": "bfcb50ae",
   "metadata": {},
   "outputs": [],
   "source": [
    "df['ADX'] = ta.trend.ADXIndicator(df['High'], df['Low'], df['Close'], window=5).adx()"
   ]
  },
  {
   "cell_type": "markdown",
   "id": "e72c6d09",
   "metadata": {},
   "source": [
    "### Trend"
   ]
  },
  {
   "cell_type": "code",
   "execution_count": 32,
   "id": "a718bc72",
   "metadata": {},
   "outputs": [],
   "source": [
    "def calc_trend(df, n=5, threshold=0.01):\n",
    "\ttrend = []\t\n",
    "\tfor i in range(len(df)):\n",
    "\t\tif i + n >= len(df):\n",
    "\t\t\ttrend.append('Neutral')\n",
    "\t\t\tcontinue\n",
    "\t\tfuture_mean = df['Close'].iloc[i+1:i+n+1].mean()\n",
    "\t\tcurrent_close = df['Close'].iloc[i]\n",
    "\t\tif future_mean > current_close * (1 + threshold):\n",
    "\t\t\ttrend.append('Up')\n",
    "\t\telif future_mean < current_close * (1 - threshold):\n",
    "\t\t\ttrend.append('Down')\n",
    "\t\telse:\n",
    "\t\t\ttrend.append('Neutral')\n",
    "\tdf['Trend'] = trend\n",
    "\treturn df\n",
    "df = calc_trend(df, n=10, threshold=0.01)"
   ]
  },
  {
   "cell_type": "markdown",
   "id": "6540ca3c",
   "metadata": {},
   "source": [
    "#### Delete invalid data"
   ]
  },
  {
   "cell_type": "code",
   "execution_count": 33,
   "id": "d0fb7f9e",
   "metadata": {},
   "outputs": [],
   "source": [
    "df = df[100:-20]\n",
    "df.index = range(len(df))"
   ]
  },
  {
   "cell_type": "code",
   "execution_count": 34,
   "id": "3d3666c9",
   "metadata": {},
   "outputs": [
    {
     "data": {
      "text/plain": [
       "268"
      ]
     },
     "execution_count": 34,
     "metadata": {},
     "output_type": "execute_result"
    }
   ],
   "source": [
    "len(df[df['RSI14'] > 80])"
   ]
  },
  {
   "cell_type": "code",
   "execution_count": 35,
   "id": "837d3c04",
   "metadata": {},
   "outputs": [
    {
     "data": {
      "text/plain": [
       "96"
      ]
     },
     "execution_count": 35,
     "metadata": {},
     "output_type": "execute_result"
    }
   ],
   "source": [
    "len(df[(df['RSI14'] > 80) & (df['Trend'] == 'Down')])"
   ]
  },
  {
   "cell_type": "code",
   "execution_count": 36,
   "id": "a863eacf",
   "metadata": {},
   "outputs": [
    {
     "data": {
      "text/html": [
       "<div>\n",
       "<style scoped>\n",
       "    .dataframe tbody tr th:only-of-type {\n",
       "        vertical-align: middle;\n",
       "    }\n",
       "\n",
       "    .dataframe tbody tr th {\n",
       "        vertical-align: top;\n",
       "    }\n",
       "\n",
       "    .dataframe thead th {\n",
       "        text-align: right;\n",
       "    }\n",
       "</style>\n",
       "<table border=\"1\" class=\"dataframe\">\n",
       "  <thead>\n",
       "    <tr style=\"text-align: right;\">\n",
       "      <th></th>\n",
       "      <th>Date</th>\n",
       "      <th>Low</th>\n",
       "      <th>Open</th>\n",
       "      <th>Volume</th>\n",
       "      <th>High</th>\n",
       "      <th>Close</th>\n",
       "      <th>Adjusted Close</th>\n",
       "      <th>RSI7</th>\n",
       "      <th>RSI14</th>\n",
       "      <th>RSI30</th>\n",
       "      <th>ADX</th>\n",
       "      <th>Trend</th>\n",
       "    </tr>\n",
       "  </thead>\n",
       "  <tbody>\n",
       "    <tr>\n",
       "      <th>0</th>\n",
       "      <td>1997-08-23</td>\n",
       "      <td>0.104861</td>\n",
       "      <td>0.106250</td>\n",
       "      <td>17016000.0</td>\n",
       "      <td>0.108507</td>\n",
       "      <td>0.107813</td>\n",
       "      <td>0.107813</td>\n",
       "      <td>49.856823</td>\n",
       "      <td>47.958230</td>\n",
       "      <td>51.429795</td>\n",
       "      <td>34.628209</td>\n",
       "      <td>Up</td>\n",
       "    </tr>\n",
       "    <tr>\n",
       "      <th>1</th>\n",
       "      <td>1997-08-24</td>\n",
       "      <td>0.105035</td>\n",
       "      <td>0.107813</td>\n",
       "      <td>19776000.0</td>\n",
       "      <td>0.110764</td>\n",
       "      <td>0.109375</td>\n",
       "      <td>0.109375</td>\n",
       "      <td>55.791214</td>\n",
       "      <td>50.557577</td>\n",
       "      <td>52.445553</td>\n",
       "      <td>38.277095</td>\n",
       "      <td>Up</td>\n",
       "    </tr>\n",
       "    <tr>\n",
       "      <th>2</th>\n",
       "      <td>1997-08-25</td>\n",
       "      <td>0.105208</td>\n",
       "      <td>0.109375</td>\n",
       "      <td>22536000.0</td>\n",
       "      <td>0.113021</td>\n",
       "      <td>0.110938</td>\n",
       "      <td>0.110938</td>\n",
       "      <td>61.154726</td>\n",
       "      <td>53.081306</td>\n",
       "      <td>53.452576</td>\n",
       "      <td>43.527512</td>\n",
       "      <td>Up</td>\n",
       "    </tr>\n",
       "    <tr>\n",
       "      <th>3</th>\n",
       "      <td>1997-08-26</td>\n",
       "      <td>0.110938</td>\n",
       "      <td>0.110938</td>\n",
       "      <td>51480000.0</td>\n",
       "      <td>0.117708</td>\n",
       "      <td>0.117188</td>\n",
       "      <td>0.117188</td>\n",
       "      <td>75.196350</td>\n",
       "      <td>61.537573</td>\n",
       "      <td>57.202352</td>\n",
       "      <td>50.501704</td>\n",
       "      <td>Up</td>\n",
       "    </tr>\n",
       "    <tr>\n",
       "      <th>4</th>\n",
       "      <td>1997-08-27</td>\n",
       "      <td>0.112500</td>\n",
       "      <td>0.117188</td>\n",
       "      <td>27840000.0</td>\n",
       "      <td>0.117188</td>\n",
       "      <td>0.115885</td>\n",
       "      <td>0.115885</td>\n",
       "      <td>69.119332</td>\n",
       "      <td>59.144283</td>\n",
       "      <td>56.225495</td>\n",
       "      <td>56.081057</td>\n",
       "      <td>Up</td>\n",
       "    </tr>\n",
       "    <tr>\n",
       "      <th>5</th>\n",
       "      <td>1997-08-28</td>\n",
       "      <td>0.114063</td>\n",
       "      <td>0.115885</td>\n",
       "      <td>22944000.0</td>\n",
       "      <td>0.119792</td>\n",
       "      <td>0.118750</td>\n",
       "      <td>0.118750</td>\n",
       "      <td>74.421923</td>\n",
       "      <td>62.589472</td>\n",
       "      <td>57.862279</td>\n",
       "      <td>61.639364</td>\n",
       "      <td>Up</td>\n",
       "    </tr>\n",
       "    <tr>\n",
       "      <th>6</th>\n",
       "      <td>1997-08-29</td>\n",
       "      <td>0.116146</td>\n",
       "      <td>0.118750</td>\n",
       "      <td>14448000.0</td>\n",
       "      <td>0.118750</td>\n",
       "      <td>0.116927</td>\n",
       "      <td>0.116927</td>\n",
       "      <td>66.007859</td>\n",
       "      <td>59.170377</td>\n",
       "      <td>56.472354</td>\n",
       "      <td>66.086009</td>\n",
       "      <td>Up</td>\n",
       "    </tr>\n",
       "    <tr>\n",
       "      <th>7</th>\n",
       "      <td>1997-08-30</td>\n",
       "      <td>0.116276</td>\n",
       "      <td>0.116927</td>\n",
       "      <td>14496000.0</td>\n",
       "      <td>0.118750</td>\n",
       "      <td>0.117122</td>\n",
       "      <td>0.117122</td>\n",
       "      <td>66.481383</td>\n",
       "      <td>59.426027</td>\n",
       "      <td>56.587894</td>\n",
       "      <td>69.643325</td>\n",
       "      <td>Up</td>\n",
       "    </tr>\n",
       "    <tr>\n",
       "      <th>8</th>\n",
       "      <td>1997-08-31</td>\n",
       "      <td>0.116407</td>\n",
       "      <td>0.117122</td>\n",
       "      <td>14544000.0</td>\n",
       "      <td>0.118750</td>\n",
       "      <td>0.117317</td>\n",
       "      <td>0.117317</td>\n",
       "      <td>67.017420</td>\n",
       "      <td>59.697786</td>\n",
       "      <td>56.706775</td>\n",
       "      <td>72.489177</td>\n",
       "      <td>Up</td>\n",
       "    </tr>\n",
       "    <tr>\n",
       "      <th>9</th>\n",
       "      <td>1997-09-01</td>\n",
       "      <td>0.116537</td>\n",
       "      <td>0.117317</td>\n",
       "      <td>14592000.0</td>\n",
       "      <td>0.118750</td>\n",
       "      <td>0.117513</td>\n",
       "      <td>0.117513</td>\n",
       "      <td>67.621524</td>\n",
       "      <td>59.986408</td>\n",
       "      <td>56.829072</td>\n",
       "      <td>74.765860</td>\n",
       "      <td>Up</td>\n",
       "    </tr>\n",
       "  </tbody>\n",
       "</table>\n",
       "</div>"
      ],
      "text/plain": [
       "        Date       Low      Open      Volume      High     Close  \\\n",
       "0 1997-08-23  0.104861  0.106250  17016000.0  0.108507  0.107813   \n",
       "1 1997-08-24  0.105035  0.107813  19776000.0  0.110764  0.109375   \n",
       "2 1997-08-25  0.105208  0.109375  22536000.0  0.113021  0.110938   \n",
       "3 1997-08-26  0.110938  0.110938  51480000.0  0.117708  0.117188   \n",
       "4 1997-08-27  0.112500  0.117188  27840000.0  0.117188  0.115885   \n",
       "5 1997-08-28  0.114063  0.115885  22944000.0  0.119792  0.118750   \n",
       "6 1997-08-29  0.116146  0.118750  14448000.0  0.118750  0.116927   \n",
       "7 1997-08-30  0.116276  0.116927  14496000.0  0.118750  0.117122   \n",
       "8 1997-08-31  0.116407  0.117122  14544000.0  0.118750  0.117317   \n",
       "9 1997-09-01  0.116537  0.117317  14592000.0  0.118750  0.117513   \n",
       "\n",
       "   Adjusted Close       RSI7      RSI14      RSI30        ADX Trend  \n",
       "0        0.107813  49.856823  47.958230  51.429795  34.628209    Up  \n",
       "1        0.109375  55.791214  50.557577  52.445553  38.277095    Up  \n",
       "2        0.110938  61.154726  53.081306  53.452576  43.527512    Up  \n",
       "3        0.117188  75.196350  61.537573  57.202352  50.501704    Up  \n",
       "4        0.115885  69.119332  59.144283  56.225495  56.081057    Up  \n",
       "5        0.118750  74.421923  62.589472  57.862279  61.639364    Up  \n",
       "6        0.116927  66.007859  59.170377  56.472354  66.086009    Up  \n",
       "7        0.117122  66.481383  59.426027  56.587894  69.643325    Up  \n",
       "8        0.117317  67.017420  59.697786  56.706775  72.489177    Up  \n",
       "9        0.117513  67.621524  59.986408  56.829072  74.765860    Up  "
      ]
     },
     "execution_count": 36,
     "metadata": {},
     "output_type": "execute_result"
    }
   ],
   "source": [
    "df[:10] "
   ]
  },
  {
   "cell_type": "code",
   "execution_count": 37,
   "id": "4a38f61d",
   "metadata": {},
   "outputs": [
    {
     "data": {
      "text/html": [
       "<div>\n",
       "<style scoped>\n",
       "    .dataframe tbody tr th:only-of-type {\n",
       "        vertical-align: middle;\n",
       "    }\n",
       "\n",
       "    .dataframe tbody tr th {\n",
       "        vertical-align: top;\n",
       "    }\n",
       "\n",
       "    .dataframe thead th {\n",
       "        text-align: right;\n",
       "    }\n",
       "</style>\n",
       "<table border=\"1\" class=\"dataframe\">\n",
       "  <thead>\n",
       "    <tr style=\"text-align: right;\">\n",
       "      <th></th>\n",
       "      <th>Date</th>\n",
       "      <th>Low</th>\n",
       "      <th>Open</th>\n",
       "      <th>Volume</th>\n",
       "      <th>High</th>\n",
       "      <th>Close</th>\n",
       "      <th>Adjusted Close</th>\n",
       "      <th>RSI7</th>\n",
       "      <th>RSI14</th>\n",
       "      <th>RSI30</th>\n",
       "      <th>ADX</th>\n",
       "      <th>Trend</th>\n",
       "    </tr>\n",
       "  </thead>\n",
       "  <tbody>\n",
       "    <tr>\n",
       "      <th>9218</th>\n",
       "      <td>2022-11-18</td>\n",
       "      <td>92.480003</td>\n",
       "      <td>94.849998</td>\n",
       "      <td>7.242820e+07</td>\n",
       "      <td>95.989998</td>\n",
       "      <td>94.139999</td>\n",
       "      <td>94.139999</td>\n",
       "      <td>38.941538</td>\n",
       "      <td>39.397717</td>\n",
       "      <td>39.218115</td>\n",
       "      <td>34.739619</td>\n",
       "      <td>Neutral</td>\n",
       "    </tr>\n",
       "    <tr>\n",
       "      <th>9219</th>\n",
       "      <td>2022-11-19</td>\n",
       "      <td>91.850001</td>\n",
       "      <td>94.139999</td>\n",
       "      <td>7.639557e+07</td>\n",
       "      <td>95.666664</td>\n",
       "      <td>93.579999</td>\n",
       "      <td>93.579999</td>\n",
       "      <td>37.094245</td>\n",
       "      <td>38.590679</td>\n",
       "      <td>38.851131</td>\n",
       "      <td>31.467962</td>\n",
       "      <td>Neutral</td>\n",
       "    </tr>\n",
       "    <tr>\n",
       "      <th>9220</th>\n",
       "      <td>2022-11-20</td>\n",
       "      <td>91.219999</td>\n",
       "      <td>93.579999</td>\n",
       "      <td>8.036293e+07</td>\n",
       "      <td>95.343330</td>\n",
       "      <td>93.019999</td>\n",
       "      <td>93.019999</td>\n",
       "      <td>35.148965</td>\n",
       "      <td>37.757740</td>\n",
       "      <td>38.478651</td>\n",
       "      <td>30.377645</td>\n",
       "      <td>Neutral</td>\n",
       "    </tr>\n",
       "    <tr>\n",
       "      <th>9221</th>\n",
       "      <td>2022-11-21</td>\n",
       "      <td>90.589996</td>\n",
       "      <td>93.019999</td>\n",
       "      <td>8.433030e+07</td>\n",
       "      <td>95.019997</td>\n",
       "      <td>92.459999</td>\n",
       "      <td>92.459999</td>\n",
       "      <td>33.122471</td>\n",
       "      <td>36.900026</td>\n",
       "      <td>38.100769</td>\n",
       "      <td>31.054460</td>\n",
       "      <td>Up</td>\n",
       "    </tr>\n",
       "    <tr>\n",
       "      <th>9222</th>\n",
       "      <td>2022-11-22</td>\n",
       "      <td>90.870003</td>\n",
       "      <td>92.459999</td>\n",
       "      <td>6.219200e+07</td>\n",
       "      <td>93.349998</td>\n",
       "      <td>93.199997</td>\n",
       "      <td>93.199997</td>\n",
       "      <td>38.581564</td>\n",
       "      <td>38.875973</td>\n",
       "      <td>38.920735</td>\n",
       "      <td>31.595912</td>\n",
       "      <td>Neutral</td>\n",
       "    </tr>\n",
       "  </tbody>\n",
       "</table>\n",
       "</div>"
      ],
      "text/plain": [
       "           Date        Low       Open        Volume       High      Close  \\\n",
       "9218 2022-11-18  92.480003  94.849998  7.242820e+07  95.989998  94.139999   \n",
       "9219 2022-11-19  91.850001  94.139999  7.639557e+07  95.666664  93.579999   \n",
       "9220 2022-11-20  91.219999  93.579999  8.036293e+07  95.343330  93.019999   \n",
       "9221 2022-11-21  90.589996  93.019999  8.433030e+07  95.019997  92.459999   \n",
       "9222 2022-11-22  90.870003  92.459999  6.219200e+07  93.349998  93.199997   \n",
       "\n",
       "      Adjusted Close       RSI7      RSI14      RSI30        ADX    Trend  \n",
       "9218       94.139999  38.941538  39.397717  39.218115  34.739619  Neutral  \n",
       "9219       93.579999  37.094245  38.590679  38.851131  31.467962  Neutral  \n",
       "9220       93.019999  35.148965  37.757740  38.478651  30.377645  Neutral  \n",
       "9221       92.459999  33.122471  36.900026  38.100769  31.054460       Up  \n",
       "9222       93.199997  38.581564  38.875973  38.920735  31.595912  Neutral  "
      ]
     },
     "execution_count": 37,
     "metadata": {},
     "output_type": "execute_result"
    }
   ],
   "source": [
    "df[-5:]"
   ]
  },
  {
   "cell_type": "markdown",
   "id": "c2d57f2b",
   "metadata": {},
   "source": [
    "#### Rolling Normalize"
   ]
  },
  {
   "cell_type": "code",
   "execution_count": 38,
   "id": "5ad25c4e",
   "metadata": {},
   "outputs": [],
   "source": [
    "def rolling_normalize(df, columns, window=100):\n",
    "    result = df.copy()\n",
    "    for col in columns:\n",
    "        result[f'{col}'] = 0.0  # Khởi tạo cột normalized\n",
    "    \n",
    "    for i in range(len(df)):\n",
    "        start = max(0, i - window + 1)\n",
    "\n",
    "        window_data = df[columns].iloc[start:i+1]\n",
    "        if len(window_data) < 2:\n",
    "            continue\n",
    "\n",
    "        window_values = window_data.values.flatten()\n",
    "        min_val = window_values.min()\n",
    "        max_val = window_values.max()\n",
    "        if max_val == min_val:\n",
    "            continue  # Tránh chia cho 0\n",
    "\n",
    "        scaler = MinMaxScaler()\n",
    "        scaled_data = scaler.fit_transform(window_data)\n",
    "        # Gán giá trị normalized cho điểm cuối của cửa sổ\n",
    "        for j, col in enumerate(columns):\n",
    "            result.loc[df.index[i], f'{col}'] = scaled_data[-1, j]\n",
    "    \n",
    "    return result"
   ]
  },
  {
   "cell_type": "code",
   "execution_count": 39,
   "id": "83085ac0",
   "metadata": {},
   "outputs": [
    {
     "name": "stdout",
     "output_type": "stream",
     "text": [
      "Trend\n",
      "Up         3885\n",
      "Down       3186\n",
      "Neutral    2152\n",
      "Name: count, dtype: int64\n"
     ]
    }
   ],
   "source": [
    "print(df['Trend'].value_counts())\n"
   ]
  },
  {
   "cell_type": "code",
   "execution_count": 40,
   "id": "3d5f7232",
   "metadata": {},
   "outputs": [],
   "source": [
    "df.drop(['Open'], axis=1, inplace=True)\n",
    "df.drop(['High'], axis=1, inplace=True)\n",
    "df.drop(['Low'], axis=1, inplace=True)\n",
    "df.drop(['Close'], axis=1, inplace=True)\n",
    "df.drop(['Volume'], axis=1, inplace=True)\n",
    "df.drop(['Adjusted Close'], axis=1, inplace=True)"
   ]
  },
  {
   "cell_type": "code",
   "execution_count": 41,
   "id": "44fc634b",
   "metadata": {},
   "outputs": [],
   "source": [
    "#shuffle\n",
    "# df = df.sample(frac=1).reset_index(drop=True)"
   ]
  },
  {
   "cell_type": "markdown",
   "id": "d601429b",
   "metadata": {},
   "source": [
    "### Train Model"
   ]
  },
  {
   "cell_type": "code",
   "execution_count": 42,
   "id": "c9e08918",
   "metadata": {},
   "outputs": [],
   "source": [
    "test_size = 0.15\n",
    "valid_size = 0.15\n",
    "test_split_idx  = int(df.shape[0] * (1-test_size))\n",
    "valid_split_idx = int(df.shape[0] * (1-(valid_size+test_size)))\n",
    "# print(test_split_idx)\n",
    "# print(valid_split_idx)\n",
    "train_df  = df.loc[:valid_split_idx].copy()\n",
    "valid_df  = df.loc[valid_split_idx:test_split_idx].copy()\n",
    "test_df   = df.loc[test_split_idx:].copy()"
   ]
  },
  {
   "cell_type": "code",
   "execution_count": 43,
   "id": "5392abd2",
   "metadata": {},
   "outputs": [
    {
     "name": "stdout",
     "output_type": "stream",
     "text": [
      "<class 'pandas.core.frame.DataFrame'>\n",
      "RangeIndex: 6457 entries, 0 to 6456\n",
      "Data columns (total 5 columns):\n",
      " #   Column  Non-Null Count  Dtype         \n",
      "---  ------  --------------  -----         \n",
      " 0   Date    6457 non-null   datetime64[ns]\n",
      " 1   RSI7    6457 non-null   float64       \n",
      " 2   RSI14   6457 non-null   float64       \n",
      " 3   RSI30   6457 non-null   float64       \n",
      " 4   ADX     6457 non-null   float64       \n",
      "dtypes: datetime64[ns](1), float64(4)\n",
      "memory usage: 252.4 KB\n"
     ]
    }
   ],
   "source": [
    "y_train = train_df['Trend'].copy()\n",
    "X_train = train_df.drop(['Trend'], axis=1)\n",
    "\n",
    "y_valid = valid_df['Trend'].copy()\n",
    "X_valid = valid_df.drop(['Trend'], axis=1)\n",
    "\n",
    "y_test  = test_df['Trend'].copy()\n",
    "X_test  = test_df.drop(['Trend'], axis=1)\n",
    "\n",
    "X_train.info()"
   ]
  },
  {
   "cell_type": "code",
   "execution_count": 44,
   "id": "93cdf2ab",
   "metadata": {},
   "outputs": [],
   "source": [
    "X_train = X_train.drop(['Date'], axis=1)\n",
    "X_valid = X_valid.drop(['Date'], axis=1)\n",
    "X_test = X_test.drop(['Date'], axis=1)"
   ]
  },
  {
   "cell_type": "code",
   "execution_count": 45,
   "id": "44536215",
   "metadata": {},
   "outputs": [],
   "source": [
    "le = LabelEncoder()\n",
    "y_train = le.fit_transform(y_train)\n",
    "y_valid = le.fit_transform(y_valid)\n",
    "y_test = le.fit_transform(y_test)"
   ]
  },
  {
   "cell_type": "code",
   "execution_count": 46,
   "id": "ad3a7148",
   "metadata": {},
   "outputs": [],
   "source": [
    "smote = SMOTE(random_state=42)\n",
    "X_train, y_train = smote.fit_resample(X_train, y_train)"
   ]
  },
  {
   "cell_type": "code",
   "execution_count": 47,
   "id": "015fd262",
   "metadata": {},
   "outputs": [
    {
     "data": {
      "text/plain": [
       "(array([2758., 2758., 2758.]),\n",
       " array([0.        , 0.66666667, 1.33333333, 2.        ]),\n",
       " <BarContainer object of 3 artists>)"
      ]
     },
     "execution_count": 47,
     "metadata": {},
     "output_type": "execute_result"
    },
    {
     "data": {
      "image/png": "[encoded data removed]",
      "text/plain": [
       "<Figure size 640x480 with 1 Axes>"
      ]
     },
     "metadata": {},
     "output_type": "display_data"
    }
   ],
   "source": [
    "plt.hist(y_train, bins=3, edgecolor='black')"
   ]
  },
  {
   "cell_type": "code",
   "execution_count": 48,
   "id": "29f460c9",
   "metadata": {},
   "outputs": [
    {
     "name": "stdout",
     "output_type": "stream",
     "text": [
      "Fitting 3 folds for each of 4 candidates, totalling 12 fits\n",
      "Best Parameters: {'colsample_bytree': 1.0, 'learning_rate': 0.2, 'max_depth': 8, 'n_estimators': 475, 'subsample': 0.8}\n",
      "Best Cross-Validation Accuracy: 0.5172830553541213\n",
      "CPU times: total: 32.3 s\n",
      "Wall time: 26.7 s\n"
     ]
    }
   ],
   "source": [
    "%%time\n",
    "\n",
    "param_grid = {\n",
    "    'max_depth': [8],\n",
    "    'learning_rate': [0.1, 0.2],\n",
    "    'n_estimators': [475],\n",
    "    'subsample': [0.8],\n",
    "    'colsample_bytree': [0.8, 1.0]\n",
    "}\n",
    "\n",
    "model = xgb.XGBClassifier(objective='multi:softmax', num_class=3, eval_metric='mlogloss')\n",
    "\n",
    "# Thiết lập GridSearchCV\n",
    "grid_search = GridSearchCV(\n",
    "    estimator=model,\n",
    "    param_grid=param_grid,\n",
    "    cv=3,  # 3-fold cross-validation\n",
    "    scoring='accuracy',  # Tối ưu hóa dựa trên accuracy\n",
    "    n_jobs=3, \n",
    "    verbose=1\n",
    ")\n",
    "\n",
    "# Huấn luyện GridSearchCV\n",
    "grid_search.fit(X_train, y_train)\n",
    "\n",
    "# In tham số tốt nhất và điểm số\n",
    "print(\"Best Parameters:\", grid_search.best_params_)\n",
    "print(\"Best Cross-Validation Accuracy:\", grid_search.best_score_)"
   ]
  },
  {
   "cell_type": "code",
   "execution_count": 49,
   "id": "576aa018",
   "metadata": {},
   "outputs": [
    {
     "name": "stdout",
     "output_type": "stream",
     "text": [
      "Test Accuracy: 0.3345\n",
      "\n",
      "Classification Report:\n",
      "              precision    recall  f1-score   support\n",
      "\n",
      "           0       0.31      0.37      0.34       455\n",
      "           1       0.31      0.24      0.27       387\n",
      "           2       0.37      0.37      0.37       542\n",
      "\n",
      "    accuracy                           0.33      1384\n",
      "   macro avg       0.33      0.33      0.33      1384\n",
      "weighted avg       0.33      0.33      0.33      1384\n",
      "\n",
      "\n",
      "Confusion Matrix:\n",
      "[[170  96 189]\n",
      " [143  93 151]\n",
      " [230 112 200]]\n"
     ]
    }
   ],
   "source": [
    "best_model = grid_search.best_estimator_\n",
    "y_pred = best_model.predict(X_test)\n",
    "\n",
    "# Đánh giá mô hình\n",
    "accuracy = accuracy_score(y_test, y_pred)\n",
    "print(f'Test Accuracy: {accuracy:.4f}')\n",
    "print('\\nClassification Report:')\n",
    "print(classification_report(y_test, y_pred))\n",
    "print('\\nConfusion Matrix:')\n",
    "print(confusion_matrix(y_test, y_pred))"
   ]
  },
  {
   "cell_type": "code",
   "execution_count": 50,
   "id": "a58e647a",
   "metadata": {},
   "outputs": [
    {
     "data": {
      "image/png": "[encoded data removed]",
      "text/plain": [
       "<Figure size 640x480 with 1 Axes>"
      ]
     },
     "metadata": {},
     "output_type": "display_data"
    }
   ],
   "source": [
    "plt.hist(df['Trend'], bins=3, edgecolor='black')\n",
    "plt.title('Distribution of Trend Labels')\n",
    "plt.xlabel('Trend')\n",
    "plt.ylabel('Count')\n",
    "plt.show()"
   ]
  },
  {
   "cell_type": "code",
   "execution_count": 51,
   "id": "f542b16f",
   "metadata": {},
   "outputs": [
    {
     "data": {
      "image/png": "[encoded data removed]",
      "text/plain": [
       "<Figure size 640x480 with 1 Axes>"
      ]
     },
     "metadata": {},
     "output_type": "display_data"
    }
   ],
   "source": [
    "plt.hist(test_df['Trend'], bins=3, edgecolor='black')\n",
    "plt.title('Distribution of Trend Labels in test set')\n",
    "plt.xlabel('Trend')\n",
    "plt.ylabel('Count')\n",
    "plt.show()"
   ]
  },
  {
   "cell_type": "code",
   "execution_count": 52,
   "id": "c7787b31",
   "metadata": {},
   "outputs": [
    {
     "data": {
      "image/png": "[encoded data removed]",
      "text/plain": [
       "<Figure size 640x480 with 1 Axes>"
      ]
     },
     "metadata": {},
     "output_type": "display_data"
    }
   ],
   "source": [
    "xgb.plot_importance(best_model)\n",
    "plt.title('Feature Importance')\n",
    "plt.show()"
   ]
  }
 ],
 "metadata": {
  "kernelspec": {
   "display_name": "Python 3",
   "language": "python",
   "name": "python3"
  },
  "language_info": {
   "codemirror_mode": {
    "name": "ipython",
    "version": 3
   },
   "file_extension": ".py",
   "mimetype": "text/x-python",
   "name": "python",
   "nbconvert_exporter": "python",
   "pygments_lexer": "ipython3",
   "version": "3.9.12"
  }
 },
 "nbformat": 4,
 "nbformat_minor": 5
}
