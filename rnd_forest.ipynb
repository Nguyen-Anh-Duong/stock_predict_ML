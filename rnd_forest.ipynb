{
 "cells": [
  {
   "cell_type": "code",
   "execution_count": 1,
   "id": "55d0bfd1-9dd4-4821-9bee-b5a52960542a",
   "metadata": {
    "scrolled": true
   },
   "outputs": [],
   "source": [
    "import yfinance as yf\n",
    "import pandas as pd\n",
    "\n",
    "# ticker = 'AAPL'  # apple\n",
    "# data = yf.download(ticker, start='2025-01-01', end='2025-5-18', group_by='ticker')\n",
    "\n",
    "# # Bỏ MultiIndex trong columns\n",
    "# data.columns = data.columns.get_level_values(1)  # giữ lại chỉ tên cột (AAPL)\n",
    "\n",
    "# data = data[['Open', 'High', 'Low', 'Close', 'Volume']]\n",
    "\n",
    "# data.dropna(inplace=True)\n",
    "# data.tail()"
   ]
  },
  {
   "cell_type": "code",
   "execution_count": 4,
   "id": "f490474c",
   "metadata": {},
   "outputs": [
    {
     "name": "stdout",
     "output_type": "stream",
     "text": [
      "Collecting ta\n",
      "  Using cached ta-0.11.0.tar.gz (25 kB)\n",
      "  Preparing metadata (setup.py): started\n",
      "  Preparing metadata (setup.py): finished with status 'done'\n",
      "Requirement already satisfied: numpy in c:\\users\\madmo\\appdata\\local\\programs\\python\\python39\\lib\\site-packages (from ta) (2.0.2)\n",
      "Requirement already satisfied: pandas in c:\\users\\madmo\\appdata\\local\\programs\\python\\python39\\lib\\site-packages (from ta) (2.2.3)\n",
      "Requirement already satisfied: python-dateutil>=2.8.2 in c:\\users\\madmo\\appdata\\local\\programs\\python\\python39\\lib\\site-packages (from pandas->ta) (2.9.0.post0)\n",
      "Requirement already satisfied: pytz>=2020.1 in c:\\users\\madmo\\appdata\\local\\programs\\python\\python39\\lib\\site-packages (from pandas->ta) (2025.1)\n",
      "Requirement already satisfied: tzdata>=2022.7 in c:\\users\\madmo\\appdata\\local\\programs\\python\\python39\\lib\\site-packages (from pandas->ta) (2025.1)\n",
      "Requirement already satisfied: six>=1.5 in c:\\users\\madmo\\appdata\\local\\programs\\python\\python39\\lib\\site-packages (from python-dateutil>=2.8.2->pandas->ta) (1.17.0)\n",
      "Building wheels for collected packages: ta\n",
      "  Building wheel for ta (setup.py): started\n",
      "  Building wheel for ta (setup.py): finished with status 'done'\n",
      "  Created wheel for ta: filename=ta-0.11.0-py3-none-any.whl size=29497 sha256=7b8d0de9fb695be0d90704bdbeb04c93c4c5288b2c75b7e22153869b4c5280ed\n",
      "  Stored in directory: c:\\users\\madmo\\appdata\\local\\pip\\cache\\wheels\\61\\d8\\66\\8018676d483fa5edb5337a7a25ee8c029ac255be25f90f3cd5\n",
      "Successfully built ta\n",
      "Installing collected packages: ta\n",
      "Successfully installed ta-0.11.0\n",
      "Note: you may need to restart the kernel to use updated packages.\n"
     ]
    },
    {
     "name": "stderr",
     "output_type": "stream",
     "text": [
      "\n",
      "[notice] A new release of pip is available: 25.0.1 -> 25.1.1\n",
      "[notice] To update, run: python.exe -m pip install --upgrade pip\n"
     ]
    }
   ],
   "source": [
    "pip install ta"
   ]
  },
  {
   "cell_type": "code",
   "execution_count": 2,
   "id": "530ee143",
   "metadata": {},
   "outputs": [
    {
     "data": {
      "text/html": [
       "<div>\n",
       "<style scoped>\n",
       "    .dataframe tbody tr th:only-of-type {\n",
       "        vertical-align: middle;\n",
       "    }\n",
       "\n",
       "    .dataframe tbody tr th {\n",
       "        vertical-align: top;\n",
       "    }\n",
       "\n",
       "    .dataframe thead th {\n",
       "        text-align: right;\n",
       "    }\n",
       "</style>\n",
       "<table border=\"1\" class=\"dataframe\">\n",
       "  <thead>\n",
       "    <tr style=\"text-align: right;\">\n",
       "      <th></th>\n",
       "      <th>Date</th>\n",
       "      <th>Open</th>\n",
       "      <th>High</th>\n",
       "      <th>Low</th>\n",
       "      <th>Close</th>\n",
       "      <th>Adj Close</th>\n",
       "      <th>Volume</th>\n",
       "    </tr>\n",
       "  </thead>\n",
       "  <tbody>\n",
       "    <tr>\n",
       "      <th>0</th>\n",
       "      <td>1980-03-17</td>\n",
       "      <td>0.325521</td>\n",
       "      <td>0.330729</td>\n",
       "      <td>0.325521</td>\n",
       "      <td>0.325521</td>\n",
       "      <td>0.204750</td>\n",
       "      <td>10924800</td>\n",
       "    </tr>\n",
       "    <tr>\n",
       "      <th>1</th>\n",
       "      <td>1980-03-18</td>\n",
       "      <td>0.325521</td>\n",
       "      <td>0.328125</td>\n",
       "      <td>0.322917</td>\n",
       "      <td>0.322917</td>\n",
       "      <td>0.203112</td>\n",
       "      <td>17068800</td>\n",
       "    </tr>\n",
       "    <tr>\n",
       "      <th>2</th>\n",
       "      <td>1980-03-19</td>\n",
       "      <td>0.330729</td>\n",
       "      <td>0.335938</td>\n",
       "      <td>0.330729</td>\n",
       "      <td>0.330729</td>\n",
       "      <td>0.208026</td>\n",
       "      <td>18508800</td>\n",
       "    </tr>\n",
       "    <tr>\n",
       "      <th>3</th>\n",
       "      <td>1980-03-20</td>\n",
       "      <td>0.330729</td>\n",
       "      <td>0.334635</td>\n",
       "      <td>0.329427</td>\n",
       "      <td>0.329427</td>\n",
       "      <td>0.207207</td>\n",
       "      <td>11174400</td>\n",
       "    </tr>\n",
       "    <tr>\n",
       "      <th>4</th>\n",
       "      <td>1980-03-21</td>\n",
       "      <td>0.322917</td>\n",
       "      <td>0.322917</td>\n",
       "      <td>0.317708</td>\n",
       "      <td>0.317708</td>\n",
       "      <td>0.199836</td>\n",
       "      <td>12172800</td>\n",
       "    </tr>\n",
       "  </tbody>\n",
       "</table>\n",
       "</div>"
      ],
      "text/plain": [
       "        Date      Open      High       Low     Close  Adj Close    Volume\n",
       "0 1980-03-17  0.325521  0.330729  0.325521  0.325521   0.204750  10924800\n",
       "1 1980-03-18  0.325521  0.328125  0.322917  0.322917   0.203112  17068800\n",
       "2 1980-03-19  0.330729  0.335938  0.330729  0.330729   0.208026  18508800\n",
       "3 1980-03-20  0.330729  0.334635  0.329427  0.329427   0.207207  11174400\n",
       "4 1980-03-21  0.322917  0.322917  0.317708  0.317708   0.199836  12172800"
      ]
     },
     "execution_count": 2,
     "metadata": {},
     "output_type": "execute_result"
    }
   ],
   "source": [
    "data = pd.read_csv(\"./data/stocks/INTC.csv\", sep=',')\n",
    "\n",
    "data['Date'] = pd.to_datetime(data['Date'])\n",
    "data.index = range(len(data))\n",
    "\n",
    "data.head()"
   ]
  },
  {
   "cell_type": "code",
   "execution_count": 3,
   "id": "2dce1211-a657-478c-972e-16a50fc96e5b",
   "metadata": {},
   "outputs": [],
   "source": [
    "# from ta.trend import SMAIndicator\n",
    "\n",
    "# # Dam bao close_series la mot chieu\n",
    "# close_series = data['Close']\n",
    "# if isinstance(close_series, pd.DataFrame):\n",
    "#     close_series = close_series.squeeze()\n",
    "\n",
    "# data['MA5'] = SMAIndicator(close=close_series, window=5).sma_indicator()\n",
    "# data['MA10'] = SMAIndicator(close=close_series, window=10).sma_indicator()\n",
    "# data['RSI'] = RSIIndicator(close=close_series).rsi()\n",
    "# data['MACD'] = MACD(close=close_series).macd()\n",
    "\n",
    "# # Thêm cột giá thay đổi theo ngày\n",
    "# data['PriceDiff'] = data['Close'].diff()\n",
    "# data.dropna(inplace=True)\n",
    "\n",
    "#===================================================================================================\n",
    "from ta.trend import SMAIndicator, EMAIndicator, MACD, ADXIndicator\n",
    "from ta.momentum import RSIIndicator, StochasticOscillator\n",
    "from ta.volatility import BollingerBands\n",
    "\n",
    "\n",
    "\n",
    "# Đảm bảo 'Close' là Series 1 chiều\n",
    "close_series = data['Close']\n",
    "if isinstance(close_series, pd.DataFrame):\n",
    "    close_series = close_series.squeeze()\n",
    "\n",
    "# Các chỉ báo trung bình\n",
    "data['MA5'] = SMAIndicator(close=close_series, window=5).sma_indicator()\n",
    "data['MA10'] = SMAIndicator(close=close_series, window=10).sma_indicator()\n",
    "data['EMA10'] = EMAIndicator(close=close_series, window=10).ema_indicator()\n",
    "\n",
    "# Chỉ báo dao động\n",
    "data['RSI'] = RSIIndicator(close=close_series).rsi()\n",
    "data['Stoch_%K'] = StochasticOscillator(close=close_series, high=data['High'].squeeze(), low=data['Low'].squeeze()).stoch()\n",
    "data['Stoch_%D'] = StochasticOscillator(close=close_series, high=data['High'].squeeze(), low=data['Low'].squeeze()).stoch_signal()\n",
    "\n",
    "# MACD\n",
    "macd = MACD(close=close_series)\n",
    "data['MACD'] = macd.macd()\n",
    "data['MACD_Signal'] = macd.macd_signal()\n",
    "data['MACD_Diff'] = macd.macd_diff()\n",
    "\n",
    "# Bollinger Bands\n",
    "bb = BollingerBands(close=close_series)\n",
    "data['BB_High'] = bb.bollinger_hband()\n",
    "data['BB_Low'] = bb.bollinger_lband()\n",
    "data['BB_Width'] = bb.bollinger_wband()\n",
    "\n",
    "# ADX\n",
    "adx = ADXIndicator(high=data['High'], low=data['Low'], close=close_series)\n",
    "data['ADX'] = adx.adx()\n",
    "data['+DI'] = adx.adx_pos()\n",
    "data['-DI'] = adx.adx_neg()\n",
    "\n",
    "# Giá thay đổi\n",
    "data['PriceDiff'] = data['Close'].diff()\n",
    "\n",
    "print\n",
    "# Xóa các dòng NaN do chỉ báo tạo ra\n",
    "data.dropna(inplace=True)\n"
   ]
  },
  {
   "cell_type": "code",
   "execution_count": 4,
   "id": "cd32ff21-06b2-4428-928f-72968ddab8b3",
   "metadata": {},
   "outputs": [],
   "source": [
    "data['Target'] = data['Close'].shift(-1)\n",
    "data.dropna(inplace=True)\n",
    "\n",
    "features = [\n",
    "    'Open', 'High', 'Low', 'Close', 'Volume',\n",
    "    'MA5', 'MA10', 'EMA10',\n",
    "    'RSI', 'Stoch_%K', 'Stoch_%D',\n",
    "    'MACD', 'MACD_Signal', 'MACD_Diff',\n",
    "    'BB_High', 'BB_Low', 'BB_Width',\n",
    "    'ADX', '+DI', '-DI',\n",
    "    'PriceDiff'\n",
    "]\n",
    "X = data[features]\n",
    "y = data['Target']"
   ]
  },
  {
   "cell_type": "code",
   "execution_count": 5,
   "id": "f9bc14ab-4b64-4c58-b10c-ae9a6acb4a97",
   "metadata": {},
   "outputs": [],
   "source": [
    "split_idx = int(len(data) * 0.8)\n",
    "X_train, X_test = X[:split_idx], X[split_idx:]\n",
    "y_train, y_test = y[:split_idx], y[split_idx:]"
   ]
  },
  {
   "cell_type": "code",
   "execution_count": 6,
   "id": "2d2e202c-ca8b-467d-945a-e430a6c98f20",
   "metadata": {},
   "outputs": [
    {
     "name": "stdout",
     "output_type": "stream",
     "text": [
      "RMSE: 1.0172259697444899\n"
     ]
    }
   ],
   "source": [
    "from sklearn.ensemble import RandomForestRegressor\n",
    "from sklearn.metrics import root_mean_squared_error\n",
    "\n",
    "model = RandomForestRegressor(n_estimators=500,max_depth=10, random_state=42, max_features=\"sqrt\", min_samples_leaf=1, min_samples_split=2)\n",
    "model.fit(X_train, y_train)\n",
    "\n",
    "importances = model.feature_importances_\n",
    "features = X_train.columns\n",
    "\n",
    "y_pred = model.predict(X_test)\n",
    "rmse = root_mean_squared_error(y_test, y_pred)\n",
    "print(\"RMSE:\", rmse)\n",
    "\n",
    "#======================================================================================\n",
    "# from sklearn.ensemble import RandomForestRegressor\n",
    "# from sklearn.model_selection import GridSearchCV\n",
    "# from sklearn.metrics import mean_squared_error\n",
    "# import numpy as np\n",
    "\n",
    "# # Model ban đầu\n",
    "# rf = RandomForestRegressor(random_state=42)\n",
    "\n",
    "# # Tập tham số cần thử\n",
    "# param_grid = {\n",
    "#     'n_estimators': [100, 200, 500],\n",
    "#     'max_depth': [5, 10, 15, None],\n",
    "#     'min_samples_split': [2, 5, 10],\n",
    "#     'min_samples_leaf': [1, 2, 4],\n",
    "#     'max_features': ['auto', 'sqrt', 'log2']\n",
    "# }\n",
    "\n",
    "# # Khởi tạo GridSearchCV\n",
    "# grid_search = GridSearchCV(\n",
    "#     estimator=rf,\n",
    "#     param_grid=param_grid,\n",
    "#     cv=3,  # số lần cross-validation\n",
    "#     scoring='neg_root_mean_squared_error',\n",
    "#     n_jobs=-1,  # chạy đa luồng cho nhanh\n",
    "#     verbose=2  # in tiến trình\n",
    "# )\n",
    "\n",
    "# # Fit tìm tham số tốt nhất\n",
    "# grid_search.fit(X_train, y_train)\n",
    "\n",
    "# print(\"Best params:\", grid_search.best_params_)\n",
    "# print(\"Best CV RMSE:\", -grid_search.best_score_)\n",
    "\n",
    "# # Lấy model với tham số tốt nhất\n",
    "# best_rf = grid_search.best_estimator_\n",
    "\n",
    "# # Dự đoán trên test\n",
    "# y_pred = best_rf.predict(X_test)\n",
    "\n",
    "# # Tính RMSE trên test\n",
    "# rmse = np.sqrt(mean_squared_error(y_test, y_pred))\n",
    "# print(\"Test RMSE:\", rmse)\n"
   ]
  },
  {
   "cell_type": "code",
   "execution_count": 267,
   "id": "57263667-48aa-4403-93bc-7d74f0091c78",
   "metadata": {},
   "outputs": [
    {
     "data": {
      "image/png": "[encoded data removed]",
      "text/plain": [
       "<Figure size 1400x500 with 1 Axes>"
      ]
     },
     "metadata": {},
     "output_type": "display_data"
    }
   ],
   "source": [
    "import matplotlib.pyplot as plt\n",
    "\n",
    "plt.figure(figsize=(14, 5))\n",
    "plt.plot(y_test.values, label='Giá thực tế')\n",
    "plt.plot(y_pred, label='Dự đoán')\n",
    "plt.legend()\n",
    "plt.title(f'Dự đoán giá cổ phiếu {ticker} bằng Random Forest')\n",
    "plt.xlabel(\"Thời gian\")\n",
    "plt.ylabel(\"Giá ($)\")\n",
    "plt.grid()\n",
    "plt.show()\n",
    "# plt.figure(figsize=(10, 6))\n",
    "# indices = np.argsort(importances)[::-1]\n",
    "# plt.bar(range(len(importances)), importances[indices])\n",
    "# plt.xticks(range(len(importances)), [features[i] for i in indices], rotation=45)\n",
    "# plt.title(\"Feature Importances (Random Forest)\")\n",
    "# plt.tight_layout()\n",
    "# plt.show()"
   ]
  },
  {
   "cell_type": "code",
   "execution_count": 268,
   "id": "dfd4a3b6-69c4-4352-9a78-50aeafb58ad1",
   "metadata": {},
   "outputs": [
    {
     "name": "stdout",
     "output_type": "stream",
     "text": [
      "Dự đoán giá cổ phiếu AAPL ngày kế tiếp: $212.00\n"
     ]
    }
   ],
   "source": [
    "latest_data = X.tail(1)\n",
    "next_price = model.predict(latest_data)\n",
    "print(f\"Dự đoán giá cổ phiếu {ticker} ngày kế tiếp: ${next_price[0]:.2f}\")"
   ]
  },
  {
   "cell_type": "code",
   "execution_count": null,
   "id": "2a8fc716-1105-4e27-b456-c1163a56e2dd",
   "metadata": {},
   "outputs": [],
   "source": []
  },
  {
   "cell_type": "code",
   "execution_count": null,
   "id": "c4c84f9d-61f2-475d-a0ed-7a9c84013031",
   "metadata": {},
   "outputs": [],
   "source": []
  },
  {
   "cell_type": "code",
   "execution_count": null,
   "id": "69cebc2e-54a2-4276-adca-301a731e2974",
   "metadata": {},
   "outputs": [],
   "source": []
  }
 ],
 "metadata": {
  "kernelspec": {
   "display_name": "Python 3",
   "language": "python",
   "name": "python3"
  },
  "language_info": {
   "codemirror_mode": {
    "name": "ipython",
    "version": 3
   },
   "file_extension": ".py",
   "mimetype": "text/x-python",
   "name": "python",
   "nbconvert_exporter": "python",
   "pygments_lexer": "ipython3",
   "version": "3.9.12"
  }
 },
 "nbformat": 4,
 "nbformat_minor": 5
}
